{
 "cells": [
  {
   "cell_type": "code",
   "execution_count": 1,
   "id": "751a0c31-65b2-403f-99d4-fffce169e6f3",
   "metadata": {},
   "outputs": [],
   "source": [
    "from numba import jit\n",
    "import numpy as np"
   ]
  },
  {
   "cell_type": "markdown",
   "id": "a3cc97f6-55d7-4c83-a5d7-b63c50e72de5",
   "metadata": {},
   "source": [
    "# Propensity calculation"
   ]
  },
  {
   "cell_type": "code",
   "execution_count": 2,
   "id": "1e0809a8-70c6-4e0c-9c9c-d44bfe75f1df",
   "metadata": {},
   "outputs": [],
   "source": [
    "def calculate_propensities(y, k, kinetic_order_matrix):\n",
    "    # product along column in rate involvement matrix\n",
    "    # with states raised to power of involvement\n",
    "    # multiplied by rate constants == propensity\n",
    "    # dimension of y is expanded to make it a column vector\n",
    "    return np.prod(np.expand_dims(y, axis=1)**kinetic_order_matrix, axis=0) * k"
   ]
  },
  {
   "cell_type": "code",
   "execution_count": 3,
   "id": "703717b6-13fd-404f-a263-6e4b0d864af7",
   "metadata": {},
   "outputs": [],
   "source": [
    "@jit(nopython=True)\n",
    "def jit_calculate_propensities(y, k, kinetic_order_matrix):\n",
    "    # product along column in rate involvement matrix\n",
    "    # with states raised to power of involvement\n",
    "    # multiplied by rate constants == propensity\n",
    "    # dimension of y is expanded to make it a column vector\n",
    "    intensity_power = np.expand_dims(y, axis=1)**kinetic_order_matrix\n",
    "    product_down_columns = np.ones(len(k))\n",
    "    for i in range(0, len(y)):\n",
    "        product_down_columns = product_down_columns * intensity_power[i]\n",
    "    return product_down_columns * k"
   ]
  },
  {
   "cell_type": "code",
   "execution_count": 4,
   "id": "ec89953a-640a-4dea-8d91-06b1c7caadf8",
   "metadata": {},
   "outputs": [],
   "source": [
    "# a realistically sparse matrix of rate involvements\n",
    "n_species = 10\n",
    "n_pathways = 40\n",
    "poisson_involvement = np.random.poisson(0.3, (n_species,n_pathways))\n",
    "y = np.random.random(n_species)\n",
    "k = np.random.random(n_pathways)"
   ]
  },
  {
   "cell_type": "code",
   "execution_count": 5,
   "id": "5904c56d-dd73-475b-b859-18bb0cd3105b",
   "metadata": {},
   "outputs": [],
   "source": [
    "assert(np.allclose(calculate_propensities(y,k,poisson_involvement), jit_calculate_propensities(y, k, poisson_involvement)))"
   ]
  },
  {
   "cell_type": "code",
   "execution_count": 6,
   "id": "017a0613-3470-4971-bb53-d662ad21e923",
   "metadata": {},
   "outputs": [
    {
     "name": "stdout",
     "output_type": "stream",
     "text": [
      "6.35 µs ± 33.4 ns per loop (mean ± std. dev. of 7 runs, 100,000 loops each)\n"
     ]
    }
   ],
   "source": [
    "%%timeit\n",
    "calculate_propensities(y, k, poisson_involvement)"
   ]
  },
  {
   "cell_type": "code",
   "execution_count": 7,
   "id": "44d6894d-363f-4d65-aaf2-c1278613148e",
   "metadata": {},
   "outputs": [
    {
     "name": "stdout",
     "output_type": "stream",
     "text": [
      "1.89 µs ± 63.3 ns per loop (mean ± std. dev. of 7 runs, 1,000,000 loops each)\n"
     ]
    }
   ],
   "source": [
    "%%timeit\n",
    "jit_calculate_propensities(y, k, poisson_involvement)"
   ]
  },
  {
   "cell_type": "markdown",
   "id": "6ec9ce61-7e52-4d9c-93ff-16099ad2d2c6",
   "metadata": {},
   "source": [
    "# dydt"
   ]
  },
  {
   "cell_type": "code",
   "execution_count": 8,
   "id": "26e99fc8-665a-4d27-b07a-3b5eea0a1b9e",
   "metadata": {},
   "outputs": [],
   "source": [
    "def dydt(t, y_expanded, k_of_t, N, kinetic_order_matrix, deterministic_mask, stochastic_mask, hitting_point):\n",
    "    # by fiat the last entry of y will carry the integral of stochastic rates\n",
    "    y = y_expanded[:-1]\n",
    "    #print(\"y at start of dydt\", y)\n",
    "    propensities = calculate_propensities(y, k_of_t(t), kinetic_order_matrix)\n",
    "    deterministic_propensities = propensities * deterministic_mask\n",
    "    stochastic_propensities = propensities * stochastic_mask\n",
    "\n",
    "    dydt = np.zeros_like(y_expanded)\n",
    "    # each propensity feeds back into the stoich matrix to determine\n",
    "    # overall rate of change in the state\n",
    "    # https://en.wikipedia.org/wiki/Biochemical_systems_equation\n",
    "    dydt[:-1] = N @ deterministic_propensities\n",
    "    dydt[-1]  = np.sum(stochastic_propensities)\n",
    "    #print(\"t\", t, \"y_expanded\", y_expanded, \"dydt\", dydt)\n",
    "    return dydt\n",
    "\n",
    "def jit_dydt(t, y_expanded, k_of_t, N, kinetic_order_matrix, deterministic_mask, stochastic_mask, hitting_point):\n",
    "    # by fiat the last entry of y will carry the integral of stochastic rates\n",
    "    y = y_expanded[:-1]\n",
    "\n",
    "    propensities = jit_calculate_propensities(y, k_of_t(t), kinetic_order_matrix)\n",
    "    rates, sum_stochastic = _jit_dydt(y, N.astype(float), propensities, deterministic_mask, stochastic_mask)\n",
    "    dydt = np.zeros_like(y_expanded)\n",
    "    dydt[:-1] = rates\n",
    "    dydt[-1]  = sum_stochastic\n",
    "    #print(\"t\", t, \"y_expanded\", y_expanded, \"dydt\", dydt)\n",
    "    return dydt\n",
    "\n",
    "@jit(nopython=True)\n",
    "def _jit_dydt(y, N, propensities, deterministic_mask, stochastic_mask):\n",
    "    deterministic_propensities = propensities * deterministic_mask\n",
    "    stochastic_propensities = propensities * stochastic_mask\n",
    "\n",
    "    # each propensity feeds back into the stoich matrix to determine\n",
    "    # overall rate of change in the state\n",
    "    # https://en.wikipedia.org/wiki/Biochemical_systems_equation\n",
    "    rates = N @ deterministic_propensities\n",
    "    sum_stochastic = np.sum(stochastic_propensities)\n",
    "\n",
    "    return rates, sum_stochastic"
   ]
  },
  {
   "cell_type": "code",
   "execution_count": 42,
   "id": "47485671-0303-49e0-8417-092320e7c814",
   "metadata": {},
   "outputs": [],
   "source": [
    "k = np.random.random(n_pathways)\n",
    "\n",
    "@jit(nopython=True)\n",
    "def k_of_t(t):\n",
    "    return k"
   ]
  },
  {
   "cell_type": "code",
   "execution_count": 38,
   "id": "ab89bdcf-c6ef-4a95-8d5d-50258bcf14ec",
   "metadata": {},
   "outputs": [],
   "source": [
    "@jit(nopython=True)\n",
    "def no_python_jit_dydt(t, y_expanded, k_of_t, N, kinetic_order_matrix, deterministic_mask, stochastic_mask, hitting_point):\n",
    "    # by fiat the last entry of y will carry the integral of stochastic rates\n",
    "    y = y_expanded[:-1]\n",
    "\n",
    "    propensities = jit_calculate_propensities(y, k_of_t(t), kinetic_order_matrix)\n",
    "    deterministic_propensities = propensities * deterministic_mask\n",
    "    stochastic_propensities = propensities * stochastic_mask\n",
    "\n",
    "    # each propensity feeds back into the stoich matrix to determine\n",
    "    # overall rate of change in the state\n",
    "    # https://en.wikipedia.org/wiki/Biochemical_systems_equation\n",
    "    rates = N @ deterministic_propensities\n",
    "    sum_stochastic = np.sum(stochastic_propensities)\n",
    "\n",
    "    dydt = np.zeros_like(y_expanded)\n",
    "    dydt[:-1] = rates\n",
    "    dydt[-1]  = sum_stochastic\n",
    "    #print(\"t\", t, \"y_expanded\", y_expanded, \"dydt\", dydt)\n",
    "    return dydt"
   ]
  },
  {
   "cell_type": "code",
   "execution_count": 46,
   "id": "063aaf65-6ae5-4827-8926-006322eecfac",
   "metadata": {},
   "outputs": [],
   "source": [
    "n_species = 10\n",
    "n_pathways = 40\n",
    "rate_involvement = np.random.poisson(0.3, (n_species,n_pathways))\n",
    "y_expanded = np.random.random(n_species+1)\n",
    "hitting_point = 0\n",
    "t=0\n",
    "deterministic_mask = np.random.choice(a=[False, True], size=(n_pathways), p=[0.2, 0.8])\n",
    "stochastic_mask = ~deterministic_mask\n",
    "\n",
    "stoichiometry = np.random.poisson(0.3, (n_species,n_pathways)).astype(float)"
   ]
  },
  {
   "cell_type": "code",
   "execution_count": 26,
   "id": "4a5a5000-3a4b-48dd-af44-115d8cf3ca6f",
   "metadata": {},
   "outputs": [],
   "source": [
    "assert(np.allclose(dydt(t, y_expanded, k_of_t, stoichiometry, rate_involvement, deterministic_mask, stochastic_mask, hitting_point), jit_dydt(t, y_expanded, k_of_t, stoichiometry, rate_involvement, deterministic_mask, stochastic_mask, hitting_point)))"
   ]
  },
  {
   "cell_type": "code",
   "execution_count": 27,
   "id": "90914dbb-292a-4012-977b-e47d72ddee94",
   "metadata": {},
   "outputs": [
    {
     "name": "stdout",
     "output_type": "stream",
     "text": [
      "17.9 µs ± 431 ns per loop (mean ± std. dev. of 7 runs, 100,000 loops each)\n"
     ]
    }
   ],
   "source": [
    "%%timeit\n",
    "dydt(t, y_expanded, k_of_t, stoichiometry, rate_involvement, deterministic_mask, stochastic_mask, hitting_point)"
   ]
  },
  {
   "cell_type": "code",
   "execution_count": 28,
   "id": "afa6ebf3-507b-499b-bee3-bdd89621a229",
   "metadata": {},
   "outputs": [
    {
     "name": "stdout",
     "output_type": "stream",
     "text": [
      "7.89 µs ± 312 ns per loop (mean ± std. dev. of 7 runs, 100,000 loops each)\n"
     ]
    }
   ],
   "source": [
    "%%timeit\n",
    "jit_dydt(t, y_expanded, k_of_t, stoichiometry, rate_involvement, deterministic_mask, stochastic_mask, hitting_point)"
   ]
  },
  {
   "cell_type": "code",
   "execution_count": 48,
   "id": "eff5d840-6cbf-4ab2-ac0e-41820cad13f9",
   "metadata": {},
   "outputs": [
    {
     "name": "stdout",
     "output_type": "stream",
     "text": [
      "6.43 µs ± 106 ns per loop (mean ± std. dev. of 7 runs, 100,000 loops each)\n"
     ]
    }
   ],
   "source": [
    "%%timeit\n",
    "no_python_jit_dydt(t, y_expanded, k_of_t, stoichiometry, rate_involvement, deterministic_mask, stochastic_mask, hitting_point)"
   ]
  },
  {
   "cell_type": "markdown",
   "id": "2e18f31e-0668-4ade-9c70-08a7b424bf9d",
   "metadata": {},
   "source": [
    "# Whole thing"
   ]
  },
  {
   "cell_type": "code",
   "execution_count": 1,
   "id": "ac1c4e80-72bb-4815-870e-be25ccdfab3d",
   "metadata": {},
   "outputs": [],
   "source": [
    "import hybrid"
   ]
  },
  {
   "cell_type": "code",
   "execution_count": 2,
   "id": "18dd32c7-bd0b-4a5a-9e38-4d74a26b708b",
   "metadata": {},
   "outputs": [
    {
     "ename": "NameError",
     "evalue": "name 'np' is not defined",
     "output_type": "error",
     "traceback": [
      "\u001b[0;31m---------------------------------------------------------------------------\u001b[0m",
      "\u001b[0;31mNameError\u001b[0m                                 Traceback (most recent call last)",
      "Cell \u001b[0;32mIn[2], line 3\u001b[0m\n\u001b[1;32m      1\u001b[0m n_species \u001b[38;5;241m=\u001b[39m \u001b[38;5;241m10\u001b[39m\n\u001b[1;32m      2\u001b[0m n_pathways \u001b[38;5;241m=\u001b[39m \u001b[38;5;241m40\u001b[39m\n\u001b[0;32m----> 3\u001b[0m rate_involvement \u001b[38;5;241m=\u001b[39m \u001b[43mnp\u001b[49m\u001b[38;5;241m.\u001b[39mrandom\u001b[38;5;241m.\u001b[39mpoisson(\u001b[38;5;241m0.3\u001b[39m, (n_species,n_pathways))\n\u001b[1;32m      4\u001b[0m y0 \u001b[38;5;241m=\u001b[39m np\u001b[38;5;241m.\u001b[39mrandom\u001b[38;5;241m.\u001b[39mrandom(n_species)\u001b[38;5;241m*\u001b[39m\u001b[38;5;241m50\u001b[39m\n\u001b[1;32m      5\u001b[0m k \u001b[38;5;241m=\u001b[39m np\u001b[38;5;241m.\u001b[39mrandom\u001b[38;5;241m.\u001b[39mrandom(n_pathways)\n",
      "\u001b[0;31mNameError\u001b[0m: name 'np' is not defined"
     ]
    }
   ],
   "source": [
    "n_species = 10\n",
    "n_pathways = 40\n",
    "rate_involvement = np.random.poisson(0.3, (n_species,n_pathways))\n",
    "y0 = np.random.random(n_species)*50\n",
    "k = np.random.random(n_pathways)\n",
    "k_of_t = lambda t: k\n",
    "hitting_point = 0\n",
    "stoichiometry = np.random.poisson(0.3, (n_species,n_pathways))\n",
    "rng = np.random.default_rng()\n",
    "\n",
    "hybrid.forward_time(y0, [0, 10.0], lambda p: hybrid.partition_by_threshold(p, 100), k_of_t, stoichiometry, rate_involvement, rng)"
   ]
  },
  {
   "cell_type": "markdown",
   "id": "b9bd93ce-5f22-4f27-9025-eb2b118fdbc4",
   "metadata": {},
   "source": [
    "# Whole thing combined with reactions (jit for k)"
   ]
  },
  {
   "cell_type": "code",
   "execution_count": 9,
   "id": "043ec6c3-b5a2-48b8-af9a-068fc2f64bab",
   "metadata": {},
   "outputs": [],
   "source": [
    "import reactions\n",
    "from numba import jit, float64\n",
    "from numba.types import Array\n",
    "import numpy as np"
   ]
  },
  {
   "cell_type": "code",
   "execution_count": 14,
   "id": "7a38725d-eec3-491b-8506-13f072ce6cc1",
   "metadata": {},
   "outputs": [],
   "source": [
    "a = reactions.Species(\"A\", 'A')\n",
    "b = reactions.Species(\"B\", 'B')\n",
    "\n",
    "r1 = reactions.Reaction(\"A+B->2A\", [a,b], [(a,2)], k=2.)\n",
    "\n",
    "m = reactions.Model([a,b], [r1], jit=True)"
   ]
  },
  {
   "cell_type": "code",
   "execution_count": 15,
   "id": "7f5e0449-ce30-4b93-a22c-1601cbcb0e09",
   "metadata": {},
   "outputs": [
    {
     "data": {
      "text/plain": [
       "array([2.])"
      ]
     },
     "execution_count": 15,
     "metadata": {},
     "output_type": "execute_result"
    }
   ],
   "source": [
    "m.k(0)"
   ]
  },
  {
   "cell_type": "code",
   "execution_count": 16,
   "id": "533f2094-2f4c-4f93-8e6f-d39bd613a99b",
   "metadata": {},
   "outputs": [
    {
     "data": {
      "text/plain": [
       "array([2.])"
      ]
     },
     "execution_count": 16,
     "metadata": {},
     "output_type": "execute_result"
    }
   ],
   "source": [
    "m.k_jit(0)"
   ]
  },
  {
   "cell_type": "code",
   "execution_count": 21,
   "id": "d747186f-fd1c-4436-9641-d93a57e23d57",
   "metadata": {},
   "outputs": [],
   "source": [
    "r1 = reactions.Reaction(\"A+B->2A\", [a,b], [(a,2)])\n",
    "r2 = reactions.Reaction(\"A->0\", [a], [], k=2.)\n",
    "\n",
    "@jit(Array(float64, 1, \"C\")(float64), nopython=True)\n",
    "def k_jit_family(t):\n",
    "    return np.array([1.0, 2.0])\n",
    "\n",
    "fam = reactions.ReactionRateFamily([r1,r2], k=k_jit_family)\n",
    "\n",
    "m = reactions.Model([a,b], [fam], jit=True)"
   ]
  },
  {
   "cell_type": "code",
   "execution_count": 22,
   "id": "e407814b-c863-40db-8f04-a59e6b83e0c4",
   "metadata": {},
   "outputs": [
    {
     "data": {
      "text/plain": [
       "array([1., 2.])"
      ]
     },
     "execution_count": 22,
     "metadata": {},
     "output_type": "execute_result"
    }
   ],
   "source": [
    "k_jit_family(0.0)"
   ]
  },
  {
   "cell_type": "code",
   "execution_count": 23,
   "id": "3dcbae22-d66f-472c-9b86-b435b7b6f08c",
   "metadata": {},
   "outputs": [
    {
     "data": {
      "text/plain": [
       "array([1., 2.])"
      ]
     },
     "execution_count": 23,
     "metadata": {},
     "output_type": "execute_result"
    }
   ],
   "source": [
    "m.k(0)"
   ]
  },
  {
   "cell_type": "code",
   "execution_count": 24,
   "id": "64a968b0-f3aa-4262-97e7-6099ef189a9a",
   "metadata": {},
   "outputs": [
    {
     "data": {
      "text/plain": [
       "array([1., 2.])"
      ]
     },
     "execution_count": 24,
     "metadata": {},
     "output_type": "execute_result"
    }
   ],
   "source": [
    "m.k_jit(0.)"
   ]
  },
  {
   "cell_type": "code",
   "execution_count": null,
   "id": "ab606be4-ad75-446a-85ba-ccf822513e6a",
   "metadata": {},
   "outputs": [],
   "source": [
    "# TRY TO HAVE A DYDT FACTORY SO WE CAN CLOSE AROUND STOICH AND RATE INVOLVEMENT, WHICH ARE CONSTANT!"
   ]
  }
 ],
 "metadata": {
  "kernelspec": {
   "display_name": "Python 3 (ipykernel)",
   "language": "python",
   "name": "python3"
  },
  "language_info": {
   "codemirror_mode": {
    "name": "ipython",
    "version": 3
   },
   "file_extension": ".py",
   "mimetype": "text/x-python",
   "name": "python",
   "nbconvert_exporter": "python",
   "pygments_lexer": "ipython3",
   "version": "3.9.8"
  }
 },
 "nbformat": 4,
 "nbformat_minor": 5
}
