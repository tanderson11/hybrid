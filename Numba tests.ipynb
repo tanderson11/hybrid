{
 "cells": [
  {
   "cell_type": "code",
   "execution_count": 1,
   "id": "751a0c31-65b2-403f-99d4-fffce169e6f3",
   "metadata": {},
   "outputs": [],
   "source": [
    "from numba import jit\n",
    "import numpy as np"
   ]
  },
  {
   "cell_type": "markdown",
   "id": "a3cc97f6-55d7-4c83-a5d7-b63c50e72de5",
   "metadata": {},
   "source": [
    "# Propensity calculation"
   ]
  },
  {
   "cell_type": "code",
   "execution_count": 2,
   "id": "1e0809a8-70c6-4e0c-9c9c-d44bfe75f1df",
   "metadata": {},
   "outputs": [],
   "source": [
    "def calculate_propensities(y, k, rate_involvement_matrix):\n",
    "    # product along column in rate involvement matrix\n",
    "    # with states raised to power of involvement\n",
    "    # multiplied by rate constants == propensity\n",
    "    # dimension of y is expanded to make it a column vector\n",
    "    return np.prod(np.expand_dims(y, axis=1)**rate_involvement_matrix, axis=0) * k"
   ]
  },
  {
   "cell_type": "code",
   "execution_count": 3,
   "id": "703717b6-13fd-404f-a263-6e4b0d864af7",
   "metadata": {},
   "outputs": [],
   "source": [
    "@jit(nopython=True)\n",
    "def jit_calculate_propensities(y, k, rate_involvement_matrix):\n",
    "    # product along column in rate involvement matrix\n",
    "    # with states raised to power of involvement\n",
    "    # multiplied by rate constants == propensity\n",
    "    # dimension of y is expanded to make it a column vector\n",
    "    intensity_power = np.expand_dims(y, axis=1)**rate_involvement_matrix\n",
    "    product_down_columns = np.ones(len(k))\n",
    "    for i in range(0, len(y)):\n",
    "        product_down_columns = product_down_columns * intensity_power[i]\n",
    "    return product_down_columns * k"
   ]
  },
  {
   "cell_type": "code",
   "execution_count": 4,
   "id": "ec89953a-640a-4dea-8d91-06b1c7caadf8",
   "metadata": {},
   "outputs": [],
   "source": [
    "# a realistically sparse matrix of rate involvements\n",
    "n_species = 10\n",
    "n_pathways = 40\n",
    "poisson_involvement = np.random.poisson(0.3, (n_species,n_pathways))\n",
    "y = np.random.random(n_species)\n",
    "k = np.random.random(n_pathways)"
   ]
  },
  {
   "cell_type": "code",
   "execution_count": 5,
   "id": "5904c56d-dd73-475b-b859-18bb0cd3105b",
   "metadata": {},
   "outputs": [],
   "source": [
    "assert(np.allclose(calculate_propensities(y,k,poisson_involvement), jit_calculate_propensities(y, k, poisson_involvement)))"
   ]
  },
  {
   "cell_type": "code",
   "execution_count": 6,
   "id": "017a0613-3470-4971-bb53-d662ad21e923",
   "metadata": {},
   "outputs": [
    {
     "name": "stdout",
     "output_type": "stream",
     "text": [
      "6.4 µs ± 12.8 ns per loop (mean ± std. dev. of 7 runs, 100,000 loops each)\n"
     ]
    }
   ],
   "source": [
    "%%timeit\n",
    "calculate_propensities(y, k, poisson_involvement)"
   ]
  },
  {
   "cell_type": "code",
   "execution_count": 7,
   "id": "44d6894d-363f-4d65-aaf2-c1278613148e",
   "metadata": {},
   "outputs": [
    {
     "ename": "KeyboardInterrupt",
     "evalue": "",
     "output_type": "error",
     "traceback": [
      "\u001b[0;31m---------------------------------------------------------------------------\u001b[0m",
      "\u001b[0;31mKeyboardInterrupt\u001b[0m                         Traceback (most recent call last)",
      "Cell \u001b[0;32mIn[7], line 1\u001b[0m\n\u001b[0;32m----> 1\u001b[0m \u001b[43mget_ipython\u001b[49m\u001b[43m(\u001b[49m\u001b[43m)\u001b[49m\u001b[38;5;241;43m.\u001b[39;49m\u001b[43mrun_cell_magic\u001b[49m\u001b[43m(\u001b[49m\u001b[38;5;124;43m'\u001b[39;49m\u001b[38;5;124;43mtimeit\u001b[39;49m\u001b[38;5;124;43m'\u001b[39;49m\u001b[43m,\u001b[49m\u001b[43m \u001b[49m\u001b[38;5;124;43m'\u001b[39;49m\u001b[38;5;124;43m'\u001b[39;49m\u001b[43m,\u001b[49m\u001b[43m \u001b[49m\u001b[38;5;124;43m'\u001b[39;49m\u001b[38;5;124;43mjit_calculate_propensities(y, k, poisson_involvement)\u001b[39;49m\u001b[38;5;130;43;01m\\n\u001b[39;49;00m\u001b[38;5;124;43m'\u001b[39;49m\u001b[43m)\u001b[49m\n",
      "File \u001b[0;32m~/develop/hybrid-algorithm-scratch/.venv/lib/python3.9/site-packages/IPython/core/interactiveshell.py:2478\u001b[0m, in \u001b[0;36mInteractiveShell.run_cell_magic\u001b[0;34m(self, magic_name, line, cell)\u001b[0m\n\u001b[1;32m   2476\u001b[0m \u001b[38;5;28;01mwith\u001b[39;00m \u001b[38;5;28mself\u001b[39m\u001b[38;5;241m.\u001b[39mbuiltin_trap:\n\u001b[1;32m   2477\u001b[0m     args \u001b[38;5;241m=\u001b[39m (magic_arg_s, cell)\n\u001b[0;32m-> 2478\u001b[0m     result \u001b[38;5;241m=\u001b[39m \u001b[43mfn\u001b[49m\u001b[43m(\u001b[49m\u001b[38;5;241;43m*\u001b[39;49m\u001b[43margs\u001b[49m\u001b[43m,\u001b[49m\u001b[43m \u001b[49m\u001b[38;5;241;43m*\u001b[39;49m\u001b[38;5;241;43m*\u001b[39;49m\u001b[43mkwargs\u001b[49m\u001b[43m)\u001b[49m\n\u001b[1;32m   2480\u001b[0m \u001b[38;5;66;03m# The code below prevents the output from being displayed\u001b[39;00m\n\u001b[1;32m   2481\u001b[0m \u001b[38;5;66;03m# when using magics with decodator @output_can_be_silenced\u001b[39;00m\n\u001b[1;32m   2482\u001b[0m \u001b[38;5;66;03m# when the last Python token in the expression is a ';'.\u001b[39;00m\n\u001b[1;32m   2483\u001b[0m \u001b[38;5;28;01mif\u001b[39;00m \u001b[38;5;28mgetattr\u001b[39m(fn, magic\u001b[38;5;241m.\u001b[39mMAGIC_OUTPUT_CAN_BE_SILENCED, \u001b[38;5;28;01mFalse\u001b[39;00m):\n",
      "File \u001b[0;32m~/develop/hybrid-algorithm-scratch/.venv/lib/python3.9/site-packages/IPython/core/magics/execution.py:1170\u001b[0m, in \u001b[0;36mExecutionMagics.timeit\u001b[0;34m(self, line, cell, local_ns)\u001b[0m\n\u001b[1;32m   1168\u001b[0m \u001b[38;5;28;01mfor\u001b[39;00m index \u001b[38;5;129;01min\u001b[39;00m \u001b[38;5;28mrange\u001b[39m(\u001b[38;5;241m0\u001b[39m, \u001b[38;5;241m10\u001b[39m):\n\u001b[1;32m   1169\u001b[0m     number \u001b[38;5;241m=\u001b[39m \u001b[38;5;241m10\u001b[39m \u001b[38;5;241m*\u001b[39m\u001b[38;5;241m*\u001b[39m index\n\u001b[0;32m-> 1170\u001b[0m     time_number \u001b[38;5;241m=\u001b[39m \u001b[43mtimer\u001b[49m\u001b[38;5;241;43m.\u001b[39;49m\u001b[43mtimeit\u001b[49m\u001b[43m(\u001b[49m\u001b[43mnumber\u001b[49m\u001b[43m)\u001b[49m\n\u001b[1;32m   1171\u001b[0m     \u001b[38;5;28;01mif\u001b[39;00m time_number \u001b[38;5;241m>\u001b[39m\u001b[38;5;241m=\u001b[39m \u001b[38;5;241m0.2\u001b[39m:\n\u001b[1;32m   1172\u001b[0m         \u001b[38;5;28;01mbreak\u001b[39;00m\n",
      "File \u001b[0;32m~/develop/hybrid-algorithm-scratch/.venv/lib/python3.9/site-packages/IPython/core/magics/execution.py:158\u001b[0m, in \u001b[0;36mTimer.timeit\u001b[0;34m(self, number)\u001b[0m\n\u001b[1;32m    156\u001b[0m gc\u001b[38;5;241m.\u001b[39mdisable()\n\u001b[1;32m    157\u001b[0m \u001b[38;5;28;01mtry\u001b[39;00m:\n\u001b[0;32m--> 158\u001b[0m     timing \u001b[38;5;241m=\u001b[39m \u001b[38;5;28;43mself\u001b[39;49m\u001b[38;5;241;43m.\u001b[39;49m\u001b[43minner\u001b[49m\u001b[43m(\u001b[49m\u001b[43mit\u001b[49m\u001b[43m,\u001b[49m\u001b[43m \u001b[49m\u001b[38;5;28;43mself\u001b[39;49m\u001b[38;5;241;43m.\u001b[39;49m\u001b[43mtimer\u001b[49m\u001b[43m)\u001b[49m\n\u001b[1;32m    159\u001b[0m \u001b[38;5;28;01mfinally\u001b[39;00m:\n\u001b[1;32m    160\u001b[0m     \u001b[38;5;28;01mif\u001b[39;00m gcold:\n",
      "File \u001b[0;32m<magic-timeit>:1\u001b[0m, in \u001b[0;36minner\u001b[0;34m(_it, _timer)\u001b[0m\n",
      "File \u001b[0;32m~/develop/hybrid-algorithm-scratch/.venv/lib/python3.9/site-packages/numba/core/serialize.py:30\u001b[0m, in \u001b[0;36m_numba_unpickle\u001b[0;34m(address, bytedata, hashed)\u001b[0m\n\u001b[1;32m     26\u001b[0m \u001b[38;5;66;03m# Keep unpickled object via `numba_unpickle` alive.\u001b[39;00m\n\u001b[1;32m     27\u001b[0m _unpickled_memo \u001b[38;5;241m=\u001b[39m {}\n\u001b[0;32m---> 30\u001b[0m \u001b[38;5;28;01mdef\u001b[39;00m \u001b[38;5;21m_numba_unpickle\u001b[39m(address, bytedata, hashed):\n\u001b[1;32m     31\u001b[0m \u001b[38;5;250m    \u001b[39m\u001b[38;5;124;03m\"\"\"Used by `numba_unpickle` from _helperlib.c\u001b[39;00m\n\u001b[1;32m     32\u001b[0m \n\u001b[1;32m     33\u001b[0m \u001b[38;5;124;03m    Parameters\u001b[39;00m\n\u001b[0;32m   (...)\u001b[0m\n\u001b[1;32m     42\u001b[0m \u001b[38;5;124;03m        unpickled object\u001b[39;00m\n\u001b[1;32m     43\u001b[0m \u001b[38;5;124;03m    \"\"\"\u001b[39;00m\n\u001b[1;32m     44\u001b[0m     key \u001b[38;5;241m=\u001b[39m (address, hashed)\n",
      "\u001b[0;31mKeyboardInterrupt\u001b[0m: "
     ]
    }
   ],
   "source": [
    "%%timeit\n",
    "jit_calculate_propensities(y, k, poisson_involvement)"
   ]
  },
  {
   "cell_type": "markdown",
   "id": "6ec9ce61-7e52-4d9c-93ff-16099ad2d2c6",
   "metadata": {},
   "source": [
    "# dydt"
   ]
  },
  {
   "cell_type": "code",
   "execution_count": null,
   "id": "26e99fc8-665a-4d27-b07a-3b5eea0a1b9e",
   "metadata": {},
   "outputs": [],
   "source": [
    "def dydt(t, y_expanded, k_of_t, N, rate_involvement_matrix, deterministic_mask, stochastic_mask, hitting_point):\n",
    "    # by fiat the last entry of y will carry the integral of stochastic rates\n",
    "    y = y_expanded[:-1]\n",
    "    #print(\"y at start of dydt\", y)\n",
    "    propensities = calculate_propensities(y, k_of_t(t), rate_involvement_matrix)\n",
    "    deterministic_propensities = propensities * deterministic_mask\n",
    "    stochastic_propensities = propensities * stochastic_mask\n",
    "\n",
    "    dydt = np.zeros_like(y_expanded)\n",
    "    # each propensity feeds back into the stoich matrix to determine\n",
    "    # overall rate of change in the state\n",
    "    # https://en.wikipedia.org/wiki/Biochemical_systems_equation\n",
    "    dydt[:-1] = N @ deterministic_propensities\n",
    "    dydt[-1]  = sum(stochastic_propensities)\n",
    "    #print(\"t\", t, \"y_expanded\", y_expanded, \"dydt\", dydt)\n",
    "    return dydt\n",
    "\n",
    "def jit_dydt(t, y_expanded, k_of_t, N, rate_involvement_matrix, deterministic_mask, stochastic_mask, hitting_point):\n",
    "    # by fiat the last entry of y will carry the integral of stochastic rates\n",
    "    y = y_expanded[:-1]\n",
    "\n",
    "    propensities = jit_calculate_propensities(y, k_of_t(t), rate_involvement_matrix)\n",
    "    rates, sum_stochastic = _jit_dydt(y, N.astype(float), propensities, deterministic_mask, stochastic_mask)\n",
    "    dydt = np.zeros_like(y_expanded)\n",
    "    dydt[:-1] = rates\n",
    "    dydt[-1]  = sum_stochastic\n",
    "    #print(\"t\", t, \"y_expanded\", y_expanded, \"dydt\", dydt)\n",
    "    return dydt\n",
    "\n",
    "@jit(nopython=True)\n",
    "def _jit_dydt(y, N, propensities, deterministic_mask, stochastic_mask):\n",
    "    deterministic_propensities = propensities * deterministic_mask\n",
    "    stochastic_propensities = propensities * stochastic_mask\n",
    "\n",
    "    # each propensity feeds back into the stoich matrix to determine\n",
    "    # overall rate of change in the state\n",
    "    # https://en.wikipedia.org/wiki/Biochemical_systems_equation\n",
    "    rates = N @ deterministic_propensities\n",
    "    sum_stochastic = sum(stochastic_propensities)\n",
    "\n",
    "    return rates, sum_stochastic"
   ]
  },
  {
   "cell_type": "code",
   "execution_count": null,
   "id": "063aaf65-6ae5-4827-8926-006322eecfac",
   "metadata": {},
   "outputs": [],
   "source": [
    "n_species = 10\n",
    "n_pathways = 40\n",
    "rate_involvement = np.random.poisson(0.3, (n_species,n_pathways))\n",
    "y_expanded = np.random.random(n_species+1)\n",
    "k = np.random.random(n_pathways)\n",
    "k_of_t = lambda t: k\n",
    "hitting_point = 0\n",
    "t=0\n",
    "deterministic_mask = np.random.choice(a=[False, True], size=(n_pathways), p=[0.2, 0.8])\n",
    "stochastic_mask = ~deterministic_mask\n",
    "\n",
    "stoichiometry = np.random.poisson(0.3, (n_species,n_pathways))"
   ]
  },
  {
   "cell_type": "code",
   "execution_count": null,
   "id": "4a5a5000-3a4b-48dd-af44-115d8cf3ca6f",
   "metadata": {},
   "outputs": [],
   "source": [
    "assert(np.allclose(dydt(t, y_expanded, k_of_t, stoichiometry, rate_involvement, deterministic_mask, stochastic_mask, hitting_point), jit_dydt(t, y_expanded, k_of_t, stoichiometry, rate_involvement, deterministic_mask, stochastic_mask, hitting_point)))"
   ]
  },
  {
   "cell_type": "code",
   "execution_count": null,
   "id": "90914dbb-292a-4012-977b-e47d72ddee94",
   "metadata": {},
   "outputs": [],
   "source": [
    "%%timeit\n",
    "dydt(t, y_expanded, k_of_t, stoichiometry, rate_involvement, deterministic_mask, stochastic_mask, hitting_point)"
   ]
  },
  {
   "cell_type": "code",
   "execution_count": null,
   "id": "afa6ebf3-507b-499b-bee3-bdd89621a229",
   "metadata": {},
   "outputs": [],
   "source": [
    "%%timeit\n",
    "jit_dydt(t, y_expanded, k_of_t, stoichiometry, rate_involvement, deterministic_mask, stochastic_mask, hitting_point)"
   ]
  },
  {
   "cell_type": "markdown",
   "id": "2e18f31e-0668-4ade-9c70-08a7b424bf9d",
   "metadata": {},
   "source": [
    "# Whole thing"
   ]
  },
  {
   "cell_type": "code",
   "execution_count": 2,
   "id": "ac1c4e80-72bb-4815-870e-be25ccdfab3d",
   "metadata": {},
   "outputs": [],
   "source": [
    "import hybrid"
   ]
  },
  {
   "cell_type": "code",
   "execution_count": 3,
   "id": "18dd32c7-bd0b-4a5a-9e38-4d74a26b708b",
   "metadata": {},
   "outputs": [
    {
     "ename": "AssertionError",
     "evalue": "integration step failed",
     "output_type": "error",
     "traceback": [
      "\u001b[0;31m---------------------------------------------------------------------------\u001b[0m",
      "\u001b[0;31mAssertionError\u001b[0m                            Traceback (most recent call last)",
      "Cell \u001b[0;32mIn[3], line 11\u001b[0m\n\u001b[1;32m      8\u001b[0m stoichiometry \u001b[38;5;241m=\u001b[39m np\u001b[38;5;241m.\u001b[39mrandom\u001b[38;5;241m.\u001b[39mpoisson(\u001b[38;5;241m0.3\u001b[39m, (n_species,n_pathways))\n\u001b[1;32m      9\u001b[0m rng \u001b[38;5;241m=\u001b[39m np\u001b[38;5;241m.\u001b[39mrandom\u001b[38;5;241m.\u001b[39mdefault_rng()\n\u001b[0;32m---> 11\u001b[0m \u001b[43mhybrid\u001b[49m\u001b[38;5;241;43m.\u001b[39;49m\u001b[43mforward_time\u001b[49m\u001b[43m(\u001b[49m\u001b[43my0\u001b[49m\u001b[43m,\u001b[49m\u001b[43m \u001b[49m\u001b[43m[\u001b[49m\u001b[38;5;241;43m0\u001b[39;49m\u001b[43m,\u001b[49m\u001b[43m \u001b[49m\u001b[38;5;241;43m10.0\u001b[39;49m\u001b[43m]\u001b[49m\u001b[43m,\u001b[49m\u001b[43m \u001b[49m\u001b[38;5;28;43;01mlambda\u001b[39;49;00m\u001b[43m \u001b[49m\u001b[43mp\u001b[49m\u001b[43m:\u001b[49m\u001b[43m \u001b[49m\u001b[43mhybrid\u001b[49m\u001b[38;5;241;43m.\u001b[39;49m\u001b[43mpartition_by_threshold\u001b[49m\u001b[43m(\u001b[49m\u001b[43mp\u001b[49m\u001b[43m,\u001b[49m\u001b[43m \u001b[49m\u001b[38;5;241;43m100\u001b[39;49m\u001b[43m)\u001b[49m\u001b[43m,\u001b[49m\u001b[43m \u001b[49m\u001b[43mk_of_t\u001b[49m\u001b[43m,\u001b[49m\u001b[43m \u001b[49m\u001b[43mstoichiometry\u001b[49m\u001b[43m,\u001b[49m\u001b[43m \u001b[49m\u001b[43mrate_involvement\u001b[49m\u001b[43m,\u001b[49m\u001b[43m \u001b[49m\u001b[43mrng\u001b[49m\u001b[43m)\u001b[49m\n",
      "File \u001b[0;32m~/develop/hybrid-algorithm-scratch/hybrid.py:315\u001b[0m, in \u001b[0;36mforward_time\u001b[0;34m(y0, t_span, partition_function, k_of_t, N, rate_involvement_matrix, rng, discontinuities, events, simulation_options)\u001b[0m\n\u001b[1;32m    311\u001b[0m _y_expanded[:\u001b[38;5;241m-\u001b[39m\u001b[38;5;241m1\u001b[39m] \u001b[38;5;241m=\u001b[39m y\n\u001b[1;32m    312\u001b[0m \u001b[38;5;66;03m#print(\"propensities:\", propensities)\u001b[39;00m\n\u001b[1;32m    313\u001b[0m \u001b[38;5;66;03m#print(\"dydt:\", dydt(t, _y_expanded, k_of_t, N, rate_involvement_matrix, partition, 0))\u001b[39;00m\n\u001b[0;32m--> 315\u001b[0m step_update \u001b[38;5;241m=\u001b[39m \u001b[43mhybrid_step\u001b[49m\u001b[43m(\u001b[49m\u001b[43my\u001b[49m\u001b[43m,\u001b[49m\u001b[43m \u001b[49m\u001b[43m[\u001b[49m\u001b[43mt\u001b[49m\u001b[43m,\u001b[49m\u001b[43m \u001b[49m\u001b[43mupper_limit\u001b[49m\u001b[43m]\u001b[49m\u001b[43m,\u001b[49m\u001b[43m \u001b[49m\u001b[43mpartition\u001b[49m\u001b[43m,\u001b[49m\u001b[43m \u001b[49m\u001b[43mk_of_t\u001b[49m\u001b[43m,\u001b[49m\u001b[43m \u001b[49m\u001b[43mN\u001b[49m\u001b[43m,\u001b[49m\u001b[43m \u001b[49m\u001b[43mrate_involvement_matrix\u001b[49m\u001b[43m,\u001b[49m\u001b[43m \u001b[49m\u001b[43mrng\u001b[49m\u001b[43m,\u001b[49m\u001b[43m \u001b[49m\u001b[43mevents\u001b[49m\u001b[43m,\u001b[49m\u001b[43m \u001b[49m\u001b[43msimulation_options\u001b[49m\u001b[43m)\u001b[49m\n\u001b[1;32m    316\u001b[0m t \u001b[38;5;241m=\u001b[39m step_update\u001b[38;5;241m.\u001b[39mt\n\u001b[1;32m    317\u001b[0m y \u001b[38;5;241m=\u001b[39m step_update\u001b[38;5;241m.\u001b[39my\n",
      "File \u001b[0;32m~/develop/hybrid-algorithm-scratch/hybrid.py:200\u001b[0m, in \u001b[0;36mhybrid_step\u001b[0;34m(y0, t_span, partition, k_of_t, N, rate_involvement_matrix, rng, events, simulation_options)\u001b[0m\n\u001b[1;32m    198\u001b[0m \u001b[38;5;66;03m# if no event occurred, simply return the current values of t and y\u001b[39;00m\n\u001b[1;32m    199\u001b[0m \u001b[38;5;28;01mif\u001b[39;00m step_solved\u001b[38;5;241m.\u001b[39mstatus \u001b[38;5;241m==\u001b[39m \u001b[38;5;241m-\u001b[39m\u001b[38;5;241m1\u001b[39m:\n\u001b[0;32m--> 200\u001b[0m     \u001b[38;5;28;01massert\u001b[39;00m \u001b[38;5;28;01mFalse\u001b[39;00m, \u001b[38;5;124m\"\u001b[39m\u001b[38;5;124mintegration step failed\u001b[39m\u001b[38;5;124m\"\u001b[39m\n\u001b[1;32m    201\u001b[0m \u001b[38;5;28;01melif\u001b[39;00m step_solved\u001b[38;5;241m.\u001b[39mstatus \u001b[38;5;241m==\u001b[39m \u001b[38;5;241m0\u001b[39m:\n\u001b[1;32m    202\u001b[0m     y_last \u001b[38;5;241m=\u001b[39m round_with_method(y_last, simulation_options\u001b[38;5;241m.\u001b[39mround_randomly, rng)\n",
      "\u001b[0;31mAssertionError\u001b[0m: integration step failed"
     ]
    }
   ],
   "source": [
    "n_species = 10\n",
    "n_pathways = 40\n",
    "rate_involvement = np.random.poisson(0.3, (n_species,n_pathways))\n",
    "y0 = np.random.random(n_species)*50\n",
    "k = np.random.random(n_pathways)\n",
    "k_of_t = lambda t: k\n",
    "hitting_point = 0\n",
    "stoichiometry = np.random.poisson(0.3, (n_species,n_pathways))\n",
    "rng = np.random.default_rng()\n",
    "\n",
    "hybrid.forward_time(y0, [0, 10.0], lambda p: hybrid.partition_by_threshold(p, 100), k_of_t, stoichiometry, rate_involvement, rng)"
   ]
  },
  {
   "cell_type": "code",
   "execution_count": null,
   "id": "ce36fbb7-21f1-4187-85b1-2740f9387ff9",
   "metadata": {},
   "outputs": [],
   "source": []
  }
 ],
 "metadata": {
  "kernelspec": {
   "display_name": "Python 3 (ipykernel)",
   "language": "python",
   "name": "python3"
  },
  "language_info": {
   "codemirror_mode": {
    "name": "ipython",
    "version": 3
   },
   "file_extension": ".py",
   "mimetype": "text/x-python",
   "name": "python",
   "nbconvert_exporter": "python",
   "pygments_lexer": "ipython3",
   "version": "3.9.8"
  }
 },
 "nbformat": 4,
 "nbformat_minor": 5
}
