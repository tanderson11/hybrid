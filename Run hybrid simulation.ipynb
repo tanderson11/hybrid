{
 "cells": [
  {
   "cell_type": "code",
   "execution_count": 1,
   "id": "5675700c-c422-4ba8-b199-8a0bfbe1c772",
   "metadata": {},
   "outputs": [],
   "source": [
    "import matlab.engine\n",
    "import numpy as np\n",
    "import scipy.optimize"
   ]
  },
  {
   "cell_type": "markdown",
   "id": "1c6f560a-0742-42f2-b440-db5f25398dcf",
   "metadata": {},
   "source": [
    "# Trial and pd parameters"
   ]
  },
  {
   "cell_type": "code",
   "execution_count": 2,
   "id": "6079bca2-965a-4f9c-aae6-c4fac02eab65",
   "metadata": {},
   "outputs": [],
   "source": [
    "# trial and adherence information\n",
    "drug = \"ATV/r\"\n",
    "\n",
    "days = np.double(40) #days to run trial for\n",
    "increment = 0.01 # days between each timepoint returned\n",
    "prob_adh = 0.5 if drug != 'TEST' else 0. # probability of taking each pill (independent)\n",
    "adh_pat = 0 # 0 = random prob for each dose, 1 = random prob each day after missed dose\n",
    "adh_shuff = np.double(0.) # standard deviation in the time of taking a pill vs scheduled (days)\n",
    "trial_type = 1 # 1 = suppression trial, 0=maintenance trial\n",
    "burnin = 7*5 # days before interval sampling begins in maintenance trials\n",
    "sampling_int = 28 # days between each sampling time in maintenance trials\n",
    "threshold = 200 # threshold viral load above which failure is declared\n",
    "mut_frac = 0.2 # threshold fraction of population of mutant above which declared failure via resistance"
   ]
  },
  {
   "cell_type": "markdown",
   "id": "592ef267-fc11-4998-81ed-6ad823f54d1e",
   "metadata": {},
   "source": [
    "## Use existing matlab scripts to calculate concentration(t)"
   ]
  },
  {
   "cell_type": "code",
   "execution_count": 3,
   "id": "c498d0f9-a740-4c97-91f7-fed80bd50f98",
   "metadata": {},
   "outputs": [],
   "source": [
    "eng = matlab.engine.start_matlab()\n",
    "eng.cd(r'~/develop/withinhostHIV/MatlabCode/', nargout=0)\n",
    "eng.eval(\"addpath('Parameters','Utilities')\", nargout=0)"
   ]
  },
  {
   "cell_type": "code",
   "execution_count": 4,
   "id": "37b6125f-fda7-4852-a824-713f6640cb0d",
   "metadata": {},
   "outputs": [],
   "source": [
    "eng.workspace[\"drug\"] = drug\n",
    "trial, pd = eng.trial_setup(eng.eval(\"drug\"), days, increment, prob_adh, adh_pat, adh_shuff, trial_type, burnin, sampling_int, threshold, mut_frac, nargout=2)\n",
    "eng.workspace[\"trial\"] = trial\n",
    "eng.workspace[\"pd\"] = pd"
   ]
  },
  {
   "cell_type": "code",
   "execution_count": 5,
   "id": "a0e8428c-ca25-447c-a545-43a662082f6b",
   "metadata": {},
   "outputs": [],
   "source": [
    "dose_t, _ = eng.adh_trajectory(eng.eval(\"pd.num_doses\"), trial, nargout=2)"
   ]
  },
  {
   "cell_type": "code",
   "execution_count": 6,
   "id": "88334de5-4741-4520-9ce0-e77f5c9c2840",
   "metadata": {},
   "outputs": [],
   "source": [
    "c_vec,inhib_vec = eng.drug_trajectory(pd, trial, dose_t, nargout=2)"
   ]
  },
  {
   "cell_type": "markdown",
   "id": "32a12d00-8116-4bbc-ac2b-d681138c3eb9",
   "metadata": {},
   "source": [
    "## Use existing matlab scripts to calculate mutation matrix Q"
   ]
  },
  {
   "cell_type": "code",
   "execution_count": 7,
   "id": "e3272a44-5d7d-404b-ab2c-36bf768b303e",
   "metadata": {},
   "outputs": [],
   "source": [
    "smin=0.05; #highest mutant fitness\n",
    "smax=0.9; #lowest mutant fitness\n",
    "smiss=0.05; #fitness of strains with missing cost\n",
    "rfmiss=1; #fold change in resistance for strains with it missing\n",
    "mfmiss=0; #fractional change in slope for strains with it missing\n",
    "back_mutation_on = drug != 'TEST' #include(1) or exclude(0) back mutation\n",
    "direct_multi_hit = drug != 'TEST' #include(1) or exclude(0) direct multi-hit mutations from WT\n",
    "direct_multi_multi = drug != 'TEST' #include(1) or exclude(0) direct multi-hit mutations from one res strain to another"
   ]
  },
  {
   "cell_type": "code",
   "execution_count": 8,
   "id": "65178ab6-b5e6-48cf-9406-36ac4e2da4b5",
   "metadata": {},
   "outputs": [],
   "source": [
    "mparams,Q = eng.getMutInfo(drug,smin,smax,smiss,rfmiss,mfmiss,back_mutation_on,direct_multi_hit,direct_multi_multi,nargout=2);\n",
    "eng.workspace[\"Q\"] = Q\n",
    "Q = eng.eval(\"Q{:,:};\") # get a matrix instead of a matlab table"
   ]
  },
  {
   "cell_type": "markdown",
   "id": "ddf60c79-0c9d-4d1b-a081-d95665a4355e",
   "metadata": {},
   "source": [
    "## Viral dynamics parameters"
   ]
  },
  {
   "cell_type": "code",
   "execution_count": 9,
   "id": "4051971b-ffec-4e21-9844-a67bb3f66412",
   "metadata": {},
   "outputs": [],
   "source": [
    "R00 = 10.0 # average number of new virions produced by infection with a single virion === average number of new infected cells produced by 1 infected cell\n",
    "fbp = 0.55 # fraction of blood that is plasma\n",
    "Vpl = 3*10e3 # volume of plasma in mL\n",
    "ftcell_pl = 0.02 # fraction of T cells that are circulating in blood (vs in lymph system)\n",
    "hl_lr = 44*30.5 # half life of decay of latent reservoir, days\n",
    "A = 100 # total reactivation of latent cells per day\n",
    "#### TODO CHECK CHECK CHECK SCIENTIFIC NOTATION\n",
    "flr = 1e-6# fraction of CD4 T cells that are latently infected at equilibrium\n",
    "\n",
    "scale_cd4_body = (Vpl*10**3)/(fbp*ftcell_pl) # factor to go from T cell per ul blood to whole body\n",
    "\n",
    "fa = 0.01 # fraction of infected CD4 cells that support productive vs abortive infection\n",
    "dx = 0.05 # death rate of uninfected cells (per day) and by assumption dx == d, rate of death without viral cytolytic effects\n",
    "L = scale_cd4_body*1000*dx # uninfected cells produced per day (/ul)\n",
    "a = A/(flr*L/dx) # rate of exit of latent cells (per day)\n",
    "dz = np.log(2)/(hl_lr)-a # death rate of latently infected cells (per day)\n",
    "\n",
    "dy = 1 # TOTAL death rate of infected cells (per day) (=death due to burst (k) + death without viral cytolytic effects)\n",
    "k = dy-dx # rate of death+emission of a burst of virions (per day)\n",
    "# CHECK SCI NOTO\n",
    "N = 2.38e5\n",
    "assert(N > R00);\n",
    "\n",
    "# probability of a single virion establishing infection, solved implicitly\n",
    "p_est_solution = scipy.optimize.least_squares(lambda p_est: R00*(1-(1-p_est)**N) - N*p_est, 0.1)\n",
    "assert(p_est_solution.success)\n",
    "p_est = p_est_solution.x\n",
    "\n",
    "dv = 25 # TOTAL death rate of virions (per day)\n",
    "beta = R00 * dy * dv * dx / (k * N * fa * L) # infectivity rate (per day*infectious-target cell pair)\n",
    "c = dv-beta*L/dx # clearance rate of virions (per day);\n",
    "assert(c > 0)\n",
    "g = flr*dy/dx*(a+dz)/(fa*(1-1/R00)) # fraction of new infections that become latent"
   ]
  },
  {
   "cell_type": "code",
   "execution_count": 10,
   "id": "299ae2bd-4560-420f-9068-d7649069696f",
   "metadata": {},
   "outputs": [],
   "source": [
    "# Access matlab parameters\n",
    "eng.workspace[\"mparams\"] = mparams\n",
    "IC50 = eng.eval('pd.IC50')\n",
    "m = eng.eval('pd.m')\n",
    "cost = eng.eval('mparams.cost')\n",
    "rf = eng.eval('mparams.rf')\n",
    "mf = eng.eval('mparams.mf')\n",
    "t_vec = eng.eval('(0:trial.increment:trial.days);')"
   ]
  },
  {
   "cell_type": "markdown",
   "id": "031eef2d-5b82-402d-a878-09dbcd846535",
   "metadata": {},
   "source": [
    "## Check beta (from matlab) against beta (from python)"
   ]
  },
  {
   "cell_type": "code",
   "execution_count": 11,
   "id": "b7345288-5811-483e-90ff-f8e4cb8c5251",
   "metadata": {},
   "outputs": [],
   "source": [
    "beta_t, beta_u_t = eng.calculate_beta_of_t(t_vec, beta, c_vec, IC50, m, cost, rf, mf, eng.eval('height(mparams)'), nargout=2)"
   ]
  },
  {
   "cell_type": "code",
   "execution_count": 12,
   "id": "2153e0fa-56b6-4c3a-a272-ceba01723136",
   "metadata": {},
   "outputs": [],
   "source": [
    "def calculate_beta_t(beta_0, concentration, IC50, m, cost, rf, mf):\n",
    "    # B/[cost * (1 + concentration)/(IC50*rf)^(m*(1+mf))]\n",
    "    B = beta_0\n",
    "    denominator = cost * (1 + (concentration/(IC50*rf))**(m*(1+mf)))\n",
    "    return B/denominator\n",
    "\n",
    "\n",
    "# make sure we didn't mess up our function definition\n",
    "assert(np.allclose(calculate_beta_t(beta, np.asarray(c_vec), IC50, m, np.asarray(cost).T, np.asarray(rf).T, np.asarray(mf).T), np.asarray(beta_u_t)))\n",
    "assert(np.allclose(calculate_beta_t(beta, np.asarray(c_vec), IC50, m, 1, 1, 1), np.asarray(beta_t)))\n",
    "\n",
    "beta_u_t = calculate_beta_t(beta, np.asarray(c_vec), IC50, m, np.asarray(cost).T, np.asarray(rf).T, np.asarray(mf).T)\n",
    "beta_t   = calculate_beta_t(beta, np.asarray(c_vec), IC50, m, 1, 1, 1)\n",
    "\n",
    "beta_t = np.concatenate([beta_t, beta_u_t], axis=1)\n",
    "t_vec = np.asarray(t_vec).squeeze()\n",
    "dose_t = np.asarray(dose_t).T.squeeze()"
   ]
  },
  {
   "cell_type": "code",
   "execution_count": 13,
   "id": "79c80beb-1691-49a6-bf1d-09641ae3a3b0",
   "metadata": {},
   "outputs": [],
   "source": [
    "sampled_concentration = np.asarray(c_vec)\n",
    "# closed around parameters\n",
    "# pulls the nearest beta pre-calculated to the left of the current time\n",
    "def discrete_beta_of_t(t):\n",
    "    # last time where beta was precalculated *before* t\n",
    "    t_left_index = np.searchsorted(t_vec, t) - 1\n",
    "    if t_left_index < 0:\n",
    "        if t_left_index == -1:\n",
    "            t_left_index = 0\n",
    "        else:\n",
    "            raise ValueError()\n",
    "    return beta_t[t_left_index]\n",
    "\n",
    "def force_of_infection(t):\n",
    "    beta = discrete_beta_of_t(t)\n",
    "    return (np.expand_dims(beta,1) * fa * Q).flatten()"
   ]
  },
  {
   "cell_type": "markdown",
   "id": "24d8ea42-ded0-4c79-b1b4-fb0afa790a19",
   "metadata": {},
   "source": [
    "TODO: triple check to make sure this is the right orientation of beta_i relative to Q"
   ]
  },
  {
   "cell_type": "code",
   "execution_count": 14,
   "id": "d7cd11fc-a65e-4ec6-bf8a-de555307008d",
   "metadata": {},
   "outputs": [
    {
     "data": {
      "text/plain": [
       "array([[1.00000000e+00, 9.31401597e-07, 1.15302567e-05, 1.15302033e-05],\n",
       "       [6.38285140e-06, 1.00000000e+00, 7.35959154e-11, 7.35955744e-11],\n",
       "       [4.29936191e-05, 4.00443255e-11, 1.00000000e+00, 4.95725170e-10],\n",
       "       [2.62179380e-05, 2.44194294e-11, 3.02299557e-10, 1.00000000e+00]])"
      ]
     },
     "execution_count": 14,
     "metadata": {},
     "output_type": "execute_result"
    }
   ],
   "source": [
    "Q = np.asarray(Q)\n",
    "Q"
   ]
  },
  {
   "cell_type": "code",
   "execution_count": 15,
   "id": "e4b3f77b-ed95-4cc3-bdee-98563de5dc29",
   "metadata": {},
   "outputs": [
    {
     "data": {
      "text/plain": [
       "array([[5.72353685e-29],\n",
       "       [1.80640339e-19],\n",
       "       [3.44853164e-20],\n",
       "       [1.34826435e-18]])"
      ]
     },
     "execution_count": 15,
     "metadata": {},
     "output_type": "execute_result"
    }
   ],
   "source": [
    "np.expand_dims(beta_t[0],1)"
   ]
  },
  {
   "cell_type": "markdown",
   "id": "63614fb1-fd62-4f0a-ab6d-17e9c3bf338e",
   "metadata": {},
   "source": [
    "# Define model"
   ]
  },
  {
   "cell_type": "code",
   "execution_count": 16,
   "id": "6b17d2e1-2b8c-4954-982c-c9b5a5d4ecc4",
   "metadata": {},
   "outputs": [
    {
     "data": {
      "text/plain": [
       "4"
      ]
     },
     "execution_count": 16,
     "metadata": {},
     "output_type": "execute_result"
    }
   ],
   "source": [
    "import reactions\n",
    "num_strains = beta_t.shape[1]\n",
    "num_strains"
   ]
  },
  {
   "cell_type": "code",
   "execution_count": 17,
   "id": "e79d2e57-4b9f-43dd-a8c1-a21efdfdc0c3",
   "metadata": {},
   "outputs": [],
   "source": [
    "ys = [reactions.Species(f'infected cells strain {i}', f'y{i}') for i in range(num_strains)]\n",
    "zs = [reactions.Species(f'latent cells strain {i}', f'z{i}') for i in range(num_strains)]\n",
    "vs = [reactions.Species(f'viruses strain {i}', f'v{i}') for i in range(num_strains)]\n",
    "x = reactions.Species(\"target cells\", \"x\")\n",
    "all_species = [x] + ys + vs + zs"
   ]
  },
  {
   "cell_type": "code",
   "execution_count": 18,
   "id": "79af04a2-9398-4114-b112-29193bd0ce5c",
   "metadata": {},
   "outputs": [],
   "source": [
    "target_cell_birth = reactions.Reaction(\"target cell birth\", [], [x], k=L)\n",
    "target_cell_death = reactions.Reaction(\"target cell death\", [x], [], k=dx)\n",
    "infected_death = [reactions.Reaction(f\"death of infected cell strain {i}\", [ys[i]], [], k=(dy-k)) for i in range(num_strains)]\n",
    "infected_cell_burst = [reactions.Reaction(f\"burst of infected cell strain {i}\", [ys[i]], [(vs[i], N)], k=k) for i in range(num_strains)]\n",
    "into_latency = [reactions.Reaction(f\"strain {i} --> latency\", [ys[i]], [zs[i]], k=g) for i in range(num_strains)]\n",
    "out_of_latency = [reactions.Reaction(f\"latent --> strain {i}\", [zs[i]], [ys[i]], k=a) for i in range(num_strains)]\n",
    "death_of_latent = [reactions.Reaction(f\"latent {i} death\", [zs[i]], [], k=dz) for i in range(num_strains)]\n",
    "viral_clearance = [reactions.Reaction(f\"clearance of strain {i} virion\", [vs[i]], [], k=c) for i in range(num_strains)]\n",
    "\n",
    "infections = []\n",
    "for j in range(num_strains):\n",
    "    for i in range(num_strains):\n",
    "        infections.append(reactions.Reaction(f\"infection of x by {i}->{j}\", [x, vs[i]], [ys[j]]))\n",
    "infection_family = reactions.ReactionRateFamily(infections, k=force_of_infection)\n",
    "\n",
    "all_reactions = [target_cell_birth, target_cell_death] + infected_death + infected_cell_burst + into_latency + out_of_latency + death_of_latent + viral_clearance + [infection_family]\n"
   ]
  },
  {
   "cell_type": "code",
   "execution_count": 19,
   "id": "20336e03-3047-4244-bd4c-637d034bd9d1",
   "metadata": {},
   "outputs": [],
   "source": [
    "model = reactions.Model(all_species, all_reactions)"
   ]
  },
  {
   "cell_type": "code",
   "execution_count": 20,
   "id": "75257bab-be1b-4047-a537-8dba5a419576",
   "metadata": {},
   "outputs": [
    {
     "name": "stdout",
     "output_type": "stream",
     "text": [
      "target cell birth     :  0  -->  1x \n",
      "target cell death     : 1x  -->   0 \n",
      "death of infected cell:   1y0 -->   0 \n",
      "death of infected cell:   1y1 -->   0 \n",
      "death of infected cell:   1y2 -->   0 \n",
      "death of infected cell:   1y3 -->   0 \n",
      "burst of infected cell:   1y0 -->   >9v0\n",
      "burst of infected cell:   1y1 -->   >9v1\n",
      "burst of infected cell:   1y2 -->   >9v2\n",
      "burst of infected cell:   1y3 -->   >9v3\n",
      "strain 0 --> latency  :   1y0 -->    1z0\n",
      "strain 1 --> latency  :   1y1 -->    1z1\n",
      "strain 2 --> latency  :   1y2 -->    1z2\n",
      "strain 3 --> latency  :   1y3 -->    1z3\n",
      "latent --> strain 0   :   1z0 -->    1y0\n",
      "latent --> strain 1   :   1z1 -->    1y1\n",
      "latent --> strain 2   :   1z2 -->    1y2\n",
      "latent --> strain 3   :   1z3 -->    1y3\n",
      "latent 0 death        :   1z0 -->   0 \n",
      "latent 1 death        :   1z1 -->   0 \n",
      "latent 2 death        :   1z2 -->   0 \n",
      "latent 3 death        :   1z3 -->   0 \n",
      "clearance of strain 0 :   1v0 -->   0 \n",
      "clearance of strain 1 :   1v1 -->   0 \n",
      "clearance of strain 2 :   1v2 -->   0 \n",
      "clearance of strain 3 :   1v3 -->   0 \n",
      "infection of x by 0->0: 1x    1v0 -->    1y0\n",
      "infection of x by 1->0: 1x    1v1 -->    1y0\n",
      "infection of x by 2->0: 1x    1v2 -->    1y0\n",
      "infection of x by 3->0: 1x    1v3 -->    1y0\n",
      "infection of x by 0->1: 1x    1v0 -->    1y1\n",
      "infection of x by 1->1: 1x    1v1 -->    1y1\n",
      "infection of x by 2->1: 1x    1v2 -->    1y1\n",
      "infection of x by 3->1: 1x    1v3 -->    1y1\n",
      "infection of x by 0->2: 1x    1v0 -->    1y2\n",
      "infection of x by 1->2: 1x    1v1 -->    1y2\n",
      "infection of x by 2->2: 1x    1v2 -->    1y2\n",
      "infection of x by 3->2: 1x    1v3 -->    1y2\n",
      "infection of x by 0->3: 1x    1v0 -->    1y3\n",
      "infection of x by 1->3: 1x    1v1 -->    1y3\n",
      "infection of x by 2->3: 1x    1v2 -->    1y3\n",
      "infection of x by 3->3: 1x    1v3 -->    1y3\n",
      "\n"
     ]
    }
   ],
   "source": [
    "print(model.pretty(skip_blanks=True))"
   ]
  },
  {
   "cell_type": "markdown",
   "id": "50fd49ef-72f3-4705-9614-cacd5ae5b91d",
   "metadata": {},
   "source": [
    "# Run forward simulation"
   ]
  },
  {
   "cell_type": "code",
   "execution_count": 21,
   "id": "258360e6-7460-4f70-839d-5f2e8c061e26",
   "metadata": {},
   "outputs": [],
   "source": [
    "import hybrid"
   ]
  },
  {
   "cell_type": "code",
   "execution_count": 22,
   "id": "3b14195b-be1e-4876-a9b5-6e18143b2f18",
   "metadata": {},
   "outputs": [
    {
     "name": "stdout",
     "output_type": "stream",
     "text": [
      "Jumping from 0.9999999999 to 1.0000000000000002 to avoid discontinuity\n",
      "Jumping from 2.9999999999 to 3.0000000000000004 to avoid discontinuity\n",
      "Jumping from 3.9999999999 to 4.000000000000001 to avoid discontinuity\n",
      "Jumping from 6.9999999999 to 7.000000000000001 to avoid discontinuity\n",
      "Jumping from 7.9999999999 to 8.000000000000002 to avoid discontinuity\n",
      "Jumping from 8.9999999999 to 9.000000000000002 to avoid discontinuity\n",
      "Jumping from 10.9999999999 to 11.000000000000002 to avoid discontinuity\n",
      "Jumping from 11.9999999999 to 12.000000000000002 to avoid discontinuity\n",
      "Jumping from 13.9999999999 to 14.000000000000002 to avoid discontinuity\n",
      "Jumping from 16.9999999999 to 17.000000000000004 to avoid discontinuity\n",
      "Jumping from 17.9999999999 to 18.000000000000004 to avoid discontinuity\n",
      "Jumping from 18.9999999999 to 19.000000000000004 to avoid discontinuity\n",
      "Jumping from 19.9999999999 to 20.000000000000004 to avoid discontinuity\n",
      "Jumping from 21.9999999999 to 22.000000000000004 to avoid discontinuity\n",
      "Jumping from 22.9999999999 to 23.000000000000004 to avoid discontinuity\n",
      "Jumping from 23.9999999999 to 24.000000000000004 to avoid discontinuity\n",
      "Jumping from 24.9999999999 to 25.000000000000004 to avoid discontinuity\n",
      "Jumping from 25.9999999999 to 26.000000000000004 to avoid discontinuity\n",
      "Jumping from 27.9999999999 to 28.000000000000004 to avoid discontinuity\n",
      "Jumping from 29.9999999999 to 30.000000000000004 to avoid discontinuity\n",
      "Jumping from 34.9999999999 to 35.00000000000001 to avoid discontinuity\n",
      "Jumping from 35.9999999999 to 36.00000000000001 to avoid discontinuity\n",
      "Jumping from 37.9999999999 to 38.00000000000001 to avoid discontinuity\n",
      "Jumping from 0.9999999999 to 1.0000000000000002 to avoid discontinuity\n",
      "Jumping from 2.9999999999 to 3.0000000000000004 to avoid discontinuity\n",
      "Jumping from 3.9999999999 to 4.000000000000001 to avoid discontinuity\n",
      "Jumping from 6.9999999999 to 7.000000000000001 to avoid discontinuity\n",
      "Jumping from 7.9999999999 to 8.000000000000002 to avoid discontinuity\n",
      "Jumping from 8.9999999999 to 9.000000000000002 to avoid discontinuity\n",
      "Jumping from 10.9999999999 to 11.000000000000002 to avoid discontinuity\n",
      "Jumping from 11.9999999999 to 12.000000000000002 to avoid discontinuity\n",
      "Jumping from 13.9999999999 to 14.000000000000002 to avoid discontinuity\n",
      "Jumping from 16.9999999999 to 17.000000000000004 to avoid discontinuity\n",
      "Jumping from 17.9999999999 to 18.000000000000004 to avoid discontinuity\n",
      "Jumping from 18.9999999999 to 19.000000000000004 to avoid discontinuity\n",
      "Jumping from 19.9999999999 to 20.000000000000004 to avoid discontinuity\n",
      "Jumping from 21.9999999999 to 22.000000000000004 to avoid discontinuity\n",
      "Jumping from 22.9999999999 to 23.000000000000004 to avoid discontinuity\n",
      "Jumping from 23.9999999999 to 24.000000000000004 to avoid discontinuity\n",
      "Jumping from 24.9999999999 to 25.000000000000004 to avoid discontinuity\n",
      "Jumping from 25.9999999999 to 26.000000000000004 to avoid discontinuity\n",
      "Jumping from 27.9999999999 to 28.000000000000004 to avoid discontinuity\n",
      "Jumping from 29.9999999999 to 30.000000000000004 to avoid discontinuity\n",
      "Jumping from 34.9999999999 to 35.00000000000001 to avoid discontinuity\n",
      "Jumping from 35.9999999999 to 36.00000000000001 to avoid discontinuity\n",
      "Jumping from 37.9999999999 to 38.00000000000001 to avoid discontinuity\n",
      "Jumping from 0.9999999999 to 1.0000000000000002 to avoid discontinuity\n",
      "Jumping from 2.9999999999 to 3.0000000000000004 to avoid discontinuity\n",
      "Jumping from 3.9999999999 to 4.000000000000001 to avoid discontinuity\n",
      "Jumping from 6.9999999999 to 7.000000000000001 to avoid discontinuity\n",
      "Jumping from 7.9999999999 to 8.000000000000002 to avoid discontinuity\n",
      "Jumping from 8.9999999999 to 9.000000000000002 to avoid discontinuity\n",
      "Jumping from 10.9999999999 to 11.000000000000002 to avoid discontinuity\n",
      "Jumping from 11.9999999999 to 12.000000000000002 to avoid discontinuity\n",
      "Jumping from 13.9999999999 to 14.000000000000002 to avoid discontinuity\n",
      "Jumping from 16.9999999999 to 17.000000000000004 to avoid discontinuity\n",
      "Jumping from 17.9999999999 to 18.000000000000004 to avoid discontinuity\n",
      "Jumping from 18.9999999999 to 19.000000000000004 to avoid discontinuity\n",
      "Jumping from 19.9999999999 to 20.000000000000004 to avoid discontinuity\n",
      "Jumping from 21.9999999999 to 22.000000000000004 to avoid discontinuity\n",
      "Jumping from 22.9999999999 to 23.000000000000004 to avoid discontinuity\n",
      "Jumping from 23.9999999999 to 24.000000000000004 to avoid discontinuity\n",
      "Jumping from 24.9999999999 to 25.000000000000004 to avoid discontinuity\n",
      "Jumping from 25.9999999999 to 26.000000000000004 to avoid discontinuity\n",
      "Jumping from 27.9999999999 to 28.000000000000004 to avoid discontinuity\n",
      "Jumping from 29.9999999999 to 30.000000000000004 to avoid discontinuity\n",
      "Jumping from 34.9999999999 to 35.00000000000001 to avoid discontinuity\n",
      "Jumping from 35.9999999999 to 36.00000000000001 to avoid discontinuity\n",
      "Jumping from 37.9999999999 to 38.00000000000001 to avoid discontinuity\n",
      "Jumping from 0.9999999999 to 1.0000000000000002 to avoid discontinuity\n",
      "Jumping from 2.9999999999 to 3.0000000000000004 to avoid discontinuity\n",
      "Jumping from 3.9999999999 to 4.000000000000001 to avoid discontinuity\n",
      "Jumping from 6.9999999999 to 7.000000000000001 to avoid discontinuity\n",
      "Jumping from 7.9999999999 to 8.000000000000002 to avoid discontinuity\n",
      "Jumping from 8.9999999999 to 9.000000000000002 to avoid discontinuity\n",
      "Jumping from 10.9999999999 to 11.000000000000002 to avoid discontinuity\n",
      "Jumping from 11.9999999999 to 12.000000000000002 to avoid discontinuity\n",
      "Jumping from 13.9999999999 to 14.000000000000002 to avoid discontinuity\n",
      "Jumping from 16.9999999999 to 17.000000000000004 to avoid discontinuity\n",
      "Jumping from 17.9999999999 to 18.000000000000004 to avoid discontinuity\n",
      "Jumping from 18.9999999999 to 19.000000000000004 to avoid discontinuity\n",
      "Jumping from 19.9999999999 to 20.000000000000004 to avoid discontinuity\n",
      "Jumping from 21.9999999999 to 22.000000000000004 to avoid discontinuity\n",
      "Jumping from 22.9999999999 to 23.000000000000004 to avoid discontinuity\n",
      "Jumping from 23.9999999999 to 24.000000000000004 to avoid discontinuity\n",
      "Jumping from 24.9999999999 to 25.000000000000004 to avoid discontinuity\n",
      "Jumping from 25.9999999999 to 26.000000000000004 to avoid discontinuity\n",
      "Jumping from 27.9999999999 to 28.000000000000004 to avoid discontinuity\n",
      "Jumping from 29.9999999999 to 30.000000000000004 to avoid discontinuity\n",
      "Jumping from 34.9999999999 to 35.00000000000001 to avoid discontinuity\n",
      "Jumping from 35.9999999999 to 36.00000000000001 to avoid discontinuity\n",
      "Jumping from 37.9999999999 to 38.00000000000001 to avoid discontinuity\n",
      "Jumping from 0.9999999999 to 1.0000000000000002 to avoid discontinuity\n",
      "Jumping from 2.9999999999 to 3.0000000000000004 to avoid discontinuity\n",
      "Jumping from 3.9999999999 to 4.000000000000001 to avoid discontinuity\n",
      "Jumping from 6.9999999999 to 7.000000000000001 to avoid discontinuity\n",
      "Jumping from 7.9999999999 to 8.000000000000002 to avoid discontinuity\n",
      "Jumping from 8.9999999999 to 9.000000000000002 to avoid discontinuity\n",
      "Jumping from 10.9999999999 to 11.000000000000002 to avoid discontinuity\n",
      "Jumping from 11.9999999999 to 12.000000000000002 to avoid discontinuity\n",
      "Jumping from 13.9999999999 to 14.000000000000002 to avoid discontinuity\n",
      "Jumping from 16.9999999999 to 17.000000000000004 to avoid discontinuity\n",
      "Jumping from 17.9999999999 to 18.000000000000004 to avoid discontinuity\n",
      "Jumping from 18.9999999999 to 19.000000000000004 to avoid discontinuity\n",
      "Jumping from 19.9999999999 to 20.000000000000004 to avoid discontinuity\n",
      "Jumping from 21.9999999999 to 22.000000000000004 to avoid discontinuity\n",
      "Jumping from 22.9999999999 to 23.000000000000004 to avoid discontinuity\n",
      "Jumping from 23.9999999999 to 24.000000000000004 to avoid discontinuity\n",
      "Jumping from 24.9999999999 to 25.000000000000004 to avoid discontinuity\n",
      "Jumping from 25.9999999999 to 26.000000000000004 to avoid discontinuity\n",
      "Jumping from 27.9999999999 to 28.000000000000004 to avoid discontinuity\n",
      "Jumping from 29.9999999999 to 30.000000000000004 to avoid discontinuity\n",
      "Jumping from 34.9999999999 to 35.00000000000001 to avoid discontinuity\n",
      "Jumping from 35.9999999999 to 36.00000000000001 to avoid discontinuity\n",
      "Jumping from 37.9999999999 to 38.00000000000001 to avoid discontinuity\n",
      "Jumping from 0.9999999999 to 1.0000000000000002 to avoid discontinuity\n",
      "Jumping from 2.9999999999 to 3.0000000000000004 to avoid discontinuity\n",
      "Jumping from 3.9999999999 to 4.000000000000001 to avoid discontinuity\n",
      "Jumping from 6.9999999999 to 7.000000000000001 to avoid discontinuity\n",
      "Jumping from 7.9999999999 to 8.000000000000002 to avoid discontinuity\n",
      "Jumping from 8.9999999999 to 9.000000000000002 to avoid discontinuity\n",
      "Jumping from 10.9999999999 to 11.000000000000002 to avoid discontinuity\n",
      "Jumping from 11.9999999999 to 12.000000000000002 to avoid discontinuity\n",
      "Jumping from 13.9999999999 to 14.000000000000002 to avoid discontinuity\n",
      "Jumping from 16.9999999999 to 17.000000000000004 to avoid discontinuity\n",
      "Jumping from 17.9999999999 to 18.000000000000004 to avoid discontinuity\n",
      "Jumping from 18.9999999999 to 19.000000000000004 to avoid discontinuity\n",
      "Jumping from 19.9999999999 to 20.000000000000004 to avoid discontinuity\n",
      "Jumping from 21.9999999999 to 22.000000000000004 to avoid discontinuity\n",
      "Jumping from 22.9999999999 to 23.000000000000004 to avoid discontinuity\n",
      "Jumping from 23.9999999999 to 24.000000000000004 to avoid discontinuity\n",
      "Jumping from 24.9999999999 to 25.000000000000004 to avoid discontinuity\n",
      "Jumping from 25.9999999999 to 26.000000000000004 to avoid discontinuity\n",
      "Jumping from 27.9999999999 to 28.000000000000004 to avoid discontinuity\n",
      "Jumping from 29.9999999999 to 30.000000000000004 to avoid discontinuity\n",
      "Jumping from 34.9999999999 to 35.00000000000001 to avoid discontinuity\n",
      "Jumping from 35.9999999999 to 36.00000000000001 to avoid discontinuity\n",
      "Jumping from 37.9999999999 to 38.00000000000001 to avoid discontinuity\n",
      "Jumping from 0.9999999999 to 1.0000000000000002 to avoid discontinuity\n",
      "Jumping from 2.9999999999 to 3.0000000000000004 to avoid discontinuity\n",
      "Jumping from 3.9999999999 to 4.000000000000001 to avoid discontinuity\n",
      "Jumping from 6.9999999999 to 7.000000000000001 to avoid discontinuity\n",
      "Jumping from 7.9999999999 to 8.000000000000002 to avoid discontinuity\n",
      "Jumping from 8.9999999999 to 9.000000000000002 to avoid discontinuity\n",
      "Jumping from 10.9999999999 to 11.000000000000002 to avoid discontinuity\n",
      "Jumping from 11.9999999999 to 12.000000000000002 to avoid discontinuity\n",
      "Jumping from 13.9999999999 to 14.000000000000002 to avoid discontinuity\n",
      "Jumping from 16.9999999999 to 17.000000000000004 to avoid discontinuity\n",
      "Jumping from 17.9999999999 to 18.000000000000004 to avoid discontinuity\n",
      "Jumping from 18.9999999999 to 19.000000000000004 to avoid discontinuity\n",
      "Jumping from 19.9999999999 to 20.000000000000004 to avoid discontinuity\n",
      "Jumping from 21.9999999999 to 22.000000000000004 to avoid discontinuity\n",
      "Jumping from 22.9999999999 to 23.000000000000004 to avoid discontinuity\n",
      "Jumping from 23.9999999999 to 24.000000000000004 to avoid discontinuity\n",
      "Jumping from 24.9999999999 to 25.000000000000004 to avoid discontinuity\n",
      "Jumping from 25.9999999999 to 26.000000000000004 to avoid discontinuity\n",
      "Jumping from 27.9999999999 to 28.000000000000004 to avoid discontinuity\n",
      "Jumping from 29.9999999999 to 30.000000000000004 to avoid discontinuity\n",
      "Jumping from 34.9999999999 to 35.00000000000001 to avoid discontinuity\n",
      "Jumping from 35.9999999999 to 36.00000000000001 to avoid discontinuity\n",
      "Jumping from 37.9999999999 to 38.00000000000001 to avoid discontinuity\n",
      "Jumping from 0.9999999999 to 1.0000000000000002 to avoid discontinuity\n",
      "Jumping from 2.9999999999 to 3.0000000000000004 to avoid discontinuity\n",
      "Jumping from 3.9999999999 to 4.000000000000001 to avoid discontinuity\n",
      "Jumping from 6.9999999999 to 7.000000000000001 to avoid discontinuity\n",
      "Jumping from 7.9999999999 to 8.000000000000002 to avoid discontinuity\n",
      "Jumping from 8.9999999999 to 9.000000000000002 to avoid discontinuity\n",
      "Jumping from 10.9999999999 to 11.000000000000002 to avoid discontinuity\n",
      "Jumping from 11.9999999999 to 12.000000000000002 to avoid discontinuity\n",
      "Jumping from 13.9999999999 to 14.000000000000002 to avoid discontinuity\n",
      "Jumping from 16.9999999999 to 17.000000000000004 to avoid discontinuity\n",
      "Jumping from 17.9999999999 to 18.000000000000004 to avoid discontinuity\n",
      "Jumping from 18.9999999999 to 19.000000000000004 to avoid discontinuity\n",
      "Jumping from 19.9999999999 to 20.000000000000004 to avoid discontinuity\n",
      "Jumping from 21.9999999999 to 22.000000000000004 to avoid discontinuity\n",
      "Jumping from 22.9999999999 to 23.000000000000004 to avoid discontinuity\n",
      "Jumping from 23.9999999999 to 24.000000000000004 to avoid discontinuity\n",
      "Jumping from 24.9999999999 to 25.000000000000004 to avoid discontinuity\n",
      "Jumping from 25.9999999999 to 26.000000000000004 to avoid discontinuity\n",
      "Jumping from 27.9999999999 to 28.000000000000004 to avoid discontinuity\n",
      "Jumping from 29.9999999999 to 30.000000000000004 to avoid discontinuity\n",
      "Jumping from 34.9999999999 to 35.00000000000001 to avoid discontinuity\n",
      "Jumping from 35.9999999999 to 36.00000000000001 to avoid discontinuity\n",
      "Jumping from 37.9999999999 to 38.00000000000001 to avoid discontinuity\n",
      "3.54 s ± 80 ms per loop (mean ± std. dev. of 7 runs, 1 loop each)\n"
     ]
    }
   ],
   "source": [
    "%%timeit\n",
    "rng = np.random.default_rng()\n",
    "\n",
    "extra_discontinuities = list(np.linspace(0.0,40.0,400))\n",
    "extra_discontinuities = []\n",
    "\n",
    "y0 = np.zeros(len(all_species))\n",
    "y0[model.species_index[x]] = L/dx/R00\n",
    "y0[model.species_index[ys[0]]] = fa*(1-1/R00)*L/dy\n",
    "y0[model.species_index[zs[0]]] = y0[model.species_index[ys[0]]]*g/(a+dz)\n",
    "result = hybrid.forward_time(\n",
    "    y0,\n",
    "    [0, 40.0],\n",
    "    lambda p: hybrid.partition_by_threshold(p, 100),\n",
    "    model.k,\n",
    "    model.stoichiometry(),\n",
    "    model.rate_involvement(),\n",
    "    rng,\n",
    "    discontinuities=np.sort(np.array(list(dose_t)+extra_discontinuities))\n",
    ")\n",
    "result"
   ]
  },
  {
   "cell_type": "code",
   "execution_count": 23,
   "id": "0edd7da7-f72e-4c0c-a8ad-f5c7b1eade41",
   "metadata": {},
   "outputs": [
    {
     "ename": "NameError",
     "evalue": "name 'y0' is not defined",
     "output_type": "error",
     "traceback": [
      "\u001b[0;31m---------------------------------------------------------------------------\u001b[0m",
      "\u001b[0;31mNameError\u001b[0m                                 Traceback (most recent call last)",
      "Cell \u001b[0;32mIn[23], line 1\u001b[0m\n\u001b[0;32m----> 1\u001b[0m prop \u001b[38;5;241m=\u001b[39m hybrid\u001b[38;5;241m.\u001b[39mcalculate_propensities(\u001b[43my0\u001b[49m, model\u001b[38;5;241m.\u001b[39mk(\u001b[38;5;241m0\u001b[39m), model\u001b[38;5;241m.\u001b[39mrate_involvement())\n\u001b[1;32m      2\u001b[0m y0_expanded \u001b[38;5;241m=\u001b[39m np\u001b[38;5;241m.\u001b[39mzeros(\u001b[38;5;28mlen\u001b[39m(y0)\u001b[38;5;241m+\u001b[39m\u001b[38;5;241m1\u001b[39m)\n\u001b[1;32m      3\u001b[0m y0_expanded[:\u001b[38;5;241m-\u001b[39m\u001b[38;5;241m1\u001b[39m] \u001b[38;5;241m=\u001b[39m y0\n",
      "\u001b[0;31mNameError\u001b[0m: name 'y0' is not defined"
     ]
    }
   ],
   "source": [
    "prop = hybrid.calculate_propensities(y0, model.k(0), model.rate_involvement())\n",
    "y0_expanded = np.zeros(len(y0)+1)\n",
    "y0_expanded[:-1] = y0\n",
    "hybrid.dydt(0, y0_expanded, model.k, model.stoichiometry(), model.rate_involvement(), hybrid.partition_by_threshold(prop, 0), 0)"
   ]
  },
  {
   "cell_type": "code",
   "execution_count": null,
   "id": "29811d71-56b0-4979-8617-ac83e1db9b5a",
   "metadata": {},
   "outputs": [],
   "source": [
    "model.species"
   ]
  },
  {
   "cell_type": "code",
   "execution_count": null,
   "id": "24d91ea9-1269-442b-abf9-a8a579795cb3",
   "metadata": {},
   "outputs": [],
   "source": [
    "scale_cd4_body=(Vpl*10**3)/(fbp*ftcell_pl)\n",
    "#scale_cd4_virus=kdv*2*1e3/fbp"
   ]
  },
  {
   "cell_type": "code",
   "execution_count": null,
   "id": "625e86cc-d31f-4bcf-885f-772a373b593a",
   "metadata": {},
   "outputs": [],
   "source": [
    "mnames = list(np.asarray(eng.eval('mparams.Properties.RowNames')))\n",
    "\n",
    "import matplotlib.pyplot as plt\n",
    "plt.figure()\n",
    "plt.plot(result.t_history, result.y_history[0].T/scale_cd4_body, label='x')\n",
    "plt.yscale('linear')\n",
    "plt.ylabel('uninfected CD4 cells (cells/uL)')\n",
    "plt.xlabel('t')\n",
    "plt.legend()\n",
    "plt.ylim([0, 1025])\n",
    "\n",
    "plt.figure()\n",
    "plt.plot(result.t_history, result.y_history[1:1+len(ys)].T/scale_cd4_body, label=['wildtype']+mnames)\n",
    "plt.yscale('log')\n",
    "plt.ylabel('infected cells (cells/uL)')\n",
    "plt.xlabel('t')\n",
    "plt.legend()\n",
    "plt.ylim([1e-9, 1e3])\n",
    "\n",
    "plt.figure()\n",
    "plt.plot(result.t_history, result.y_history[model.species.index(vs[0]):model.species.index(vs[-1])+1].T/Vpl/1000, label=['wildtype']+mnames)\n",
    "plt.yscale('log')\n",
    "plt.ylabel('virions (copies/mL plasma)')\n",
    "plt.xlabel('t')\n",
    "plt.legend()\n",
    "plt.ylim([1e-3, 1e7])\n",
    "\n",
    "plt.figure()\n",
    "plt.plot(t_vec, beta_t*R00/beta, label=['wildtype']+mnames)\n",
    "plt.legend()\n",
    "plt.ylabel('R_u')\n",
    "plt.xlabel('t')\n",
    "plt.yscale('linear')\n",
    "\n",
    "plt.figure()\n",
    "plt.plot(result.t_history, result.y_history[model.species.index(zs[0]):model.species.index(zs[-1])+1].T*(10**6)/(L/dx), label=['wildtype']+mnames)\n",
    "plt.yscale('log')\n",
    "plt.ylabel('LR size(per 10^6 baseline CD4)')\n",
    "plt.xlabel('t')\n",
    "plt.legend()\n",
    "plt.ylim([1e-7, 10e2])"
   ]
  },
  {
   "cell_type": "code",
   "execution_count": null,
   "id": "eb77542e-0074-4fad-b506-746d5f67e222",
   "metadata": {},
   "outputs": [],
   "source": [
    "result.y_history[model.species.index(zs[0]):model.species.index(zs[-1])+1][:,-1]/(10**6)/(L/dx)"
   ]
  },
  {
   "cell_type": "code",
   "execution_count": null,
   "id": "9e0d056d-525f-422f-8c15-ff05a0066710",
   "metadata": {},
   "outputs": [],
   "source": [
    "y0.shape"
   ]
  },
  {
   "cell_type": "code",
   "execution_count": null,
   "id": "cc4fd8ee-350b-41a4-a9b2-aa5e03fefccc",
   "metadata": {},
   "outputs": [],
   "source": [
    "model.stoichiometry().shape"
   ]
  },
  {
   "cell_type": "code",
   "execution_count": null,
   "id": "e47d3a22-4307-46cc-88cc-169ce51ae775",
   "metadata": {},
   "outputs": [],
   "source": []
  }
 ],
 "metadata": {
  "kernelspec": {
   "display_name": "Python 3 (ipykernel)",
   "language": "python",
   "name": "python3"
  },
  "language_info": {
   "codemirror_mode": {
    "name": "ipython",
    "version": 3
   },
   "file_extension": ".py",
   "mimetype": "text/x-python",
   "name": "python",
   "nbconvert_exporter": "python",
   "pygments_lexer": "ipython3",
   "version": "3.9.8"
  }
 },
 "nbformat": 4,
 "nbformat_minor": 5
}
