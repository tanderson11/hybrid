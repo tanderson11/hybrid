{
 "cells": [
  {
   "cell_type": "code",
   "execution_count": 1,
   "id": "5675700c-c422-4ba8-b199-8a0bfbe1c772",
   "metadata": {},
   "outputs": [],
   "source": [
    "import matlab.engine\n",
    "import numpy as np\n",
    "import scipy.optimize"
   ]
  },
  {
   "cell_type": "markdown",
   "id": "1c6f560a-0742-42f2-b440-db5f25398dcf",
   "metadata": {},
   "source": [
    "# Trial and pd parameters"
   ]
  },
  {
   "cell_type": "code",
   "execution_count": 2,
   "id": "6079bca2-965a-4f9c-aae6-c4fac02eab65",
   "metadata": {},
   "outputs": [],
   "source": [
    "# trial and adherence information\n",
    "drug = \"ATV/r\"\n",
    "\n",
    "days = np.double(40) #days to run trial for\n",
    "increment = 0.01 # days between each timepoint returned\n",
    "prob_adh = 0.5 if drug != 'TEST' else 0. # probability of taking each pill (independent)\n",
    "adh_pat = 0 # 0 = random prob for each dose, 1 = random prob each day after missed dose\n",
    "adh_shuff = np.double(0.) # standard deviation in the time of taking a pill vs scheduled (days)\n",
    "trial_type = 1 # 1 = suppression trial, 0=maintenance trial\n",
    "burnin = 7*5 # days before interval sampling begins in maintenance trials\n",
    "sampling_int = 28 # days between each sampling time in maintenance trials\n",
    "threshold = 200 # threshold viral load above which failure is declared\n",
    "mut_frac = 0.2 # threshold fraction of population of mutant above which declared failure via resistance"
   ]
  },
  {
   "cell_type": "markdown",
   "id": "592ef267-fc11-4998-81ed-6ad823f54d1e",
   "metadata": {},
   "source": [
    "## Use existing matlab scripts to calculate concentration(t)"
   ]
  },
  {
   "cell_type": "code",
   "execution_count": 3,
   "id": "c498d0f9-a740-4c97-91f7-fed80bd50f98",
   "metadata": {},
   "outputs": [],
   "source": [
    "eng = matlab.engine.start_matlab()\n",
    "eng.cd(r'~/develop/withinhostHIV/MatlabCode/', nargout=0)\n",
    "eng.eval(\"addpath('Parameters','Utilities')\", nargout=0)"
   ]
  },
  {
   "cell_type": "code",
   "execution_count": 4,
   "id": "37b6125f-fda7-4852-a824-713f6640cb0d",
   "metadata": {},
   "outputs": [],
   "source": [
    "eng.workspace[\"drug\"] = drug\n",
    "trial, pd = eng.trial_setup(eng.eval(\"drug\"), days, increment, prob_adh, adh_pat, adh_shuff, trial_type, burnin, sampling_int, threshold, mut_frac, nargout=2)\n",
    "eng.workspace[\"trial\"] = trial\n",
    "eng.workspace[\"pd\"] = pd"
   ]
  },
  {
   "cell_type": "code",
   "execution_count": 5,
   "id": "a0e8428c-ca25-447c-a545-43a662082f6b",
   "metadata": {},
   "outputs": [],
   "source": [
    "dose_t, _ = eng.adh_trajectory(eng.eval(\"pd.num_doses\"), trial, nargout=2)"
   ]
  },
  {
   "cell_type": "code",
   "execution_count": 6,
   "id": "88334de5-4741-4520-9ce0-e77f5c9c2840",
   "metadata": {},
   "outputs": [],
   "source": [
    "c_vec,inhib_vec = eng.drug_trajectory(pd, trial, dose_t, nargout=2)"
   ]
  },
  {
   "cell_type": "markdown",
   "id": "32a12d00-8116-4bbc-ac2b-d681138c3eb9",
   "metadata": {},
   "source": [
    "## Use existing matlab scripts to calculate mutation matrix Q"
   ]
  },
  {
   "cell_type": "code",
   "execution_count": 7,
   "id": "e3272a44-5d7d-404b-ab2c-36bf768b303e",
   "metadata": {},
   "outputs": [],
   "source": [
    "smin=0.05; #highest mutant fitness\n",
    "smax=0.9; #lowest mutant fitness\n",
    "smiss=0.05; #fitness of strains with missing cost\n",
    "rfmiss=1; #fold change in resistance for strains with it missing\n",
    "mfmiss=0; #fractional change in slope for strains with it missing\n",
    "back_mutation_on = drug != 'TEST' #include(1) or exclude(0) back mutation\n",
    "direct_multi_hit = drug != 'TEST' #include(1) or exclude(0) direct multi-hit mutations from WT\n",
    "direct_multi_multi = drug != 'TEST' #include(1) or exclude(0) direct multi-hit mutations from one res strain to another"
   ]
  },
  {
   "cell_type": "code",
   "execution_count": 8,
   "id": "65178ab6-b5e6-48cf-9406-36ac4e2da4b5",
   "metadata": {},
   "outputs": [],
   "source": [
    "mparams,Q = eng.getMutInfo(drug,smin,smax,smiss,rfmiss,mfmiss,back_mutation_on,direct_multi_hit,direct_multi_multi,nargout=2);\n",
    "eng.workspace[\"Q\"] = Q\n",
    "Q = eng.eval(\"Q{:,:};\") # get a matrix instead of a matlab table"
   ]
  },
  {
   "cell_type": "markdown",
   "id": "ddf60c79-0c9d-4d1b-a081-d95665a4355e",
   "metadata": {},
   "source": [
    "## Viral dynamics parameters"
   ]
  },
  {
   "cell_type": "code",
   "execution_count": 9,
   "id": "4051971b-ffec-4e21-9844-a67bb3f66412",
   "metadata": {},
   "outputs": [],
   "source": [
    "R00 = 10.0 # average number of new virions produced by infection with a single virion === average number of new infected cells produced by 1 infected cell\n",
    "fbp = 0.55 # fraction of blood that is plasma\n",
    "Vpl = 3*10e3 # volume of plasma in mL\n",
    "ftcell_pl = 0.02 # fraction of T cells that are circulating in blood (vs in lymph system)\n",
    "hl_lr = 44*30.5 # half life of decay of latent reservoir, days\n",
    "A = 100 # total reactivation of latent cells per day\n",
    "flr = 1e-6# fraction of CD4 T cells that are latently infected at equilibrium\n",
    "\n",
    "scale_cd4_body = (Vpl*10**3)/(fbp*ftcell_pl) # factor to go from T cell per ul blood to whole body\n",
    "\n",
    "fa = 0.01 # fraction of infected CD4 cells that support productive vs abortive infection\n",
    "dx = 0.05 # death rate of uninfected cells (per day) and by assumption dx == d, rate of death without viral cytolytic effects\n",
    "L = scale_cd4_body*1000*dx # uninfected cells produced per day (/ul)\n",
    "a = A/(flr*L/dx) # rate of exit of latent cells (per day)\n",
    "dz = np.log(2)/(hl_lr)-a # death rate of latently infected cells (per day)\n",
    "\n",
    "dy = 1 # TOTAL death rate of infected cells (per day) (=death due to burst (k) + death without viral cytolytic effects)\n",
    "k = dy-dx # rate of death+emission of a burst of virions (per day)\n",
    "N = 2.38e5\n",
    "assert(N > R00)\n",
    "\n",
    "# probability of a single virion establishing infection, solved implicitly\n",
    "p_est_solution = scipy.optimize.least_squares(lambda p_est: R00*(1-(1-p_est)**N) - N*p_est, 0.1)\n",
    "assert(p_est_solution.success)\n",
    "p_est = p_est_solution.x\n",
    "\n",
    "dv = 25 # TOTAL death rate of virions (per day)\n",
    "beta = R00 * dy * dv * dx / (k * N * fa * L) # infectivity rate (per day*infectious-target cell pair)\n",
    "c = dv-beta*L/dx # clearance rate of virions (per day);\n",
    "assert(c > 0)\n",
    "g = flr*dy/dx*(a+dz)/(fa*(1-1/R00)) # fraction of new infections that become latent"
   ]
  },
  {
   "cell_type": "code",
   "execution_count": 10,
   "id": "299ae2bd-4560-420f-9068-d7649069696f",
   "metadata": {},
   "outputs": [],
   "source": [
    "# Access matlab parameters\n",
    "eng.workspace[\"mparams\"] = mparams\n",
    "IC50 = eng.eval('pd.IC50')\n",
    "m = eng.eval('pd.m')\n",
    "cost = eng.eval('mparams.cost')\n",
    "rf = eng.eval('mparams.rf')\n",
    "mf = eng.eval('mparams.mf')\n",
    "msb = np.asarray(eng.eval(\"mparams.msb\"))\n",
    "t_vec = eng.eval('(0:trial.increment:trial.days);')\n"
   ]
  },
  {
   "cell_type": "markdown",
   "id": "031eef2d-5b82-402d-a878-09dbcd846535",
   "metadata": {},
   "source": [
    "## Check beta(t) (from matlab) against beta(t) (from python)"
   ]
  },
  {
   "cell_type": "code",
   "execution_count": 11,
   "id": "b7345288-5811-483e-90ff-f8e4cb8c5251",
   "metadata": {},
   "outputs": [],
   "source": [
    "_beta_t, _beta_u_t = eng.calculate_beta_of_t(t_vec, beta, c_vec, IC50, m, cost, rf, mf, eng.eval('height(mparams)'), nargout=2)"
   ]
  },
  {
   "cell_type": "code",
   "execution_count": 12,
   "id": "2153e0fa-56b6-4c3a-a272-ceba01723136",
   "metadata": {},
   "outputs": [],
   "source": [
    "from numba import jit\n",
    "\n",
    "@jit(nopython=True)\n",
    "def calculate_beta_t(beta_0, concentration, IC50, m, cost, rf, mf):\n",
    "    # B/[cost * (1 + concentration)/(IC50*rf)^(m*(1+mf))]\n",
    "    B = beta_0\n",
    "    denominator = cost * (1 + (concentration/(IC50*rf))**(m*(1+mf)))\n",
    "    return B/denominator\n",
    "\n",
    "\n",
    "# make sure we didn't mess up our function definition\n",
    "assert(np.allclose(calculate_beta_t(beta, np.asarray(c_vec), IC50, m, np.asarray(cost).T, np.asarray(rf).T, np.asarray(mf).T), np.asarray(_beta_u_t)))\n",
    "assert(np.allclose(calculate_beta_t(beta, np.asarray(c_vec), IC50, m, 1, 1, 1), np.asarray(_beta_t)))\n",
    "\n",
    "beta_u_t = calculate_beta_t(beta, np.asarray(c_vec), IC50, m, np.asarray(cost).T, np.asarray(rf).T, np.asarray(mf).T)\n",
    "beta_t   = calculate_beta_t(beta, np.asarray(c_vec), IC50, m, 1, 1, 1)\n",
    "\n",
    "beta_t = np.concatenate([beta_t, beta_u_t], axis=1)\n",
    "t_vec = np.asarray(t_vec).squeeze()\n",
    "dose_t = np.asarray(dose_t).T.squeeze()"
   ]
  },
  {
   "cell_type": "code",
   "execution_count": 13,
   "id": "7d83898d",
   "metadata": {},
   "outputs": [
    {
     "data": {
      "text/plain": [
       "array([[5.72353685e-29, 1.80640339e-19, 3.44853164e-20, 1.34826435e-18],\n",
       "       [6.42910440e-29, 1.87704557e-19, 3.58339359e-20, 1.40343211e-18],\n",
       "       [7.22165060e-29, 1.95045026e-19, 3.72352957e-20, 1.46085702e-18],\n",
       "       ...,\n",
       "       [5.04088889e-19, 3.34240624e-16, 6.53918872e-17, 3.03318773e-15],\n",
       "       [5.66229450e-19, 3.46864531e-16, 6.79253626e-17, 3.13599429e-15],\n",
       "       [6.36030146e-19, 3.59947719e-16, 7.05560340e-17, 3.24154368e-15]])"
      ]
     },
     "execution_count": 13,
     "metadata": {},
     "output_type": "execute_result"
    }
   ],
   "source": [
    "beta_t"
   ]
  },
  {
   "cell_type": "code",
   "execution_count": 14,
   "id": "79c80beb-1691-49a6-bf1d-09641ae3a3b0",
   "metadata": {},
   "outputs": [],
   "source": [
    "sampled_concentration = np.asarray(c_vec)\n",
    "\n",
    "increment = eng.eval('trial.increment')\n",
    "\n",
    "# closed around parameters\n",
    "# pulls the nearest beta pre-calculated to the left of the current time\n",
    "@jit(nopython=True)\n",
    "def discrete_beta_of_t(t):\n",
    "    # last time where beta was precalculated *before* t\n",
    "    # specifically want *before* t so that we don't look ahead while integrating past a discontinuity\n",
    "    t_discrete = int(np.floor(t/increment))\n",
    "    return beta_t[t_discrete]\n",
    "\n",
    "Q = np.asarray(Q)\n",
    "@jit(nopython=True)\n",
    "def force_of_infection(t):\n",
    "    beta = discrete_beta_of_t(t)\n",
    "    # calculate force of infection and flatten in row major order, which will make the matrix\n",
    "    # read correctly in our 1-dimensional vector of rates\n",
    "\n",
    "    # **NOTE* we moved FA to the stoichiometry matrix, otherwise it would be a factor below!\n",
    "    return (np.expand_dims(beta,1) * Q).flatten()"
   ]
  },
  {
   "cell_type": "markdown",
   "id": "24d8ea42-ded0-4c79-b1b4-fb0afa790a19",
   "metadata": {},
   "source": [
    "TODO: triple check to make sure this is the right orientation of beta_i relative to Q"
   ]
  },
  {
   "cell_type": "code",
   "execution_count": 15,
   "id": "d7cd11fc-a65e-4ec6-bf8a-de555307008d",
   "metadata": {},
   "outputs": [
    {
     "data": {
      "text/plain": [
       "array([[1.00000000e+00, 9.31401597e-07, 1.15302567e-05, 1.15302033e-05],\n",
       "       [6.38285140e-06, 1.00000000e+00, 7.35959154e-11, 7.35955744e-11],\n",
       "       [4.29936191e-05, 4.00443255e-11, 1.00000000e+00, 4.95725170e-10],\n",
       "       [2.62179380e-05, 2.44194294e-11, 3.02299557e-10, 1.00000000e+00]])"
      ]
     },
     "execution_count": 15,
     "metadata": {},
     "output_type": "execute_result"
    }
   ],
   "source": [
    "Q"
   ]
  },
  {
   "cell_type": "code",
   "execution_count": 16,
   "id": "44ab1749-62de-4dc1-8d24-234d6ed3bcbf",
   "metadata": {},
   "outputs": [
    {
     "name": "stdout",
     "output_type": "stream",
     "text": [
      "9.314015974243431e-07 6.382851399191302e-06 . Q[0,1] > Q[1,0]: False\n"
     ]
    }
   ],
   "source": [
    "print(Q[0,1], Q[1,0], \". Q[0,1] > Q[1,0]:\", Q[0,1] > Q[1,0])"
   ]
  },
  {
   "cell_type": "code",
   "execution_count": 17,
   "id": "e75cfdd5-d1f0-422e-b1a9-9434ae271b1b",
   "metadata": {},
   "outputs": [
    {
     "name": "stdout",
     "output_type": "stream",
     "text": [
      "False\n",
      "False\n",
      "False\n",
      "False\n",
      "False\n",
      "True\n",
      "True\n",
      "False\n",
      "True\n",
      "False\n"
     ]
    }
   ],
   "source": [
    "row_i, col_i = np.triu_indices_from(Q)\n",
    "for i,j in zip(list(row_i), list(col_i)):\n",
    "    print(Q[i,j] > Q[j,i])"
   ]
  },
  {
   "cell_type": "code",
   "execution_count": 18,
   "id": "e4b3f77b-ed95-4cc3-bdee-98563de5dc29",
   "metadata": {},
   "outputs": [
    {
     "data": {
      "text/plain": [
       "array([[5.72353685e-29],\n",
       "       [1.80640339e-19],\n",
       "       [3.44853164e-20],\n",
       "       [1.34826435e-18]])"
      ]
     },
     "execution_count": 18,
     "metadata": {},
     "output_type": "execute_result"
    }
   ],
   "source": [
    "np.expand_dims(beta_t[0],1)"
   ]
  },
  {
   "cell_type": "markdown",
   "id": "63614fb1-fd62-4f0a-ab6d-17e9c3bf338e",
   "metadata": {},
   "source": [
    "# Define model"
   ]
  },
  {
   "cell_type": "code",
   "execution_count": 19,
   "id": "6b17d2e1-2b8c-4954-982c-c9b5a5d4ecc4",
   "metadata": {},
   "outputs": [
    {
     "data": {
      "text/plain": [
       "4"
      ]
     },
     "execution_count": 19,
     "metadata": {},
     "output_type": "execute_result"
    }
   ],
   "source": [
    "import reactionmodel.model as reactionmodel\n",
    "from importlib import reload\n",
    "reload(reactionmodel)\n",
    "num_strains = beta_t.shape[1]\n",
    "num_strains"
   ]
  },
  {
   "cell_type": "code",
   "execution_count": 20,
   "id": "e79d2e57-4b9f-43dd-a8c1-a21efdfdc0c3",
   "metadata": {},
   "outputs": [],
   "source": [
    "ys = [reactionmodel.Species(f'infected cells strain {i}', f'y{i}') for i in range(num_strains)]\n",
    "zs = [reactionmodel.Species(f'latent cells strain {i}', f'z{i}') for i in range(num_strains)]\n",
    "vs = [reactionmodel.Species(f'viruses strain {i}', f'v{i}') for i in range(num_strains)]\n",
    "x = reactionmodel.Species(\"target cells\", \"x\")\n",
    "all_species = [x] + ys + vs + zs"
   ]
  },
  {
   "cell_type": "code",
   "execution_count": 21,
   "id": "79af04a2-9398-4114-b112-29193bd0ce5c",
   "metadata": {},
   "outputs": [],
   "source": [
    "target_cell_birth = reactionmodel.Reaction([], [x], description=\"target cell birth\", k=L)\n",
    "target_cell_death = reactionmodel.Reaction([x], [], description=\"target cell death\", k=dx)\n",
    "infected_death = [reactionmodel.Reaction([ys[i]], [], description=f\"death of infected cell strain {i}\", k=(dy-k)) for i in range(num_strains)]\n",
    "infected_cell_burst = [reactionmodel.Reaction([ys[i]], [(vs[i], N)], description=f\"burst of infected cell strain {i}\", k=k) for i in range(num_strains)]\n",
    "into_latency = [reactionmodel.Reaction([ys[i]], [zs[i]], description=f\"strain {i} --> latency\", k=g) for i in range(num_strains)]\n",
    "out_of_latency = [reactionmodel.Reaction([zs[i]], [ys[i]], description=f\"latent --> strain {i}\", k=a) for i in range(num_strains)]\n",
    "death_of_latent = [reactionmodel.Reaction([zs[i]], [], description=f\"latent {i} death\", k=dz) for i in range(num_strains)]\n",
    "viral_clearance = [reactionmodel.Reaction([vs[i]], [], description=f\"clearance of strain {i} virion\", k=c) for i in range(num_strains)]\n",
    "\n",
    "infections = []\n",
    "for i in range(num_strains):\n",
    "    for j in range(num_strains):\n",
    "        infections.append(reactionmodel.Reaction([x, vs[i]], [(ys[j], fa)], description=f\"infection of x by {i}->{j}\"))\n",
    "infection_family = reactionmodel.ReactionRateFamily(infections, k=force_of_infection)\n",
    "\n",
    "all_reactions = [target_cell_birth, target_cell_death] + infected_death + infected_cell_burst + into_latency + out_of_latency + death_of_latent + viral_clearance + [infection_family]\n"
   ]
  },
  {
   "cell_type": "code",
   "execution_count": 22,
   "id": "fa33ee69",
   "metadata": {},
   "outputs": [],
   "source": [
    "for r in all_reactions:\n",
    "    if isinstance(r, list):\n",
    "        print(r)"
   ]
  },
  {
   "cell_type": "code",
   "execution_count": 23,
   "id": "b4c01b7f",
   "metadata": {},
   "outputs": [
    {
     "data": {
      "text/plain": [
       "True"
      ]
     },
     "execution_count": 23,
     "metadata": {},
     "output_type": "execute_result"
    }
   ],
   "source": [
    "from types import FunctionType as function\n",
    "from numba.core.registry import CPUDispatcher\n",
    "isinstance(all_reactions[-1].k, CPUDispatcher)"
   ]
  },
  {
   "cell_type": "code",
   "execution_count": 24,
   "id": "20336e03-3047-4244-bd4c-637d034bd9d1",
   "metadata": {},
   "outputs": [],
   "source": [
    "model = reactionmodel.Model(all_species, all_reactions)"
   ]
  },
  {
   "cell_type": "code",
   "execution_count": 25,
   "id": "b22e0315",
   "metadata": {},
   "outputs": [
    {
     "name": "stdout",
     "output_type": "stream",
     "text": [
      "Reaction(description=target cell birth, reactants=(), products=(Species(name='target cells', description='x'),), kinetic_order=(), k=136363636363.63635)\n",
      "Reaction(description=target cell death, reactants=(Species(name='target cells', description='x'),), products=(), kinetic_order=(Species(name='target cells', description='x'),), k=0.05)\n",
      "Reaction(description=death of infected cell strain 0, reactants=(Species(name='infected cells strain 0', description='y0'),), products=(), kinetic_order=(Species(name='infected cells strain 0', description='y0'),), k=0.050000000000000044)\n",
      "Reaction(description=death of infected cell strain 1, reactants=(Species(name='infected cells strain 1', description='y1'),), products=(), kinetic_order=(Species(name='infected cells strain 1', description='y1'),), k=0.050000000000000044)\n",
      "Reaction(description=death of infected cell strain 2, reactants=(Species(name='infected cells strain 2', description='y2'),), products=(), kinetic_order=(Species(name='infected cells strain 2', description='y2'),), k=0.050000000000000044)\n",
      "Reaction(description=death of infected cell strain 3, reactants=(Species(name='infected cells strain 3', description='y3'),), products=(), kinetic_order=(Species(name='infected cells strain 3', description='y3'),), k=0.050000000000000044)\n",
      "Reaction(description=burst of infected cell strain 0, reactants=(Species(name='infected cells strain 0', description='y0'),), products=((Species(name='viruses strain 0', description='v0'), 238000.0),), kinetic_order=(Species(name='infected cells strain 0', description='y0'),), k=0.95)\n",
      "Reaction(description=burst of infected cell strain 1, reactants=(Species(name='infected cells strain 1', description='y1'),), products=((Species(name='viruses strain 1', description='v1'), 238000.0),), kinetic_order=(Species(name='infected cells strain 1', description='y1'),), k=0.95)\n",
      "Reaction(description=burst of infected cell strain 2, reactants=(Species(name='infected cells strain 2', description='y2'),), products=((Species(name='viruses strain 2', description='v2'), 238000.0),), kinetic_order=(Species(name='infected cells strain 2', description='y2'),), k=0.95)\n",
      "Reaction(description=burst of infected cell strain 3, reactants=(Species(name='infected cells strain 3', description='y3'),), products=((Species(name='viruses strain 3', description='v3'), 238000.0),), kinetic_order=(Species(name='infected cells strain 3', description='y3'),), k=0.95)\n",
      "Reaction(description=strain 0 --> latency, reactants=(Species(name='infected cells strain 0', description='y0'),), products=(Species(name='latent cells strain 0', description='z0'),), kinetic_order=(Species(name='infected cells strain 0', description='y0'),), k=1.1477847003807667e-06)\n",
      "Reaction(description=strain 1 --> latency, reactants=(Species(name='infected cells strain 1', description='y1'),), products=(Species(name='latent cells strain 1', description='z1'),), kinetic_order=(Species(name='infected cells strain 1', description='y1'),), k=1.1477847003807667e-06)\n",
      "Reaction(description=strain 2 --> latency, reactants=(Species(name='infected cells strain 2', description='y2'),), products=(Species(name='latent cells strain 2', description='z2'),), kinetic_order=(Species(name='infected cells strain 2', description='y2'),), k=1.1477847003807667e-06)\n",
      "Reaction(description=strain 3 --> latency, reactants=(Species(name='infected cells strain 3', description='y3'),), products=(Species(name='latent cells strain 3', description='z3'),), kinetic_order=(Species(name='infected cells strain 3', description='y3'),), k=1.1477847003807667e-06)\n",
      "Reaction(description=latent --> strain 0, reactants=(Species(name='latent cells strain 0', description='z0'),), products=(Species(name='infected cells strain 0', description='y0'),), kinetic_order=(Species(name='latent cells strain 0', description='z0'),), k=3.666666666666667e-05)\n",
      "Reaction(description=latent --> strain 1, reactants=(Species(name='latent cells strain 1', description='z1'),), products=(Species(name='infected cells strain 1', description='y1'),), kinetic_order=(Species(name='latent cells strain 1', description='z1'),), k=3.666666666666667e-05)\n",
      "Reaction(description=latent --> strain 2, reactants=(Species(name='latent cells strain 2', description='z2'),), products=(Species(name='infected cells strain 2', description='y2'),), kinetic_order=(Species(name='latent cells strain 2', description='z2'),), k=3.666666666666667e-05)\n",
      "Reaction(description=latent --> strain 3, reactants=(Species(name='latent cells strain 3', description='z3'),), products=(Species(name='infected cells strain 3', description='y3'),), kinetic_order=(Species(name='latent cells strain 3', description='z3'),), k=3.666666666666667e-05)\n",
      "Reaction(description=latent 0 death, reactants=(Species(name='latent cells strain 0', description='z0'),), products=(), kinetic_order=(Species(name='latent cells strain 0', description='z0'),), k=0.0004798364485046785)\n",
      "Reaction(description=latent 1 death, reactants=(Species(name='latent cells strain 1', description='z1'),), products=(), kinetic_order=(Species(name='latent cells strain 1', description='z1'),), k=0.0004798364485046785)\n",
      "Reaction(description=latent 2 death, reactants=(Species(name='latent cells strain 2', description='z2'),), products=(), kinetic_order=(Species(name='latent cells strain 2', description='z2'),), k=0.0004798364485046785)\n",
      "Reaction(description=latent 3 death, reactants=(Species(name='latent cells strain 3', description='z3'),), products=(), kinetic_order=(Species(name='latent cells strain 3', description='z3'),), k=0.0004798364485046785)\n",
      "Reaction(description=clearance of strain 0 virion, reactants=(Species(name='viruses strain 0', description='v0'),), products=(), kinetic_order=(Species(name='viruses strain 0', description='v0'),), k=24.889429455992925)\n",
      "Reaction(description=clearance of strain 1 virion, reactants=(Species(name='viruses strain 1', description='v1'),), products=(), kinetic_order=(Species(name='viruses strain 1', description='v1'),), k=24.889429455992925)\n",
      "Reaction(description=clearance of strain 2 virion, reactants=(Species(name='viruses strain 2', description='v2'),), products=(), kinetic_order=(Species(name='viruses strain 2', description='v2'),), k=24.889429455992925)\n",
      "Reaction(description=clearance of strain 3 virion, reactants=(Species(name='viruses strain 3', description='v3'),), products=(), kinetic_order=(Species(name='viruses strain 3', description='v3'),), k=24.889429455992925)\n",
      "Reaction(description=infection of x by 0->0, reactants=(Species(name='target cells', description='x'), Species(name='viruses strain 0', description='v0')), products=((Species(name='infected cells strain 0', description='y0'), 0.01),), kinetic_order=(Species(name='target cells', description='x'), Species(name='viruses strain 0', description='v0')), k=None)\n",
      "Reaction(description=infection of x by 0->1, reactants=(Species(name='target cells', description='x'), Species(name='viruses strain 0', description='v0')), products=((Species(name='infected cells strain 1', description='y1'), 0.01),), kinetic_order=(Species(name='target cells', description='x'), Species(name='viruses strain 0', description='v0')), k=None)\n",
      "Reaction(description=infection of x by 0->2, reactants=(Species(name='target cells', description='x'), Species(name='viruses strain 0', description='v0')), products=((Species(name='infected cells strain 2', description='y2'), 0.01),), kinetic_order=(Species(name='target cells', description='x'), Species(name='viruses strain 0', description='v0')), k=None)\n",
      "Reaction(description=infection of x by 0->3, reactants=(Species(name='target cells', description='x'), Species(name='viruses strain 0', description='v0')), products=((Species(name='infected cells strain 3', description='y3'), 0.01),), kinetic_order=(Species(name='target cells', description='x'), Species(name='viruses strain 0', description='v0')), k=None)\n",
      "Reaction(description=infection of x by 1->0, reactants=(Species(name='target cells', description='x'), Species(name='viruses strain 1', description='v1')), products=((Species(name='infected cells strain 0', description='y0'), 0.01),), kinetic_order=(Species(name='target cells', description='x'), Species(name='viruses strain 1', description='v1')), k=None)\n",
      "Reaction(description=infection of x by 1->1, reactants=(Species(name='target cells', description='x'), Species(name='viruses strain 1', description='v1')), products=((Species(name='infected cells strain 1', description='y1'), 0.01),), kinetic_order=(Species(name='target cells', description='x'), Species(name='viruses strain 1', description='v1')), k=None)\n",
      "Reaction(description=infection of x by 1->2, reactants=(Species(name='target cells', description='x'), Species(name='viruses strain 1', description='v1')), products=((Species(name='infected cells strain 2', description='y2'), 0.01),), kinetic_order=(Species(name='target cells', description='x'), Species(name='viruses strain 1', description='v1')), k=None)\n",
      "Reaction(description=infection of x by 1->3, reactants=(Species(name='target cells', description='x'), Species(name='viruses strain 1', description='v1')), products=((Species(name='infected cells strain 3', description='y3'), 0.01),), kinetic_order=(Species(name='target cells', description='x'), Species(name='viruses strain 1', description='v1')), k=None)\n",
      "Reaction(description=infection of x by 2->0, reactants=(Species(name='target cells', description='x'), Species(name='viruses strain 2', description='v2')), products=((Species(name='infected cells strain 0', description='y0'), 0.01),), kinetic_order=(Species(name='target cells', description='x'), Species(name='viruses strain 2', description='v2')), k=None)\n",
      "Reaction(description=infection of x by 2->1, reactants=(Species(name='target cells', description='x'), Species(name='viruses strain 2', description='v2')), products=((Species(name='infected cells strain 1', description='y1'), 0.01),), kinetic_order=(Species(name='target cells', description='x'), Species(name='viruses strain 2', description='v2')), k=None)\n",
      "Reaction(description=infection of x by 2->2, reactants=(Species(name='target cells', description='x'), Species(name='viruses strain 2', description='v2')), products=((Species(name='infected cells strain 2', description='y2'), 0.01),), kinetic_order=(Species(name='target cells', description='x'), Species(name='viruses strain 2', description='v2')), k=None)\n",
      "Reaction(description=infection of x by 2->3, reactants=(Species(name='target cells', description='x'), Species(name='viruses strain 2', description='v2')), products=((Species(name='infected cells strain 3', description='y3'), 0.01),), kinetic_order=(Species(name='target cells', description='x'), Species(name='viruses strain 2', description='v2')), k=None)\n",
      "Reaction(description=infection of x by 3->0, reactants=(Species(name='target cells', description='x'), Species(name='viruses strain 3', description='v3')), products=((Species(name='infected cells strain 0', description='y0'), 0.01),), kinetic_order=(Species(name='target cells', description='x'), Species(name='viruses strain 3', description='v3')), k=None)\n",
      "Reaction(description=infection of x by 3->1, reactants=(Species(name='target cells', description='x'), Species(name='viruses strain 3', description='v3')), products=((Species(name='infected cells strain 1', description='y1'), 0.01),), kinetic_order=(Species(name='target cells', description='x'), Species(name='viruses strain 3', description='v3')), k=None)\n",
      "Reaction(description=infection of x by 3->2, reactants=(Species(name='target cells', description='x'), Species(name='viruses strain 3', description='v3')), products=((Species(name='infected cells strain 2', description='y2'), 0.01),), kinetic_order=(Species(name='target cells', description='x'), Species(name='viruses strain 3', description='v3')), k=None)\n",
      "Reaction(description=infection of x by 3->3, reactants=(Species(name='target cells', description='x'), Species(name='viruses strain 3', description='v3')), products=((Species(name='infected cells strain 3', description='y3'), 0.01),), kinetic_order=(Species(name='target cells', description='x'), Species(name='viruses strain 3', description='v3')), k=None)\n"
     ]
    }
   ],
   "source": [
    "for reaction in model.all_reactions:\n",
    "    print(reaction)"
   ]
  },
  {
   "cell_type": "markdown",
   "id": "50fd49ef-72f3-4705-9614-cacd5ae5b91d",
   "metadata": {},
   "source": [
    "# Run forward simulation"
   ]
  },
  {
   "cell_type": "code",
   "execution_count": 26,
   "id": "258360e6-7460-4f70-839d-5f2e8c061e26",
   "metadata": {},
   "outputs": [],
   "source": [
    "from hybrid.hybrid import HybridSimulator, FixedThresholdPartitioner"
   ]
  },
  {
   "cell_type": "code",
   "execution_count": 27,
   "id": "8e5015a9",
   "metadata": {},
   "outputs": [
    {
     "data": {
      "text/plain": [
       "[Species(name='infected cells strain 0', description='y0'),\n",
       " Species(name='infected cells strain 1', description='y1'),\n",
       " Species(name='infected cells strain 2', description='y2'),\n",
       " Species(name='infected cells strain 3', description='y3')]"
      ]
     },
     "execution_count": 27,
     "metadata": {},
     "output_type": "execute_result"
    }
   ],
   "source": [
    "ys"
   ]
  },
  {
   "cell_type": "code",
   "execution_count": 28,
   "id": "3b14195b-be1e-4876-a9b5-6e18143b2f18",
   "metadata": {},
   "outputs": [],
   "source": [
    "extra_discontinuities = list(np.linspace(0.0,40.0,400))\n",
    "extra_discontinuities = []\n",
    "\n",
    "y0 = np.zeros(len(all_species))\n",
    "y0[model.species_index[x]] = L/dx/R00\n",
    "\n",
    "expanded_msb = np.squeeze(np.vstack([np.array([1]), msb]))\n",
    "y0[model.species_index[ys[0]] : model.species_index[ys[-1]] + 1] = fa*(1-1/R00)*L/dy * expanded_msb\n",
    "y0[model.species_index[zs[0]] : model.species_index[zs[-1]] + 1] = y0[model.species_index[ys[0]] : model.species_index[ys[-1]] + 1] * g/(a+dz)"
   ]
  },
  {
   "cell_type": "code",
   "execution_count": 29,
   "id": "7ec13c9f",
   "metadata": {},
   "outputs": [
    {
     "data": {
      "text/plain": [
       "array([2.72727273e+06, 3.38679202e+00, 3.83408502e+01, 5.72193503e+01])"
      ]
     },
     "execution_count": 29,
     "metadata": {},
     "output_type": "execute_result"
    }
   ],
   "source": [
    "y0[model.species_index[zs[0]] : model.species_index[zs[-1]] + 1]"
   ]
  },
  {
   "cell_type": "code",
   "execution_count": 30,
   "id": "7bfaaa23",
   "metadata": {},
   "outputs": [
    {
     "data": {
      "text/plain": [
       "2.098042843818336e-05"
      ]
     },
     "execution_count": 30,
     "metadata": {},
     "output_type": "execute_result"
    }
   ],
   "source": [
    "y0[model.species_index[zs[3]]] / (L/dx) * 1e6"
   ]
  },
  {
   "cell_type": "code",
   "execution_count": 31,
   "id": "d097f9da-a7ea-40b7-b49e-08dcfeb0b6eb",
   "metadata": {},
   "outputs": [],
   "source": [
    "%load_ext jupyterflame"
   ]
  },
  {
   "cell_type": "code",
   "execution_count": 32,
   "id": "2ba74674-7804-4dd3-9041-1f36f227db8d",
   "metadata": {},
   "outputs": [
    {
     "name": "stdout",
     "output_type": "stream",
     "text": [
      "Doing surgery to avoid discontinuity: skipping from 0.9999999999999999 to 1.0000000000000002\n",
      "Doing surgery to avoid discontinuity: skipping from 2.9999999999999996 to 3.0000000000000004\n",
      "Doing surgery to avoid discontinuity: skipping from 3.9999999999999996 to 4.000000000000001\n",
      "Stopping for partition change. t=5.946635933284243\n",
      "Stopping for partition change. t=6.013074778508054\n",
      "Stopping for partition change. t=6.1859492943542636\n",
      "Doing surgery to avoid discontinuity: skipping from 6.999999999999999 to 7.000000000000001\n",
      "Stopping for partition change. t=7.060734022651296\n",
      "Stopping for partition change. t=7.476550209728169\n",
      "Doing surgery to avoid discontinuity: skipping from 7.999999999999999 to 8.000000000000002\n",
      "Stopping for partition change. t=8.733147921976915\n",
      "Doing surgery to avoid discontinuity: skipping from 8.999999999999998 to 9.000000000000002\n",
      "Stopping for partition change. t=9.13701462459227\n",
      "Stopping for partition change. t=10.118265175077727\n",
      "Doing surgery to avoid discontinuity: skipping from 10.999999999999998 to 11.000000000000002\n",
      "Doing surgery to avoid discontinuity: skipping from 11.999999999999998 to 12.000000000000002\n",
      "Doing surgery to avoid discontinuity: skipping from 13.999999999999998 to 14.000000000000002\n",
      "Doing surgery to avoid discontinuity: skipping from 16.999999999999996 to 17.000000000000004\n",
      "Doing surgery to avoid discontinuity: skipping from 17.999999999999996 to 18.000000000000004\n",
      "Doing surgery to avoid discontinuity: skipping from 18.999999999999996 to 19.000000000000004\n",
      "Doing surgery to avoid discontinuity: skipping from 19.999999999999996 to 20.000000000000004\n",
      "Doing surgery to avoid discontinuity: skipping from 21.999999999999996 to 22.000000000000004\n",
      "Doing surgery to avoid discontinuity: skipping from 22.999999999999996 to 23.000000000000004\n",
      "Doing surgery to avoid discontinuity: skipping from 23.999999999999996 to 24.000000000000004\n",
      "Doing surgery to avoid discontinuity: skipping from 24.999999999999996 to 25.000000000000004\n",
      "Doing surgery to avoid discontinuity: skipping from 25.999999999999996 to 26.000000000000004\n",
      "Doing surgery to avoid discontinuity: skipping from 27.999999999999996 to 28.000000000000004\n",
      "Doing surgery to avoid discontinuity: skipping from 29.999999999999996 to 30.000000000000004\n",
      "Stopping for partition change. t=34.812029166437064\n",
      "Doing surgery to avoid discontinuity: skipping from 34.99999999999999 to 35.00000000000001\n",
      "Doing surgery to avoid discontinuity: skipping from 35.99999999999999 to 36.00000000000001\n",
      "Stopping for partition change. t=36.08082477755849\n",
      "Stopping for partition change. t=37.98828876150822\n",
      "Doing surgery to avoid discontinuity: skipping from 37.99999999999999 to 38.00000000000001\n",
      "Stopping for partition change. t=39.658287136095616\n",
      "Stopping for partition change. t=39.83835265280259\n",
      "Counter({<HybridStepStatus.stochastic_event: 1>: 18230, <HybridStepStatus.t_end_for_discontinuity: 2>: 23, <HybridStepStatus.partition_change: 3>: 13, <HybridStepStatus.t_end: 0>: 1})\n",
      "CPU times: user 12.4 s, sys: 130 ms, total: 12.5 s\n",
      "Wall time: 12.5 s\n"
     ]
    }
   ],
   "source": [
    "%%time\n",
    "\n",
    "# the adherence pattern and hence the R0s is being determined in matlab before any of this code runs,\n",
    "# so don't be scared if trajectories look almost identical with different seeds in python\n",
    "\n",
    "simulator = HybridSimulator(\n",
    "    model.get_k(jit=True),\n",
    "    model.stoichiometry(),\n",
    "    model.kinetic_order(),\n",
    "    FixedThresholdPartitioner(1000).partition_function,\n",
    "    discontinuities=np.sort(np.array(list(dose_t)+extra_discontinuities)),\n",
    "    jit=True\n",
    ")\n",
    "\n",
    "rng = np.random.default_rng(0)\n",
    "result = simulator.simulate([0, 40.0], y0, rng)\n",
    "\n",
    "print(result.status_counter)"
   ]
  },
  {
   "cell_type": "code",
   "execution_count": 33,
   "id": "f24643e5",
   "metadata": {},
   "outputs": [
    {
     "data": {
      "text/plain": [
       "(array([ 0.,  1.,  3.,  4.,  7.,  8.,  9., 11., 12., 14., 17., 18., 19.,\n",
       "        20., 22., 23., 24., 25., 26., 28., 30., 35., 36., 38.]),)"
      ]
     },
     "execution_count": 33,
     "metadata": {},
     "output_type": "execute_result"
    }
   ],
   "source": [
    "np.sort(np.array(list(dose_t)+extra_discontinuities)),"
   ]
  },
  {
   "cell_type": "code",
   "execution_count": 34,
   "id": "b8c46252",
   "metadata": {},
   "outputs": [
    {
     "name": "stdout",
     "output_type": "stream",
     "text": [
      "Doing surgery to avoid discontinuity: skipping from 0.9999999999999999 to 1.0000000000000002\n",
      "Doing surgery to avoid discontinuity: skipping from 2.9999999999999996 to 3.0000000000000004\n",
      "Doing surgery to avoid discontinuity: skipping from 3.9999999999999996 to 4.000000000000001\n",
      "Doing surgery to avoid discontinuity: skipping from 6.999999999999999 to 7.000000000000001\n",
      "Doing surgery to avoid discontinuity: skipping from 7.999999999999999 to 8.000000000000002\n",
      "Stopping for partition change. t=8.737421914435558\n",
      "Doing surgery to avoid discontinuity: skipping from 8.999999999999998 to 9.000000000000002\n",
      "Doing surgery to avoid discontinuity: skipping from 10.999999999999998 to 11.000000000000002\n",
      "Stopping for partition change. t=11.22385193269781\n",
      "Doing surgery to avoid discontinuity: skipping from 11.999999999999998 to 12.000000000000002\n",
      "Doing surgery to avoid discontinuity: skipping from 13.999999999999998 to 14.000000000000002\n",
      "Doing surgery to avoid discontinuity: skipping from 16.999999999999996 to 17.000000000000004\n",
      "Doing surgery to avoid discontinuity: skipping from 17.999999999999996 to 18.000000000000004\n",
      "Doing surgery to avoid discontinuity: skipping from 18.999999999999996 to 19.000000000000004\n",
      "Doing surgery to avoid discontinuity: skipping from 19.999999999999996 to 20.000000000000004\n",
      "Doing surgery to avoid discontinuity: skipping from 21.999999999999996 to 22.000000000000004\n",
      "Doing surgery to avoid discontinuity: skipping from 22.999999999999996 to 23.000000000000004\n",
      "Doing surgery to avoid discontinuity: skipping from 23.999999999999996 to 24.000000000000004\n",
      "Doing surgery to avoid discontinuity: skipping from 24.999999999999996 to 25.000000000000004\n",
      "Doing surgery to avoid discontinuity: skipping from 25.999999999999996 to 26.000000000000004\n",
      "Doing surgery to avoid discontinuity: skipping from 27.999999999999996 to 28.000000000000004\n",
      "Doing surgery to avoid discontinuity: skipping from 29.999999999999996 to 30.000000000000004\n",
      "Doing surgery to avoid discontinuity: skipping from 34.99999999999999 to 35.00000000000001\n",
      "Doing surgery to avoid discontinuity: skipping from 35.99999999999999 to 36.00000000000001\n",
      "Doing surgery to avoid discontinuity: skipping from 37.99999999999999 to 38.00000000000001\n",
      "Stopping for partition change. t=39.51178516484787\n",
      "Stopping for partition change. t=39.98216733586378\n",
      "Counter({<HybridStepStatus.stochastic_event: 1>: 18245, <HybridStepStatus.contrived_no_reaction: 4>: 49, <HybridStepStatus.t_end_for_discontinuity: 2>: 23, <HybridStepStatus.partition_change: 3>: 4, <HybridStepStatus.t_end: 0>: 1})\n",
      "CPU times: user 10.3 s, sys: 111 ms, total: 10.4 s\n",
      "Wall time: 10.4 s\n"
     ]
    }
   ],
   "source": [
    "%%time\n",
    "\n",
    "# the adherence pattern and hence the R0s is being determined in matlab before any of this code runs,\n",
    "# so don't be scared if trajectories look almost identical with different seeds in python\n",
    "\n",
    "simulator = HybridSimulator(\n",
    "    model.get_k(jit=True),\n",
    "    model.stoichiometry(),\n",
    "    model.kinetic_order(),\n",
    "    FixedThresholdPartitioner(1000).partition_function,\n",
    "    discontinuities=np.sort(np.array(list(dose_t)+extra_discontinuities)),\n",
    "    jit=True,\n",
    "    approximate_rtot=True,\n",
    "    contrived_no_reaction_rate=1.,\n",
    "    partition_fraction_for_halt=0.8\n",
    ")\n",
    "\n",
    "rng = np.random.default_rng(0)\n",
    "result = simulator.simulate([0, 40.0], y0, rng)\n",
    "\n",
    "print(result.status_counter)"
   ]
  },
  {
   "cell_type": "code",
   "execution_count": 35,
   "id": "1a65c3a0-1b7c-4f5c-a872-70bff00589ca",
   "metadata": {},
   "outputs": [
    {
     "data": {
      "text/plain": [
       "History(t=40.0, y=array([2.39356805e+12, 1.12778000e+05, 0.00000000e+00, 3.00000000e+00,\n",
       "       4.00000000e+00, 1.06734111e+09, 0.00000000e+00, 0.00000000e+00,\n",
       "       7.06950000e+04, 2.67298700e+06, 4.00000000e+00, 3.70000000e+01,\n",
       "       5.70000000e+01]), t_history=array([0.00000000e+00, 0.00000000e+00, 1.08109343e-17, ...,\n",
       "       3.99998263e+01, 3.99998758e+01, 4.00000000e+01]), y_history=array([[2.72727273e+11, 2.72727273e+11, 2.72727273e+11, ...,\n",
       "        2.39356515e+12, 2.39356597e+12, 2.39356805e+12],\n",
       "       [1.22727273e+09, 1.22727273e+09, 1.22727273e+09, ...,\n",
       "        1.12797441e+05, 1.12791854e+05, 1.12778000e+05],\n",
       "       [1.52405641e+03, 1.52405641e+03, 1.52405641e+03, ...,\n",
       "        0.00000000e+00, 0.00000000e+00, 0.00000000e+00],\n",
       "       ...,\n",
       "       [3.38679202e+00, 3.38679202e+00, 3.38679202e+00, ...,\n",
       "        4.00000000e+00, 4.00000000e+00, 4.00000000e+00],\n",
       "       [3.83408502e+01, 3.83408502e+01, 3.83408502e+01, ...,\n",
       "        3.70000000e+01, 3.70000000e+01, 3.70000000e+01],\n",
       "       [5.72193503e+01, 5.72193503e+01, 5.72193503e+01, ...,\n",
       "        5.70000000e+01, 5.70000000e+01, 5.70000000e+01]]), status_counter=Counter({<HybridStepStatus.stochastic_event: 1>: 18245, <HybridStepStatus.contrived_no_reaction: 4>: 49, <HybridStepStatus.t_end_for_discontinuity: 2>: 23, <HybridStepStatus.partition_change: 3>: 4, <HybridStepStatus.t_end: 0>: 1}))"
      ]
     },
     "execution_count": 35,
     "metadata": {},
     "output_type": "execute_result"
    }
   ],
   "source": [
    "result"
   ]
  },
  {
   "cell_type": "code",
   "execution_count": 36,
   "id": "24d91ea9-1269-442b-abf9-a8a579795cb3",
   "metadata": {},
   "outputs": [],
   "source": [
    "scale_cd4_body=(Vpl*10**3)/(fbp*ftcell_pl)\n",
    "#scale_cd4_virus=kdv*2*1e3/fbp"
   ]
  },
  {
   "cell_type": "code",
   "execution_count": 37,
   "id": "625e86cc-d31f-4bcf-885f-772a373b593a",
   "metadata": {},
   "outputs": [
    {
     "data": {
      "text/plain": [
       "(1e-07, 1000.0)"
      ]
     },
     "execution_count": 37,
     "metadata": {},
     "output_type": "execute_result"
    },
    {
     "data": {
      "image/png": "[encoded data removed]",
      "text/plain": [
       "<Figure size 640x480 with 1 Axes>"
      ]
     },
     "metadata": {},
     "output_type": "display_data"
    },
    {
     "data": {
      "image/png": "[encoded data removed]",
      "text/plain": [
       "<Figure size 640x480 with 1 Axes>"
      ]
     },
     "metadata": {},
     "output_type": "display_data"
    },
    {
     "data": {
      "image/png": "[encoded data removed]",
      "text/plain": [
       "<Figure size 640x480 with 1 Axes>"
      ]
     },
     "metadata": {},
     "output_type": "display_data"
    },
    {
     "data": {
      "image/png": "[encoded data removed]",
      "text/plain": [
       "<Figure size 640x480 with 1 Axes>"
      ]
     },
     "metadata": {},
     "output_type": "display_data"
    },
    {
     "data": {
      "image/png": "[encoded data removed]",
      "text/plain": [
       "<Figure size 640x480 with 1 Axes>"
      ]
     },
     "metadata": {},
     "output_type": "display_data"
    }
   ],
   "source": [
    "mnames = list(np.asarray(eng.eval('mparams.Properties.RowNames')))\n",
    "\n",
    "import matplotlib.pyplot as plt\n",
    "plt.figure()\n",
    "plt.plot(result.t_history, result.y_history[0].T/scale_cd4_body, label='x')\n",
    "plt.yscale('linear')\n",
    "plt.ylabel('uninfected CD4 cells (cells/uL)')\n",
    "plt.xlabel('t')\n",
    "plt.legend()\n",
    "plt.ylim([0, 1025])\n",
    "\n",
    "plt.figure()\n",
    "plt.plot(result.t_history, result.y_history[1:1+len(ys)].T/scale_cd4_body, label=['wildtype']+mnames)\n",
    "plt.yscale('log')\n",
    "plt.ylabel('infected cells (cells/uL)')\n",
    "plt.xlabel('t')\n",
    "plt.legend()\n",
    "plt.ylim([1e-9, 1e3])\n",
    "\n",
    "plt.figure()\n",
    "plt.plot(result.t_history, result.y_history[model.species.index(vs[0]):model.species.index(vs[-1])+1].T/Vpl/1000, label=['wildtype']+mnames)\n",
    "plt.yscale('log')\n",
    "plt.ylabel('virions (copies/mL plasma)')\n",
    "plt.xlabel('t')\n",
    "plt.legend()\n",
    "plt.ylim([1e-3, 1e7])\n",
    "\n",
    "plt.figure()\n",
    "plt.plot(t_vec, beta_t*R00/beta, label=['wildtype']+mnames)\n",
    "plt.legend()\n",
    "plt.ylabel('R_u')\n",
    "plt.xlabel('t')\n",
    "plt.yscale('linear')\n",
    "\n",
    "plt.figure()\n",
    "plt.plot(result.t_history, result.y_history[model.species.index(zs[0]):model.species.index(zs[-1])+1].T*(10**6)/(L/dx), label=['wildtype']+mnames)\n",
    "plt.yscale('log')\n",
    "plt.ylabel('LR size(per 10^6 baseline CD4)')\n",
    "plt.xlabel('t')\n",
    "plt.legend()\n",
    "plt.ylim([1e-7, 10e2])"
   ]
  },
  {
   "cell_type": "code",
   "execution_count": 38,
   "id": "eb77542e-0074-4fad-b506-746d5f67e222",
   "metadata": {},
   "outputs": [
    {
     "data": {
      "text/plain": [
       "array([9.80095233e-13, 1.46666667e-18, 1.35666667e-17, 2.09000000e-17])"
      ]
     },
     "execution_count": 38,
     "metadata": {},
     "output_type": "execute_result"
    }
   ],
   "source": [
    "result.y_history[model.species.index(zs[0]):model.species.index(zs[-1])+1][:,-1]/(10**6)/(L/dx)"
   ]
  },
  {
   "cell_type": "code",
   "execution_count": 39,
   "id": "d2673f2e-e8c8-4e21-9c04-74f90c9e6513",
   "metadata": {},
   "outputs": [
    {
     "name": "stdout",
     "output_type": "stream",
     "text": [
      "target cell birth     :  0  --> 1target cells\n",
      "target cell death     :1target cells -->   0 \n",
      "death of infected cell:  1infected cells strain 0 -->   0 \n",
      "death of infected cell:  1infected cells strain 1 -->   0 \n",
      "death of infected cell:  1infected cells strain 2 -->   0 \n",
      "death of infected cell:  1infected cells strain 3 -->   0 \n",
      "burst of infected cell:  1infected cells strain 0 -->   >9viruses strain 0\n",
      "burst of infected cell:  1infected cells strain 1 -->   >9viruses strain 1\n",
      "burst of infected cell:  1infected cells strain 2 -->   >9viruses strain 2\n",
      "burst of infected cell:  1infected cells strain 3 -->   >9viruses strain 3\n",
      "strain 0 --> latency  :  1infected cells strain 0 -->   1latent cells strain 0\n",
      "strain 1 --> latency  :  1infected cells strain 1 -->   1latent cells strain 1\n",
      "strain 2 --> latency  :  1infected cells strain 2 -->   1latent cells strain 2\n",
      "strain 3 --> latency  :  1infected cells strain 3 -->   1latent cells strain 3\n",
      "latent --> strain 0   :  1latent cells strain 0 -->   1infected cells strain 0\n",
      "latent --> strain 1   :  1latent cells strain 1 -->   1infected cells strain 1\n",
      "latent --> strain 2   :  1latent cells strain 2 -->   1infected cells strain 2\n",
      "latent --> strain 3   :  1latent cells strain 3 -->   1infected cells strain 3\n",
      "latent 0 death        :  1latent cells strain 0 -->   0 \n",
      "latent 1 death        :  1latent cells strain 1 -->   0 \n",
      "latent 2 death        :  1latent cells strain 2 -->   0 \n",
      "latent 3 death        :  1latent cells strain 3 -->   0 \n",
      "clearance of strain 0 :  1viruses strain 0 -->   0 \n",
      "clearance of strain 1 :  1viruses strain 1 -->   0 \n",
      "clearance of strain 2 :  1viruses strain 2 -->   0 \n",
      "clearance of strain 3 :  1viruses strain 3 -->   0 \n",
      "infection of x by 0->0:1target cells  1viruses strain 0 -->   0infected cells strain 0\n",
      "infection of x by 0->1:1target cells  1viruses strain 0 -->   0infected cells strain 1\n",
      "infection of x by 0->2:1target cells  1viruses strain 0 -->   0infected cells strain 2\n",
      "infection of x by 0->3:1target cells  1viruses strain 0 -->   0infected cells strain 3\n",
      "infection of x by 1->0:1target cells  1viruses strain 1 -->   0infected cells strain 0\n",
      "infection of x by 1->1:1target cells  1viruses strain 1 -->   0infected cells strain 1\n",
      "infection of x by 1->2:1target cells  1viruses strain 1 -->   0infected cells strain 2\n",
      "infection of x by 1->3:1target cells  1viruses strain 1 -->   0infected cells strain 3\n",
      "infection of x by 2->0:1target cells  1viruses strain 2 -->   0infected cells strain 0\n",
      "infection of x by 2->1:1target cells  1viruses strain 2 -->   0infected cells strain 1\n",
      "infection of x by 2->2:1target cells  1viruses strain 2 -->   0infected cells strain 2\n",
      "infection of x by 2->3:1target cells  1viruses strain 2 -->   0infected cells strain 3\n",
      "infection of x by 3->0:1target cells  1viruses strain 3 -->   0infected cells strain 0\n",
      "infection of x by 3->1:1target cells  1viruses strain 3 -->   0infected cells strain 1\n",
      "infection of x by 3->2:1target cells  1viruses strain 3 -->   0infected cells strain 2\n",
      "infection of x by 3->3:1target cells  1viruses strain 3 -->   0infected cells strain 3\n",
      "\n"
     ]
    }
   ],
   "source": [
    "print(model.pretty(skip_blanks=True))"
   ]
  },
  {
   "cell_type": "code",
   "execution_count": 40,
   "id": "eaba298f-4fb6-4ec7-a47e-e14817687c11",
   "metadata": {},
   "outputs": [],
   "source": [
    "def dydt_factory(calculate_propensities):\n",
    "    def dydt(t, y_expanded, k, deterministic_mask, stochastic_mask, hitting_point):\n",
    "        y = y_expanded[:-1]\n",
    "        k = k(t)\n",
    "        propensities = calculate_propensities(y, k)\n",
    "        deterministic_propensities = propensities * deterministic_mask\n",
    "    \n",
    "        deterministic_propensities\n",
    "        dydt = np.zeros(len(y_expanded))\n",
    "    \n",
    "        ## reaction rates used multiple times \n",
    "        _infections = deterministic_propensities[r.index(viral_clearance[-1])+1:len(r)].reshape(n, n)\n",
    "        new_infections_by_strain = _infections.sum(axis=0)\n",
    "        loss_of_virions_by_strain = _infections.sum(axis=1)\n",
    "    \n",
    "        ic_death = deterministic_propensities[r.index(infected_death[0]):r.index(infected_death[0])+n]\n",
    "        ic_burst = deterministic_propensities[r.index(infected_cell_burst[0]):r.index(infected_cell_burst[0])+n]\n",
    "        to_latent = deterministic_propensities[r.index(into_latency[0]):r.index(into_latency[0])+n]\n",
    "        from_latent = deterministic_propensities[r.index(out_of_latency[0]):r.index(out_of_latency[0])+n]\n",
    "    \n",
    "        ## Infected cells\n",
    "        dydt[1:1+n] = (\n",
    "            fa * new_infections_by_strain\n",
    "            + from_latent\n",
    "            - ic_death\n",
    "            - ic_burst\n",
    "            - to_latent\n",
    "        )\n",
    "    \n",
    "        ## Virions\n",
    "        dydt[1+n:1+2*n] = (\n",
    "            burst_size * ic_burst\n",
    "            - loss_of_virions_by_strain\n",
    "            - deterministic_propensities[r.index(viral_clearance[0]):r.index(viral_clearance[0])+n]\n",
    "        )\n",
    "    \n",
    "        ## Latent cells\n",
    "        dydt[species.index(zs[0]):species.index(zs[0])+n] = (\n",
    "            to_latent\n",
    "            - from_latent\n",
    "            - deterministic_propensities[r.index(death_of_latent[0]):r.index(death_of_latent[0])+n]\n",
    "        )\n",
    "    \n",
    "        ## Target cells\n",
    "        dydt[species.index(x)] = deterministic_propensities[r.index(target_cell_birth)] - deterministic_propensities[r.index(target_cell_death)] - np.sum(loss_of_virions_by_strain)\n",
    "        dydt[-1] = np.sum(propensities * stochastic_mask)\n",
    "        return dydt\n",
    "    return dydt"
   ]
  },
  {
   "cell_type": "code",
   "execution_count": 41,
   "id": "d133e6dc-8a1b-46b6-bca5-fec37f86373c",
   "metadata": {},
   "outputs": [],
   "source": [
    "#rates = N @ deterministic_propensities\n",
    "\n",
    "#fa = 0.01\n",
    "species = tuple(model.species.copy())\n",
    "r = tuple(model.all_reactions.copy())\n",
    "n = len(ys)\n",
    "burst_size = N\n",
    "\n",
    "num_pathways = len(r)\n",
    "clearance_start = r.index(viral_clearance[0])\n",
    "clearance_end = r.index(viral_clearance[-1])\n",
    "ic_death_start = r.index(infected_death[0])\n",
    "ic_burst_start = r.index(infected_cell_burst[0])\n",
    "to_latent_start = r.index(into_latency[0])\n",
    "from_latent_start = r.index(out_of_latency[0])\n",
    "latent_death_start = r.index(death_of_latent[0])\n",
    "target_birth = r.index(target_cell_birth)\n",
    "target_death = r.index(target_cell_death)\n",
    "\n",
    "latent_start = species.index(zs[0])\n",
    "ic_start = species.index(ys[0])\n",
    "virus_start = species.index(vs[0])\n",
    "x_start = species.index(x)\n",
    "\n",
    "def jit_dydt_factory(_):\n",
    "    @jit(nopython=True)\n",
    "    def dydt(t, y_expanded, k, deterministic_mask, stochastic_mask, calculate_propensities, hitting_point):\n",
    "        y = y_expanded[:-1]\n",
    "        propensities = calculate_propensities(y, k, t)\n",
    "        deterministic_propensities = propensities * deterministic_mask\n",
    "    \n",
    "        deterministic_propensities\n",
    "        dydt = np.zeros(len(y_expanded))\n",
    "    \n",
    "        ## reaction rates used multiple times \n",
    "        _infections = deterministic_propensities[clearance_end+1:clearance_end+1+n**2].reshape(n, n)\n",
    "        new_infections_by_strain = _infections.sum(axis=0)\n",
    "        loss_of_virions_by_strain = _infections.sum(axis=1)\n",
    "    \n",
    "        ic_death = deterministic_propensities[ic_death_start:ic_death_start+n]\n",
    "        ic_burst = deterministic_propensities[ic_burst_start:ic_burst_start+n]\n",
    "        to_latent = deterministic_propensities[to_latent_start:to_latent_start+n]\n",
    "        from_latent = deterministic_propensities[from_latent_start:from_latent_start+n]\n",
    "    \n",
    "        ## Infected cells\n",
    "        dydt[ic_start:ic_start+n] = (\n",
    "            fa * new_infections_by_strain\n",
    "            + from_latent\n",
    "            - ic_death\n",
    "            - ic_burst\n",
    "            - to_latent\n",
    "        )\n",
    "    \n",
    "        ## Virions\n",
    "        dydt[virus_start:virus_start+n] = (\n",
    "            burst_size * ic_burst\n",
    "            - loss_of_virions_by_strain\n",
    "            - deterministic_propensities[clearance_start:clearance_start+n]\n",
    "        )\n",
    "    \n",
    "        ## Latent cells\n",
    "        dydt[latent_start:latent_start+n] = (\n",
    "            to_latent\n",
    "            - from_latent\n",
    "            - deterministic_propensities[latent_death_start:latent_death_start+n]\n",
    "        )\n",
    "    \n",
    "        ## Target cells\n",
    "        dydt[x_start] = (\n",
    "            deterministic_propensities[target_birth]\n",
    "            - deterministic_propensities[target_death]\n",
    "            - np.sum(loss_of_virions_by_strain)\n",
    "        )\n",
    "        \n",
    "        dydt[-1] = np.sum(propensities * stochastic_mask)\n",
    "        return dydt\n",
    "    def wrapper(t, y_expanded, k, partition, calculate_propensities, hitting_point):\n",
    "        return dydt(t, y_expanded, k, partition.deterministic, partition.deterministic, calculate_propensities, hitting_point)\n",
    "    return wrapper"
   ]
  }
 ],
 "metadata": {
  "kernelspec": {
   "display_name": "Python 3 (ipykernel)",
   "language": "python",
   "name": "python3"
  },
  "language_info": {
   "codemirror_mode": {
    "name": "ipython",
    "version": 3
   },
   "file_extension": ".py",
   "mimetype": "text/x-python",
   "name": "python",
   "nbconvert_exporter": "python",
   "pygments_lexer": "ipython3",
   "version": "3.9.8"
  }
 },
 "nbformat": 4,
 "nbformat_minor": 5
}
