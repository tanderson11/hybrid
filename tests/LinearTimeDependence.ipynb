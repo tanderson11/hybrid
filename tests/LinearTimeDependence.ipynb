{
 "cells": [
  {
   "cell_type": "markdown",
   "metadata": {},
   "source": [
    "## Initialization"
   ]
  },
  {
   "cell_type": "code",
   "execution_count": 116,
   "metadata": {},
   "outputs": [],
   "source": [
    "import matplotlib.pyplot as plt\n",
    "plt.rcParams['axes.labelsize'] = 14\n",
    "plt.rcParams['axes.titlesize'] = 14\n",
    "plt.rcParams['xtick.labelsize'] = 11\n",
    "plt.rcParams['ytick.labelsize'] = 11"
   ]
  },
  {
   "cell_type": "code",
   "execution_count": 117,
   "metadata": {},
   "outputs": [],
   "source": [
    "import numpy as np\n",
    "import numba\n",
    "import pandas as pd\n",
    "from reactionmodel.model import Species, Reaction, Model"
   ]
  },
  {
   "cell_type": "code",
   "execution_count": 118,
   "metadata": {},
   "outputs": [],
   "source": [
    "def make_df(results, t_eval):\n",
    "    result_series = []\n",
    "\n",
    "    for r in results:\n",
    "        t, y = r.restricted_values(t_eval)\n",
    "        result_series.append(pd.Series(y.T.squeeze(), index=t))\n",
    "    \n",
    "    df = pd.concat(result_series, axis=1)\n",
    "    df = df.dropna()\n",
    "    return df"
   ]
  },
  {
   "cell_type": "markdown",
   "metadata": {},
   "source": [
    "# ABSORPTION"
   ]
  },
  {
   "cell_type": "markdown",
   "metadata": {},
   "source": [
    "So as an approximate rule of thumb, the absorption exponential generally becomes negligible and ln(Cp) values fall on a terminal line when t > 7·t½,abs.\n",
    "\n",
    "https://www.sciencedirect.com/topics/medicine-and-dentistry/absorption-half-life#:~:text=First%2Dorder%20absorption%20occurs%20when,at%20the%20site%20of%20administration.\n",
    "\n",
    "$$ \\lambda(t) = \\frac{R_0 \\mu}{1 + (1/\\text{IC}_{50} e^{- \\log(2) t / t_{\\text{half}}})^{m_\\text{drug}}} $$\n",
    "\n",
    "First order absorption:\n",
    "\n",
    "$$r_{\\text{abs}} = k_a FD \\cdot e^{-k_a t} $$"
   ]
  },
  {
   "cell_type": "markdown",
   "metadata": {},
   "source": [
    "Concentration as a function of time:\n",
    "\n",
    "$$ C(t) = FD [ 1 - e^{-k_a t }]"
   ]
  },
  {
   "cell_type": "code",
   "execution_count": 119,
   "metadata": {},
   "outputs": [],
   "source": [
    "mu = 1.0\n",
    "R0 = 3.0\n",
    "R0_min = 0.2\n",
    "t_intervention = 2.0\n",
    "t_to_min = 3.0\n",
    "\n",
    "early_start = False\n",
    "\n",
    "@numba.jit(nopython=True)\n",
    "def lambda_t_early_start(t):\n",
    "    if t < t_intervention:\n",
    "        return R0 * mu\n",
    "    if t > t_intervention + t_to_min:\n",
    "        return R0_min * mu\n",
    "\n",
    "    return R0 * mu - (t - t_intervention) * (R0 - R0_min) * mu / t_to_min\n",
    "\n",
    "@numba.jit(nopython=True)\n",
    "def lambda_t_late_start(t):\n",
    "    return lambda_t_early_start(t+t_intervention)\n",
    "\n",
    "if early_start:\n",
    "    lambda_t = lambda_t_early_start\n",
    "else:\n",
    "    lambda_t = lambda_t_late_start"
   ]
  },
  {
   "cell_type": "code",
   "execution_count": 120,
   "metadata": {},
   "outputs": [],
   "source": [
    "t_upper = (t_intervention + t_to_min) * 3\n",
    "\n",
    "t_eval_late_start = np.linspace(0.0, t_upper - t_intervention, int((t_upper-t_intervention)*10+1))\n",
    "t_eval_early_start = np.linspace(0.0, t_upper, int((t_upper)*10+1))\n",
    "t_span_late_start = [0, t_upper]\n",
    "t_span_early_start = [0, t_upper + 1]\n",
    "\n",
    "if early_start:\n",
    "    t_eval = t_eval_early_start\n",
    "    t_span = t_span_early_start\n",
    "else:\n",
    "    t_eval = t_eval_late_start\n",
    "    t_span = t_span_late_start\n",
    "\n",
    "R0s = [lambda_t_early_start(t)/mu for t in t_eval_early_start]"
   ]
  },
  {
   "cell_type": "code",
   "execution_count": null,
   "metadata": {},
   "outputs": [],
   "source": [
    "fig, ax = plt.subplots(1)\n",
    "\n",
    "ax.plot(t_eval_early_start, R0s)\n",
    "ax.set_ylabel('R0')\n",
    "plt.axhline(1.0, c='r', linestyle='--', alpha=0.3)\n",
    "ax.set_xlabel('time (lifespans of infected cell)')"
   ]
  },
  {
   "cell_type": "code",
   "execution_count": 122,
   "metadata": {},
   "outputs": [],
   "source": [
    "y0_early_start = 5\n",
    "if early_start:\n",
    "    discontinuities = [t_intervention, t_intervention+t_to_min]\n",
    "else:\n",
    "    discontinuities = [t_to_min]\n",
    "\n",
    "Y = Species('Y')\n",
    "\n",
    "death = Reaction([Y], [], k=mu)\n",
    "birth = Reaction([Y], [(Y, 2)], k=lambda_t)\n",
    "\n",
    "m = Model([Y], [birth, death])\n",
    "m_early_start = Model([Y], [Reaction([Y], [(Y, 2)], k=lambda_t_early_start), death])"
   ]
  },
  {
   "cell_type": "code",
   "execution_count": 123,
   "metadata": {},
   "outputs": [],
   "source": [
    "epsilon = 0.05"
   ]
  },
  {
   "cell_type": "markdown",
   "metadata": {},
   "source": [
    "## Deterministic"
   ]
  },
  {
   "cell_type": "code",
   "execution_count": null,
   "metadata": {},
   "outputs": [],
   "source": [
    "from scipy.integrate import solve_ivp\n",
    "dydt = m_early_start.get_dydt(jit=True)\n",
    "\n",
    "det_result = solve_ivp(dydt, t_span_early_start, m_early_start.make_initial_condition({'Y':y0_early_start}), t_eval=t_eval_early_start, args=(0,))\n",
    "det_result = pd.Series(det_result.y.T.squeeze(), index=det_result.t)\n",
    "det_result.name = 'deterministic'\n",
    "\n",
    "ax = det_result.plot()\n",
    "det_result.index = det_result.index.round(3)\n",
    "\n",
    "ax.axvline(1.0, c='r', linestyle='--')\n",
    "ax.axhline(10000, c='r', linestyle='--')"
   ]
  },
  {
   "cell_type": "code",
   "execution_count": 125,
   "metadata": {},
   "outputs": [],
   "source": [
    "ic = m.make_initial_condition({'Y':det_result.loc[t_intervention]})"
   ]
  },
  {
   "cell_type": "markdown",
   "metadata": {},
   "source": [
    "## Homogeneous"
   ]
  },
  {
   "cell_type": "code",
   "execution_count": null,
   "metadata": {},
   "outputs": [],
   "source": [
    "from hybrid.tau import TauLeapSimulator\n",
    "\n",
    "tau_simulator = TauLeapSimulator(\n",
    "    m.get_k(jit=True),\n",
    "    m.stoichiometry(),\n",
    "    m.kinetic_order(),\n",
    "    epsilon=epsilon,\n",
    "    discontinuities=discontinuities\n",
    "    #time_handling='inhomogeneous_monotonic'\n",
    ")"
   ]
  },
  {
   "cell_type": "code",
   "execution_count": null,
   "metadata": {},
   "outputs": [],
   "source": [
    "results = tau_simulator.run_simulations(\n",
    "    100,\n",
    "    t_span,\n",
    "    ic,\n",
    "    np.random.default_rng(),\n",
    "    t_eval=t_eval,\n",
    ")"
   ]
  },
  {
   "cell_type": "code",
   "execution_count": null,
   "metadata": {},
   "outputs": [],
   "source": [
    "results[0].plot(m.legend())"
   ]
  },
  {
   "cell_type": "code",
   "execution_count": 129,
   "metadata": {},
   "outputs": [],
   "source": [
    "tau_df = make_df(results, t_eval)\n",
    "tau_df.index = tau_df.index.round(3)"
   ]
  },
  {
   "cell_type": "code",
   "execution_count": 130,
   "metadata": {},
   "outputs": [],
   "source": [
    "cmap = {4:'gold', 2:'dodgerblue', 0: 'r', -2:'b', 1:'r'}"
   ]
  },
  {
   "cell_type": "code",
   "execution_count": 131,
   "metadata": {},
   "outputs": [],
   "source": [
    "step_df_homo = pd.DataFrame({'t': results[0].step_t_history, 'status': results[0].status_history, 'y': results[0].step_y_history[0]})\n",
    "step_df_homo['step size'] = step_df_homo['t'].diff()\n",
    "step_df_homo['step amount'] = step_df_homo['y'].diff()\n",
    "step_df_homo = step_df_homo.loc[1:]\n",
    "step_df_homo['t'] += t_intervention"
   ]
  },
  {
   "cell_type": "code",
   "execution_count": null,
   "metadata": {},
   "outputs": [],
   "source": [
    "color = step_df_homo.status.map(cmap)\n",
    "step_df_homo.plot.scatter(x='t', y='step size', c=color, ylim=[0.0, 0.1], alpha=0.6)"
   ]
  },
  {
   "cell_type": "markdown",
   "metadata": {},
   "source": [
    "## Inbetween"
   ]
  },
  {
   "cell_type": "code",
   "execution_count": 133,
   "metadata": {},
   "outputs": [],
   "source": [
    "from hybrid.tau import TauLeapSimulator\n",
    "\n",
    "inhom_tau_simulator = TauLeapSimulator(\n",
    "    m.get_k(jit=True),\n",
    "    m.stoichiometry(),\n",
    "    m.kinetic_order(),\n",
    "    epsilon=epsilon*2,\n",
    "    time_handling='inhomogeneous_monotonic_homogeneous_gillespie',\n",
    "    discontinuities=discontinuities,\n",
    ")"
   ]
  },
  {
   "cell_type": "code",
   "execution_count": null,
   "metadata": {},
   "outputs": [],
   "source": [
    "ibresults = inhom_tau_simulator.run_simulations(\n",
    "    50,\n",
    "    t_span,\n",
    "    ic,\n",
    "    np.random.default_rng(0),\n",
    "    t_eval=t_eval\n",
    ")"
   ]
  },
  {
   "cell_type": "code",
   "execution_count": 135,
   "metadata": {},
   "outputs": [],
   "source": [
    "in_between_df = make_df(ibresults, t_eval)\n",
    "in_between_df.index = in_between_df.index.round(3)"
   ]
  },
  {
   "cell_type": "code",
   "execution_count": 136,
   "metadata": {},
   "outputs": [],
   "source": [
    "step_df_ib = pd.DataFrame({'t': ibresults[0].step_t_history, 'status': ibresults[0].status_history, 'y': ibresults[0].step_y_history[0]})\n",
    "step_df_ib['step size'] = step_df_ib['t'].diff()\n",
    "step_df_ib['step amount'] = step_df_ib['y'].diff()\n",
    "step_df_ib = step_df_ib.loc[1:]\n",
    "step_df_ib['t'] += t_intervention"
   ]
  },
  {
   "cell_type": "code",
   "execution_count": null,
   "metadata": {},
   "outputs": [],
   "source": [
    "step_df_ib['step size'].max()"
   ]
  },
  {
   "cell_type": "code",
   "execution_count": null,
   "metadata": {},
   "outputs": [],
   "source": [
    "upper = 0.2\n",
    "cmap = {4:'seagreen', 2:'seagreen', 0: 'r', -2:'b', 1:'r'}\n",
    "ax = step_df_ib.plot.scatter(x='t', y='step size', c=step_df_ib.status.map(cmap), ylim=[0.0, upper], alpha=0.5)\n",
    "cmap = {4:'orange', 2:'orange', 0: 'r', -2:'b', 1:'r'}\n",
    "step_df_homo.plot.scatter(x='t', y='step size', c=step_df_homo.status.map(cmap), ylim=[0.0, upper], alpha=0.4, ax=ax)\n",
    "ax.set_xlabel('time (infectious periods)')\n",
    "plt.savefig('./inhomogeneous_stepsize.png', dpi=300)"
   ]
  },
  {
   "cell_type": "markdown",
   "metadata": {},
   "source": [
    "## Implicit"
   ]
  },
  {
   "cell_type": "code",
   "execution_count": null,
   "metadata": {},
   "outputs": [],
   "source": [
    "from hybrid.tau import TauLeapSimulator\n",
    "\n",
    "implicit_tau_simulator = TauLeapSimulator(\n",
    "    m.get_k(jit=True),\n",
    "    m.stoichiometry(),\n",
    "    m.kinetic_order(),\n",
    "    epsilon=epsilon,\n",
    "    discontinuities=discontinuities,\n",
    "    method='implicit'\n",
    ")"
   ]
  },
  {
   "cell_type": "code",
   "execution_count": null,
   "metadata": {},
   "outputs": [],
   "source": [
    "impresults = implicit_tau_simulator.run_simulations(\n",
    "    50,\n",
    "    t_span,\n",
    "    ic,\n",
    "    np.random.default_rng(),\n",
    "    t_eval=t_eval\n",
    ")"
   ]
  },
  {
   "cell_type": "code",
   "execution_count": 141,
   "metadata": {},
   "outputs": [],
   "source": [
    "implicit_df = make_df(impresults, t_eval)\n",
    "implicit_df.index = implicit_df.index.round(3)"
   ]
  },
  {
   "cell_type": "markdown",
   "metadata": {},
   "source": [
    "## Results"
   ]
  },
  {
   "cell_type": "code",
   "execution_count": null,
   "metadata": {},
   "outputs": [],
   "source": [
    "fig, ax = plt.subplots(3, height_ratios=[1.0, 0.6, 0.6], figsize=(7,11), sharex=True)\n",
    "\n",
    "\n",
    "data = {\n",
    "    #'gillespie': gillespie_df.mean(axis=1),\n",
    "    'conventional $\\\\tau$': tau_df.mean(axis=1),\n",
    "    #'inhomogeneous $\\\\tau$': inhomo_df.mean(axis=1),\n",
    "    'semi-inhomogeneous $\\\\tau$': in_between_df.mean(axis=1),\n",
    "    'implicit $\\\\tau$': implicit_df.mean(axis=1),\n",
    "}\n",
    "combined = pd.DataFrame(data)\n",
    "combined.index = combined.index + t_intervention\n",
    "combined = pd.merge(det_result, combined, left_index=True, right_index=True, how='outer')\n",
    "\n",
    "for column in combined.columns:\n",
    "    combined[column].dropna().plot(ax=ax[0])\n",
    "\n",
    "ax[0].legend(combined.columns)\n",
    "\n",
    "ax[1].set_xlabel('time (infectious periods)')\n",
    "ax[0].set_ylabel('# Y')\n",
    "ax[0].axvline(t_intervention, c='r', alpha=0.2)\n",
    "ax[1].axvline(t_intervention, c='r', alpha=0.2)\n",
    "ax[0].axvline(t_intervention+t_to_min, c='r', alpha=0.2)\n",
    "ax[1].axvline(t_intervention+t_to_min, c='r', alpha=0.2)\n",
    "ax[2].axvline(t_intervention, c='r', alpha=0.2)\n",
    "ax[2].axvline(t_intervention+t_to_min, c='r', alpha=0.2)\n",
    "\n",
    "\n",
    "R0s = [lambda_t_early_start(t)/mu for t in t_eval_early_start]\n",
    "\n",
    "ax[1].plot(t_eval_early_start, R0s)\n",
    "ax[1].set_ylabel('R0')\n",
    "ax[1].axhline(1.0, c='r', linestyle='--', alpha=0.2)\n",
    "\n",
    "ax[0].set_xlim(0, 15.0)\n",
    "\n",
    "plt.savefig('./inhomogeneous.png', dpi=300)\n",
    "\n",
    "ax_twin = ax[2]\n",
    "\n",
    "cmap = {4:'seagreen', 2:'seagreen', 0: 'r', -2:'b', 1:'r'}\n",
    "step_df_ib.plot.scatter(ax=ax_twin, x='t', y='step size', c=step_df_ib.status.map(cmap),alpha=0.5, ylim=[0., 0.2])\n",
    "cmap = {4:'orange', 2:'orange', 0: 'r', -2:'b', 1:'r'}\n",
    "step_df_homo.plot.scatter(ax=ax_twin, x='t', y='step size', c=step_df_homo.status.map(cmap),alpha=0.4, ylim=[0., 0.2])\n",
    "\n",
    "plt.savefig('./inhomogeneous_with_step_size.png', dpi=300)"
   ]
  },
  {
   "cell_type": "code",
   "execution_count": 29,
   "metadata": {},
   "outputs": [],
   "source": [
    "from scipy.integrate import simpson"
   ]
  },
  {
   "cell_type": "code",
   "execution_count": null,
   "metadata": {},
   "outputs": [],
   "source": [
    "combined.columns"
   ]
  },
  {
   "cell_type": "code",
   "execution_count": 31,
   "metadata": {},
   "outputs": [],
   "source": [
    "deterministic = combined['deterministic'].dropna()\n",
    "#deterministic = deterministic[deterministic.index >= 1.0]\n",
    "det_AUC = simpson(y=deterministic, x=deterministic.index)"
   ]
  },
  {
   "cell_type": "code",
   "execution_count": null,
   "metadata": {},
   "outputs": [],
   "source": [
    "det_AUC"
   ]
  },
  {
   "cell_type": "code",
   "execution_count": 32,
   "metadata": {},
   "outputs": [],
   "source": [
    "det_nub = combined['deterministic'].dropna()\n",
    "det_nub = det_nub[det_nub.index <= 1.0]\n",
    "nub_AUC = simpson(y=det_nub, x=det_nub.index)"
   ]
  },
  {
   "cell_type": "code",
   "execution_count": 33,
   "metadata": {},
   "outputs": [],
   "source": [
    "conventional = combined['conventional $\\\\tau$'].dropna()\n",
    "conventional_AUC = simpson(y=conventional, x=conventional.index) + nub_AUC"
   ]
  },
  {
   "cell_type": "code",
   "execution_count": 34,
   "metadata": {},
   "outputs": [],
   "source": [
    "semi = combined['semi-inhomogeneous $\\\\tau$'].dropna()\n",
    "semi_AUC = simpson(y=semi, x=semi.index) + nub_AUC"
   ]
  },
  {
   "cell_type": "code",
   "execution_count": null,
   "metadata": {},
   "outputs": [],
   "source": [
    "semi_AUC"
   ]
  },
  {
   "cell_type": "code",
   "execution_count": 35,
   "metadata": {},
   "outputs": [],
   "source": [
    "implicit = combined['implicit $\\\\tau$'].dropna()\n",
    "implicit_AUC = simpson(y=implicit, x=implicit.index) + nub_AUC"
   ]
  },
  {
   "cell_type": "code",
   "execution_count": null,
   "metadata": {},
   "outputs": [],
   "source": [
    "implicit_AUC"
   ]
  },
  {
   "cell_type": "code",
   "execution_count": null,
   "metadata": {},
   "outputs": [],
   "source": [
    "(det_AUC - conventional_AUC)/det_AUC"
   ]
  },
  {
   "cell_type": "code",
   "execution_count": null,
   "metadata": {},
   "outputs": [],
   "source": [
    "(det_AUC - semi_AUC)/det_AUC"
   ]
  },
  {
   "cell_type": "code",
   "execution_count": null,
   "metadata": {},
   "outputs": [],
   "source": [
    "(det_AUC - implicit_AUC)/det_AUC"
   ]
  }
 ],
 "metadata": {
  "kernelspec": {
   "display_name": ".venv",
   "language": "python",
   "name": "python3"
  },
  "language_info": {
   "codemirror_mode": {
    "name": "ipython",
    "version": 3
   },
   "file_extension": ".py",
   "mimetype": "text/x-python",
   "name": "python",
   "nbconvert_exporter": "python",
   "pygments_lexer": "ipython3",
   "version": "3.9.8"
  }
 },
 "nbformat": 4,
 "nbformat_minor": 2
}
