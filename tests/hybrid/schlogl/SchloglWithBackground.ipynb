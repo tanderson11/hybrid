{
 "cells": [
  {
   "cell_type": "code",
   "execution_count": 14,
   "metadata": {},
   "outputs": [],
   "source": [
    "import numpy as np\n",
    "from reactionmodel.model import Species, Reaction, Model"
   ]
  },
  {
   "cell_type": "code",
   "execution_count": 46,
   "metadata": {},
   "outputs": [],
   "source": [
    "X = Species('X')\n",
    "\n",
    "schlogl_reactions = [\n",
    "    Reaction([(X,2)], [(X,3)], k='c1*N1'),\n",
    "    Reaction([(X,3)], [(X,2)], k='c2'),\n",
    "    Reaction([], [X], k='c3*N2'),\n",
    "    Reaction([X], [], k='c4')\n",
    "]\n",
    "\n",
    "schlogl_params = {\n",
    "    'c1': 3e-7,\n",
    "    'c2': 1e-4,\n",
    "    'c3': 1e-3,\n",
    "    'c4': 3.5,\n",
    "    'N1': 1e5,\n",
    "    'N2': 2e5,\n",
    "}\n",
    "\n",
    "schlogl = Model([X], schlogl_reactions)\n",
    "\n",
    "A = Species('A')\n",
    "B = Species('B')\n",
    "\n",
    "background_reactions = [\n",
    "    Reaction([A], [B], k='k1'),\n",
    "    Reaction([B], [A], k='k2')\n",
    "]\n",
    "\n",
    "background_params = {\n",
    "    'k1': 2e7,\n",
    "    'k2': 1e7,\n",
    "}\n",
    "\n",
    "background = Model([A,B], background_reactions)\n",
    "\n",
    "combined = Model([A,B,X], schlogl_reactions + background_reactions)\n",
    "combined_params = background_params.copy()\n",
    "combined_params.update(schlogl_params)"
   ]
  },
  {
   "cell_type": "code",
   "execution_count": 47,
   "metadata": {},
   "outputs": [
    {
     "data": {
      "text/plain": [
       "{'k1': 20000000.0,\n",
       " 'k2': 10000000.0,\n",
       " 'c1': 3e-07,\n",
       " 'c2': 0.0001,\n",
       " 'c3': 0.001,\n",
       " 'c4': 3.5,\n",
       " 'N1': 100000.0,\n",
       " 'N2': 200000.0}"
      ]
     },
     "execution_count": 47,
     "metadata": {},
     "output_type": "execute_result"
    }
   ],
   "source": [
    "combined_params"
   ]
  },
  {
   "cell_type": "code",
   "execution_count": 48,
   "metadata": {},
   "outputs": [
    {
     "name": "stdout",
     "output_type": "stream",
     "text": [
      "Evaluating expression: c1*N1 => 0.03\n",
      "Evaluating expression: c2 => 0.0001\n",
      "Evaluating expression: c3*N2 => 200.0\n",
      "Evaluating expression: c4 => 3.5\n",
      "Evaluating expression: k1 => 20000000.0\n",
      "Evaluating expression: k2 => 10000000.0\n",
      "Evaluating expression: c1*N1 => 0.03\n",
      "Evaluating expression: c2 => 0.0001\n",
      "Evaluating expression: c3*N2 => 200.0\n",
      "Evaluating expression: c4 => 3.5\n",
      "Evaluating expression: k1 => 20000000.0\n",
      "Evaluating expression: k2 => 10000000.0\n"
     ]
    }
   ],
   "source": [
    "from hybrid.tau import TauLeapSimulator\n",
    "\n",
    "tau_schlogl = TauLeapSimulator(\n",
    "    schlogl.get_k(parameters=schlogl_params),\n",
    "    schlogl.stoichiometry(),\n",
    "    schlogl.kinetic_order(),\n",
    ")\n",
    "\n",
    "tau_background = TauLeapSimulator(\n",
    "    background.get_k(parameters=background_params),\n",
    "    background.stoichiometry(),\n",
    "    background.kinetic_order(),\n",
    ")\n",
    "\n",
    "tau_combined = TauLeapSimulator(\n",
    "    combined.get_k(parameters=combined_params),\n",
    "    combined.stoichiometry(),\n",
    "    combined.kinetic_order(),\n",
    ")"
   ]
  },
  {
   "cell_type": "code",
   "execution_count": 49,
   "metadata": {},
   "outputs": [
    {
     "data": {
      "text/plain": [
       "History(t=10.0, y=array([104.]), t_history=array([0.00000000e+00, 1.86562582e-05, 1.66803249e-04, ...,\n",
       "       9.99801508e+00, 9.99952141e+00, 1.00000000e+01]), y_history=array([[250., 249., 250., ..., 103., 104., 104.]]), step_indices=array([0.0000e+00, 1.0000e+00, 2.0000e+00, ..., 1.1885e+04, 1.1886e+04,\n",
       "       1.1887e+04]), status_history=array([nan,  3.,  3., ...,  3.,  3.,  2.]), pathway_history=array([inf, inf, inf, ..., inf, inf, inf]), status_counter=Counter({<TauStepStatus.gillespie_stochastic: 3>: 11886, <TauStepStatus.rejected_for_gillespie: -2>: 119, <TauStepStatus.gillespie_t_end: 2>: 1}), pathway_counter=Counter({inf: 11888}))"
      ]
     },
     "execution_count": 49,
     "metadata": {},
     "output_type": "execute_result"
    }
   ],
   "source": [
    "tau_schlogl.simulate(\n",
    "    [0.0, 10.0],\n",
    "    schlogl.make_initial_condition({'X':250}),\n",
    "    np.random.default_rng()\n",
    ")"
   ]
  },
  {
   "cell_type": "code",
   "execution_count": 50,
   "metadata": {},
   "outputs": [
    {
     "ename": "IndexError",
     "evalue": "index 1000000 is out of bounds for axis 0 with size 1000000",
     "output_type": "error",
     "traceback": [
      "\u001b[0;31m---------------------------------------------------------------------------\u001b[0m",
      "\u001b[0;31mIndexError\u001b[0m                                Traceback (most recent call last)",
      "Cell \u001b[0;32mIn[50], line 1\u001b[0m\n\u001b[0;32m----> 1\u001b[0m \u001b[43mtau_background\u001b[49m\u001b[38;5;241;43m.\u001b[39;49m\u001b[43msimulate\u001b[49m\u001b[43m(\u001b[49m\n\u001b[1;32m      2\u001b[0m \u001b[43m    \u001b[49m\u001b[43m[\u001b[49m\u001b[38;5;241;43m0.0\u001b[39;49m\u001b[43m,\u001b[49m\u001b[43m \u001b[49m\u001b[38;5;241;43m10.0\u001b[39;49m\u001b[43m]\u001b[49m\u001b[43m,\u001b[49m\n\u001b[1;32m      3\u001b[0m \u001b[43m    \u001b[49m\u001b[43mbackground\u001b[49m\u001b[38;5;241;43m.\u001b[39;49m\u001b[43mmake_initial_condition\u001b[49m\u001b[43m(\u001b[49m\u001b[43m{\u001b[49m\u001b[38;5;124;43m'\u001b[39;49m\u001b[38;5;124;43mA\u001b[39;49m\u001b[38;5;124;43m'\u001b[39;49m\u001b[43m:\u001b[49m\u001b[43m \u001b[49m\u001b[38;5;241;43m1e5\u001b[39;49m\u001b[43m,\u001b[49m\u001b[43m \u001b[49m\u001b[38;5;124;43m'\u001b[39;49m\u001b[38;5;124;43mB\u001b[39;49m\u001b[38;5;124;43m'\u001b[39;49m\u001b[43m:\u001b[49m\u001b[43m \u001b[49m\u001b[38;5;241;43m2e5\u001b[39;49m\u001b[43m}\u001b[49m\u001b[43m)\u001b[49m\u001b[43m,\u001b[49m\n\u001b[1;32m      4\u001b[0m \u001b[43m    \u001b[49m\u001b[43mnp\u001b[49m\u001b[38;5;241;43m.\u001b[39;49m\u001b[43mrandom\u001b[49m\u001b[38;5;241;43m.\u001b[39;49m\u001b[43mdefault_rng\u001b[49m\u001b[43m(\u001b[49m\u001b[43m)\u001b[49m\n\u001b[1;32m      5\u001b[0m \u001b[43m)\u001b[49m\u001b[38;5;241m.\u001b[39mplot(background\u001b[38;5;241m.\u001b[39mlegend())\n",
      "File \u001b[0;32m~/develop/hybrid/hybrid/simulator.py:249\u001b[0m, in \u001b[0;36mSimulator.simulate\u001b[0;34m(self, t_span, y0, rng, t_eval, halt, **step_kwargs)\u001b[0m\n\u001b[1;32m    247\u001b[0m \u001b[38;5;28;01mwhile\u001b[39;00m t \u001b[38;5;241m<\u001b[39m t_end:\n\u001b[1;32m    248\u001b[0m     step \u001b[38;5;241m=\u001b[39m \u001b[38;5;28mself\u001b[39m\u001b[38;5;241m.\u001b[39mstep(\u001b[38;5;241m*\u001b[39mrun\u001b[38;5;241m.\u001b[39mcurrent_state(), t_end, rng, t_eval, \u001b[38;5;241m*\u001b[39m\u001b[38;5;241m*\u001b[39mstep_kwargs, \u001b[38;5;241m*\u001b[39m\u001b[38;5;241m*\u001b[39mrun\u001b[38;5;241m.\u001b[39mget_step_kwargs())\n\u001b[0;32m--> 249\u001b[0m     t \u001b[38;5;241m=\u001b[39m \u001b[43mrun\u001b[49m\u001b[38;5;241;43m.\u001b[39;49m\u001b[43mhandle_step\u001b[49m\u001b[43m(\u001b[49m\u001b[43mstep\u001b[49m\u001b[43m)\u001b[49m\n\u001b[1;32m    250\u001b[0m     \u001b[38;5;28;01mif\u001b[39;00m halt \u001b[38;5;129;01mis\u001b[39;00m \u001b[38;5;129;01mnot\u001b[39;00m \u001b[38;5;28;01mNone\u001b[39;00m \u001b[38;5;129;01mand\u001b[39;00m halt(run\u001b[38;5;241m.\u001b[39mget_t(), run\u001b[38;5;241m.\u001b[39mget_y()):\n\u001b[1;32m    251\u001b[0m         \u001b[38;5;28;01mbreak\u001b[39;00m\n",
      "File \u001b[0;32m~/develop/hybrid/hybrid/tau.py:45\u001b[0m, in \u001b[0;36mTauRun.handle_step\u001b[0;34m(self, step)\u001b[0m\n\u001b[1;32m     42\u001b[0m     \u001b[38;5;28;01massert\u001b[39;00m \u001b[38;5;28mself\u001b[39m\u001b[38;5;241m.\u001b[39mforced_gillespie_steps \u001b[38;5;241m>\u001b[39m \u001b[38;5;241m0\u001b[39m\n\u001b[1;32m     43\u001b[0m     \u001b[38;5;28mself\u001b[39m\u001b[38;5;241m.\u001b[39mforced_gillespie_steps \u001b[38;5;241m-\u001b[39m\u001b[38;5;241m=\u001b[39m \u001b[38;5;241m1\u001b[39m\n\u001b[0;32m---> 45\u001b[0m t \u001b[38;5;241m=\u001b[39m \u001b[38;5;28;43msuper\u001b[39;49m\u001b[43m(\u001b[49m\u001b[43m)\u001b[49m\u001b[38;5;241;43m.\u001b[39;49m\u001b[43mhandle_step\u001b[49m\u001b[43m(\u001b[49m\u001b[43mstep\u001b[49m\u001b[43m)\u001b[49m\n\u001b[1;32m     46\u001b[0m \u001b[38;5;28;01mreturn\u001b[39;00m t\n",
      "File \u001b[0;32m~/develop/hybrid/hybrid/simulator.py:101\u001b[0m, in \u001b[0;36mRun.handle_step\u001b[0;34m(self, step)\u001b[0m\n\u001b[1;32m     98\u001b[0m \u001b[38;5;28mself\u001b[39m\u001b[38;5;241m.\u001b[39mhistory_index \u001b[38;5;241m+\u001b[39m\u001b[38;5;241m=\u001b[39m n_samples\n\u001b[1;32m    100\u001b[0m \u001b[38;5;66;03m# for other histories, we are only recording the fact of 1 step rather than n subsamples\u001b[39;00m\n\u001b[0;32m--> 101\u001b[0m \u001b[38;5;28;43mself\u001b[39;49m\u001b[38;5;241;43m.\u001b[39;49m\u001b[43mstatus_history\u001b[49m\u001b[43m[\u001b[49m\u001b[38;5;28;43mself\u001b[39;49m\u001b[38;5;241;43m.\u001b[39;49m\u001b[43mstep_index\u001b[49m\u001b[38;5;241;43m+\u001b[39;49m\u001b[38;5;241;43m1\u001b[39;49m\u001b[43m]\u001b[49m \u001b[38;5;241m=\u001b[39m step\u001b[38;5;241m.\u001b[39mstatus\n\u001b[1;32m    102\u001b[0m \u001b[38;5;28mself\u001b[39m\u001b[38;5;241m.\u001b[39mpathway_history[\u001b[38;5;28mself\u001b[39m\u001b[38;5;241m.\u001b[39mstep_index\u001b[38;5;241m+\u001b[39m\u001b[38;5;241m1\u001b[39m] \u001b[38;5;241m=\u001b[39m step\u001b[38;5;241m.\u001b[39mpathway\n\u001b[1;32m    103\u001b[0m \u001b[38;5;28mself\u001b[39m\u001b[38;5;241m.\u001b[39mstep_indices[\u001b[38;5;28mself\u001b[39m\u001b[38;5;241m.\u001b[39mstep_index\u001b[38;5;241m+\u001b[39m\u001b[38;5;241m1\u001b[39m] \u001b[38;5;241m=\u001b[39m \u001b[38;5;28mself\u001b[39m\u001b[38;5;241m.\u001b[39mhistory_index\n",
      "\u001b[0;31mIndexError\u001b[0m: index 1000000 is out of bounds for axis 0 with size 1000000"
     ]
    }
   ],
   "source": [
    "tau_background.simulate(\n",
    "    [0.0, 10.0],\n",
    "    background.make_initial_condition({'A': 1e5, 'B': 2e5}),\n",
    "    np.random.default_rng()\n",
    ").plot(background.legend())"
   ]
  },
  {
   "cell_type": "code",
   "execution_count": 43,
   "metadata": {},
   "outputs": [],
   "source": [
    "r = tau_combined.simulate(\n",
    "    [0.0, 10.0],\n",
    "    combined.make_initial_condition({'X': 250, 'A': 1e5, 'B': 1e5}),\n",
    "    np.random.default_rng()\n",
    ")"
   ]
  },
  {
   "cell_type": "code",
   "execution_count": 45,
   "metadata": {},
   "outputs": [
    {
     "data": {
      "text/plain": [
       "Counter({<TauStepStatus.leap: 0>: 124729})"
      ]
     },
     "execution_count": 45,
     "metadata": {},
     "output_type": "execute_result"
    }
   ],
   "source": [
    "r.status_counter"
   ]
  },
  {
   "cell_type": "code",
   "execution_count": null,
   "metadata": {},
   "outputs": [],
   "source": []
  }
 ],
 "metadata": {
  "kernelspec": {
   "display_name": ".venv",
   "language": "python",
   "name": "python3"
  },
  "language_info": {
   "codemirror_mode": {
    "name": "ipython",
    "version": 3
   },
   "file_extension": ".py",
   "mimetype": "text/x-python",
   "name": "python",
   "nbconvert_exporter": "python",
   "pygments_lexer": "ipython3",
   "version": "3.9.8"
  }
 },
 "nbformat": 4,
 "nbformat_minor": 2
}
