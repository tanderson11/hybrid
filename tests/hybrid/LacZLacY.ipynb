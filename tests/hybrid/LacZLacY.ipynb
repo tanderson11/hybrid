{
 "cells": [
  {
   "cell_type": "markdown",
   "metadata": {},
   "source": [
    "# LacZ/LacY model\n",
    "\n",
    "Citation:\n",
    "1. Kierzek, Andrzej M. 2002. “STOCKS: STOChastic Kinetic Simulations of Biochemical Systems with Gillespie Algorithm.” Bioinformatics 18 (3): 470–81. https://doi.org/10.1093/bioinformatics/18.3.470."
   ]
  },
  {
   "cell_type": "code",
   "execution_count": 1,
   "metadata": {},
   "outputs": [],
   "source": [
    "from reactionmodel.model import Species, Reaction, Model\n",
    "import numpy as np"
   ]
  },
  {
   "cell_type": "code",
   "execution_count": 2,
   "metadata": {},
   "outputs": [],
   "source": [
    "LacZ = Species('LacZ')\n",
    "LacY = Species('LacY')\n",
    "\n",
    "PLac = Species('PLac')\n",
    "\n",
    "RNAP = Species('RNAP')\n",
    "\n",
    "PLacRNAP = Species('PLacRNAP')\n",
    "\n",
    "\n",
    "TrLacZ1 = Species('TrLacZ1')\n",
    "TrLacY1 = Species('TrLacY1')\n",
    "\n",
    "TrLacZ2 = Species('TrLacZ2')\n",
    "TrLacY2 = Species('TrLacY2')\n",
    "\n",
    "Ribosome = Species('Ribosome')\n",
    "\n",
    "RbsLacZ = Species('RbsLacZ')\n",
    "RbsLacY = Species('RbsLacY')\n",
    "\n",
    "TrRbsLacZ = Species('TrRbsLacZ')\n",
    "TrRbsLacY = Species('TrRbsLacY')\n",
    "\n",
    "dgrLacZ = Species('dgrLacZ')\n",
    "dgrLacY = Species('dgrLacY')\n",
    "\n",
    "dgrRbsLacZ = Species('dgrRbsLacZ')\n",
    "dgrRbsLacY = Species('dgrRbsLacY')\n",
    "\n",
    "RbsRibosomeLacZ = Species('RbsRibosomeLacZ')\n",
    "RbsRibosomeLacY = Species('RbsRibosomeLacY')\n",
    "\n",
    "LacZlactose = Species('LacZlactose')\n",
    "\n",
    "lactose = Species('lactose')\n",
    "product = Species('product')\n",
    "\n",
    "species = [\n",
    "    LacZ,\n",
    "    LacY,\n",
    "    PLac,\n",
    "    RNAP,\n",
    "    PLacRNAP,\n",
    "    TrLacZ1,\n",
    "    TrLacY1,\n",
    "    TrLacZ2,\n",
    "    TrLacY2,\n",
    "    Ribosome,\n",
    "    RbsLacZ,\n",
    "    RbsLacY,\n",
    "    TrRbsLacZ,\n",
    "    TrRbsLacY,\n",
    "    dgrLacZ,\n",
    "    dgrLacY,\n",
    "    dgrRbsLacZ,\n",
    "    dgrRbsLacY,\n",
    "    RbsRibosomeLacZ,\n",
    "    RbsRibosomeLacY,\n",
    "    lactose,\n",
    "    LacZlactose,\n",
    "    product,\n",
    "]\n",
    "\n",
    "reactions = [\n",
    "    Reaction([PLac, RNAP], [PLacRNAP], k=0.17),\n",
    "    Reaction([PLacRNAP], [PLac, RNAP], k=10),\n",
    "    Reaction([PLacRNAP], [TrLacZ1], k=1),\n",
    "    Reaction([TrLacZ1], [RbsLacZ, PLac, TrLacZ2], k=1),\n",
    "    Reaction([TrLacZ2], [TrLacY1], k=0.015),\n",
    "    Reaction([TrLacY1], [RbsLacY, TrLacY2], k=1),\n",
    "    Reaction([TrLacY2], [RNAP], k=0.36),\n",
    "    Reaction([Ribosome, RbsLacZ], [RbsRibosomeLacZ], k=0.17),\n",
    "    Reaction([Ribosome, RbsLacY], [RbsRibosomeLacY], k=0.17),\n",
    "    Reaction([RbsRibosomeLacZ], [Ribosome, RbsLacZ], k=0.45),\n",
    "    Reaction([RbsRibosomeLacY], [Ribosome, RbsLacY], k=0.45),\n",
    "    Reaction([RbsRibosomeLacZ], [TrRbsLacZ, RbsLacZ], k=0.4),\n",
    "    Reaction([RbsRibosomeLacY], [TrRbsLacY, RbsLacY], k=0.4),\n",
    "    Reaction([TrRbsLacZ], [LacZ], k=0.015),\n",
    "    Reaction([TrRbsLacY], [LacY], k=0.036),\n",
    "    Reaction([LacZ], [dgrLacZ], k=6.42e-5),\n",
    "    Reaction([LacY], [dgrLacY], k=6.42e-5),\n",
    "    Reaction([RbsLacZ], [dgrRbsLacZ], k=0.3),\n",
    "    Reaction([RbsLacY], [dgrRbsLacY], k=0.3),\n",
    "    Reaction([LacZ, lactose], [LacZlactose], k=9.52e-5),\n",
    "    Reaction([LacZlactose], [product, LacZ], k=431),\n",
    "    Reaction([LacY], [lactose, LacY], k=14),\n",
    "]\n",
    "\n",
    "# but ribosome and RNAP are supposed to grow over time as volume of the cell decreases (which also affects rate constants of all second order rates, this seems too complicated for us!)\n",
    "\n",
    "m = Model(species, reactions)"
   ]
  },
  {
   "cell_type": "code",
   "execution_count": 3,
   "metadata": {},
   "outputs": [],
   "source": [
    "initial = {\n",
    "    'PLac': 1,\n",
    "    'RNAP': 35,\n",
    "    'Ribosome': 350,\n",
    "}"
   ]
  },
  {
   "cell_type": "code",
   "execution_count": 4,
   "metadata": {},
   "outputs": [],
   "source": [
    "y0 = m.make_initial_condition(initial)"
   ]
  },
  {
   "cell_type": "markdown",
   "metadata": {},
   "source": [
    "## Simulation"
   ]
  },
  {
   "cell_type": "code",
   "execution_count": 5,
   "metadata": {},
   "outputs": [],
   "source": [
    "from hybrid.gillespie import GillespieSimulator\n",
    "\n",
    "simulator = GillespieSimulator(\n",
    "    m.get_k(),\n",
    "    m.stoichiometry(),\n",
    "    m.kinetic_order(),\n",
    ")"
   ]
  },
  {
   "cell_type": "code",
   "execution_count": 14,
   "metadata": {},
   "outputs": [],
   "source": [
    "result = simulator.simulate([0, 2000.0], y0, np.random.default_rng(), history_length=1e8)"
   ]
  },
  {
   "cell_type": "code",
   "execution_count": 26,
   "metadata": {},
   "outputs": [
    {
     "data": {
      "text/plain": [
       "4.502346590967956"
      ]
     },
     "execution_count": 26,
     "metadata": {},
     "output_type": "execute_result"
    },
    {
     "data": {
      "image/png": "[encoded data removed]",
      "text/plain": [
       "<Figure size 640x480 with 1 Axes>"
      ]
     },
     "metadata": {},
     "output_type": "display_data"
    }
   ],
   "source": [
    "import matplotlib.pyplot as plt\n",
    "\n",
    "s = TrRbsLacZ\n",
    "s_history = result.y_history[m.species.index(s), :]\n",
    "\n",
    "plt.plot(result.t_history, s_history)\n",
    "np.mean(s_history)"
   ]
  },
  {
   "cell_type": "code",
   "execution_count": 15,
   "metadata": {},
   "outputs": [
    {
     "data": {
      "text/plain": [
       "array([2.480000e+02, 6.800000e+01, 1.000000e+00, 2.300000e+01,\n",
       "       0.000000e+00, 0.000000e+00, 0.000000e+00, 1.200000e+01,\n",
       "       0.000000e+00, 0.000000e+00, 0.000000e+00, 0.000000e+00,\n",
       "       0.000000e+00, 0.000000e+00, 2.800000e+01, 4.000000e+00,\n",
       "       4.120000e+02, 4.000000e+02, 0.000000e+00, 0.000000e+00,\n",
       "       4.005500e+04, 2.000000e+00, 1.848423e+06])"
      ]
     },
     "execution_count": 15,
     "metadata": {},
     "output_type": "execute_result"
    }
   ],
   "source": [
    "result.y"
   ]
  },
  {
   "cell_type": "code",
   "execution_count": 16,
   "metadata": {},
   "outputs": [
    {
     "data": {
      "text/plain": [
       "Counter({<GillespieStepStatus.stochastic: 2>: 5598332,\n",
       "         <GillespieStepStatus.t_end: 0>: 1})"
      ]
     },
     "execution_count": 16,
     "metadata": {},
     "output_type": "execute_result"
    }
   ],
   "source": [
    "result.status_counter"
   ]
  },
  {
   "cell_type": "code",
   "execution_count": 18,
   "metadata": {},
   "outputs": [
    {
     "data": {
      "text/plain": [
       "array([2.480000e+02, 6.800000e+01, 1.000000e+00, 2.300000e+01,\n",
       "       0.000000e+00, 0.000000e+00, 0.000000e+00, 1.200000e+01,\n",
       "       0.000000e+00, 0.000000e+00, 0.000000e+00, 0.000000e+00,\n",
       "       0.000000e+00, 0.000000e+00, 2.800000e+01, 4.000000e+00,\n",
       "       4.120000e+02, 4.000000e+02, 0.000000e+00, 0.000000e+00,\n",
       "       4.005500e+04, 2.000000e+00, 1.848423e+06])"
      ]
     },
     "execution_count": 18,
     "metadata": {},
     "output_type": "execute_result"
    }
   ],
   "source": [
    "t_2000_result = result.y\n",
    "t_2000_result"
   ]
  },
  {
   "cell_type": "code",
   "execution_count": null,
   "metadata": {},
   "outputs": [],
   "source": []
  }
 ],
 "metadata": {
  "kernelspec": {
   "display_name": ".venv",
   "language": "python",
   "name": "python3"
  },
  "language_info": {
   "codemirror_mode": {
    "name": "ipython",
    "version": 3
   },
   "file_extension": ".py",
   "mimetype": "text/x-python",
   "name": "python",
   "nbconvert_exporter": "python",
   "pygments_lexer": "ipython3",
   "version": "3.9.8"
  }
 },
 "nbformat": 4,
 "nbformat_minor": 2
}
