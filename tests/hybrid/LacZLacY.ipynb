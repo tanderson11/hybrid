{
 "cells": [
  {
   "cell_type": "markdown",
   "metadata": {},
   "source": [
    "# LacZ/LacY model\n",
    "\n",
    "Citation:\n",
    "1. Kierzek, Andrzej M. 2002. “STOCKS: STOChastic Kinetic Simulations of Biochemical Systems with Gillespie Algorithm.” Bioinformatics 18 (3): 470–81. https://doi.org/10.1093/bioinformatics/18.3.470.\n",
    "2. Tian, Tianhai, and Kevin Burrage. 2004. “Binomial Leap Methods for Simulating Stochastic Chemical Kinetics.” The Journal of Chemical Physics 121 (21): 10356–64. https://doi.org/10.1063/1.1810475.\n",
    "\n",
    "Here are the non-trivial aspects of the modeled behavior:\n",
    "- The cell volume is growing over time until it reaches a maximum at a fixed generation time, $T$ (t which point the cell will divide, a process that we ignore) such that $ V(t) = (1 + t/T) $. This generation time was set to be $2100$ seconds (Kierzek, 2002).\n",
    "\n",
    "  - We note that none of the groups that benchmarked the performance of this system made mention of the fact that this explicit time dependence affects the validity of Gillespie's direct method (conventional SSA) and the approximate $\\tau$-leaping method. (Since the STOCKS program is no longer available at the originally offered URL, it is challenging to confirm if the actual simulations were performed through a modified direct method). To account for this time dependence, the hitting time ($\\tau$) of the overall stochastic process unfolding with rate $a_0(t)$ must be calculated implicity according to the following integral, in accordance with the fact that the arrivals occur through an inhomogeneous Poisson process rather than a homogeneous one:\n",
    "\n",
    "$$ \\int_{t_0}^{\\tau} a_0(t) dt \\sim \\text{Exp}(1)$$\n",
    "\n",
    "- The populations of two reactant species are treated specially: at all time steps, RNAP and Ribosome are drawn from random pools $N(35, 3.5^2)$ and $N(350, 35^2)$, respectively, and the means of these distributions grow with the volume of the cell so that their concentration remains fixed. This is intended to correspond to the assumption that the dynamics producing RNAP and Ribosome are much faster than the dynamics of the specified system, and that the dynamic equilibrium producing RNAP and Ribosome is unaffected by the behavior of the specified system (so that the concentration of RNAP and Ribosome remain unchanged).\n",
    "  - Note: drawing from pools with growing means but constant variance does not seem to capture the desired behavior: if the concentration remains fixed in dynamic equilibrium, the molecular counts of RNAP and Ribosome in the cell should be growing in both mean *and* variance (see, for example, Gillespie's discussion of the mathematical basis for the Chemical Langevin equation).\n",
    "  - Note also: that the randomly variable amounts of RNAP and Ribosome are important for a model of the real physical system, but they are incidental to the goal of benchmarking simulation approaches. Since we hope to compare the results of Gillespie simulation to the results of a variety of approximate simulations, it is sufficient to consider the concentrations RNAP and Ribosome to be fixed parameters of system rather than dynamically changing molecular counts. (Note: that fixing these concentrations will introduce time dependence inversely proportional the time dependence of the volume growth of the cell.) As long as the Gillespie simulation and the approximate simulations are conducted with respect to the same system, we can meainingfully compare results.\n",
    "\n",
    "Gillespie on CLE\n",
    "1. Gillespie, Daniel T. 2000. “The Chemical Langevin Equation.” The Journal of Chemical Physics 113 (1): 297–306. https://doi.org/10.1063/1.481811.\n",
    "\n",
    "\n",
    "Citation inhomog Gillespie:\n",
    "  1. Purtan, Raluca Roxana Purnichescu, and Andreea Udrea. 2013. “A Modified Stochastic Simulation Algorithm for Time-Dependent Intensity Rates.” In 2013 19th International Conference on Control Systems and Computer Science, 365–69. https://doi.org/10.1109/CSCS.2013.101."
   ]
  },
  {
   "cell_type": "code",
   "execution_count": 7,
   "metadata": {},
   "outputs": [],
   "source": [
    "import numba\n",
    "import yaml\n",
    "from reactionmodel.model import Species, Reaction, Model\n",
    "import numpy as np"
   ]
  },
  {
   "cell_type": "code",
   "execution_count": 2,
   "metadata": {},
   "outputs": [],
   "source": [
    "LacZ = Species('LacZ')\n",
    "LacY = Species('LacY')\n",
    "\n",
    "PLac = Species('PLac')\n",
    "\n",
    "PLacRNAP = Species('PLacRNAP')\n",
    "\n",
    "\n",
    "TrLacZ1 = Species('TrLacZ1')\n",
    "TrLacY1 = Species('TrLacY1')\n",
    "\n",
    "TrLacZ2 = Species('TrLacZ2')\n",
    "TrLacY2 = Species('TrLacY2')\n",
    "\n",
    "RbsLacZ = Species('RbsLacZ')\n",
    "RbsLacY = Species('RbsLacY')\n",
    "\n",
    "TrRbsLacZ = Species('TrRbsLacZ')\n",
    "TrRbsLacY = Species('TrRbsLacY')\n",
    "\n",
    "dgrLacZ = Species('dgrLacZ')\n",
    "dgrLacY = Species('dgrLacY')\n",
    "\n",
    "dgrRbsLacZ = Species('dgrRbsLacZ')\n",
    "dgrRbsLacY = Species('dgrRbsLacY')\n",
    "\n",
    "RbsRibosomeLacZ = Species('RbsRibosomeLacZ')\n",
    "RbsRibosomeLacY = Species('RbsRibosomeLacY')\n",
    "\n",
    "LacZlactose = Species('LacZlactose')\n",
    "\n",
    "lactose = Species('lactose')\n",
    "product = Species('product')\n",
    "\n",
    "species = [\n",
    "    LacZ,\n",
    "    LacY,\n",
    "    PLac,\n",
    "    PLacRNAP,\n",
    "    TrLacZ1,\n",
    "    TrLacY1,\n",
    "    TrLacZ2,\n",
    "    TrLacY2,\n",
    "    RbsLacZ,\n",
    "    RbsLacY,\n",
    "    TrRbsLacZ,\n",
    "    TrRbsLacY,\n",
    "    dgrLacZ,\n",
    "    dgrLacY,\n",
    "    dgrRbsLacZ,\n",
    "    dgrRbsLacY,\n",
    "    RbsRibosomeLacZ,\n",
    "    RbsRibosomeLacY,\n",
    "    lactose,\n",
    "    LacZlactose,\n",
    "    product,\n",
    "]\n",
    "\n",
    "T = 2100\n",
    "\n",
    "def make_V_dependent_rate(k):\n",
    "    @numba.jit(nopython=True)\n",
    "    def k_of_t(t):\n",
    "        return k / (1 + t/T)\n",
    "    return k_of_t\n",
    "\n",
    "parameters = {\n",
    "    'RNAP': 35,\n",
    "    'Ribosome': 350,\n",
    "}\n",
    "\n",
    "reactions = [\n",
    "    Reaction([PLac], [PLacRNAP], k='0.17 * RNAP'),\n",
    "    Reaction([PLacRNAP], [PLac], k=10), # produces RNAP\n",
    "    Reaction([PLacRNAP], [TrLacZ1], k=1),\n",
    "    Reaction([TrLacZ1], [RbsLacZ, PLac, TrLacZ2], k=1),\n",
    "    Reaction([TrLacZ2], [TrLacY1], k=0.015),\n",
    "    Reaction([TrLacY1], [RbsLacY, TrLacY2], k=1),\n",
    "    Reaction([TrLacY2], [], k=0.36), # produces RNAP\n",
    "    Reaction([RbsLacZ], [RbsRibosomeLacZ], k='0.17 * Ribosome'),\n",
    "    Reaction([RbsLacY], [RbsRibosomeLacY], k='0.17 * Ribosome'),\n",
    "    Reaction([RbsRibosomeLacZ], [RbsLacZ], k=0.45), # produces Ribosome\n",
    "    Reaction([RbsRibosomeLacY], [RbsLacY], k=0.45), # produces Ribosome\n",
    "    Reaction([RbsRibosomeLacZ], [TrRbsLacZ, RbsLacZ], k=0.4),\n",
    "    Reaction([RbsRibosomeLacY], [TrRbsLacY, RbsLacY], k=0.4),\n",
    "    Reaction([TrRbsLacZ], [LacZ], k=0.015),\n",
    "    Reaction([TrRbsLacY], [LacY], k=0.036),\n",
    "    Reaction([LacZ], [dgrLacZ], k=6.42e-5),\n",
    "    Reaction([LacY], [dgrLacY], k=6.42e-5),\n",
    "    Reaction([RbsLacZ], [dgrRbsLacZ], k=0.3),\n",
    "    Reaction([RbsLacY], [dgrRbsLacY], k=0.3),\n",
    "    \n",
    "    # Uncomment one of the two below if you want time independent / time dependent\n",
    "    Reaction([LacZ, lactose], [LacZlactose], k=9.52e-5),\n",
    "    #Reaction([LacZ, lactose], [LacZlactose], k=make_V_dependent_rate(9.52e-5)),\n",
    "\n",
    "    Reaction([LacZlactose], [product, LacZ], k=431),\n",
    "    Reaction([LacY], [lactose, LacY], k=14),\n",
    "]\n",
    "\n",
    "# but ribosome and RNAP are supposed to grow over time as volume of the cell decreases (which also affects rate constants of all second order rates, this seems too complicated for us!)\n",
    "\n",
    "m = Model(species, reactions)"
   ]
  },
  {
   "cell_type": "code",
   "execution_count": 3,
   "metadata": {},
   "outputs": [],
   "source": [
    "initial = {\n",
    "    'PLac': 1,\n",
    "}"
   ]
  },
  {
   "cell_type": "code",
   "execution_count": 4,
   "metadata": {},
   "outputs": [],
   "source": [
    "y0 = m.make_initial_condition(initial)"
   ]
  },
  {
   "cell_type": "markdown",
   "metadata": {},
   "source": [
    "## Simulation"
   ]
  },
  {
   "cell_type": "code",
   "execution_count": 18,
   "metadata": {},
   "outputs": [
    {
     "name": "stdout",
     "output_type": "stream",
     "text": [
      "Evaluating expression: 0.17 * RNAP => 5.95\n",
      "Evaluating expression: 0.17 * Ribosome => 59.50000000000001\n",
      "Evaluating expression: 0.17 * Ribosome => 59.50000000000001\n"
     ]
    }
   ],
   "source": [
    "from hybrid.gillespie import GillespieSimulator\n",
    "\n",
    "simulator = GillespieSimulator(\n",
    "    m.get_k(parameters=parameters, jit=True),\n",
    "    m.stoichiometry(),\n",
    "    m.kinetic_order(),\n",
    ")"
   ]
  },
  {
   "cell_type": "code",
   "execution_count": 56,
   "metadata": {},
   "outputs": [],
   "source": [
    "result = simulator.simulate([0, 300.0], y0, np.random.default_rng(), history_length=1e8)"
   ]
  },
  {
   "cell_type": "code",
   "execution_count": 57,
   "metadata": {},
   "outputs": [
    {
     "ename": "KeyboardInterrupt",
     "evalue": "",
     "output_type": "error",
     "traceback": [
      "\u001b[0;31m---------------------------------------------------------------------------\u001b[0m",
      "\u001b[0;31mKeyboardInterrupt\u001b[0m                         Traceback (most recent call last)",
      "Cell \u001b[0;32mIn[57], line 1\u001b[0m\n\u001b[0;32m----> 1\u001b[0m extended \u001b[38;5;241m=\u001b[39m \u001b[43msimulator\u001b[49m\u001b[38;5;241;43m.\u001b[39;49m\u001b[43msimulate\u001b[49m\u001b[43m(\u001b[49m\u001b[43m[\u001b[49m\u001b[38;5;241;43m300.0\u001b[39;49m\u001b[43m,\u001b[49m\u001b[43m \u001b[49m\u001b[38;5;241;43m305.0\u001b[39;49m\u001b[43m]\u001b[49m\u001b[43m,\u001b[49m\u001b[43m \u001b[49m\u001b[43mresult\u001b[49m\u001b[38;5;241;43m.\u001b[39;49m\u001b[43my\u001b[49m\u001b[43m,\u001b[49m\u001b[43m \u001b[49m\u001b[43mnp\u001b[49m\u001b[38;5;241;43m.\u001b[39;49m\u001b[43mrandom\u001b[49m\u001b[38;5;241;43m.\u001b[39;49m\u001b[43mdefault_rng\u001b[49m\u001b[43m(\u001b[49m\u001b[43m)\u001b[49m\u001b[43m,\u001b[49m\u001b[43m \u001b[49m\u001b[43mhistory_length\u001b[49m\u001b[38;5;241;43m=\u001b[39;49m\u001b[38;5;241;43m1e8\u001b[39;49m\u001b[43m)\u001b[49m\n",
      "File \u001b[0;32m~/develop/hybrid/hybrid/simulator.py:307\u001b[0m, in \u001b[0;36mSimulator.simulate\u001b[0;34m(self, t_span, y0, rng, t_eval, halt, history_length, **step_kwargs)\u001b[0m\n\u001b[1;32m    303\u001b[0m     discontinuity_flag \u001b[38;5;241m=\u001b[39m \u001b[38;5;28;01mTrue\u001b[39;00m\n\u001b[1;32m    305\u001b[0m t_end_step \u001b[38;5;241m=\u001b[39m \u001b[38;5;28mmin\u001b[39m(t_end, np\u001b[38;5;241m.\u001b[39mnextafter(next_discontinuity, \u001b[38;5;241m0\u001b[39m))\n\u001b[0;32m--> 307\u001b[0m step \u001b[38;5;241m=\u001b[39m \u001b[38;5;28;43mself\u001b[39;49m\u001b[38;5;241;43m.\u001b[39;49m\u001b[43mstep\u001b[49m\u001b[43m(\u001b[49m\u001b[38;5;241;43m*\u001b[39;49m\u001b[43mrun\u001b[49m\u001b[38;5;241;43m.\u001b[39;49m\u001b[43mcurrent_state\u001b[49m\u001b[43m(\u001b[49m\u001b[43m)\u001b[49m\u001b[43m,\u001b[49m\u001b[43m \u001b[49m\u001b[43mt_end_step\u001b[49m\u001b[43m,\u001b[49m\u001b[43m \u001b[49m\u001b[43mrng\u001b[49m\u001b[43m,\u001b[49m\u001b[43m \u001b[49m\u001b[43mt_eval\u001b[49m\u001b[43m,\u001b[49m\u001b[43m \u001b[49m\u001b[38;5;241;43m*\u001b[39;49m\u001b[38;5;241;43m*\u001b[39;49m\u001b[43mstep_kwargs\u001b[49m\u001b[43m,\u001b[49m\u001b[43m \u001b[49m\u001b[38;5;241;43m*\u001b[39;49m\u001b[38;5;241;43m*\u001b[39;49m\u001b[43mrun\u001b[49m\u001b[38;5;241;43m.\u001b[39;49m\u001b[43mget_step_kwargs\u001b[49m\u001b[43m(\u001b[49m\u001b[43m)\u001b[49m\u001b[43m)\u001b[49m\n\u001b[1;32m    309\u001b[0m \u001b[38;5;28;01mif\u001b[39;00m discontinuity_flag \u001b[38;5;129;01mand\u001b[39;00m step\u001b[38;5;241m.\u001b[39mstatus \u001b[38;5;241m==\u001b[39m \u001b[38;5;28mself\u001b[39m\u001b[38;5;241m.\u001b[39mstatus_klass\u001b[38;5;241m.\u001b[39mt_end:\n\u001b[1;32m    310\u001b[0m     \u001b[38;5;28mprint\u001b[39m(\u001b[38;5;124mf\u001b[39m\u001b[38;5;124m\"\u001b[39m\u001b[38;5;124mDoing surgery to avoid discontinuity: skipping from \u001b[39m\u001b[38;5;132;01m{\u001b[39;00mstep\u001b[38;5;241m.\u001b[39mt_history[\u001b[38;5;241m-\u001b[39m\u001b[38;5;241m1\u001b[39m]\u001b[38;5;132;01m}\u001b[39;00m\u001b[38;5;124m to \u001b[39m\u001b[38;5;132;01m{\u001b[39;00mnp\u001b[38;5;241m.\u001b[39mnextafter(next_discontinuity,\u001b[38;5;250m \u001b[39mt_end)\u001b[38;5;132;01m}\u001b[39;00m\u001b[38;5;124m\"\u001b[39m)\n",
      "File \u001b[0;32m~/develop/hybrid/hybrid/gillespie.py:49\u001b[0m, in \u001b[0;36mGillespieSimulator.step\u001b[0;34m(self, t, y, t_end, rng, t_eval)\u001b[0m\n\u001b[1;32m     47\u001b[0m     \u001b[38;5;28;01mreturn\u001b[39;00m \u001b[38;5;28mself\u001b[39m\u001b[38;5;241m.\u001b[39mgillespie_step(t, y, t_end, rng, t_eval)\n\u001b[1;32m     48\u001b[0m \u001b[38;5;28;01melse\u001b[39;00m:\n\u001b[0;32m---> 49\u001b[0m     \u001b[38;5;28;01mreturn\u001b[39;00m \u001b[38;5;28;43mself\u001b[39;49m\u001b[38;5;241;43m.\u001b[39;49m\u001b[43mhomogeneous_gillespie_step\u001b[49m\u001b[43m(\u001b[49m\u001b[43mt\u001b[49m\u001b[43m,\u001b[49m\u001b[43m \u001b[49m\u001b[43my\u001b[49m\u001b[43m,\u001b[49m\u001b[43m \u001b[49m\u001b[43mt_end\u001b[49m\u001b[43m,\u001b[49m\u001b[43m \u001b[49m\u001b[43mrng\u001b[49m\u001b[43m,\u001b[49m\u001b[43m \u001b[49m\u001b[43mt_eval\u001b[49m\u001b[43m)\u001b[49m\n",
      "File \u001b[0;32m~/develop/hybrid/hybrid/gillespie.py:205\u001b[0m, in \u001b[0;36mGillespieSimulator.homogeneous_gillespie_step\u001b[0;34m(self, t, y, t_end, rng, t_eval)\u001b[0m\n\u001b[1;32m    204\u001b[0m \u001b[38;5;28;01mdef\u001b[39;00m \u001b[38;5;21mhomogeneous_gillespie_step\u001b[39m(\u001b[38;5;28mself\u001b[39m, t, y, t_end, rng, t_eval):\n\u001b[0;32m--> 205\u001b[0m     propensities \u001b[38;5;241m=\u001b[39m \u001b[38;5;28;43mself\u001b[39;49m\u001b[38;5;241;43m.\u001b[39;49m\u001b[43mpropensity_function\u001b[49m\u001b[43m(\u001b[49m\u001b[43mt\u001b[49m\u001b[43m,\u001b[49m\u001b[43m \u001b[49m\u001b[43my\u001b[49m\u001b[43m)\u001b[49m\n\u001b[1;32m    206\u001b[0m     total_propensity \u001b[38;5;241m=\u001b[39m np\u001b[38;5;241m.\u001b[39msum(propensities)\n\u001b[1;32m    207\u001b[0m     time_proposal \u001b[38;5;241m=\u001b[39m \u001b[38;5;28mself\u001b[39m\u001b[38;5;241m.\u001b[39mfind_hitting_time_homogeneous(total_propensity, rng)\n",
      "File \u001b[0;32m~/develop/hybrid/.venv/lib/python3.9/site-packages/numba/core/serialize.py:30\u001b[0m, in \u001b[0;36m_numba_unpickle\u001b[0;34m(address, bytedata, hashed)\u001b[0m\n\u001b[1;32m     26\u001b[0m \u001b[38;5;66;03m# Keep unpickled object via `numba_unpickle` alive.\u001b[39;00m\n\u001b[1;32m     27\u001b[0m _unpickled_memo \u001b[38;5;241m=\u001b[39m {}\n\u001b[0;32m---> 30\u001b[0m \u001b[38;5;28;01mdef\u001b[39;00m \u001b[38;5;21m_numba_unpickle\u001b[39m(address, bytedata, hashed):\n\u001b[1;32m     31\u001b[0m \u001b[38;5;250m    \u001b[39m\u001b[38;5;124;03m\"\"\"Used by `numba_unpickle` from _helperlib.c\u001b[39;00m\n\u001b[1;32m     32\u001b[0m \n\u001b[1;32m     33\u001b[0m \u001b[38;5;124;03m    Parameters\u001b[39;00m\n\u001b[0;32m   (...)\u001b[0m\n\u001b[1;32m     42\u001b[0m \u001b[38;5;124;03m        unpickled object\u001b[39;00m\n\u001b[1;32m     43\u001b[0m \u001b[38;5;124;03m    \"\"\"\u001b[39;00m\n\u001b[1;32m     44\u001b[0m     key \u001b[38;5;241m=\u001b[39m (address, hashed)\n",
      "File \u001b[0;32m~/develop/hybrid/.venv/lib/python3.9/site-packages/debugpy/_vendored/pydevd/_pydevd_bundle/pydevd_trace_dispatch_regular.py:356\u001b[0m, in \u001b[0;36mThreadTracer.__call__\u001b[0;34m(self, frame, event, arg)\u001b[0m\n\u001b[1;32m    351\u001b[0m         \u001b[38;5;28mself\u001b[39m\u001b[38;5;241m.\u001b[39m_args \u001b[38;5;241m=\u001b[39m args\n\u001b[1;32m    353\u001b[0m \u001b[38;5;66;03m# ENDIF\u001b[39;00m\n\u001b[1;32m    354\u001b[0m \u001b[38;5;66;03m# fmt: on\u001b[39;00m\n\u001b[0;32m--> 356\u001b[0m     \u001b[38;5;28;01mdef\u001b[39;00m \u001b[38;5;21m__call__\u001b[39m(\u001b[38;5;28mself\u001b[39m, frame, event, arg):\n\u001b[1;32m    357\u001b[0m \u001b[38;5;250m        \u001b[39m\u001b[38;5;124;03m\"\"\"This is the callback used when we enter some context in the debugger.\u001b[39;00m\n\u001b[1;32m    358\u001b[0m \n\u001b[1;32m    359\u001b[0m \u001b[38;5;124;03m        We also decorate the thread we are in with info about the debugging.\u001b[39;00m\n\u001b[0;32m   (...)\u001b[0m\n\u001b[1;32m    367\u001b[0m \u001b[38;5;124;03m            This is the global debugger (this method should actually be added as a method to it).\u001b[39;00m\n\u001b[1;32m    368\u001b[0m \u001b[38;5;124;03m        \"\"\"\u001b[39;00m\n\u001b[1;32m    369\u001b[0m         \u001b[38;5;66;03m# fmt: off\u001b[39;00m\n\u001b[1;32m    370\u001b[0m         \u001b[38;5;66;03m# IFDEF CYTHON\u001b[39;00m\n\u001b[1;32m    371\u001b[0m         \u001b[38;5;66;03m# cdef str filename;\u001b[39;00m\n\u001b[0;32m   (...)\u001b[0m\n\u001b[1;32m    382\u001b[0m         \u001b[38;5;66;03m# DEBUG = 'code_to_debug' in frame.f_code.co_filename\u001b[39;00m\n\u001b[1;32m    383\u001b[0m         \u001b[38;5;66;03m# if DEBUG: print('ENTER: trace_dispatch: %s %s %s %s' % (frame.f_code.co_filename, frame.f_lineno, event, frame.f_code.co_name))\u001b[39;00m\n",
      "\u001b[0;31mKeyboardInterrupt\u001b[0m: "
     ]
    }
   ],
   "source": [
    "extended = simulator.simulate([300.0, 305.0], result.y, np.random.default_rng(), history_length=1e8)"
   ]
  },
  {
   "cell_type": "code",
   "execution_count": 58,
   "metadata": {},
   "outputs": [
    {
     "data": {
      "text/plain": [
       "Counter({<GillespieStepStatus.stochastic: 2>: 6634658})"
      ]
     },
     "execution_count": 58,
     "metadata": {},
     "output_type": "execute_result"
    }
   ],
   "source": [
    "result.status_counter"
   ]
  },
  {
   "cell_type": "code",
   "execution_count": 22,
   "metadata": {},
   "outputs": [
    {
     "data": {
      "text/plain": [
       "Counter({<GillespieStepStatus.stochastic: 2>: 115460})"
      ]
     },
     "execution_count": 22,
     "metadata": {},
     "output_type": "execute_result"
    }
   ],
   "source": [
    "extended.status_counter"
   ]
  },
  {
   "cell_type": "code",
   "execution_count": 59,
   "metadata": {},
   "outputs": [
    {
     "data": {
      "text/plain": [
       "304.87587922755336"
      ]
     },
     "execution_count": 59,
     "metadata": {},
     "output_type": "execute_result"
    },
    {
     "data": {
      "image/png": "[encoded data removed]",
      "text/plain": [
       "<Figure size 640x480 with 1 Axes>"
      ]
     },
     "metadata": {},
     "output_type": "display_data"
    }
   ],
   "source": [
    "import matplotlib.pyplot as plt\n",
    "\n",
    "s = TrRbsLacY\n",
    "s_history = result.y_history[m.species.index(s), :]\n",
    "\n",
    "plt.plot(result.t_history, s_history)\n",
    "np.mean(s_history)"
   ]
  },
  {
   "cell_type": "markdown",
   "metadata": {},
   "source": [
    "## Saving initial state"
   ]
  },
  {
   "cell_type": "code",
   "execution_count": 60,
   "metadata": {},
   "outputs": [],
   "source": [
    "import yaml"
   ]
  },
  {
   "cell_type": "code",
   "execution_count": 61,
   "metadata": {},
   "outputs": [],
   "source": [
    "m.save('./laczlacy/model.yaml')"
   ]
  },
  {
   "cell_type": "code",
   "execution_count": 62,
   "metadata": {},
   "outputs": [],
   "source": [
    "advanced_initial_condition = {s.name: int(result.y[i]) for i,s in enumerate(m.species)}\n",
    "\n",
    "with open('./laczlacy/initial.yaml', 'w') as f:\n",
    "    yaml.dump({'initial_condition': advanced_initial_condition}, f, Dumper=yaml.SafeDumper)"
   ]
  },
  {
   "cell_type": "code",
   "execution_count": 63,
   "metadata": {},
   "outputs": [],
   "source": [
    "with open('./laczlacy/parameters.yaml', 'w') as f:\n",
    "    yaml.dump({'parameters': parameters}, f, Dumper=yaml.SafeDumper)"
   ]
  },
  {
   "cell_type": "markdown",
   "metadata": {},
   "source": [
    "# Hybrid simulation"
   ]
  },
  {
   "cell_type": "code",
   "execution_count": 8,
   "metadata": {},
   "outputs": [
    {
     "name": "stdout",
     "output_type": "stream",
     "text": [
      "Evaluating expression: 0.17 * RNAP => 5.95\n",
      "Evaluating expression: 0.17 * Ribosome => 59.50000000000001\n",
      "Evaluating expression: 0.17 * Ribosome => 59.50000000000001\n"
     ]
    }
   ],
   "source": [
    "from hybrid.hybrid import HybridSimulator, NThresholdPartitioner\n",
    "\n",
    "hybrid_simulator = HybridSimulator(\n",
    "    m.get_k(parameters=parameters, jit=True),\n",
    "    m.stoichiometry(),\n",
    "    m.kinetic_order(),\n",
    "    partition_function=NThresholdPartitioner(50.0),\n",
    "    fast_scale='langevin',\n",
    "    approximate_rtot=True,\n",
    "    contrived_no_reaction_rate=20.0,\n",
    "    euler_maruyama_timestep=2e-4\n",
    ")"
   ]
  },
  {
   "cell_type": "code",
   "execution_count": 9,
   "metadata": {},
   "outputs": [],
   "source": [
    "with open('./laczlacy/initial.yaml', 'r') as f:\n",
    "    initial = yaml.load(f, Loader=yaml.SafeLoader)['initial_condition']"
   ]
  },
  {
   "cell_type": "code",
   "execution_count": 10,
   "metadata": {},
   "outputs": [
    {
     "data": {
      "text/plain": [
       "{'LacY': 1843,\n",
       " 'LacZ': 2070,\n",
       " 'LacZlactose': 59,\n",
       " 'PLac': 0,\n",
       " 'PLacRNAP': 1,\n",
       " 'RbsLacY': 0,\n",
       " 'RbsLacZ': 0,\n",
       " 'RbsRibosomeLacY': 33,\n",
       " 'RbsRibosomeLacZ': 44,\n",
       " 'TrLacY1': 0,\n",
       " 'TrLacY2': 3,\n",
       " 'TrLacZ1': 0,\n",
       " 'TrLacZ2': 18,\n",
       " 'TrRbsLacY': 330,\n",
       " 'TrRbsLacZ': 918,\n",
       " 'dgrLacY': 12,\n",
       " 'dgrLacZ': 16,\n",
       " 'dgrRbsLacY': 29,\n",
       " 'dgrRbsLacZ': 36,\n",
       " 'lactose': 130145,\n",
       " 'product': 2158601}"
      ]
     },
     "execution_count": 10,
     "metadata": {},
     "output_type": "execute_result"
    }
   ],
   "source": [
    "initial"
   ]
  },
  {
   "cell_type": "code",
   "execution_count": 27,
   "metadata": {},
   "outputs": [],
   "source": [
    "hybrid_result = hybrid_simulator.simulate([300, 305], m.make_initial_condition(initial), np.random.default_rng())"
   ]
  },
  {
   "cell_type": "code",
   "execution_count": 28,
   "metadata": {},
   "outputs": [
    {
     "data": {
      "text/plain": [
       "Counter({<HybridStepStatus.stochastic_event: 1>: 2058,\n",
       "         <HybridStepStatus.contrived_no_reaction: 4>: 107,\n",
       "         <HybridStepStatus.t_end: 0>: 1})"
      ]
     },
     "execution_count": 28,
     "metadata": {},
     "output_type": "execute_result"
    }
   ],
   "source": [
    "hybrid_result.status_counter"
   ]
  },
  {
   "cell_type": "code",
   "execution_count": 29,
   "metadata": {},
   "outputs": [
    {
     "name": "stdout",
     "output_type": "stream",
     "text": [
      "0.0\n",
      "17.0\n",
      "327.0\n",
      "949.0\n"
     ]
    }
   ],
   "source": [
    "# species cared about (graphed) in the binomial leaping paper\n",
    "interesting_species = [\n",
    "    'RbsLacY',\n",
    "    'TrLacZ2',\n",
    "    'TrRbsLacY',\n",
    "    'TrRbsLacZ'\n",
    "]\n",
    "\n",
    "for s in interesting_species:\n",
    "    print(hybrid_result.y[m.species_name_index[s]])"
   ]
  },
  {
   "cell_type": "markdown",
   "metadata": {},
   "source": [
    "# Tau"
   ]
  },
  {
   "cell_type": "code",
   "execution_count": 23,
   "metadata": {},
   "outputs": [
    {
     "name": "stdout",
     "output_type": "stream",
     "text": [
      "Evaluating expression: 0.17 * RNAP => 5.95\n",
      "Evaluating expression: 0.17 * Ribosome => 59.50000000000001\n",
      "Evaluating expression: 0.17 * Ribosome => 59.50000000000001\n"
     ]
    }
   ],
   "source": [
    "from hybrid.tau import TauLeapSimulator\n",
    "\n",
    "tau_simulator = TauLeapSimulator(\n",
    "    m.get_k(parameters=parameters, jit=True),\n",
    "    m.stoichiometry(),\n",
    "    m.kinetic_order(),\n",
    "    epsilon=0.10\n",
    ")"
   ]
  },
  {
   "cell_type": "code",
   "execution_count": 24,
   "metadata": {},
   "outputs": [
    {
     "name": "stderr",
     "output_type": "stream",
     "text": [
      "/Users/thayer/develop/hybrid/hybrid/tau.py:317: RuntimeWarning: overflow encountered in divide\n",
      "  tau_mu = np.min(np.maximum(np.nan_to_num(y * epsilon / g, 0), 1) / np.abs(mu_hat_i))\n",
      "/Users/thayer/develop/hybrid/hybrid/tau.py:318: RuntimeWarning: overflow encountered in square\n",
      "  tau_sigma = np.min(np.maximum(np.nan_to_num(y * epsilon / g, 0), 1)**2 / np.abs(sigma_2_hat_i))\n"
     ]
    }
   ],
   "source": [
    "tau_result = tau_simulator.simulate([300, 305], m.make_initial_condition(initial), np.random.default_rng())"
   ]
  },
  {
   "cell_type": "code",
   "execution_count": 25,
   "metadata": {},
   "outputs": [
    {
     "data": {
      "text/plain": [
       "Counter({<TauStepStatus.leap: 2>: 7230,\n",
       "         <TauStepStatus.leap_critical_combined: 3>: 377})"
      ]
     },
     "execution_count": 25,
     "metadata": {},
     "output_type": "execute_result"
    }
   ],
   "source": [
    "tau_result.status_counter"
   ]
  },
  {
   "cell_type": "code",
   "execution_count": 30,
   "metadata": {},
   "outputs": [
    {
     "name": "stdout",
     "output_type": "stream",
     "text": [
      "1.0\n",
      "18.0\n",
      "342.0\n",
      "909.0\n"
     ]
    }
   ],
   "source": [
    "for s in interesting_species:\n",
    "    print(tau_result.y[m.species_name_index[s]])"
   ]
  },
  {
   "cell_type": "code",
   "execution_count": null,
   "metadata": {},
   "outputs": [],
   "source": []
  }
 ],
 "metadata": {
  "kernelspec": {
   "display_name": ".venv",
   "language": "python",
   "name": "python3"
  },
  "language_info": {
   "codemirror_mode": {
    "name": "ipython",
    "version": 3
   },
   "file_extension": ".py",
   "mimetype": "text/x-python",
   "name": "python",
   "nbconvert_exporter": "python",
   "pygments_lexer": "ipython3",
   "version": "3.9.8"
  }
 },
 "nbformat": 4,
 "nbformat_minor": 2
}
