{
 "cells": [
  {
   "cell_type": "markdown",
   "metadata": {},
   "source": [
    "# LacZ/LacY model\n",
    "\n",
    "Citation:\n",
    "1. Kierzek, Andrzej M. 2002. “STOCKS: STOChastic Kinetic Simulations of Biochemical Systems with Gillespie Algorithm.” Bioinformatics 18 (3): 470–81. https://doi.org/10.1093/bioinformatics/18.3.470.\n",
    "2. Tian, Tianhai, and Kevin Burrage. 2004. “Binomial Leap Methods for Simulating Stochastic Chemical Kinetics.” The Journal of Chemical Physics 121 (21): 10356–64. https://doi.org/10.1063/1.1810475.\n",
    "\n",
    "Here are the non-trivial aspects of the modeled behavior:\n",
    "- The cell volume is growing over time until it reaches a maximum at a fixed generation time, $T$ (t which point the cell will divide, a process that we ignore) such that $ V(t) = (1 + t/T) $. This generation time was set to be $2100$ seconds (Kierzek, 2002).\n",
    "\n",
    "  - We note that none of the groups that benchmarked the performance of this system made mention of the fact that this explicit time dependence affects the validity of Gillespie's direct method (conventional SSA) and the approximate $\\tau$-leaping method. (Since the STOCKS program is no longer available at the originally offered URL, it is challenging to confirm if the actual simulations were performed through a modified direct method). To account for this time dependence, the hitting time ($\\tau$) of the overall stochastic process unfolding with rate $a_0(t)$ must be calculated implicity according to the following integral, in accordance with the fact that the arrivals occur through an inhomogeneous Poisson process rather than a homogeneous one:\n",
    "\n",
    "$$ \\int_{t_0}^{\\tau} a_0(t) dt \\sim \\text{Exp}(1)$$\n",
    "\n",
    "- The populations of two reactant species are treated specially: at all time steps, RNAP and Ribosome are drawn from random pools $N(35, 3.5^2)$ and $N(350, 35^2)$, respectively, and the means of these distributions grow with the volume of the cell so that their concentration remains fixed. This is intended to correspond to the assumption that the dynamics producing RNAP and Ribosome are much faster than the dynamics of the specified system, and that the dynamic equilibrium producing RNAP and Ribosome is unaffected by the behavior of the specified system (so that the concentration of RNAP and Ribosome remain unchanged).\n",
    "  - Note: drawing from pools with growing means but constant variance does not seem to capture the desired behavior: if the concentration remains fixed in dynamic equilibrium, the molecular counts of RNAP and Ribosome in the cell should be growing in both mean *and* variance (see, for example, Gillespie's discussion of the mathematical basis for the Chemical Langevin equation).\n",
    "  - Note also: that the randomly variable amounts of RNAP and Ribosome are important for a model of the real physical system, but they are incidental to the goal of benchmarking simulation approaches. Since we hope to compare the results of Gillespie simulation to the results of a variety of approximate simulations, it is sufficient to consider the concentrations RNAP and Ribosome to be fixed parameters of system rather than dynamically changing molecular counts. (Note: that fixing these concentrations will introduce time dependence inversely proportional the time dependence of the volume growth of the cell.) As long as the Gillespie simulation and the approximate simulations are conducted with respect to the same system, we can meainingfully compare results.\n",
    "\n",
    "Gillespie on CLE\n",
    "1. Gillespie, Daniel T. 2000. “The Chemical Langevin Equation.” The Journal of Chemical Physics 113 (1): 297–306. https://doi.org/10.1063/1.481811.\n",
    "\n",
    "\n",
    "Citation inhomog Gillespie:\n",
    "  1. Purtan, Raluca Roxana Purnichescu, and Andreea Udrea. 2013. “A Modified Stochastic Simulation Algorithm for Time-Dependent Intensity Rates.” In 2013 19th International Conference on Control Systems and Computer Science, 365–69. https://doi.org/10.1109/CSCS.2013.101."
   ]
  },
  {
   "cell_type": "code",
   "execution_count": 2,
   "metadata": {},
   "outputs": [],
   "source": [
    "import numba\n",
    "from reactionmodel.model import Species, Reaction, Model\n",
    "import numpy as np"
   ]
  },
  {
   "cell_type": "code",
   "execution_count": 32,
   "metadata": {},
   "outputs": [],
   "source": [
    "LacZ = Species('LacZ')\n",
    "LacY = Species('LacY')\n",
    "\n",
    "PLac = Species('PLac')\n",
    "\n",
    "PLacRNAP = Species('PLacRNAP')\n",
    "\n",
    "\n",
    "TrLacZ1 = Species('TrLacZ1')\n",
    "TrLacY1 = Species('TrLacY1')\n",
    "\n",
    "TrLacZ2 = Species('TrLacZ2')\n",
    "TrLacY2 = Species('TrLacY2')\n",
    "\n",
    "RbsLacZ = Species('RbsLacZ')\n",
    "RbsLacY = Species('RbsLacY')\n",
    "\n",
    "TrRbsLacZ = Species('TrRbsLacZ')\n",
    "TrRbsLacY = Species('TrRbsLacY')\n",
    "\n",
    "dgrLacZ = Species('dgrLacZ')\n",
    "dgrLacY = Species('dgrLacY')\n",
    "\n",
    "dgrRbsLacZ = Species('dgrRbsLacZ')\n",
    "dgrRbsLacY = Species('dgrRbsLacY')\n",
    "\n",
    "RbsRibosomeLacZ = Species('RbsRibosomeLacZ')\n",
    "RbsRibosomeLacY = Species('RbsRibosomeLacY')\n",
    "\n",
    "LacZlactose = Species('LacZlactose')\n",
    "\n",
    "lactose = Species('lactose')\n",
    "product = Species('product')\n",
    "\n",
    "species = [\n",
    "    LacZ,\n",
    "    LacY,\n",
    "    PLac,\n",
    "    PLacRNAP,\n",
    "    TrLacZ1,\n",
    "    TrLacY1,\n",
    "    TrLacZ2,\n",
    "    TrLacY2,\n",
    "    RbsLacZ,\n",
    "    RbsLacY,\n",
    "    TrRbsLacZ,\n",
    "    TrRbsLacY,\n",
    "    dgrLacZ,\n",
    "    dgrLacY,\n",
    "    dgrRbsLacZ,\n",
    "    dgrRbsLacY,\n",
    "    RbsRibosomeLacZ,\n",
    "    RbsRibosomeLacY,\n",
    "    lactose,\n",
    "    LacZlactose,\n",
    "    product,\n",
    "]\n",
    "\n",
    "T = 2100\n",
    "\n",
    "def make_V_dependent_rate(k):\n",
    "    @numba.jit(nopython=True)\n",
    "    def k_of_t(t):\n",
    "        return k / (1 + t/T)\n",
    "    return k_of_t\n",
    "\n",
    "parameters = {\n",
    "    'RNAP': 35,\n",
    "    'Ribosome': 350,\n",
    "}\n",
    "\n",
    "reactions = [\n",
    "    Reaction([PLac], [PLacRNAP], k='0.17 * RNAP'),\n",
    "    Reaction([PLacRNAP], [PLac], k=10), # produces RNAP\n",
    "    Reaction([PLacRNAP], [TrLacZ1], k=1),\n",
    "    Reaction([TrLacZ1], [RbsLacZ, PLac, TrLacZ2], k=1),\n",
    "    Reaction([TrLacZ2], [TrLacY1], k=0.015),\n",
    "    Reaction([TrLacY1], [RbsLacY, TrLacY2], k=1),\n",
    "    Reaction([TrLacY2], [], k=0.36), # produces RNAP\n",
    "    Reaction([RbsLacZ], [RbsRibosomeLacZ], k='0.17 * Ribosome'),\n",
    "    Reaction([RbsLacY], [RbsRibosomeLacY], k='0.17 * Ribosome'),\n",
    "    Reaction([RbsRibosomeLacZ], [RbsLacZ], k=0.45), # produces Ribosome\n",
    "    Reaction([RbsRibosomeLacY], [RbsLacY], k=0.45), # produces Ribosome\n",
    "    Reaction([RbsRibosomeLacZ], [TrRbsLacZ, RbsLacZ], k=0.4),\n",
    "    Reaction([RbsRibosomeLacY], [TrRbsLacY, RbsLacY], k=0.4),\n",
    "    Reaction([TrRbsLacZ], [LacZ], k=0.015),\n",
    "    Reaction([TrRbsLacY], [LacY], k=0.036),\n",
    "    Reaction([LacZ], [dgrLacZ], k=6.42e-5),\n",
    "    Reaction([LacY], [dgrLacY], k=6.42e-5),\n",
    "    Reaction([RbsLacZ], [dgrRbsLacZ], k=0.3),\n",
    "    Reaction([RbsLacY], [dgrRbsLacY], k=0.3),\n",
    "    Reaction([LacZ, lactose], [LacZlactose], k=9.52e-5),#k=make_V_dependent_rate(9.52e-5)),\n",
    "    Reaction([LacZlactose], [product, LacZ], k=431),\n",
    "    Reaction([LacY], [lactose, LacY], k=14),\n",
    "]\n",
    "\n",
    "# but ribosome and RNAP are supposed to grow over time as volume of the cell decreases (which also affects rate constants of all second order rates, this seems too complicated for us!)\n",
    "\n",
    "m = Model(species, reactions)"
   ]
  },
  {
   "cell_type": "code",
   "execution_count": 33,
   "metadata": {},
   "outputs": [],
   "source": [
    "initial = {\n",
    "    'PLac': 1,\n",
    "}"
   ]
  },
  {
   "cell_type": "code",
   "execution_count": 34,
   "metadata": {},
   "outputs": [],
   "source": [
    "y0 = m.make_initial_condition(initial)"
   ]
  },
  {
   "cell_type": "markdown",
   "metadata": {},
   "source": [
    "## Simulation"
   ]
  },
  {
   "cell_type": "code",
   "execution_count": 35,
   "metadata": {},
   "outputs": [
    {
     "name": "stdout",
     "output_type": "stream",
     "text": [
      "Evaluating expression: 0.17 * RNAP => 5.95\n",
      "Evaluating expression: 0.17 * Ribosome => 59.50000000000001\n",
      "Evaluating expression: 0.17 * Ribosome => 59.50000000000001\n"
     ]
    }
   ],
   "source": [
    "from hybrid.gillespie import GillespieSimulator\n",
    "\n",
    "simulator = GillespieSimulator(\n",
    "    m.get_k(parameters=parameters, jit=True),\n",
    "    m.stoichiometry(),\n",
    "    m.kinetic_order(),\n",
    ")"
   ]
  },
  {
   "cell_type": "code",
   "execution_count": 36,
   "metadata": {},
   "outputs": [
    {
     "ename": "KeyboardInterrupt",
     "evalue": "",
     "output_type": "error",
     "traceback": [
      "\u001b[0;31m---------------------------------------------------------------------------\u001b[0m",
      "\u001b[0;31mKeyboardInterrupt\u001b[0m                         Traceback (most recent call last)",
      "Cell \u001b[0;32mIn[36], line 1\u001b[0m\n\u001b[0;32m----> 1\u001b[0m result \u001b[38;5;241m=\u001b[39m \u001b[43msimulator\u001b[49m\u001b[38;5;241;43m.\u001b[39;49m\u001b[43msimulate\u001b[49m\u001b[43m(\u001b[49m\u001b[43m[\u001b[49m\u001b[38;5;241;43m0\u001b[39;49m\u001b[43m,\u001b[49m\u001b[43m \u001b[49m\u001b[38;5;241;43m200.0\u001b[39;49m\u001b[43m]\u001b[49m\u001b[43m,\u001b[49m\u001b[43m \u001b[49m\u001b[43my0\u001b[49m\u001b[43m,\u001b[49m\u001b[43m \u001b[49m\u001b[43mnp\u001b[49m\u001b[38;5;241;43m.\u001b[39;49m\u001b[43mrandom\u001b[49m\u001b[38;5;241;43m.\u001b[39;49m\u001b[43mdefault_rng\u001b[49m\u001b[43m(\u001b[49m\u001b[43m)\u001b[49m\u001b[43m,\u001b[49m\u001b[43m \u001b[49m\u001b[43mhistory_length\u001b[49m\u001b[38;5;241;43m=\u001b[39;49m\u001b[38;5;241;43m1e8\u001b[39;49m\u001b[43m)\u001b[49m\n",
      "File \u001b[0;32m~/develop/hybrid/hybrid/simulator.py:285\u001b[0m, in \u001b[0;36mSimulator.simulate\u001b[0;34m(self, t_span, y0, rng, t_eval, halt, history_length, **step_kwargs)\u001b[0m\n\u001b[1;32m    281\u001b[0m     discontinuity_flag \u001b[38;5;241m=\u001b[39m \u001b[38;5;28;01mTrue\u001b[39;00m\n\u001b[1;32m    283\u001b[0m t_end_step \u001b[38;5;241m=\u001b[39m \u001b[38;5;28mmin\u001b[39m(t_end, np\u001b[38;5;241m.\u001b[39mnextafter(next_discontinuity, \u001b[38;5;241m0\u001b[39m))\n\u001b[0;32m--> 285\u001b[0m step \u001b[38;5;241m=\u001b[39m \u001b[38;5;28;43mself\u001b[39;49m\u001b[38;5;241;43m.\u001b[39;49m\u001b[43mstep\u001b[49m\u001b[43m(\u001b[49m\u001b[38;5;241;43m*\u001b[39;49m\u001b[43mrun\u001b[49m\u001b[38;5;241;43m.\u001b[39;49m\u001b[43mcurrent_state\u001b[49m\u001b[43m(\u001b[49m\u001b[43m)\u001b[49m\u001b[43m,\u001b[49m\u001b[43m \u001b[49m\u001b[43mt_end_step\u001b[49m\u001b[43m,\u001b[49m\u001b[43m \u001b[49m\u001b[43mrng\u001b[49m\u001b[43m,\u001b[49m\u001b[43m \u001b[49m\u001b[43mt_eval\u001b[49m\u001b[43m,\u001b[49m\u001b[43m \u001b[49m\u001b[38;5;241;43m*\u001b[39;49m\u001b[38;5;241;43m*\u001b[39;49m\u001b[43mstep_kwargs\u001b[49m\u001b[43m,\u001b[49m\u001b[43m \u001b[49m\u001b[38;5;241;43m*\u001b[39;49m\u001b[38;5;241;43m*\u001b[39;49m\u001b[43mrun\u001b[49m\u001b[38;5;241;43m.\u001b[39;49m\u001b[43mget_step_kwargs\u001b[49m\u001b[43m(\u001b[49m\u001b[43m)\u001b[49m\u001b[43m)\u001b[49m\n\u001b[1;32m    287\u001b[0m \u001b[38;5;28;01mif\u001b[39;00m discontinuity_flag \u001b[38;5;129;01mand\u001b[39;00m step\u001b[38;5;241m.\u001b[39mstatus \u001b[38;5;241m==\u001b[39m \u001b[38;5;28mself\u001b[39m\u001b[38;5;241m.\u001b[39mstatus_klass\u001b[38;5;241m.\u001b[39mt_end:\n\u001b[1;32m    288\u001b[0m     \u001b[38;5;28mprint\u001b[39m(\u001b[38;5;124mf\u001b[39m\u001b[38;5;124m\"\u001b[39m\u001b[38;5;124mDoing surgery to avoid discontinuity: skipping from \u001b[39m\u001b[38;5;132;01m{\u001b[39;00mstep\u001b[38;5;241m.\u001b[39mt_history[\u001b[38;5;241m-\u001b[39m\u001b[38;5;241m1\u001b[39m]\u001b[38;5;132;01m}\u001b[39;00m\u001b[38;5;124m to \u001b[39m\u001b[38;5;132;01m{\u001b[39;00mnp\u001b[38;5;241m.\u001b[39mnextafter(next_discontinuity,\u001b[38;5;250m \u001b[39mt_end)\u001b[38;5;132;01m}\u001b[39;00m\u001b[38;5;124m\"\u001b[39m)\n",
      "File \u001b[0;32m~/develop/hybrid/hybrid/gillespie.py:23\u001b[0m, in \u001b[0;36mGillespieSimulator.step\u001b[0;34m(self, t, y, t_end, rng, t_eval)\u001b[0m\n\u001b[1;32m     21\u001b[0m \u001b[38;5;28;01mdef\u001b[39;00m \u001b[38;5;21mstep\u001b[39m(\u001b[38;5;28mself\u001b[39m, t, y, t_end, rng, t_eval):\n\u001b[1;32m     22\u001b[0m     \u001b[38;5;28;01mif\u001b[39;00m \u001b[38;5;28mself\u001b[39m\u001b[38;5;241m.\u001b[39minhomogeneous:\n\u001b[0;32m---> 23\u001b[0m         \u001b[38;5;28;01mreturn\u001b[39;00m \u001b[38;5;28;43mself\u001b[39;49m\u001b[38;5;241;43m.\u001b[39;49m\u001b[43mgillespie_step\u001b[49m\u001b[43m(\u001b[49m\u001b[43mt\u001b[49m\u001b[43m,\u001b[49m\u001b[43m \u001b[49m\u001b[43my\u001b[49m\u001b[43m,\u001b[49m\u001b[43m \u001b[49m\u001b[43mt_end\u001b[49m\u001b[43m,\u001b[49m\u001b[43m \u001b[49m\u001b[43mrng\u001b[49m\u001b[43m,\u001b[49m\u001b[43m \u001b[49m\u001b[43mt_eval\u001b[49m\u001b[43m)\u001b[49m\n\u001b[1;32m     24\u001b[0m     \u001b[38;5;28;01melse\u001b[39;00m:\n\u001b[1;32m     25\u001b[0m         \u001b[38;5;28;01mreturn\u001b[39;00m \u001b[38;5;28mself\u001b[39m\u001b[38;5;241m.\u001b[39mhomogeneous_gillespie_step(t, y, t_end, rng, t_eval)\n",
      "File \u001b[0;32m~/develop/hybrid/hybrid/gillespie.py:139\u001b[0m, in \u001b[0;36mGillespieSimulator.gillespie_step\u001b[0;34m(self, t, y, t_end, rng, t_eval)\u001b[0m\n\u001b[1;32m    136\u001b[0m         propensities \u001b[38;5;241m=\u001b[39m \u001b[38;5;28mself\u001b[39m\u001b[38;5;241m.\u001b[39mpropensity_function(t, y)\n\u001b[1;32m    137\u001b[0m         \u001b[38;5;28;01mreturn\u001b[39;00m propensities[\u001b[38;5;241m~\u001b[39mnoncontributing_reactions]\n\u001b[0;32m--> 139\u001b[0m     hitting_time \u001b[38;5;241m=\u001b[39m \u001b[38;5;28;43mself\u001b[39;49m\u001b[38;5;241;43m.\u001b[39;49m\u001b[43mfind_hitting_time_inhomogenous\u001b[49m\u001b[43m(\u001b[49m\u001b[43mt\u001b[49m\u001b[43m,\u001b[49m\u001b[43m \u001b[49m\u001b[43my\u001b[49m\u001b[43m,\u001b[49m\u001b[43m \u001b[49m\u001b[43mpropensity_function\u001b[49m\u001b[43m,\u001b[49m\u001b[43m \u001b[49m\u001b[43mrng\u001b[49m\u001b[43m)\u001b[49m\n\u001b[1;32m    141\u001b[0m \u001b[38;5;28;01mif\u001b[39;00m t \u001b[38;5;241m+\u001b[39m hitting_time \u001b[38;5;241m>\u001b[39m t_end:\n\u001b[1;32m    142\u001b[0m     update \u001b[38;5;241m=\u001b[39m np\u001b[38;5;241m.\u001b[39mzeros_like(y)\n",
      "File \u001b[0;32m~/develop/hybrid/hybrid/gillespie.py:67\u001b[0m, in \u001b[0;36mGillespieSimulator.find_hitting_time_inhomogenous\u001b[0;34m(cls, t, y, propensity_function, rng)\u001b[0m\n\u001b[1;32m     62\u001b[0m \u001b[38;5;66;03m#hitting_point = 1\u001b[39;00m\n\u001b[1;32m     63\u001b[0m \u001b[38;5;66;03m#hitting_point = np.log(1/rng.random())\u001b[39;00m\n\u001b[1;32m     65\u001b[0m f \u001b[38;5;241m=\u001b[39m \u001b[38;5;28mcls\u001b[39m\u001b[38;5;241m.\u001b[39minhomogeneous_upper_bound_f_factory(t, y, hitting_point, propensity_function)\n\u001b[0;32m---> 67\u001b[0m least_sqs \u001b[38;5;241m=\u001b[39m \u001b[43mleast_squares\u001b[49m\u001b[43m(\u001b[49m\u001b[43mf\u001b[49m\u001b[43m,\u001b[49m\u001b[43m \u001b[49m\u001b[43mx0\u001b[49m\u001b[38;5;241;43m=\u001b[39;49m\u001b[38;5;241;43m0.1\u001b[39;49m\u001b[43m,\u001b[49m\u001b[43m \u001b[49m\u001b[43mbounds\u001b[49m\u001b[38;5;241;43m=\u001b[39;49m\u001b[43m(\u001b[49m\u001b[38;5;241;43m0.0\u001b[39;49m\u001b[43m,\u001b[49m\u001b[43m \u001b[49m\u001b[43mnp\u001b[49m\u001b[38;5;241;43m.\u001b[39;49m\u001b[43minf\u001b[49m\u001b[43m)\u001b[49m\u001b[43m)\u001b[49m\n\u001b[1;32m     68\u001b[0m hitting_time \u001b[38;5;241m=\u001b[39m least_sqs\u001b[38;5;241m.\u001b[39mx[\u001b[38;5;241m0\u001b[39m]\n\u001b[1;32m     70\u001b[0m \u001b[38;5;28;01mif\u001b[39;00m \u001b[38;5;129;01mnot\u001b[39;00m least_sqs\u001b[38;5;241m.\u001b[39msuccess:\n",
      "File \u001b[0;32m~/develop/hybrid/.venv/lib/python3.9/site-packages/scipy/optimize/_lsq/least_squares.py:941\u001b[0m, in \u001b[0;36mleast_squares\u001b[0;34m(fun, x0, jac, bounds, method, ftol, xtol, gtol, x_scale, loss, f_scale, diff_step, tr_solver, tr_options, jac_sparsity, max_nfev, verbose, args, kwargs)\u001b[0m\n\u001b[1;32m    937\u001b[0m     result \u001b[38;5;241m=\u001b[39m call_minpack(fun_wrapped, x0, jac_wrapped, ftol, xtol, gtol,\n\u001b[1;32m    938\u001b[0m                           max_nfev, x_scale, diff_step)\n\u001b[1;32m    940\u001b[0m \u001b[38;5;28;01melif\u001b[39;00m method \u001b[38;5;241m==\u001b[39m \u001b[38;5;124m'\u001b[39m\u001b[38;5;124mtrf\u001b[39m\u001b[38;5;124m'\u001b[39m:\n\u001b[0;32m--> 941\u001b[0m     result \u001b[38;5;241m=\u001b[39m \u001b[43mtrf\u001b[49m\u001b[43m(\u001b[49m\u001b[43mfun_wrapped\u001b[49m\u001b[43m,\u001b[49m\u001b[43m \u001b[49m\u001b[43mjac_wrapped\u001b[49m\u001b[43m,\u001b[49m\u001b[43m \u001b[49m\u001b[43mx0\u001b[49m\u001b[43m,\u001b[49m\u001b[43m \u001b[49m\u001b[43mf0\u001b[49m\u001b[43m,\u001b[49m\u001b[43m \u001b[49m\u001b[43mJ0\u001b[49m\u001b[43m,\u001b[49m\u001b[43m \u001b[49m\u001b[43mlb\u001b[49m\u001b[43m,\u001b[49m\u001b[43m \u001b[49m\u001b[43mub\u001b[49m\u001b[43m,\u001b[49m\u001b[43m \u001b[49m\u001b[43mftol\u001b[49m\u001b[43m,\u001b[49m\u001b[43m \u001b[49m\u001b[43mxtol\u001b[49m\u001b[43m,\u001b[49m\n\u001b[1;32m    942\u001b[0m \u001b[43m                 \u001b[49m\u001b[43mgtol\u001b[49m\u001b[43m,\u001b[49m\u001b[43m \u001b[49m\u001b[43mmax_nfev\u001b[49m\u001b[43m,\u001b[49m\u001b[43m \u001b[49m\u001b[43mx_scale\u001b[49m\u001b[43m,\u001b[49m\u001b[43m \u001b[49m\u001b[43mloss_function\u001b[49m\u001b[43m,\u001b[49m\u001b[43m \u001b[49m\u001b[43mtr_solver\u001b[49m\u001b[43m,\u001b[49m\n\u001b[1;32m    943\u001b[0m \u001b[43m                 \u001b[49m\u001b[43mtr_options\u001b[49m\u001b[38;5;241;43m.\u001b[39;49m\u001b[43mcopy\u001b[49m\u001b[43m(\u001b[49m\u001b[43m)\u001b[49m\u001b[43m,\u001b[49m\u001b[43m \u001b[49m\u001b[43mverbose\u001b[49m\u001b[43m)\u001b[49m\n\u001b[1;32m    945\u001b[0m \u001b[38;5;28;01melif\u001b[39;00m method \u001b[38;5;241m==\u001b[39m \u001b[38;5;124m'\u001b[39m\u001b[38;5;124mdogbox\u001b[39m\u001b[38;5;124m'\u001b[39m:\n\u001b[1;32m    946\u001b[0m     \u001b[38;5;28;01mif\u001b[39;00m tr_solver \u001b[38;5;241m==\u001b[39m \u001b[38;5;124m'\u001b[39m\u001b[38;5;124mlsmr\u001b[39m\u001b[38;5;124m'\u001b[39m \u001b[38;5;129;01mand\u001b[39;00m \u001b[38;5;124m'\u001b[39m\u001b[38;5;124mregularize\u001b[39m\u001b[38;5;124m'\u001b[39m \u001b[38;5;129;01min\u001b[39;00m tr_options:\n",
      "File \u001b[0;32m~/develop/hybrid/.venv/lib/python3.9/site-packages/scipy/optimize/_lsq/trf.py:123\u001b[0m, in \u001b[0;36mtrf\u001b[0;34m(fun, jac, x0, f0, J0, lb, ub, ftol, xtol, gtol, max_nfev, x_scale, loss_function, tr_solver, tr_options, verbose)\u001b[0m\n\u001b[1;32m    119\u001b[0m     \u001b[38;5;28;01mreturn\u001b[39;00m trf_no_bounds(\n\u001b[1;32m    120\u001b[0m         fun, jac, x0, f0, J0, ftol, xtol, gtol, max_nfev, x_scale,\n\u001b[1;32m    121\u001b[0m         loss_function, tr_solver, tr_options, verbose)\n\u001b[1;32m    122\u001b[0m \u001b[38;5;28;01melse\u001b[39;00m:\n\u001b[0;32m--> 123\u001b[0m     \u001b[38;5;28;01mreturn\u001b[39;00m \u001b[43mtrf_bounds\u001b[49m\u001b[43m(\u001b[49m\n\u001b[1;32m    124\u001b[0m \u001b[43m        \u001b[49m\u001b[43mfun\u001b[49m\u001b[43m,\u001b[49m\u001b[43m \u001b[49m\u001b[43mjac\u001b[49m\u001b[43m,\u001b[49m\u001b[43m \u001b[49m\u001b[43mx0\u001b[49m\u001b[43m,\u001b[49m\u001b[43m \u001b[49m\u001b[43mf0\u001b[49m\u001b[43m,\u001b[49m\u001b[43m \u001b[49m\u001b[43mJ0\u001b[49m\u001b[43m,\u001b[49m\u001b[43m \u001b[49m\u001b[43mlb\u001b[49m\u001b[43m,\u001b[49m\u001b[43m \u001b[49m\u001b[43mub\u001b[49m\u001b[43m,\u001b[49m\u001b[43m \u001b[49m\u001b[43mftol\u001b[49m\u001b[43m,\u001b[49m\u001b[43m \u001b[49m\u001b[43mxtol\u001b[49m\u001b[43m,\u001b[49m\u001b[43m \u001b[49m\u001b[43mgtol\u001b[49m\u001b[43m,\u001b[49m\u001b[43m \u001b[49m\u001b[43mmax_nfev\u001b[49m\u001b[43m,\u001b[49m\u001b[43m \u001b[49m\u001b[43mx_scale\u001b[49m\u001b[43m,\u001b[49m\n\u001b[1;32m    125\u001b[0m \u001b[43m        \u001b[49m\u001b[43mloss_function\u001b[49m\u001b[43m,\u001b[49m\u001b[43m \u001b[49m\u001b[43mtr_solver\u001b[49m\u001b[43m,\u001b[49m\u001b[43m \u001b[49m\u001b[43mtr_options\u001b[49m\u001b[43m,\u001b[49m\u001b[43m \u001b[49m\u001b[43mverbose\u001b[49m\u001b[43m)\u001b[49m\n",
      "File \u001b[0;32m~/develop/hybrid/.venv/lib/python3.9/site-packages/scipy/optimize/_lsq/trf.py:374\u001b[0m, in \u001b[0;36mtrf_bounds\u001b[0;34m(fun, jac, x0, f0, J0, lb, ub, ftol, xtol, gtol, max_nfev, x_scale, loss_function, tr_solver, tr_options, verbose)\u001b[0m\n\u001b[1;32m    370\u001b[0m f_true \u001b[38;5;241m=\u001b[39m f\u001b[38;5;241m.\u001b[39mcopy()\n\u001b[1;32m    372\u001b[0m cost \u001b[38;5;241m=\u001b[39m cost_new\n\u001b[0;32m--> 374\u001b[0m J \u001b[38;5;241m=\u001b[39m \u001b[43mjac\u001b[49m\u001b[43m(\u001b[49m\u001b[43mx\u001b[49m\u001b[43m,\u001b[49m\u001b[43m \u001b[49m\u001b[43mf\u001b[49m\u001b[43m)\u001b[49m\n\u001b[1;32m    375\u001b[0m njev \u001b[38;5;241m+\u001b[39m\u001b[38;5;241m=\u001b[39m \u001b[38;5;241m1\u001b[39m\n\u001b[1;32m    377\u001b[0m \u001b[38;5;28;01mif\u001b[39;00m loss_function \u001b[38;5;129;01mis\u001b[39;00m \u001b[38;5;129;01mnot\u001b[39;00m \u001b[38;5;28;01mNone\u001b[39;00m:\n",
      "File \u001b[0;32m~/develop/hybrid/.venv/lib/python3.9/site-packages/scipy/optimize/_lsq/least_squares.py:898\u001b[0m, in \u001b[0;36mleast_squares.<locals>.jac_wrapped\u001b[0;34m(x, f)\u001b[0m\n\u001b[1;32m    897\u001b[0m \u001b[38;5;28;01mdef\u001b[39;00m \u001b[38;5;21mjac_wrapped\u001b[39m(x, f):\n\u001b[0;32m--> 898\u001b[0m     J \u001b[38;5;241m=\u001b[39m \u001b[43mapprox_derivative\u001b[49m\u001b[43m(\u001b[49m\u001b[43mfun\u001b[49m\u001b[43m,\u001b[49m\u001b[43m \u001b[49m\u001b[43mx\u001b[49m\u001b[43m,\u001b[49m\u001b[43m \u001b[49m\u001b[43mrel_step\u001b[49m\u001b[38;5;241;43m=\u001b[39;49m\u001b[43mdiff_step\u001b[49m\u001b[43m,\u001b[49m\u001b[43m \u001b[49m\u001b[43mmethod\u001b[49m\u001b[38;5;241;43m=\u001b[39;49m\u001b[43mjac\u001b[49m\u001b[43m,\u001b[49m\n\u001b[1;32m    899\u001b[0m \u001b[43m                          \u001b[49m\u001b[43mf0\u001b[49m\u001b[38;5;241;43m=\u001b[39;49m\u001b[43mf\u001b[49m\u001b[43m,\u001b[49m\u001b[43m \u001b[49m\u001b[43mbounds\u001b[49m\u001b[38;5;241;43m=\u001b[39;49m\u001b[43mbounds\u001b[49m\u001b[43m,\u001b[49m\u001b[43m \u001b[49m\u001b[43margs\u001b[49m\u001b[38;5;241;43m=\u001b[39;49m\u001b[43margs\u001b[49m\u001b[43m,\u001b[49m\n\u001b[1;32m    900\u001b[0m \u001b[43m                          \u001b[49m\u001b[43mkwargs\u001b[49m\u001b[38;5;241;43m=\u001b[39;49m\u001b[43mkwargs\u001b[49m\u001b[43m,\u001b[49m\u001b[43m \u001b[49m\u001b[43msparsity\u001b[49m\u001b[38;5;241;43m=\u001b[39;49m\u001b[43mjac_sparsity\u001b[49m\u001b[43m)\u001b[49m\n\u001b[1;32m    901\u001b[0m     \u001b[38;5;28;01mif\u001b[39;00m J\u001b[38;5;241m.\u001b[39mndim \u001b[38;5;241m!=\u001b[39m \u001b[38;5;241m2\u001b[39m:  \u001b[38;5;66;03m# J is guaranteed not sparse.\u001b[39;00m\n\u001b[1;32m    902\u001b[0m         J \u001b[38;5;241m=\u001b[39m np\u001b[38;5;241m.\u001b[39matleast_2d(J)\n",
      "File \u001b[0;32m~/develop/hybrid/.venv/lib/python3.9/site-packages/scipy/optimize/_numdiff.py:519\u001b[0m, in \u001b[0;36mapprox_derivative\u001b[0;34m(fun, x0, method, rel_step, abs_step, f0, bounds, sparsity, as_linear_operator, args, kwargs)\u001b[0m\n\u001b[1;32m    516\u001b[0m     use_one_sided \u001b[38;5;241m=\u001b[39m \u001b[38;5;28;01mFalse\u001b[39;00m\n\u001b[1;32m    518\u001b[0m \u001b[38;5;28;01mif\u001b[39;00m sparsity \u001b[38;5;129;01mis\u001b[39;00m \u001b[38;5;28;01mNone\u001b[39;00m:\n\u001b[0;32m--> 519\u001b[0m     \u001b[38;5;28;01mreturn\u001b[39;00m \u001b[43m_dense_difference\u001b[49m\u001b[43m(\u001b[49m\u001b[43mfun_wrapped\u001b[49m\u001b[43m,\u001b[49m\u001b[43m \u001b[49m\u001b[43mx0\u001b[49m\u001b[43m,\u001b[49m\u001b[43m \u001b[49m\u001b[43mf0\u001b[49m\u001b[43m,\u001b[49m\u001b[43m \u001b[49m\u001b[43mh\u001b[49m\u001b[43m,\u001b[49m\n\u001b[1;32m    520\u001b[0m \u001b[43m                             \u001b[49m\u001b[43muse_one_sided\u001b[49m\u001b[43m,\u001b[49m\u001b[43m \u001b[49m\u001b[43mmethod\u001b[49m\u001b[43m)\u001b[49m\n\u001b[1;32m    521\u001b[0m \u001b[38;5;28;01melse\u001b[39;00m:\n\u001b[1;32m    522\u001b[0m     \u001b[38;5;28;01mif\u001b[39;00m \u001b[38;5;129;01mnot\u001b[39;00m issparse(sparsity) \u001b[38;5;129;01mand\u001b[39;00m \u001b[38;5;28mlen\u001b[39m(sparsity) \u001b[38;5;241m==\u001b[39m \u001b[38;5;241m2\u001b[39m:\n",
      "File \u001b[0;32m~/develop/hybrid/.venv/lib/python3.9/site-packages/scipy/optimize/_numdiff.py:590\u001b[0m, in \u001b[0;36m_dense_difference\u001b[0;34m(fun, x0, f0, h, use_one_sided, method)\u001b[0m\n\u001b[1;32m    588\u001b[0m     x \u001b[38;5;241m=\u001b[39m x0 \u001b[38;5;241m+\u001b[39m h_vecs[i]\n\u001b[1;32m    589\u001b[0m     dx \u001b[38;5;241m=\u001b[39m x[i] \u001b[38;5;241m-\u001b[39m x0[i]  \u001b[38;5;66;03m# Recompute dx as exactly representable number.\u001b[39;00m\n\u001b[0;32m--> 590\u001b[0m     df \u001b[38;5;241m=\u001b[39m \u001b[43mfun\u001b[49m\u001b[43m(\u001b[49m\u001b[43mx\u001b[49m\u001b[43m)\u001b[49m \u001b[38;5;241m-\u001b[39m f0\n\u001b[1;32m    591\u001b[0m \u001b[38;5;28;01melif\u001b[39;00m method \u001b[38;5;241m==\u001b[39m \u001b[38;5;124m'\u001b[39m\u001b[38;5;124m3-point\u001b[39m\u001b[38;5;124m'\u001b[39m \u001b[38;5;129;01mand\u001b[39;00m use_one_sided[i]:\n\u001b[1;32m    592\u001b[0m     x1 \u001b[38;5;241m=\u001b[39m x0 \u001b[38;5;241m+\u001b[39m h_vecs[i]\n",
      "File \u001b[0;32m~/develop/hybrid/.venv/lib/python3.9/site-packages/scipy/optimize/_numdiff.py:470\u001b[0m, in \u001b[0;36mapprox_derivative.<locals>.fun_wrapped\u001b[0;34m(x)\u001b[0m\n\u001b[1;32m    467\u001b[0m \u001b[38;5;28;01mif\u001b[39;00m xp\u001b[38;5;241m.\u001b[39misdtype(x\u001b[38;5;241m.\u001b[39mdtype, \u001b[38;5;124m\"\u001b[39m\u001b[38;5;124mreal floating\u001b[39m\u001b[38;5;124m\"\u001b[39m):\n\u001b[1;32m    468\u001b[0m     x \u001b[38;5;241m=\u001b[39m xp\u001b[38;5;241m.\u001b[39mastype(x, x0\u001b[38;5;241m.\u001b[39mdtype)\n\u001b[0;32m--> 470\u001b[0m f \u001b[38;5;241m=\u001b[39m np\u001b[38;5;241m.\u001b[39matleast_1d(\u001b[43mfun\u001b[49m\u001b[43m(\u001b[49m\u001b[43mx\u001b[49m\u001b[43m,\u001b[49m\u001b[43m \u001b[49m\u001b[38;5;241;43m*\u001b[39;49m\u001b[43margs\u001b[49m\u001b[43m,\u001b[49m\u001b[43m \u001b[49m\u001b[38;5;241;43m*\u001b[39;49m\u001b[38;5;241;43m*\u001b[39;49m\u001b[43mkwargs\u001b[49m\u001b[43m)\u001b[49m)\n\u001b[1;32m    471\u001b[0m \u001b[38;5;28;01mif\u001b[39;00m f\u001b[38;5;241m.\u001b[39mndim \u001b[38;5;241m>\u001b[39m \u001b[38;5;241m1\u001b[39m:\n\u001b[1;32m    472\u001b[0m     \u001b[38;5;28;01mraise\u001b[39;00m \u001b[38;5;167;01mRuntimeError\u001b[39;00m(\u001b[38;5;124m\"\u001b[39m\u001b[38;5;124m`fun` return value has \u001b[39m\u001b[38;5;124m\"\u001b[39m\n\u001b[1;32m    473\u001b[0m                        \u001b[38;5;124m\"\u001b[39m\u001b[38;5;124mmore than 1 dimension.\u001b[39m\u001b[38;5;124m\"\u001b[39m)\n",
      "File \u001b[0;32m~/develop/hybrid/hybrid/gillespie.py:86\u001b[0m, in \u001b[0;36mGillespieSimulator.inhomogeneous_upper_bound_f_factory.<locals>.objective_function\u001b[0;34m(tau)\u001b[0m\n\u001b[1;32m     85\u001b[0m \u001b[38;5;28;01mdef\u001b[39;00m \u001b[38;5;21mobjective_function\u001b[39m(tau):\n\u001b[0;32m---> 86\u001b[0m     integral \u001b[38;5;241m=\u001b[39m \u001b[43mquad\u001b[49m\u001b[43m(\u001b[49m\u001b[43mpropensity_wrapped\u001b[49m\u001b[43m,\u001b[49m\u001b[43m \u001b[49m\u001b[43mt\u001b[49m\u001b[43m,\u001b[49m\u001b[43m \u001b[49m\u001b[43mt\u001b[49m\u001b[38;5;241;43m+\u001b[39;49m\u001b[43mtau\u001b[49m\u001b[43m)\u001b[49m[\u001b[38;5;241m0\u001b[39m]\n\u001b[1;32m     87\u001b[0m     \u001b[38;5;28;01mif\u001b[39;00m integral \u001b[38;5;241m==\u001b[39m \u001b[38;5;241m0.\u001b[39m:\n\u001b[1;32m     88\u001b[0m         \u001b[38;5;28;01mreturn\u001b[39;00m np\u001b[38;5;241m.\u001b[39minf\n",
      "File \u001b[0;32m~/develop/hybrid/.venv/lib/python3.9/site-packages/scipy/integrate/_quadpack_py.py:464\u001b[0m, in \u001b[0;36mquad\u001b[0;34m(func, a, b, args, full_output, epsabs, epsrel, limit, points, weight, wvar, wopts, maxp1, limlst, complex_func)\u001b[0m\n\u001b[1;32m    461\u001b[0m     \u001b[38;5;28;01mreturn\u001b[39;00m retval\n\u001b[1;32m    463\u001b[0m \u001b[38;5;28;01mif\u001b[39;00m weight \u001b[38;5;129;01mis\u001b[39;00m \u001b[38;5;28;01mNone\u001b[39;00m:\n\u001b[0;32m--> 464\u001b[0m     retval \u001b[38;5;241m=\u001b[39m \u001b[43m_quad\u001b[49m\u001b[43m(\u001b[49m\u001b[43mfunc\u001b[49m\u001b[43m,\u001b[49m\u001b[43m \u001b[49m\u001b[43ma\u001b[49m\u001b[43m,\u001b[49m\u001b[43m \u001b[49m\u001b[43mb\u001b[49m\u001b[43m,\u001b[49m\u001b[43m \u001b[49m\u001b[43margs\u001b[49m\u001b[43m,\u001b[49m\u001b[43m \u001b[49m\u001b[43mfull_output\u001b[49m\u001b[43m,\u001b[49m\u001b[43m \u001b[49m\u001b[43mepsabs\u001b[49m\u001b[43m,\u001b[49m\u001b[43m \u001b[49m\u001b[43mepsrel\u001b[49m\u001b[43m,\u001b[49m\u001b[43m \u001b[49m\u001b[43mlimit\u001b[49m\u001b[43m,\u001b[49m\n\u001b[1;32m    465\u001b[0m \u001b[43m                   \u001b[49m\u001b[43mpoints\u001b[49m\u001b[43m)\u001b[49m\n\u001b[1;32m    466\u001b[0m \u001b[38;5;28;01melse\u001b[39;00m:\n\u001b[1;32m    467\u001b[0m     \u001b[38;5;28;01mif\u001b[39;00m points \u001b[38;5;129;01mis\u001b[39;00m \u001b[38;5;129;01mnot\u001b[39;00m \u001b[38;5;28;01mNone\u001b[39;00m:\n",
      "File \u001b[0;32m~/develop/hybrid/.venv/lib/python3.9/site-packages/scipy/integrate/_quadpack_py.py:611\u001b[0m, in \u001b[0;36m_quad\u001b[0;34m(func, a, b, args, full_output, epsabs, epsrel, limit, points)\u001b[0m\n\u001b[1;32m    609\u001b[0m \u001b[38;5;28;01mif\u001b[39;00m points \u001b[38;5;129;01mis\u001b[39;00m \u001b[38;5;28;01mNone\u001b[39;00m:\n\u001b[1;32m    610\u001b[0m     \u001b[38;5;28;01mif\u001b[39;00m infbounds \u001b[38;5;241m==\u001b[39m \u001b[38;5;241m0\u001b[39m:\n\u001b[0;32m--> 611\u001b[0m         \u001b[38;5;28;01mreturn\u001b[39;00m \u001b[43m_quadpack\u001b[49m\u001b[38;5;241;43m.\u001b[39;49m\u001b[43m_qagse\u001b[49m\u001b[43m(\u001b[49m\u001b[43mfunc\u001b[49m\u001b[43m,\u001b[49m\u001b[43ma\u001b[49m\u001b[43m,\u001b[49m\u001b[43mb\u001b[49m\u001b[43m,\u001b[49m\u001b[43margs\u001b[49m\u001b[43m,\u001b[49m\u001b[43mfull_output\u001b[49m\u001b[43m,\u001b[49m\u001b[43mepsabs\u001b[49m\u001b[43m,\u001b[49m\u001b[43mepsrel\u001b[49m\u001b[43m,\u001b[49m\u001b[43mlimit\u001b[49m\u001b[43m)\u001b[49m\n\u001b[1;32m    612\u001b[0m     \u001b[38;5;28;01melse\u001b[39;00m:\n\u001b[1;32m    613\u001b[0m         \u001b[38;5;28;01mreturn\u001b[39;00m _quadpack\u001b[38;5;241m.\u001b[39m_qagie(func, bound, infbounds, args, full_output, \n\u001b[1;32m    614\u001b[0m                                 epsabs, epsrel, limit)\n",
      "File \u001b[0;32m~/develop/hybrid/hybrid/gillespie.py:81\u001b[0m, in \u001b[0;36mGillespieSimulator.inhomogeneous_upper_bound_f_factory.<locals>.propensity_wrapped\u001b[0;34m(t)\u001b[0m\n\u001b[1;32m     75\u001b[0m \u001b[38;5;129m@staticmethod\u001b[39m\n\u001b[1;32m     76\u001b[0m \u001b[38;5;28;01mdef\u001b[39;00m \u001b[38;5;21minhomogeneous_upper_bound_f_factory\u001b[39m(t, y, hitting_point, propensity_function):\n\u001b[1;32m     77\u001b[0m     \u001b[38;5;66;03m# we need to solve for the hitting time\u001b[39;00m\n\u001b[1;32m     78\u001b[0m     \u001b[38;5;66;03m# which is the time when hitting_point = integral of propensities\u001b[39;00m\n\u001b[1;32m     79\u001b[0m     \u001b[38;5;66;03m# so we build an objective function of tau that takes a zero when hitting_point = integral\u001b[39;00m\n\u001b[1;32m     80\u001b[0m     \u001b[38;5;66;03m# using numerical minimization we can minimize the objective function to find the time tau\u001b[39;00m\n\u001b[0;32m---> 81\u001b[0m     \u001b[38;5;28;01mdef\u001b[39;00m \u001b[38;5;21mpropensity_wrapped\u001b[39m(t):\n\u001b[1;32m     82\u001b[0m         propensities \u001b[38;5;241m=\u001b[39m propensity_function(t, y)\n\u001b[1;32m     83\u001b[0m         \u001b[38;5;28;01mreturn\u001b[39;00m np\u001b[38;5;241m.\u001b[39msum(propensities)\n",
      "\u001b[0;31mKeyboardInterrupt\u001b[0m: "
     ]
    }
   ],
   "source": [
    "result = simulator.simulate([0, 200.0], y0, np.random.default_rng(), history_length=1e8)"
   ]
  },
  {
   "cell_type": "code",
   "execution_count": 31,
   "metadata": {},
   "outputs": [
    {
     "data": {
      "text/plain": [
       "Counter({<GillespieStepStatus.stochastic: 2>: 886958,\n",
       "         <GillespieStepStatus.t_end: 0>: 1})"
      ]
     },
     "execution_count": 31,
     "metadata": {},
     "output_type": "execute_result"
    }
   ],
   "source": [
    "result.status_counter"
   ]
  },
  {
   "cell_type": "code",
   "execution_count": 30,
   "metadata": {},
   "outputs": [
    {
     "data": {
      "text/plain": [
       "456.095807026247"
      ]
     },
     "execution_count": 30,
     "metadata": {},
     "output_type": "execute_result"
    },
    {
     "data": {
      "image/png": "[encoded data removed]",
      "text/plain": [
       "<Figure size 640x480 with 1 Axes>"
      ]
     },
     "metadata": {},
     "output_type": "display_data"
    }
   ],
   "source": [
    "import matplotlib.pyplot as plt\n",
    "\n",
    "s = TrRbsLacZ\n",
    "s_history = result.y_history[m.species.index(s), :]\n",
    "\n",
    "plt.plot(result.t_history, s_history)\n",
    "np.mean(s_history)"
   ]
  },
  {
   "cell_type": "code",
   "execution_count": 15,
   "metadata": {},
   "outputs": [
    {
     "data": {
      "text/plain": [
       "array([2.480000e+02, 6.800000e+01, 1.000000e+00, 2.300000e+01,\n",
       "       0.000000e+00, 0.000000e+00, 0.000000e+00, 1.200000e+01,\n",
       "       0.000000e+00, 0.000000e+00, 0.000000e+00, 0.000000e+00,\n",
       "       0.000000e+00, 0.000000e+00, 2.800000e+01, 4.000000e+00,\n",
       "       4.120000e+02, 4.000000e+02, 0.000000e+00, 0.000000e+00,\n",
       "       4.005500e+04, 2.000000e+00, 1.848423e+06])"
      ]
     },
     "execution_count": 15,
     "metadata": {},
     "output_type": "execute_result"
    }
   ],
   "source": [
    "result.y"
   ]
  },
  {
   "cell_type": "code",
   "execution_count": 16,
   "metadata": {},
   "outputs": [
    {
     "data": {
      "text/plain": [
       "Counter({<GillespieStepStatus.stochastic: 2>: 5598332,\n",
       "         <GillespieStepStatus.t_end: 0>: 1})"
      ]
     },
     "execution_count": 16,
     "metadata": {},
     "output_type": "execute_result"
    }
   ],
   "source": [
    "result.status_counter"
   ]
  },
  {
   "cell_type": "code",
   "execution_count": 18,
   "metadata": {},
   "outputs": [
    {
     "data": {
      "text/plain": [
       "array([2.480000e+02, 6.800000e+01, 1.000000e+00, 2.300000e+01,\n",
       "       0.000000e+00, 0.000000e+00, 0.000000e+00, 1.200000e+01,\n",
       "       0.000000e+00, 0.000000e+00, 0.000000e+00, 0.000000e+00,\n",
       "       0.000000e+00, 0.000000e+00, 2.800000e+01, 4.000000e+00,\n",
       "       4.120000e+02, 4.000000e+02, 0.000000e+00, 0.000000e+00,\n",
       "       4.005500e+04, 2.000000e+00, 1.848423e+06])"
      ]
     },
     "execution_count": 18,
     "metadata": {},
     "output_type": "execute_result"
    }
   ],
   "source": [
    "t_2000_result = result.y\n",
    "t_2000_result"
   ]
  },
  {
   "cell_type": "code",
   "execution_count": null,
   "metadata": {},
   "outputs": [],
   "source": []
  }
 ],
 "metadata": {
  "kernelspec": {
   "display_name": ".venv",
   "language": "python",
   "name": "python3"
  },
  "language_info": {
   "codemirror_mode": {
    "name": "ipython",
    "version": 3
   },
   "file_extension": ".py",
   "mimetype": "text/x-python",
   "name": "python",
   "nbconvert_exporter": "python",
   "pygments_lexer": "ipython3",
   "version": "3.9.8"
  }
 },
 "nbformat": 4,
 "nbformat_minor": 2
}
