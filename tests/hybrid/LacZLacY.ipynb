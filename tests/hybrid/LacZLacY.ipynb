{
 "cells": [
  {
   "cell_type": "markdown",
   "metadata": {},
   "source": [
    "# LacZ/LacY model\n",
    "\n",
    "Citation:\n",
    "1. Kierzek, Andrzej M. 2002. “STOCKS: STOChastic Kinetic Simulations of Biochemical Systems with Gillespie Algorithm.” Bioinformatics 18 (3): 470–81. https://doi.org/10.1093/bioinformatics/18.3.470.\n",
    "2. Tian, Tianhai, and Kevin Burrage. 2004. “Binomial Leap Methods for Simulating Stochastic Chemical Kinetics.” The Journal of Chemical Physics 121 (21): 10356–64. https://doi.org/10.1063/1.1810475.\n",
    "\n",
    "Here are the non-trivial aspects of the modeled behavior:\n",
    "- The cell volume is growing over time until it reaches a maximum at a fixed generation time, $T$ (t which point the cell will divide, a process that we ignore) such that $ V(t) = (1 + t/T) $. This generation time was set to be $2100$ seconds (Kierzek, 2002).\n",
    "\n",
    "  - We note that none of the groups that benchmarked the performance of this system made mention of the fact that this explicit time dependence affects the validity of Gillespie's direct method (conventional SSA) and the approximate $\\tau$-leaping method. (Since the STOCKS program is no longer available at the originally offered URL, it is challenging to confirm if the actual simulations were performed through a modified direct method). To account for this time dependence, the hitting time ($\\tau$) of the overall stochastic process unfolding with rate $a_0(t)$ must be calculated implicity according to the following integral, in accordance with the fact that the arrivals occur through an inhomogeneous Poisson process rather than a homogeneous one:\n",
    "\n",
    "$$ \\int_{t_0}^{\\tau} a_0(t) dt \\sim \\text{Exp}(1)$$\n",
    "\n",
    "- The populations of two reactant species are treated specially: at all time steps, RNAP and Ribosome are drawn from random pools $N(35, 3.5^2)$ and $N(350, 35^2)$, respectively, and the means of these distributions grow with the volume of the cell so that their concentration remains fixed. This is intended to correspond to the assumption that the dynamics producing RNAP and Ribosome are much faster than the dynamics of the specified system, and that the dynamic equilibrium producing RNAP and Ribosome is unaffected by the behavior of the specified system (so that the concentration of RNAP and Ribosome remain unchanged).\n",
    "  - Note: drawing from pools with growing means but constant variance does not seem to capture the desired behavior: if the concentration remains fixed in dynamic equilibrium, the molecular counts of RNAP and Ribosome in the cell should be growing in both mean *and* variance (see, for example, Gillespie's discussion of the mathematical basis for the Chemical Langevin equation).\n",
    "  - Note also: that the randomly variable amounts of RNAP and Ribosome are important for a model of the real physical system, but they are incidental to the goal of benchmarking simulation approaches. Since we hope to compare the results of Gillespie simulation to the results of a variety of approximate simulations, it is sufficient to consider the concentrations RNAP and Ribosome to be fixed parameters of system rather than dynamically changing molecular counts. (Note: that fixing these concentrations will introduce time dependence inversely proportional the time dependence of the volume growth of the cell.) As long as the Gillespie simulation and the approximate simulations are conducted with respect to the same system, we can meainingfully compare results.\n",
    "\n",
    "Gillespie on CLE\n",
    "1. Gillespie, Daniel T. 2000. “The Chemical Langevin Equation.” The Journal of Chemical Physics 113 (1): 297–306. https://doi.org/10.1063/1.481811.\n",
    "\n",
    "\n",
    "Citation inhomog Gillespie:\n",
    "  1. Purtan, Raluca Roxana Purnichescu, and Andreea Udrea. 2013. “A Modified Stochastic Simulation Algorithm for Time-Dependent Intensity Rates.” In 2013 19th International Conference on Control Systems and Computer Science, 365–69. https://doi.org/10.1109/CSCS.2013.101."
   ]
  },
  {
   "cell_type": "code",
   "execution_count": 1,
   "metadata": {},
   "outputs": [],
   "source": [
    "import numba\n",
    "import yaml\n",
    "from reactionmodel.model import Species, Reaction, Model\n",
    "import numpy as np"
   ]
  },
  {
   "cell_type": "code",
   "execution_count": 2,
   "metadata": {},
   "outputs": [],
   "source": [
    "LacZ = Species('LacZ')\n",
    "LacY = Species('LacY')\n",
    "\n",
    "PLac = Species('PLac')\n",
    "\n",
    "PLacRNAP = Species('PLacRNAP')\n",
    "\n",
    "\n",
    "TrLacZ1 = Species('TrLacZ1')\n",
    "TrLacY1 = Species('TrLacY1')\n",
    "\n",
    "TrLacZ2 = Species('TrLacZ2')\n",
    "TrLacY2 = Species('TrLacY2')\n",
    "\n",
    "RbsLacZ = Species('RbsLacZ')\n",
    "RbsLacY = Species('RbsLacY')\n",
    "\n",
    "TrRbsLacZ = Species('TrRbsLacZ')\n",
    "TrRbsLacY = Species('TrRbsLacY')\n",
    "\n",
    "dgrLacZ = Species('dgrLacZ')\n",
    "dgrLacY = Species('dgrLacY')\n",
    "\n",
    "dgrRbsLacZ = Species('dgrRbsLacZ')\n",
    "dgrRbsLacY = Species('dgrRbsLacY')\n",
    "\n",
    "RbsRibosomeLacZ = Species('RbsRibosomeLacZ')\n",
    "RbsRibosomeLacY = Species('RbsRibosomeLacY')\n",
    "\n",
    "LacZlactose = Species('LacZlactose')\n",
    "\n",
    "lactose = Species('lactose')\n",
    "product = Species('product')\n",
    "\n",
    "species = [\n",
    "    LacZ,\n",
    "    LacY,\n",
    "    PLac,\n",
    "    PLacRNAP,\n",
    "    TrLacZ1,\n",
    "    TrLacY1,\n",
    "    TrLacZ2,\n",
    "    TrLacY2,\n",
    "    RbsLacZ,\n",
    "    RbsLacY,\n",
    "    TrRbsLacZ,\n",
    "    TrRbsLacY,\n",
    "    dgrLacZ,\n",
    "    dgrLacY,\n",
    "    dgrRbsLacZ,\n",
    "    dgrRbsLacY,\n",
    "    RbsRibosomeLacZ,\n",
    "    RbsRibosomeLacY,\n",
    "    lactose,\n",
    "    LacZlactose,\n",
    "    product,\n",
    "]\n",
    "\n",
    "T = 2100\n",
    "\n",
    "def make_V_dependent_rate(k):\n",
    "    @numba.jit(nopython=True)\n",
    "    def k_of_t(t):\n",
    "        return k / (1 + t/T)\n",
    "    return k_of_t\n",
    "\n",
    "parameters = {\n",
    "    'RNAP': 35,\n",
    "    'Ribosome': 350,\n",
    "}\n",
    "\n",
    "reactions = [\n",
    "    Reaction([PLac], [PLacRNAP], k='0.17 * RNAP'),\n",
    "    Reaction([PLacRNAP], [PLac], k=10), # produces RNAP\n",
    "    Reaction([PLacRNAP], [TrLacZ1], k=1),\n",
    "    Reaction([TrLacZ1], [RbsLacZ, PLac, TrLacZ2], k=1),\n",
    "    Reaction([TrLacZ2], [TrLacY1], k=0.015),\n",
    "    Reaction([TrLacY1], [RbsLacY, TrLacY2], k=1),\n",
    "    Reaction([TrLacY2], [], k=0.36), # produces RNAP\n",
    "    Reaction([RbsLacZ], [RbsRibosomeLacZ], k='0.17 * Ribosome'),\n",
    "    Reaction([RbsLacY], [RbsRibosomeLacY], k='0.17 * Ribosome'),\n",
    "    Reaction([RbsRibosomeLacZ], [RbsLacZ], k=0.45), # produces Ribosome\n",
    "    Reaction([RbsRibosomeLacY], [RbsLacY], k=0.45), # produces Ribosome\n",
    "    Reaction([RbsRibosomeLacZ], [TrRbsLacZ, RbsLacZ], k=0.4),\n",
    "    Reaction([RbsRibosomeLacY], [TrRbsLacY, RbsLacY], k=0.4),\n",
    "    Reaction([TrRbsLacZ], [LacZ], k=0.015),\n",
    "    Reaction([TrRbsLacY], [LacY], k=0.036),\n",
    "    Reaction([LacZ], [dgrLacZ], k=6.42e-5),\n",
    "    Reaction([LacY], [dgrLacY], k=6.42e-5),\n",
    "    Reaction([RbsLacZ], [dgrRbsLacZ], k=0.3),\n",
    "    Reaction([RbsLacY], [dgrRbsLacY], k=0.3),\n",
    "    \n",
    "    # Uncomment one of the two below if you want time independent / time dependent\n",
    "    Reaction([LacZ, lactose], [LacZlactose], k=9.52e-5),\n",
    "    #Reaction([LacZ, lactose], [LacZlactose], k=make_V_dependent_rate(9.52e-5)),\n",
    "\n",
    "    Reaction([LacZlactose], [product, LacZ], k=431),\n",
    "    Reaction([LacY], [lactose, LacY], k=14),\n",
    "]\n",
    "\n",
    "# but ribosome and RNAP are supposed to grow over time as volume of the cell decreases (which also affects rate constants of all second order rates, this seems too complicated for us!)\n",
    "\n",
    "m = Model(species, reactions)"
   ]
  },
  {
   "cell_type": "code",
   "execution_count": 3,
   "metadata": {},
   "outputs": [],
   "source": [
    "initial = {\n",
    "    'PLac': 1,\n",
    "}"
   ]
  },
  {
   "cell_type": "code",
   "execution_count": 4,
   "metadata": {},
   "outputs": [],
   "source": [
    "y0 = m.make_initial_condition(initial)"
   ]
  },
  {
   "cell_type": "markdown",
   "metadata": {},
   "source": [
    "## Simulation"
   ]
  },
  {
   "cell_type": "code",
   "execution_count": null,
   "metadata": {},
   "outputs": [],
   "source": [
    "from hybrid.gillespie import GillespieSimulator\n",
    "\n",
    "simulator = GillespieSimulator(\n",
    "    m.get_k(parameters=parameters, jit=True),\n",
    "    m.stoichiometry(),\n",
    "    m.kinetic_order(),\n",
    ")"
   ]
  },
  {
   "cell_type": "code",
   "execution_count": 56,
   "metadata": {},
   "outputs": [],
   "source": [
    "result = simulator.simulate([0, 300.0], y0, np.random.default_rng(), history_length=1e8)"
   ]
  },
  {
   "cell_type": "code",
   "execution_count": 12,
   "metadata": {},
   "outputs": [],
   "source": [
    "with open('./laczlacy/initial.yaml', 'r') as f:\n",
    "    initial = yaml.load(f, Loader=yaml.SafeLoader)['initial_condition']\n",
    "\n",
    "extended = simulator.simulate([300.0, 305.0], m.make_initial_condition(initial), np.random.default_rng(), history_length=1e8)"
   ]
  },
  {
   "cell_type": "code",
   "execution_count": null,
   "metadata": {},
   "outputs": [],
   "source": [
    "extended = simulator.simulate([300.0, 305.0], result.y, np.random.default_rng(), history_length=1e8)"
   ]
  },
  {
   "cell_type": "code",
   "execution_count": null,
   "metadata": {},
   "outputs": [],
   "source": [
    "result.status_counter"
   ]
  },
  {
   "cell_type": "code",
   "execution_count": null,
   "metadata": {},
   "outputs": [],
   "source": [
    "extended.status_counter"
   ]
  },
  {
   "cell_type": "code",
   "execution_count": null,
   "metadata": {},
   "outputs": [],
   "source": [
    "import matplotlib.pyplot as plt\n",
    "\n",
    "s = TrRbsLacY\n",
    "s_history = result.y_history[m.species.index(s), :]\n",
    "\n",
    "plt.plot(result.t_history, s_history)\n",
    "np.mean(s_history)"
   ]
  },
  {
   "cell_type": "markdown",
   "metadata": {},
   "source": [
    "## Saving initial state"
   ]
  },
  {
   "cell_type": "code",
   "execution_count": 60,
   "metadata": {},
   "outputs": [],
   "source": [
    "import yaml"
   ]
  },
  {
   "cell_type": "code",
   "execution_count": 61,
   "metadata": {},
   "outputs": [],
   "source": [
    "m.save('./laczlacy/model.yaml')"
   ]
  },
  {
   "cell_type": "code",
   "execution_count": 62,
   "metadata": {},
   "outputs": [],
   "source": [
    "advanced_initial_condition = {s.name: int(result.y[i]) for i,s in enumerate(m.species)}\n",
    "\n",
    "with open('./laczlacy/initial.yaml', 'w') as f:\n",
    "    yaml.dump({'initial_condition': advanced_initial_condition}, f, Dumper=yaml.SafeDumper)"
   ]
  },
  {
   "cell_type": "code",
   "execution_count": 63,
   "metadata": {},
   "outputs": [],
   "source": [
    "with open('./laczlacy/parameters.yaml', 'w') as f:\n",
    "    yaml.dump({'parameters': parameters}, f, Dumper=yaml.SafeDumper)"
   ]
  },
  {
   "cell_type": "markdown",
   "metadata": {},
   "source": [
    "# Hybrid simulation"
   ]
  },
  {
   "cell_type": "code",
   "execution_count": null,
   "metadata": {},
   "outputs": [],
   "source": [
    "from hybrid.hybrid import HybridSimulator, NThresholdPartitioner\n",
    "\n",
    "hybrid_simulator = HybridSimulator(\n",
    "    m.get_k(parameters=parameters, jit=True),\n",
    "    m.stoichiometry(),\n",
    "    m.kinetic_order(),\n",
    "    partition_function=NThresholdPartitioner(50.0),\n",
    "    fast_scale='langevin',\n",
    "    approximate_rtot=True,\n",
    "    contrived_no_reaction_rate=20.0,\n",
    "    euler_maruyama_timestep=2e-4\n",
    ")"
   ]
  },
  {
   "cell_type": "code",
   "execution_count": 9,
   "metadata": {},
   "outputs": [],
   "source": [
    "with open('./laczlacy/initial.yaml', 'r') as f:\n",
    "    initial = yaml.load(f, Loader=yaml.SafeLoader)['initial_condition']"
   ]
  },
  {
   "cell_type": "code",
   "execution_count": null,
   "metadata": {},
   "outputs": [],
   "source": [
    "initial"
   ]
  },
  {
   "cell_type": "code",
   "execution_count": 27,
   "metadata": {},
   "outputs": [],
   "source": [
    "hybrid_result = hybrid_simulator.simulate([300, 305], m.make_initial_condition(initial), np.random.default_rng())"
   ]
  },
  {
   "cell_type": "code",
   "execution_count": null,
   "metadata": {},
   "outputs": [],
   "source": [
    "hybrid_result.status_counter"
   ]
  },
  {
   "cell_type": "code",
   "execution_count": null,
   "metadata": {},
   "outputs": [],
   "source": [
    "# species cared about (graphed) in the binomial leaping paper\n",
    "interesting_species = [\n",
    "    'RbsLacY',\n",
    "    'TrLacZ2',\n",
    "    'TrRbsLacY',\n",
    "    'TrRbsLacZ'\n",
    "]\n",
    "\n",
    "for s in interesting_species:\n",
    "    print(hybrid_result.y[m.species_name_index[s]])"
   ]
  },
  {
   "cell_type": "markdown",
   "metadata": {},
   "source": [
    "# Tau"
   ]
  },
  {
   "cell_type": "code",
   "execution_count": null,
   "metadata": {},
   "outputs": [],
   "source": [
    "from hybrid.tau import TauLeapSimulator\n",
    "\n",
    "tau_simulator = TauLeapSimulator(\n",
    "    m.get_k(parameters=parameters, jit=True),\n",
    "    m.stoichiometry(),\n",
    "    m.kinetic_order(),\n",
    "    epsilon=0.10\n",
    ")"
   ]
  },
  {
   "cell_type": "code",
   "execution_count": 34,
   "metadata": {},
   "outputs": [],
   "source": [
    "tau_result = tau_simulator.simulate([300, 305], m.make_initial_condition(initial), np.random.default_rng())"
   ]
  },
  {
   "cell_type": "code",
   "execution_count": null,
   "metadata": {},
   "outputs": [],
   "source": [
    "tau_result.status_counter"
   ]
  },
  {
   "cell_type": "code",
   "execution_count": null,
   "metadata": {},
   "outputs": [],
   "source": [
    "for s in interesting_species:\n",
    "    print(tau_result.y[m.species_name_index[s]])"
   ]
  },
  {
   "cell_type": "code",
   "execution_count": null,
   "metadata": {},
   "outputs": [],
   "source": []
  }
 ],
 "metadata": {
  "kernelspec": {
   "display_name": ".venv",
   "language": "python",
   "name": "python3"
  },
  "language_info": {
   "codemirror_mode": {
    "name": "ipython",
    "version": 3
   },
   "file_extension": ".py",
   "mimetype": "text/x-python",
   "name": "python",
   "nbconvert_exporter": "python",
   "pygments_lexer": "ipython3",
   "version": "3.9.8"
  }
 },
 "nbformat": 4,
 "nbformat_minor": 2
}
