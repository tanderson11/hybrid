{
 "cells": [
  {
   "cell_type": "code",
   "execution_count": 1,
   "metadata": {},
   "outputs": [],
   "source": [
    "from reactionmodel.model import Species, Reaction, Model\n",
    "import numpy as np\n",
    "from numba import jit\n",
    "\n",
    "X = Species('X')\n",
    "\n",
    "@jit(nopython=True)\n",
    "def k(t):\n",
    "    return np.array([t])\n",
    "\n",
    "r = Reaction([X], [], k=k)\n",
    "\n",
    "m = Model([X], [r])"
   ]
  },
  {
   "cell_type": "code",
   "execution_count": 2,
   "metadata": {},
   "outputs": [],
   "source": [
    "import hybrid.parse as parse\n",
    "\n",
    "sf = parse.PreconfiguredSimulatorLoader.load_preconfigured('hybrid_n_contrived')\n",
    "simulator = sf.make_simulator(\n",
    "    m.get_k(jit=True),\n",
    "    m.stoichiometry(),\n",
    "    m.kinetic_order(),\n",
    ")"
   ]
  },
  {
   "cell_type": "code",
   "execution_count": 3,
   "metadata": {},
   "outputs": [
    {
     "data": {
      "text/plain": [
       "Counter({<HybridStepStatus.stochastic_event: 1>: 96,\n",
       "         <HybridStepStatus.contrived_no_reaction: 4>: 46,\n",
       "         <HybridStepStatus.t_end: 0>: 1})"
      ]
     },
     "execution_count": 3,
     "metadata": {},
     "output_type": "execute_result"
    }
   ],
   "source": [
    "x0 = 1000\n",
    "t = np.linspace(0.0, 5.0, 51)\n",
    "result = simulator.simulate([0.0, 5.0], [x0], rng=np.random.default_rng(), t_eval=t)\n",
    "result.status_counter"
   ]
  },
  {
   "cell_type": "code",
   "execution_count": 6,
   "metadata": {},
   "outputs": [
    {
     "data": {
      "text/plain": [
       "(array([0. , 0.1, 0.2, 0.3, 0.4, 0.5, 0.6, 0.7, 0.8, 0.9, 1. , 1.1, 1.2,\n",
       "        1.3, 1.4, 1.5, 1.6, 1.7, 1.8, 1.9, 2. , 2.1, 2.2, 2.3, 2.4, 2.5,\n",
       "        2.6, 2.7, 2.8, 2.9, 3. , 3.1, 3.2, 3.3, 3.4, 3.5, 3.6, 3.7, 3.8,\n",
       "        3.9, 4. , 4.1, 4.2, 4.3, 4.4, 4.5, 4.6, 4.7, 4.8, 4.9, 5. ]),\n",
       " array([[1000.        ,  994.95214547,  980.55337785,  956.45219205,\n",
       "          923.54020594,  884.22330081,  836.90355041,  784.6283706 ,\n",
       "          727.38751806,  668.24485524,  607.31251886,  547.00946772,\n",
       "          487.60418231,  430.55977414,  375.47364998,  325.99261558,\n",
       "          279.76765987,  237.2014136 ,  199.00590893,  165.65736681,\n",
       "          136.63754456,  110.59174407,   89.        ,   70.        ,\n",
       "           46.        ,   29.        ,   21.        ,   18.        ,\n",
       "           14.        ,   11.        ,    9.        ,    8.        ,\n",
       "            8.        ,    4.        ,    3.        ,    3.        ,\n",
       "            2.        ,    0.        ,    0.        ,    0.        ,\n",
       "            0.        ,    0.        ,    0.        ,    0.        ,\n",
       "            0.        ,    0.        ,    0.        ,    0.        ,\n",
       "            0.        ,    0.        ,    0.        ]]))"
      ]
     },
     "execution_count": 6,
     "metadata": {},
     "output_type": "execute_result"
    }
   ],
   "source": [
    "result.restricted_values(t)"
   ]
  },
  {
   "cell_type": "code",
   "execution_count": 47,
   "metadata": {},
   "outputs": [
    {
     "data": {
      "text/plain": [
       "<HybridStepStatus.contrived_no_reaction: 4>"
      ]
     },
     "execution_count": 47,
     "metadata": {},
     "output_type": "execute_result"
    }
   ],
   "source": [
    "from hybrid.hybrid import HybridStepStatus\n",
    "HybridStepStatus(4)"
   ]
  },
  {
   "cell_type": "code",
   "execution_count": 40,
   "metadata": {},
   "outputs": [
    {
     "data": {
      "text/plain": [
       "[]"
      ]
     },
     "execution_count": 40,
     "metadata": {},
     "output_type": "execute_result"
    },
    {
     "data": {
      "image/png": "[encoded data removed]",
      "text/plain": [
       "<Figure size 640x480 with 1 Axes>"
      ]
     },
     "metadata": {},
     "output_type": "display_data"
    }
   ],
   "source": [
    "ax = plt.subplot()\n",
    "\n",
    "result.plot(m.legend(), ax=ax)\n",
    "y = x0*np.exp(-1/2 * t**2)\n",
    "ax.scatter(t, y)\n",
    "ax.semilogy()"
   ]
  },
  {
   "cell_type": "code",
   "execution_count": null,
   "metadata": {},
   "outputs": [],
   "source": []
  }
 ],
 "metadata": {
  "kernelspec": {
   "display_name": ".venv",
   "language": "python",
   "name": "python3"
  },
  "language_info": {
   "codemirror_mode": {
    "name": "ipython",
    "version": 3
   },
   "file_extension": ".py",
   "mimetype": "text/x-python",
   "name": "python",
   "nbconvert_exporter": "python",
   "pygments_lexer": "ipython3",
   "version": "3.9.8"
  }
 },
 "nbformat": 4,
 "nbformat_minor": 2
}
