{
 "cells": [
  {
   "cell_type": "code",
   "execution_count": 1,
   "metadata": {},
   "outputs": [],
   "source": [
    "from reactionmodel.model import Species, Reaction, Model\n",
    "import numpy as np\n",
    "from numba import jit\n",
    "\n",
    "X = Species('X')\n",
    "\n",
    "@jit(nopython=True)\n",
    "def k(t):\n",
    "    return np.array([t])\n",
    "\n",
    "r = Reaction([X], [], k=k)\n",
    "\n",
    "m = Model([X], [r])"
   ]
  },
  {
   "cell_type": "code",
   "execution_count": 2,
   "metadata": {},
   "outputs": [],
   "source": [
    "import hybrid.parse as parse\n",
    "\n",
    "sf = parse.PreconfiguredSimulatorLoader.load_preconfigured('hr_original')\n",
    "simulator = sf.make_simulator(\n",
    "    m.get_k(jit=True),\n",
    "    m.stoichiometry(),\n",
    "    m.kinetic_order(),\n",
    ")"
   ]
  },
  {
   "cell_type": "code",
   "execution_count": 3,
   "metadata": {},
   "outputs": [
    {
     "data": {
      "text/plain": [
       "Counter({<HybridStepStatus.stochastic_event: 1>: 84,\n",
       "         <HybridStepStatus.contrived_no_reaction: 4>: 35,\n",
       "         <HybridStepStatus.t_end: 0>: 1})"
      ]
     },
     "execution_count": 3,
     "metadata": {},
     "output_type": "execute_result"
    }
   ],
   "source": [
    "x0 = 1000\n",
    "t = np.linspace(0.0, 5.0, 51)\n",
    "result = simulator.simulate([0.0, 5.0], [x0], rng=np.random.default_rng(), t_eval=t)\n",
    "result.status_counter"
   ]
  },
  {
   "cell_type": "code",
   "execution_count": 4,
   "metadata": {},
   "outputs": [
    {
     "data": {
      "text/plain": [
       "(array([0. , 0.1, 0.2, 0.3, 0.4, 0.5, 0.6, 0.7, 0.8, 0.9, 1. , 1.1, 1.2,\n",
       "        1.3, 1.4, 1.5, 1.6, 1.7, 1.8, 1.9, 2. , 2.1, 2.2, 2.3, 2.4, 2.5,\n",
       "        2.6, 2.7, 2.8, 2.9, 3. , 3.1, 3.2, 3.3, 3.4, 3.5, 3.6, 3.7, 3.8,\n",
       "        3.9, 4. , 4.1, 4.2, 4.3, 4.4, 4.5, 4.6, 4.7, 4.8, 4.9, 5. ]),\n",
       " array([[1000.        ,  995.01658959,  981.05899621,  956.83656864,\n",
       "          924.15093999,  883.37197185,  836.09844958,  782.9996631 ,\n",
       "          726.20633256,  667.11715576,  606.90259651,  546.4092928 ,\n",
       "          486.55273638,  429.86991957,  375.58418635,  325.38999696,\n",
       "          278.65802255,  236.27238898,  197.79529032,  164.57413579,\n",
       "          135.41708627,  110.31726201,   88.92308054,   69.        ,\n",
       "           52.        ,   34.        ,   24.        ,   21.        ,\n",
       "           18.        ,   15.        ,   12.        ,    8.        ,\n",
       "            6.        ,    5.        ,    3.        ,    3.        ,\n",
       "            2.        ,    1.        ,    1.        ,    0.        ,\n",
       "            0.        ,    0.        ,    0.        ,    0.        ,\n",
       "            0.        ,    0.        ,    0.        ,    0.        ,\n",
       "            0.        ,    0.        ,    0.        ]]))"
      ]
     },
     "execution_count": 4,
     "metadata": {},
     "output_type": "execute_result"
    }
   ],
   "source": [
    "result.restricted_values(t)"
   ]
  },
  {
   "cell_type": "code",
   "execution_count": 5,
   "metadata": {},
   "outputs": [
    {
     "data": {
      "text/plain": [
       "<HybridStepStatus.contrived_no_reaction: 4>"
      ]
     },
     "execution_count": 5,
     "metadata": {},
     "output_type": "execute_result"
    }
   ],
   "source": [
    "from hybrid.hybrid import HybridStepStatus\n",
    "HybridStepStatus(4)"
   ]
  },
  {
   "cell_type": "code",
   "execution_count": 8,
   "metadata": {},
   "outputs": [
    {
     "data": {
      "text/plain": [
       "[]"
      ]
     },
     "execution_count": 8,
     "metadata": {},
     "output_type": "execute_result"
    },
    {
     "data": {
      "image/png": "[encoded data removed]",
      "text/plain": [
       "<Figure size 640x480 with 1 Axes>"
      ]
     },
     "metadata": {},
     "output_type": "display_data"
    }
   ],
   "source": [
    "import matplotlib.pyplot as plt\n",
    "ax = plt.subplot()\n",
    "\n",
    "result.plot(m.legend(), ax=ax)\n",
    "y = x0*np.exp(-1/2 * t**2)\n",
    "ax.scatter(t, y)\n",
    "ax.semilogy()"
   ]
  },
  {
   "cell_type": "code",
   "execution_count": null,
   "metadata": {},
   "outputs": [],
   "source": []
  }
 ],
 "metadata": {
  "kernelspec": {
   "display_name": ".venv",
   "language": "python",
   "name": "python3"
  },
  "language_info": {
   "codemirror_mode": {
    "name": "ipython",
    "version": 3
   },
   "file_extension": ".py",
   "mimetype": "text/x-python",
   "name": "python",
   "nbconvert_exporter": "python",
   "pygments_lexer": "ipython3",
   "version": "3.9.8"
  }
 },
 "nbformat": 4,
 "nbformat_minor": 2
}
