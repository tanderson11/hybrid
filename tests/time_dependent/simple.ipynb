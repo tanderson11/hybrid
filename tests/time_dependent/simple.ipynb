{
 "cells": [
  {
   "cell_type": "code",
   "execution_count": 1,
   "metadata": {},
   "outputs": [],
   "source": [
    "from reactionmodel.model import Species, Reaction, Model\n",
    "import numpy as np\n",
    "from numba import jit\n",
    "\n",
    "X = Species('X')\n",
    "\n",
    "@jit(nopython=True)\n",
    "def k(t):\n",
    "    return np.array([t])\n",
    "\n",
    "r = Reaction([X], [], k=k)\n",
    "\n",
    "m = Model([X], [r])"
   ]
  },
  {
   "cell_type": "code",
   "execution_count": 2,
   "metadata": {},
   "outputs": [],
   "source": [
    "import hybrid.parse as parse\n",
    "\n",
    "sf = parse.PreconfiguredSimulatorLoader.load_preconfigured('hr_original')\n",
    "simulator = sf.make_simulator(\n",
    "    m.get_k(jit=True),\n",
    "    m.stoichiometry(),\n",
    "    m.kinetic_order(),\n",
    ")"
   ]
  },
  {
   "cell_type": "code",
   "execution_count": 3,
   "metadata": {},
   "outputs": [
    {
     "data": {
      "text/plain": [
       "Counter({<HybridStepStatus.stochastic_event: 1>: 58,\n",
       "         <HybridStepStatus.contrived_no_reaction: 4>: 48,\n",
       "         <HybridStepStatus.t_end: 0>: 1})"
      ]
     },
     "execution_count": 3,
     "metadata": {},
     "output_type": "execute_result"
    }
   ],
   "source": [
    "x0 = 1000\n",
    "t = np.linspace(0.0, 5.0, 51)\n",
    "result = simulator.simulate([0.0, 5.0], [x0], rng=np.random.default_rng(), t_eval=t)\n",
    "result.status_counter"
   ]
  },
  {
   "cell_type": "code",
   "execution_count": 4,
   "metadata": {},
   "outputs": [
    {
     "data": {
      "text/plain": [
       "(array([0. , 0.1, 0.2, 0.3, 0.4, 0.5, 0.6, 0.7, 0.8, 0.9, 1. , 1.1, 1.2,\n",
       "        1.3, 1.4, 1.5, 1.6, 1.7, 1.8, 1.9, 2. , 2.1, 2.2, 2.3, 2.4, 2.5,\n",
       "        2.6, 2.7, 2.8, 2.9, 3. , 3.1, 3.2, 3.3, 3.4, 3.5, 3.6, 3.7, 3.8,\n",
       "        3.9, 4. , 4.1, 4.2, 4.3, 4.4, 4.5, 4.6, 4.7, 4.8, 4.9, 5. ]),\n",
       " array([[1000.        ,  995.43448248,  980.61439537,  956.33518033,\n",
       "          923.44229126,  882.80871334,  835.84782375,  783.60944677,\n",
       "          727.26866633,  668.05557295,  607.53831047,  546.8283491 ,\n",
       "          487.15770728,  429.91516056,  375.83160542,  325.08527418,\n",
       "          278.40796592,  235.77133117,  196.63172681,  164.44870407,\n",
       "          135.27614641,  109.50799118,   88.31784803,   70.52474828,\n",
       "           58.        ,   47.        ,   35.        ,   28.        ,\n",
       "           21.        ,   14.        ,   10.        ,    5.        ,\n",
       "            4.        ,    3.        ,    2.        ,    1.        ,\n",
       "            1.        ,    0.        ,    0.        ,    0.        ,\n",
       "            0.        ,    0.        ,    0.        ,    0.        ,\n",
       "            0.        ,    0.        ,    0.        ,    0.        ,\n",
       "            0.        ,    0.        ,    0.        ]]))"
      ]
     },
     "execution_count": 4,
     "metadata": {},
     "output_type": "execute_result"
    }
   ],
   "source": [
    "result.restricted_values(t)"
   ]
  },
  {
   "cell_type": "code",
   "execution_count": 5,
   "metadata": {},
   "outputs": [
    {
     "data": {
      "text/plain": [
       "<HybridStepStatus.contrived_no_reaction: 4>"
      ]
     },
     "execution_count": 5,
     "metadata": {},
     "output_type": "execute_result"
    }
   ],
   "source": [
    "from hybrid.hybrid import HybridStepStatus\n",
    "HybridStepStatus(4)"
   ]
  },
  {
   "cell_type": "code",
   "execution_count": 6,
   "metadata": {},
   "outputs": [
    {
     "data": {
      "text/plain": [
       "[]"
      ]
     },
     "execution_count": 6,
     "metadata": {},
     "output_type": "execute_result"
    },
    {
     "data": {
      "image/png": "[encoded data removed]",
      "text/plain": [
       "<Figure size 640x480 with 1 Axes>"
      ]
     },
     "metadata": {},
     "output_type": "display_data"
    }
   ],
   "source": [
    "import matplotlib.pyplot as plt\n",
    "ax = plt.subplot()\n",
    "\n",
    "result.plot(m.legend(), ax=ax)\n",
    "y = x0*np.exp(-1/2 * t**2)\n",
    "ax.scatter(t, y)\n",
    "ax.semilogy()"
   ]
  },
  {
   "cell_type": "markdown",
   "metadata": {},
   "source": [
    "# Implicit tau leaping"
   ]
  },
  {
   "cell_type": "code",
   "execution_count": 7,
   "metadata": {},
   "outputs": [
    {
     "name": "stdout",
     "output_type": "stream",
     "text": [
      "WARNING: inhomogeneous rates in Tau leap simulation. Will assume that rates are constant within leaps.\n"
     ]
    }
   ],
   "source": [
    "from hybrid.tau import TauLeapSimulator\n",
    "\n",
    "ts = TauLeapSimulator(\n",
    "    m.get_k(jit=True),\n",
    "    m.stoichiometry(),\n",
    "    m.kinetic_order(),\n",
    "    method='implicit'\n",
    ")"
   ]
  },
  {
   "cell_type": "code",
   "execution_count": 8,
   "metadata": {},
   "outputs": [
    {
     "data": {
      "text/plain": [
       "<Method.implicit: 'implicit'>"
      ]
     },
     "execution_count": 8,
     "metadata": {},
     "output_type": "execute_result"
    }
   ],
   "source": [
    "ts.method"
   ]
  },
  {
   "cell_type": "code",
   "execution_count": 9,
   "metadata": {},
   "outputs": [
    {
     "name": "stderr",
     "output_type": "stream",
     "text": [
      "/Users/thayer/develop/hybrid/hybrid/tau.py:217: RuntimeWarning: divide by zero encountered in divide\n",
      "  tau2 = np.min(np.maximum(np.nan_to_num(y * epsilon / g, 0), 1)**2 / np.abs(sigma_2_hat_i))\n",
      "/Users/thayer/develop/hybrid/hybrid/tau.py:342: RuntimeWarning: divide by zero encountered in scalar divide\n",
      "  if tau_prime < self.rejection_multiple / total_propensity:\n"
     ]
    },
    {
     "data": {
      "text/plain": [
       "Counter({<TauStepStatus.rejected_for_gillespie: -2>: 1,\n",
       "         <TauStepStatus.gillespie_t_end: 2>: 1})"
      ]
     },
     "execution_count": 9,
     "metadata": {},
     "output_type": "execute_result"
    }
   ],
   "source": [
    "result = ts.simulate([0.0, 5.0], [x0], rng=np.random.default_rng(), t_eval=t)\n",
    "result.status_counter"
   ]
  },
  {
   "cell_type": "code",
   "execution_count": 10,
   "metadata": {},
   "outputs": [
    {
     "data": {
      "text/plain": [
       "[]"
      ]
     },
     "execution_count": 10,
     "metadata": {},
     "output_type": "execute_result"
    },
    {
     "data": {
      "image/png": "[encoded data removed]",
      "text/plain": [
       "<Figure size 640x480 with 1 Axes>"
      ]
     },
     "metadata": {},
     "output_type": "display_data"
    }
   ],
   "source": [
    "import matplotlib.pyplot as plt\n",
    "ax = plt.subplot()\n",
    "\n",
    "result.plot(m.legend(), ax=ax)\n",
    "y = x0*np.exp(-1/2 * t**2)\n",
    "ax.scatter(t, y)\n",
    "ax.semilogy()"
   ]
  },
  {
   "cell_type": "code",
   "execution_count": null,
   "metadata": {},
   "outputs": [],
   "source": []
  }
 ],
 "metadata": {
  "kernelspec": {
   "display_name": ".venv",
   "language": "python",
   "name": "python3"
  },
  "language_info": {
   "codemirror_mode": {
    "name": "ipython",
    "version": 3
   },
   "file_extension": ".py",
   "mimetype": "text/x-python",
   "name": "python",
   "nbconvert_exporter": "python",
   "pygments_lexer": "ipython3",
   "version": "3.9.8"
  }
 },
 "nbformat": 4,
 "nbformat_minor": 2
}
