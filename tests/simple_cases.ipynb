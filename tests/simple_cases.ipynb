{
 "cells": [
  {
   "cell_type": "code",
   "execution_count": 1,
   "metadata": {},
   "outputs": [],
   "source": [
    "import numpy as np\n",
    "import matplotlib.pyplot as plt\n",
    "from reactionmodel.model import Species, Reaction, Model"
   ]
  },
  {
   "cell_type": "code",
   "execution_count": 2,
   "metadata": {},
   "outputs": [],
   "source": [
    "S1 = Species('S1')\n",
    "S2 = Species('S2')\n",
    "T  = Species('T')"
   ]
  },
  {
   "cell_type": "code",
   "execution_count": 3,
   "metadata": {},
   "outputs": [],
   "source": [
    "l = 1.0\n",
    "u = 1.0001\n",
    "birth = Reaction('birth', [S1], [(S1, 2)], k=l)\n",
    "death = Reaction('death', [S1], [], k=u)\n",
    "m = Model([S1], [birth, death])"
   ]
  },
  {
   "cell_type": "code",
   "execution_count": 4,
   "metadata": {},
   "outputs": [
    {
     "ename": "TypingError",
     "evalue": "Failed in nopython mode pipeline (step: nopython frontend)\nInvalid use of none with parameters (float64, array(float64, 1d, C))\nNo type info available for none as a callable.\nDuring: resolving callee type: none\nDuring: typing of call at /Users/thayer/develop/hybrid/hybrid/hybrid.py (62)\n\n\nFile \"../hybrid/hybrid.py\", line 62:\n        def jit_dydt(t, y_expanded, deterministic_mask, stochastic_mask, hitting_point):\n            <source elided>\n\n            propensities = propensity_function(t, y)\n            ^\n",
     "output_type": "error",
     "traceback": [
      "\u001b[0;31m---------------------------------------------------------------------------\u001b[0m",
      "\u001b[0;31mTypingError\u001b[0m                               Traceback (most recent call last)",
      "Cell \u001b[0;32mIn[4], line 9\u001b[0m\n\u001b[1;32m      1\u001b[0m \u001b[38;5;28;01mfrom\u001b[39;00m \u001b[38;5;21;01mhybrid\u001b[39;00m\u001b[38;5;21;01m.\u001b[39;00m\u001b[38;5;21;01mhybrid\u001b[39;00m \u001b[38;5;28;01mimport\u001b[39;00m HybridSimulator, FixedThresholdPartitioner\n\u001b[1;32m      2\u001b[0m hybrid_simulator \u001b[38;5;241m=\u001b[39m HybridSimulator(\n\u001b[1;32m      3\u001b[0m     k\u001b[38;5;241m=\u001b[39mm\u001b[38;5;241m.\u001b[39mget_k(jit\u001b[38;5;241m=\u001b[39m\u001b[38;5;28;01mTrue\u001b[39;00m)(\u001b[38;5;241m0\u001b[39m),\n\u001b[1;32m      4\u001b[0m     N\u001b[38;5;241m=\u001b[39mm\u001b[38;5;241m.\u001b[39mstoichiometry(),\n\u001b[1;32m      5\u001b[0m     kinetic_order_matrix\u001b[38;5;241m=\u001b[39mm\u001b[38;5;241m.\u001b[39mkinetic_order(),\n\u001b[1;32m      6\u001b[0m     partition_function\u001b[38;5;241m=\u001b[39mFixedThresholdPartitioner(\u001b[38;5;241m1000\u001b[39m)\u001b[38;5;241m.\u001b[39mpartition_function,\n\u001b[1;32m      7\u001b[0m )\n\u001b[0;32m----> 9\u001b[0m \u001b[43mhybrid_simulator\u001b[49m\u001b[38;5;241;43m.\u001b[39;49m\u001b[43msimulate\u001b[49m\u001b[43m(\u001b[49m\n\u001b[1;32m     10\u001b[0m \u001b[43m    \u001b[49m\u001b[43m(\u001b[49m\u001b[38;5;241;43m0.0\u001b[39;49m\u001b[43m,\u001b[49m\u001b[43m \u001b[49m\u001b[38;5;241;43m1000.0\u001b[39;49m\u001b[43m)\u001b[49m\u001b[43m,\u001b[49m\n\u001b[1;32m     11\u001b[0m \u001b[43m    \u001b[49m\u001b[43m[\u001b[49m\u001b[38;5;241;43m10.0\u001b[39;49m\u001b[43m]\u001b[49m\u001b[43m,\u001b[49m\n\u001b[1;32m     12\u001b[0m \u001b[43m    \u001b[49m\u001b[43mrng\u001b[49m\u001b[43m \u001b[49m\u001b[38;5;241;43m=\u001b[39;49m\u001b[43m \u001b[49m\u001b[43mnp\u001b[49m\u001b[38;5;241;43m.\u001b[39;49m\u001b[43mrandom\u001b[49m\u001b[38;5;241;43m.\u001b[39;49m\u001b[43mdefault_rng\u001b[49m\u001b[43m(\u001b[49m\u001b[43m)\u001b[49m\u001b[43m,\u001b[49m\n\u001b[1;32m     13\u001b[0m \n\u001b[1;32m     14\u001b[0m \u001b[43m)\u001b[49m\n",
      "File \u001b[0;32m~/develop/hybrid/hybrid/simulators.py:106\u001b[0m, in \u001b[0;36mSimulator.simulate\u001b[0;34m(self, t_span, y0, rng, t_eval, **step_kwargs)\u001b[0m\n\u001b[1;32m    104\u001b[0m t \u001b[38;5;241m=\u001b[39m t0\n\u001b[1;32m    105\u001b[0m \u001b[38;5;28;01mwhile\u001b[39;00m t \u001b[38;5;241m<\u001b[39m t_end:\n\u001b[0;32m--> 106\u001b[0m     step \u001b[38;5;241m=\u001b[39m \u001b[38;5;28;43mself\u001b[39;49m\u001b[38;5;241;43m.\u001b[39;49m\u001b[43mstep\u001b[49m\u001b[43m(\u001b[49m\u001b[38;5;241;43m*\u001b[39;49m\u001b[43mrun\u001b[49m\u001b[38;5;241;43m.\u001b[39;49m\u001b[43mcurrent_state\u001b[49m\u001b[43m(\u001b[49m\u001b[43m)\u001b[49m\u001b[43m,\u001b[49m\u001b[43m \u001b[49m\u001b[43mt_end\u001b[49m\u001b[43m,\u001b[49m\u001b[43m \u001b[49m\u001b[43mrng\u001b[49m\u001b[43m,\u001b[49m\u001b[43m \u001b[49m\u001b[43mt_eval\u001b[49m\u001b[43m,\u001b[49m\u001b[43m \u001b[49m\u001b[38;5;241;43m*\u001b[39;49m\u001b[38;5;241;43m*\u001b[39;49m\u001b[43mstep_kwargs\u001b[49m\u001b[43m)\u001b[49m\n\u001b[1;32m    107\u001b[0m     t \u001b[38;5;241m=\u001b[39m run\u001b[38;5;241m.\u001b[39mhandle_step(step)\n\u001b[1;32m    109\u001b[0m \u001b[38;5;28;01mreturn\u001b[39;00m run\u001b[38;5;241m.\u001b[39mget_history()\n",
      "File \u001b[0;32m~/develop/hybrid/hybrid/hybrid.py:231\u001b[0m, in \u001b[0;36mHybridSimulator.step\u001b[0;34m(self, t, y, t_end, rng, t_eval, events)\u001b[0m\n\u001b[1;32m    228\u001b[0m     relevant_t_eval \u001b[38;5;241m=\u001b[39m \u001b[38;5;28;01mNone\u001b[39;00m\n\u001b[1;32m    230\u001b[0m \u001b[38;5;66;03m# integrate until hitting or until t_max\u001b[39;00m\n\u001b[0;32m--> 231\u001b[0m step_solved \u001b[38;5;241m=\u001b[39m \u001b[43msolve_ivp\u001b[49m\u001b[43m(\u001b[49m\u001b[38;5;28;43mself\u001b[39;49m\u001b[38;5;241;43m.\u001b[39;49m\u001b[43mdydt\u001b[49m\u001b[43m,\u001b[49m\u001b[43m \u001b[49m\u001b[43mt_span\u001b[49m\u001b[43m,\u001b[49m\u001b[43m \u001b[49m\u001b[43my_expanded\u001b[49m\u001b[43m,\u001b[49m\u001b[43m \u001b[49m\u001b[43mevents\u001b[49m\u001b[38;5;241;43m=\u001b[39;49m\u001b[43mevents\u001b[49m\u001b[43m,\u001b[49m\u001b[43m \u001b[49m\u001b[43margs\u001b[49m\u001b[38;5;241;43m=\u001b[39;49m\u001b[43m(\u001b[49m\u001b[43mpartition\u001b[49m\u001b[43m,\u001b[49m\u001b[43m \u001b[49m\u001b[43mhitting_point\u001b[49m\u001b[43m)\u001b[49m\u001b[43m,\u001b[49m\u001b[43m \u001b[49m\u001b[43mt_eval\u001b[49m\u001b[38;5;241;43m=\u001b[39;49m\u001b[43mrelevant_t_eval\u001b[49m\u001b[43m)\u001b[49m\n\u001b[1;32m    232\u001b[0m ivp_step_status \u001b[38;5;241m=\u001b[39m step_solved\u001b[38;5;241m.\u001b[39mstatus\n\u001b[1;32m    234\u001b[0m t_history \u001b[38;5;241m=\u001b[39m step_solved\u001b[38;5;241m.\u001b[39mt\n",
      "File \u001b[0;32m~/develop/hybrid/.venv/lib/python3.9/site-packages/scipy/integrate/_ivp/ivp.py:687\u001b[0m, in \u001b[0;36msolve_ivp\u001b[0;34m(fun, t_span, y0, method, t_eval, dense_output, events, vectorized, args, **options)\u001b[0m\n\u001b[1;32m    684\u001b[0m \u001b[38;5;28;01mif\u001b[39;00m method \u001b[38;5;129;01min\u001b[39;00m METHODS:\n\u001b[1;32m    685\u001b[0m     method \u001b[38;5;241m=\u001b[39m METHODS[method]\n\u001b[0;32m--> 687\u001b[0m solver \u001b[38;5;241m=\u001b[39m \u001b[43mmethod\u001b[49m\u001b[43m(\u001b[49m\u001b[43mfun\u001b[49m\u001b[43m,\u001b[49m\u001b[43m \u001b[49m\u001b[43mt0\u001b[49m\u001b[43m,\u001b[49m\u001b[43m \u001b[49m\u001b[43my0\u001b[49m\u001b[43m,\u001b[49m\u001b[43m \u001b[49m\u001b[43mtf\u001b[49m\u001b[43m,\u001b[49m\u001b[43m \u001b[49m\u001b[43mvectorized\u001b[49m\u001b[38;5;241;43m=\u001b[39;49m\u001b[43mvectorized\u001b[49m\u001b[43m,\u001b[49m\u001b[43m \u001b[49m\u001b[38;5;241;43m*\u001b[39;49m\u001b[38;5;241;43m*\u001b[39;49m\u001b[43moptions\u001b[49m\u001b[43m)\u001b[49m\n\u001b[1;32m    689\u001b[0m \u001b[38;5;28;01mif\u001b[39;00m t_eval \u001b[38;5;129;01mis\u001b[39;00m \u001b[38;5;28;01mNone\u001b[39;00m:\n\u001b[1;32m    690\u001b[0m     ts \u001b[38;5;241m=\u001b[39m [t0]\n",
      "File \u001b[0;32m~/develop/hybrid/.venv/lib/python3.9/site-packages/scipy/integrate/_ivp/rk.py:94\u001b[0m, in \u001b[0;36mRungeKutta.__init__\u001b[0;34m(self, fun, t0, y0, t_bound, max_step, rtol, atol, vectorized, first_step, **extraneous)\u001b[0m\n\u001b[1;32m     92\u001b[0m \u001b[38;5;28mself\u001b[39m\u001b[38;5;241m.\u001b[39mmax_step \u001b[38;5;241m=\u001b[39m validate_max_step(max_step)\n\u001b[1;32m     93\u001b[0m \u001b[38;5;28mself\u001b[39m\u001b[38;5;241m.\u001b[39mrtol, \u001b[38;5;28mself\u001b[39m\u001b[38;5;241m.\u001b[39matol \u001b[38;5;241m=\u001b[39m validate_tol(rtol, atol, \u001b[38;5;28mself\u001b[39m\u001b[38;5;241m.\u001b[39mn)\n\u001b[0;32m---> 94\u001b[0m \u001b[38;5;28mself\u001b[39m\u001b[38;5;241m.\u001b[39mf \u001b[38;5;241m=\u001b[39m \u001b[38;5;28;43mself\u001b[39;49m\u001b[38;5;241;43m.\u001b[39;49m\u001b[43mfun\u001b[49m\u001b[43m(\u001b[49m\u001b[38;5;28;43mself\u001b[39;49m\u001b[38;5;241;43m.\u001b[39;49m\u001b[43mt\u001b[49m\u001b[43m,\u001b[49m\u001b[43m \u001b[49m\u001b[38;5;28;43mself\u001b[39;49m\u001b[38;5;241;43m.\u001b[39;49m\u001b[43my\u001b[49m\u001b[43m)\u001b[49m\n\u001b[1;32m     95\u001b[0m \u001b[38;5;28;01mif\u001b[39;00m first_step \u001b[38;5;129;01mis\u001b[39;00m \u001b[38;5;28;01mNone\u001b[39;00m:\n\u001b[1;32m     96\u001b[0m     \u001b[38;5;28mself\u001b[39m\u001b[38;5;241m.\u001b[39mh_abs \u001b[38;5;241m=\u001b[39m select_initial_step(\n\u001b[1;32m     97\u001b[0m         \u001b[38;5;28mself\u001b[39m\u001b[38;5;241m.\u001b[39mfun, \u001b[38;5;28mself\u001b[39m\u001b[38;5;241m.\u001b[39mt, \u001b[38;5;28mself\u001b[39m\u001b[38;5;241m.\u001b[39my, \u001b[38;5;28mself\u001b[39m\u001b[38;5;241m.\u001b[39mf, \u001b[38;5;28mself\u001b[39m\u001b[38;5;241m.\u001b[39mdirection,\n\u001b[1;32m     98\u001b[0m         \u001b[38;5;28mself\u001b[39m\u001b[38;5;241m.\u001b[39merror_estimator_order, \u001b[38;5;28mself\u001b[39m\u001b[38;5;241m.\u001b[39mrtol, \u001b[38;5;28mself\u001b[39m\u001b[38;5;241m.\u001b[39matol)\n",
      "File \u001b[0;32m~/develop/hybrid/.venv/lib/python3.9/site-packages/scipy/integrate/_ivp/base.py:154\u001b[0m, in \u001b[0;36mOdeSolver.__init__.<locals>.fun\u001b[0;34m(t, y)\u001b[0m\n\u001b[1;32m    152\u001b[0m \u001b[38;5;28;01mdef\u001b[39;00m \u001b[38;5;21mfun\u001b[39m(t, y):\n\u001b[1;32m    153\u001b[0m     \u001b[38;5;28mself\u001b[39m\u001b[38;5;241m.\u001b[39mnfev \u001b[38;5;241m+\u001b[39m\u001b[38;5;241m=\u001b[39m \u001b[38;5;241m1\u001b[39m\n\u001b[0;32m--> 154\u001b[0m     \u001b[38;5;28;01mreturn\u001b[39;00m \u001b[38;5;28;43mself\u001b[39;49m\u001b[38;5;241;43m.\u001b[39;49m\u001b[43mfun_single\u001b[49m\u001b[43m(\u001b[49m\u001b[43mt\u001b[49m\u001b[43m,\u001b[49m\u001b[43m \u001b[49m\u001b[43my\u001b[49m\u001b[43m)\u001b[49m\n",
      "File \u001b[0;32m~/develop/hybrid/.venv/lib/python3.9/site-packages/scipy/integrate/_ivp/base.py:23\u001b[0m, in \u001b[0;36mcheck_arguments.<locals>.fun_wrapped\u001b[0;34m(t, y)\u001b[0m\n\u001b[1;32m     22\u001b[0m \u001b[38;5;28;01mdef\u001b[39;00m \u001b[38;5;21mfun_wrapped\u001b[39m(t, y):\n\u001b[0;32m---> 23\u001b[0m     \u001b[38;5;28;01mreturn\u001b[39;00m np\u001b[38;5;241m.\u001b[39masarray(\u001b[43mfun\u001b[49m\u001b[43m(\u001b[49m\u001b[43mt\u001b[49m\u001b[43m,\u001b[49m\u001b[43m \u001b[49m\u001b[43my\u001b[49m\u001b[43m)\u001b[49m, dtype\u001b[38;5;241m=\u001b[39mdtype)\n",
      "File \u001b[0;32m~/develop/hybrid/.venv/lib/python3.9/site-packages/scipy/integrate/_ivp/ivp.py:659\u001b[0m, in \u001b[0;36msolve_ivp.<locals>.fun\u001b[0;34m(t, x, fun)\u001b[0m\n\u001b[1;32m    658\u001b[0m \u001b[38;5;28;01mdef\u001b[39;00m \u001b[38;5;21mfun\u001b[39m(t, x, fun\u001b[38;5;241m=\u001b[39mfun):\n\u001b[0;32m--> 659\u001b[0m     \u001b[38;5;28;01mreturn\u001b[39;00m \u001b[43mfun\u001b[49m\u001b[43m(\u001b[49m\u001b[43mt\u001b[49m\u001b[43m,\u001b[49m\u001b[43m \u001b[49m\u001b[43mx\u001b[49m\u001b[43m,\u001b[49m\u001b[43m \u001b[49m\u001b[38;5;241;43m*\u001b[39;49m\u001b[43margs\u001b[49m\u001b[43m)\u001b[49m\n",
      "File \u001b[0;32m~/develop/hybrid/hybrid/hybrid.py:79\u001b[0m, in \u001b[0;36mHybridSimulator.jit_dydt_factory.<locals>.wrapper\u001b[0;34m(t, y_expanded, partition, hitting_point)\u001b[0m\n\u001b[1;32m     78\u001b[0m \u001b[38;5;28;01mdef\u001b[39;00m \u001b[38;5;21mwrapper\u001b[39m(t, y_expanded, partition, hitting_point):\n\u001b[0;32m---> 79\u001b[0m     \u001b[38;5;28;01mreturn\u001b[39;00m \u001b[43mjit_dydt\u001b[49m\u001b[43m(\u001b[49m\u001b[43mt\u001b[49m\u001b[43m,\u001b[49m\u001b[43m \u001b[49m\u001b[43my_expanded\u001b[49m\u001b[43m,\u001b[49m\u001b[43m \u001b[49m\u001b[43mpartition\u001b[49m\u001b[38;5;241;43m.\u001b[39;49m\u001b[43mdeterministic\u001b[49m\u001b[43m,\u001b[49m\u001b[43m \u001b[49m\u001b[43mpartition\u001b[49m\u001b[38;5;241;43m.\u001b[39;49m\u001b[43mstochastic\u001b[49m\u001b[43m,\u001b[49m\u001b[43m \u001b[49m\u001b[43mhitting_point\u001b[49m\u001b[43m)\u001b[49m\n",
      "File \u001b[0;32m~/develop/hybrid/.venv/lib/python3.9/site-packages/numba/core/dispatcher.py:468\u001b[0m, in \u001b[0;36m_DispatcherBase._compile_for_args\u001b[0;34m(self, *args, **kws)\u001b[0m\n\u001b[1;32m    464\u001b[0m         msg \u001b[38;5;241m=\u001b[39m (\u001b[38;5;124mf\u001b[39m\u001b[38;5;124m\"\u001b[39m\u001b[38;5;132;01m{\u001b[39;00m\u001b[38;5;28mstr\u001b[39m(e)\u001b[38;5;241m.\u001b[39mrstrip()\u001b[38;5;132;01m}\u001b[39;00m\u001b[38;5;124m \u001b[39m\u001b[38;5;130;01m\\n\u001b[39;00m\u001b[38;5;130;01m\\n\u001b[39;00m\u001b[38;5;124mThis error may have been caused \u001b[39m\u001b[38;5;124m\"\u001b[39m\n\u001b[1;32m    465\u001b[0m                \u001b[38;5;124mf\u001b[39m\u001b[38;5;124m\"\u001b[39m\u001b[38;5;124mby the following argument(s):\u001b[39m\u001b[38;5;130;01m\\n\u001b[39;00m\u001b[38;5;132;01m{\u001b[39;00margs_str\u001b[38;5;132;01m}\u001b[39;00m\u001b[38;5;130;01m\\n\u001b[39;00m\u001b[38;5;124m\"\u001b[39m)\n\u001b[1;32m    466\u001b[0m         e\u001b[38;5;241m.\u001b[39mpatch_message(msg)\n\u001b[0;32m--> 468\u001b[0m     \u001b[43merror_rewrite\u001b[49m\u001b[43m(\u001b[49m\u001b[43me\u001b[49m\u001b[43m,\u001b[49m\u001b[43m \u001b[49m\u001b[38;5;124;43m'\u001b[39;49m\u001b[38;5;124;43mtyping\u001b[39;49m\u001b[38;5;124;43m'\u001b[39;49m\u001b[43m)\u001b[49m\n\u001b[1;32m    469\u001b[0m \u001b[38;5;28;01mexcept\u001b[39;00m errors\u001b[38;5;241m.\u001b[39mUnsupportedError \u001b[38;5;28;01mas\u001b[39;00m e:\n\u001b[1;32m    470\u001b[0m     \u001b[38;5;66;03m# Something unsupported is present in the user code, add help info\u001b[39;00m\n\u001b[1;32m    471\u001b[0m     error_rewrite(e, \u001b[38;5;124m'\u001b[39m\u001b[38;5;124munsupported_error\u001b[39m\u001b[38;5;124m'\u001b[39m)\n",
      "File \u001b[0;32m~/develop/hybrid/.venv/lib/python3.9/site-packages/numba/core/dispatcher.py:409\u001b[0m, in \u001b[0;36m_DispatcherBase._compile_for_args.<locals>.error_rewrite\u001b[0;34m(e, issue_type)\u001b[0m\n\u001b[1;32m    407\u001b[0m     \u001b[38;5;28;01mraise\u001b[39;00m e\n\u001b[1;32m    408\u001b[0m \u001b[38;5;28;01melse\u001b[39;00m:\n\u001b[0;32m--> 409\u001b[0m     \u001b[38;5;28;01mraise\u001b[39;00m e\u001b[38;5;241m.\u001b[39mwith_traceback(\u001b[38;5;28;01mNone\u001b[39;00m)\n",
      "\u001b[0;31mTypingError\u001b[0m: Failed in nopython mode pipeline (step: nopython frontend)\nInvalid use of none with parameters (float64, array(float64, 1d, C))\nNo type info available for none as a callable.\nDuring: resolving callee type: none\nDuring: typing of call at /Users/thayer/develop/hybrid/hybrid/hybrid.py (62)\n\n\nFile \"../hybrid/hybrid.py\", line 62:\n        def jit_dydt(t, y_expanded, deterministic_mask, stochastic_mask, hitting_point):\n            <source elided>\n\n            propensities = propensity_function(t, y)\n            ^\n"
     ]
    }
   ],
   "source": [
    "from hybrid.hybrid import HybridSimulator, FixedThresholdPartitioner\n",
    "hybrid_simulator = HybridSimulator(\n",
    "    k=m.get_k(jit=True)(0),\n",
    "    N=m.stoichiometry(),\n",
    "    kinetic_order_matrix=m.kinetic_order(),\n",
    "    partition_function=FixedThresholdPartitioner(1000).partition_function,\n",
    ")\n",
    "\n",
    "hybrid_simulator.simulate(\n",
    "    (0.0, 1000.0),\n",
    "    [10.0],\n",
    "    rng = np.random.default_rng(),\n",
    "\n",
    ")"
   ]
  },
  {
   "cell_type": "code",
   "execution_count": 4,
   "metadata": {},
   "outputs": [
    {
     "name": "stderr",
     "output_type": "stream",
     "text": [
      "/Users/thayer/develop/hybrid/hybrid/gillespie.py:27: RuntimeWarning: divide by zero encountered in scalar divide\n",
      "  hitting_time = hitting_point / total_propensity\n"
     ]
    }
   ],
   "source": [
    "import hybrid.simulate as simulate\n",
    "\n",
    "result = simulate.simulate(\n",
    "    (0.0, 100.0),\n",
    "    np.array([10.0]),\n",
    "    k = m.get_k(jit=True)(0),\n",
    "    N = m.stoichiometry(),\n",
    "    kinetic_order_matrix=m.kinetic_order(),\n",
    "    rng = np.random.default_rng(),\n",
    "    method='gillespie')"
   ]
  },
  {
   "cell_type": "code",
   "execution_count": 6,
   "metadata": {},
   "outputs": [
    {
     "data": {
      "image/png": "[encoded data removed]",
      "text/plain": [
       "<Figure size 640x480 with 1 Axes>"
      ]
     },
     "metadata": {},
     "output_type": "display_data"
    }
   ],
   "source": [
    "plt.plot(result.t_history, result.y_history[0,:].T)\n",
    "plt.title(\"Decline\")\n",
    "plt.show()"
   ]
  },
  {
   "cell_type": "code",
   "execution_count": 4,
   "metadata": {},
   "outputs": [],
   "source": [
    "skip = True\n",
    "if not skip:\n",
    "    result = hybrid.forward_time(\n",
    "        np.array([10.0]),\n",
    "        (0.0, 1000.0),\n",
    "        k = m.get_k(jit=True),\n",
    "        N = m.stoichiometry(),\n",
    "        kinetic_order_matrix=m.kinetic_order(),\n",
    "        rng = np.random.default_rng(),\n",
    "        partition_function=hybrid.FixedThresholdPartitioner(1000).partition_function,\n",
    "    )\n",
    "    print(result)"
   ]
  },
  {
   "cell_type": "code",
   "execution_count": 5,
   "metadata": {},
   "outputs": [],
   "source": [
    "if not skip:\n",
    "    result = hybrid.forward_time(\n",
    "        np.array([10.0]),\n",
    "        (0.0, 1000.0),\n",
    "        k = m.get_k(jit=True),\n",
    "        N = m.stoichiometry(),\n",
    "        kinetic_order_matrix=m.kinetic_order(),\n",
    "        rng = np.random.default_rng(),\n",
    "        partition_function=hybrid.FixedThresholdPartitioner(1000).partition_function,\n",
    "        t_eval=[1.0]\n",
    "    )\n",
    "    print(result)"
   ]
  },
  {
   "cell_type": "code",
   "execution_count": 6,
   "metadata": {},
   "outputs": [],
   "source": [
    "if not skip:\n",
    "    plt.plot(result.t_history, result.y_history[0,:].T)\n",
    "    plt.title(\"Decline\")\n",
    "    plt.show()"
   ]
  },
  {
   "cell_type": "code",
   "execution_count": 7,
   "metadata": {},
   "outputs": [
    {
     "data": {
      "text/plain": [
       "3.0111279301505784"
      ]
     },
     "execution_count": 7,
     "metadata": {},
     "output_type": "execute_result"
    }
   ],
   "source": [
    "np.mean(np.random.exponential(3, 100000))"
   ]
  },
  {
   "cell_type": "markdown",
   "metadata": {},
   "source": [
    "# Pure Gillespie"
   ]
  },
  {
   "cell_type": "code",
   "execution_count": 8,
   "metadata": {},
   "outputs": [],
   "source": [
    "from hybrid.gillespie import forward_time as g_forward_time"
   ]
  },
  {
   "cell_type": "code",
   "execution_count": 9,
   "metadata": {},
   "outputs": [
    {
     "name": "stderr",
     "output_type": "stream",
     "text": [
      "/Users/thayer/develop/hybrid/hybrid/gillespie.py:87: RuntimeWarning: divide by zero encountered in scalar divide\n",
      "  hitting_time = hitting_point / total_propensity\n"
     ]
    }
   ],
   "source": [
    "result = g_forward_time(\n",
    "    np.array([10.0]),\n",
    "    (0.0, 1000.0),\n",
    "    k = m.get_k(jit=True)(0), # this is gross, I need get_k() to return a matrix when all rates are constant\n",
    "    N = m.stoichiometry(),\n",
    "    kinetic_order_matrix=m.kinetic_order(),\n",
    "    rng = np.random.default_rng(),\n",
    "    t_eval=[1.0]\n",
    ")"
   ]
  },
  {
   "cell_type": "code",
   "execution_count": 10,
   "metadata": {},
   "outputs": [
    {
     "data": {
      "image/png": "[encoded data removed]",
      "text/plain": [
       "<Figure size 640x480 with 1 Axes>"
      ]
     },
     "metadata": {},
     "output_type": "display_data"
    }
   ],
   "source": [
    "plt.plot(result.t_history, result.y_history[0,:].T)\n",
    "plt.title(\"Decline\")\n",
    "plt.show()"
   ]
  },
  {
   "cell_type": "code",
   "execution_count": 11,
   "metadata": {},
   "outputs": [
    {
     "data": {
      "text/plain": [
       "SimulationResult(t=1000.0, y=array([0.]), t_history=array([4.35211264e-03, 8.72938581e-02, 3.41548751e-01, 3.72834721e-01,\n",
       "       4.13383404e-01, 4.61452648e-01, 5.83843075e-01, 5.94366188e-01,\n",
       "       7.66981362e-01, 8.08631359e-01, 8.13107644e-01, 8.16884642e-01,\n",
       "       8.40382903e-01, 9.44030662e-01, 9.47901533e-01, 9.71802140e-01,\n",
       "       9.78160212e-01, 9.91756600e-01, 1.03812446e+00, 1.08648228e+00,\n",
       "       1.14163512e+00, 1.16043445e+00, 1.18627752e+00, 1.19067526e+00,\n",
       "       1.19363816e+00, 1.19550438e+00, 1.19985078e+00, 1.20276622e+00,\n",
       "       1.22570773e+00, 1.23703561e+00, 1.24638646e+00, 1.24764547e+00,\n",
       "       1.25584118e+00, 1.39829479e+00, 1.41184531e+00, 1.42627265e+00,\n",
       "       1.42637474e+00, 1.43422189e+00, 1.43429803e+00, 1.43448768e+00,\n",
       "       1.43449434e+00, 1.48114052e+00, 1.49805137e+00, 1.51527804e+00,\n",
       "       1.52438870e+00, 1.66406916e+00, 1.70238691e+00, 1.74723475e+00,\n",
       "       1.75012527e+00, 1.76217315e+00, 1.79684889e+00, 1.84024567e+00,\n",
       "       1.87486569e+00, 1.88547323e+00, 1.92643435e+00, 1.95267748e+00,\n",
       "       1.95826258e+00, 1.97027672e+00, 2.03069027e+00, 2.04658180e+00,\n",
       "       2.05441437e+00, 2.07660595e+00, 2.08198912e+00, 2.09551651e+00,\n",
       "       2.11722329e+00, 2.13125194e+00, 2.14568433e+00, 2.16997118e+00,\n",
       "       2.17281461e+00, 2.21064548e+00, 2.22336157e+00, 2.22371739e+00,\n",
       "       2.23576319e+00, 2.24638564e+00, 2.28472325e+00, 2.29813452e+00,\n",
       "       2.30515717e+00, 2.32228692e+00, 2.33100875e+00, 2.33532408e+00,\n",
       "       2.35794467e+00, 2.36051212e+00, 2.36911108e+00, 2.37669625e+00,\n",
       "       2.40053864e+00, 2.40994663e+00, 2.44998472e+00, 2.46725752e+00,\n",
       "       2.51766777e+00, 2.59612230e+00, 2.63382679e+00, 2.66086209e+00,\n",
       "       2.66612567e+00, 2.68230587e+00, 2.71521316e+00, 2.71572707e+00,\n",
       "       2.72064581e+00, 2.73598379e+00, 2.78284348e+00, 2.81039611e+00,\n",
       "       2.82866772e+00, 2.84243011e+00, 2.85644884e+00, 2.86769650e+00,\n",
       "       2.90683974e+00, 2.92673899e+00, 2.93899913e+00, 2.96916635e+00,\n",
       "       2.98349930e+00, 2.99472800e+00, 3.04730308e+00, 3.19177450e+00,\n",
       "       3.28027473e+00, 3.30136642e+00, 3.31257826e+00, 3.31386131e+00,\n",
       "       3.32090181e+00, 3.32223544e+00, 3.38852597e+00, 3.39202051e+00,\n",
       "       3.42616075e+00, 3.43180335e+00, 3.44026033e+00, 3.44641330e+00,\n",
       "       3.49972319e+00, 3.55834919e+00, 3.59062147e+00, 3.60409255e+00,\n",
       "       3.61498599e+00, 3.62761585e+00, 3.64746082e+00, 3.67410783e+00,\n",
       "       3.67920179e+00, 3.69542976e+00, 3.70804779e+00, 3.71098292e+00,\n",
       "       3.73843232e+00, 3.76025002e+00, 3.78780625e+00, 3.78838037e+00,\n",
       "       3.81813029e+00, 3.82415228e+00, 3.82765311e+00, 3.83541626e+00,\n",
       "       3.83662316e+00, 3.86139549e+00, 3.86522117e+00, 3.86637099e+00,\n",
       "       3.86908880e+00, 3.88527014e+00, 3.90973459e+00, 3.91029336e+00,\n",
       "       3.91446224e+00, 3.92214378e+00, 3.93003549e+00, 3.95786641e+00,\n",
       "       3.95866183e+00, 3.97734415e+00, 3.98554181e+00, 4.00908738e+00,\n",
       "       4.03523784e+00, 4.03896491e+00, 4.05668790e+00, 4.06021037e+00,\n",
       "       4.08198802e+00, 4.09348979e+00, 4.09820544e+00, 4.11294701e+00,\n",
       "       4.11739790e+00, 4.12567339e+00, 4.13237649e+00, 4.14945930e+00,\n",
       "       4.18728226e+00, 4.19920153e+00, 4.21527727e+00, 4.24438376e+00,\n",
       "       4.24726749e+00, 4.24964355e+00, 4.27454189e+00, 4.31349373e+00,\n",
       "       4.32447582e+00, 4.34249145e+00, 4.36607455e+00, 4.40323542e+00,\n",
       "       4.43405423e+00, 4.43991905e+00, 4.44355222e+00, 4.44453414e+00,\n",
       "       4.45956715e+00, 4.46004875e+00, 4.47603024e+00, 4.50841741e+00,\n",
       "       4.52061737e+00, 4.53884371e+00, 4.54106183e+00, 4.54402815e+00,\n",
       "       4.54996628e+00, 4.56691158e+00, 4.57832939e+00, 4.58475360e+00,\n",
       "       4.60844029e+00, 4.63223366e+00, 4.65981340e+00, 4.67476368e+00,\n",
       "       4.68185802e+00, 4.69818898e+00, 4.71825990e+00, 4.72493942e+00,\n",
       "       4.73990720e+00, 4.77242642e+00, 4.77486880e+00, 4.77925474e+00,\n",
       "       4.80022161e+00, 4.83823713e+00, 4.83904175e+00, 4.86298121e+00,\n",
       "       4.87999842e+00, 4.88233749e+00, 4.89213366e+00, 4.92618864e+00,\n",
       "       4.92871487e+00, 4.94507683e+00, 4.96836272e+00, 5.00916627e+00,\n",
       "       5.04459422e+00, 5.04717837e+00, 5.07191338e+00, 5.07437403e+00,\n",
       "       5.15594407e+00, 5.16471001e+00, 5.16739858e+00, 5.16966096e+00,\n",
       "       5.17282280e+00, 5.18832452e+00, 5.19700663e+00, 5.20014885e+00,\n",
       "       5.23401876e+00, 5.23425565e+00, 5.27617125e+00, 5.28020578e+00,\n",
       "       5.28165321e+00, 5.29298852e+00, 5.30251616e+00, 5.32833467e+00,\n",
       "       5.33673383e+00, 5.35065327e+00, 5.35422344e+00, 5.35640164e+00,\n",
       "       5.36182122e+00, 5.36331644e+00, 5.36436668e+00, 5.36964304e+00,\n",
       "       5.37374591e+00, 5.39277178e+00, 5.41250341e+00, 5.41768715e+00,\n",
       "       5.42191649e+00, 5.43429537e+00, 5.43455564e+00, 5.47683923e+00,\n",
       "       5.51569044e+00, 5.53039639e+00, 5.56596078e+00, 5.63459315e+00,\n",
       "       5.63465958e+00, 5.65587195e+00, 5.65852578e+00, 5.66051481e+00,\n",
       "       5.66121464e+00, 5.67548686e+00, 5.67688518e+00, 5.67816962e+00,\n",
       "       5.69092775e+00, 5.69593081e+00, 5.70870706e+00, 5.72797711e+00,\n",
       "       5.74722879e+00, 5.75251653e+00, 5.76084712e+00, 5.77410654e+00,\n",
       "       5.79040979e+00, 5.79532102e+00, 5.79727194e+00, 5.82021810e+00,\n",
       "       5.82136259e+00, 5.84412932e+00, 5.85098694e+00, 5.89944123e+00,\n",
       "       5.90559844e+00, 5.90739808e+00, 5.92634167e+00, 5.92796632e+00,\n",
       "       5.93612938e+00, 5.94385883e+00, 5.96066215e+00, 5.98481127e+00,\n",
       "       6.00736443e+00, 6.02176140e+00, 6.02516316e+00, 6.03821921e+00,\n",
       "       6.04576419e+00, 6.06030312e+00, 6.06860535e+00, 6.09299418e+00,\n",
       "       6.11231897e+00, 6.12688415e+00, 6.15442860e+00, 6.16253679e+00,\n",
       "       6.16915266e+00, 6.20231869e+00, 6.20363417e+00, 6.28751347e+00,\n",
       "       6.28990274e+00, 6.35042230e+00, 6.35307668e+00, 6.38252199e+00,\n",
       "       6.38734811e+00, 6.39670421e+00, 6.40122982e+00, 6.41781654e+00,\n",
       "       6.41852745e+00, 6.42918580e+00, 6.43149185e+00, 6.43820232e+00,\n",
       "       6.43821756e+00, 6.54946148e+00, 6.55355041e+00, 6.65932549e+00,\n",
       "       6.70663500e+00, 6.74699848e+00, 6.77902485e+00, 6.78457518e+00,\n",
       "       6.81067749e+00, 6.86859510e+00, 6.88519196e+00, 6.90200854e+00,\n",
       "       6.94740065e+00, 6.95818772e+00, 6.95918349e+00, 6.97498520e+00,\n",
       "       6.99841456e+00, 7.00591735e+00, 7.00984455e+00, 7.06347796e+00,\n",
       "       7.07851458e+00, 7.08194163e+00, 7.11212493e+00, 7.13593965e+00,\n",
       "       7.14429804e+00, 7.15405945e+00, 7.17920274e+00, 7.24527964e+00,\n",
       "       7.24762401e+00, 7.25512995e+00, 7.27015627e+00, 7.27981476e+00,\n",
       "       7.28266191e+00, 7.30414802e+00, 7.32273138e+00, 7.35369924e+00,\n",
       "       7.36418668e+00, 7.37609990e+00, 7.38568172e+00, 7.42102573e+00,\n",
       "       7.50534827e+00, 7.51378289e+00, 7.52689155e+00, 7.54436051e+00,\n",
       "       7.56261365e+00, 7.59927643e+00, 7.60895262e+00, 7.60975215e+00,\n",
       "       7.61806807e+00, 7.65783294e+00, 7.66910328e+00, 7.67341661e+00,\n",
       "       7.67348614e+00, 7.69859755e+00, 7.72524858e+00, 7.73426495e+00,\n",
       "       7.74188568e+00, 7.74351613e+00, 7.77074183e+00, 7.81453262e+00,\n",
       "       7.82676483e+00, 7.83570211e+00, 7.83984614e+00, 7.86515194e+00,\n",
       "       7.87108024e+00, 7.88856594e+00, 7.91253961e+00, 7.97798651e+00,\n",
       "       7.99144687e+00, 7.99568234e+00, 8.04844330e+00, 8.06892137e+00,\n",
       "       8.10292657e+00, 8.24641532e+00, 8.25196926e+00, 8.26586451e+00,\n",
       "       8.30558260e+00, 8.32208428e+00, 8.32715529e+00, 8.33699747e+00,\n",
       "       8.33919784e+00, 8.35730594e+00, 8.36846225e+00, 8.37779927e+00,\n",
       "       8.41720704e+00, 8.43434849e+00, 8.45709327e+00, 8.50021028e+00,\n",
       "       8.51745968e+00, 8.51977323e+00, 8.52520415e+00, 8.53037507e+00,\n",
       "       8.57552776e+00, 8.63265168e+00, 8.66958481e+00, 8.79110191e+00,\n",
       "       8.79829746e+00, 8.83587963e+00, 8.84304700e+00, 8.84802440e+00,\n",
       "       8.86786694e+00, 8.95154696e+00, 9.07751388e+00, 9.13159812e+00,\n",
       "       9.21961425e+00, 9.26215596e+00, 9.29365141e+00, 9.32876374e+00,\n",
       "       9.36591980e+00, 9.37430305e+00, 9.42928089e+00, 9.51203853e+00,\n",
       "       9.51503247e+00, 9.52497338e+00, 9.55468873e+00, 9.56510745e+00,\n",
       "       9.57605669e+00, 9.64176411e+00, 9.72122370e+00, 9.73106923e+00,\n",
       "       9.74038932e+00, 9.81260829e+00, 9.92777039e+00, 9.94626897e+00,\n",
       "       9.94723184e+00, 1.00996345e+01, 1.02143977e+01, 1.02883136e+01,\n",
       "       1.03085494e+01, 1.03495898e+01, 1.03766947e+01, 1.04425241e+01,\n",
       "       1.04728491e+01, 1.04892779e+01, 1.06380687e+01, 1.06451708e+01,\n",
       "       1.06889210e+01, 1.07488395e+01, 1.12873021e+01, 1.12905853e+01,\n",
       "       1.13421956e+01, 1.19844495e+01, 1.20070065e+01, 1.20261561e+01,\n",
       "       1.23149487e+01, 1.25347266e+01, 1.00000000e+03]), y_history=array([[ 9., 10., 11., 12., 13., 12., 13., 14., 15., 14., 15., 16., 17.,\n",
       "        18., 19., 18., 19., 20., 19., 20., 21., 22., 23., 24., 25., 24.,\n",
       "        23., 24., 25., 24., 23., 24., 25., 26., 25., 24., 25., 24., 23.,\n",
       "        24., 23., 22., 21., 20., 19., 20., 21., 20., 19., 20., 21., 20.,\n",
       "        21., 20., 21., 20., 21., 22., 23., 22., 23., 24., 23., 24., 25.,\n",
       "        26., 27., 28., 27., 28., 27., 28., 27., 28., 27., 28., 29., 28.,\n",
       "        27., 28., 27., 26., 25., 26., 25., 24., 25., 24., 23., 24., 23.,\n",
       "        24., 23., 22., 23., 24., 23., 22., 23., 22., 21., 20., 21., 20.,\n",
       "        21., 22., 23., 22., 23., 22., 21., 22., 21., 22., 23., 22., 23.,\n",
       "        24., 25., 26., 27., 26., 25., 24., 25., 24., 25., 24., 25., 26.,\n",
       "        27., 28., 27., 28., 29., 28., 29., 28., 27., 28., 27., 26., 27.,\n",
       "        28., 29., 30., 31., 32., 33., 32., 33., 32., 33., 32., 33., 32.,\n",
       "        31., 32., 33., 32., 31., 32., 33., 32., 33., 34., 33., 34., 35.,\n",
       "        34., 33., 32., 33., 32., 31., 30., 31., 30., 29., 28., 27., 28.,\n",
       "        29., 30., 31., 32., 31., 32., 33., 34., 35., 34., 33., 34., 33.,\n",
       "        32., 31., 30., 31., 32., 33., 32., 31., 32., 31., 32., 33., 34.,\n",
       "        33., 32., 31., 30., 31., 30., 31., 32., 31., 30., 31., 30., 31.,\n",
       "        30., 29., 30., 29., 28., 29., 30., 31., 30., 31., 32., 33., 32.,\n",
       "        33., 34., 35., 36., 37., 36., 35., 36., 37., 36., 35., 34., 33.,\n",
       "        34., 35., 34., 35., 36., 37., 36., 35., 34., 35., 36., 35., 34.,\n",
       "        33., 34., 33., 32., 31., 32., 33., 32., 31., 30., 29., 28., 27.,\n",
       "        26., 25., 26., 27., 26., 27., 28., 27., 28., 27., 28., 29., 30.,\n",
       "        29., 30., 29., 30., 29., 28., 29., 28., 27., 28., 29., 30., 29.,\n",
       "        30., 31., 30., 29., 28., 29., 30., 31., 30., 29., 28., 27., 26.,\n",
       "        25., 24., 25., 24., 23., 24., 25., 24., 23., 22., 23., 24., 25.,\n",
       "        24., 23., 22., 23., 24., 23., 22., 21., 20., 19., 20., 21., 22.,\n",
       "        23., 24., 25., 24., 23., 22., 21., 20., 19., 18., 17., 18., 19.,\n",
       "        18., 17., 18., 19., 20., 21., 20., 19., 18., 19., 18., 19., 18.,\n",
       "        19., 20., 21., 22., 21., 22., 21., 22., 23., 22., 21., 20., 19.,\n",
       "        20., 21., 20., 21., 22., 21., 22., 21., 20., 21., 20., 19., 18.,\n",
       "        19., 20., 19., 20., 21., 20., 21., 22., 23., 22., 23., 24., 23.,\n",
       "        22., 23., 22., 21., 20., 21., 20., 19., 20., 19., 20., 19., 18.,\n",
       "        17., 16., 17., 16., 17., 18., 19., 18., 19., 18., 19., 20., 19.,\n",
       "        18., 19., 18., 19., 18., 17., 16., 15., 14., 15., 14., 13., 12.,\n",
       "        11., 10.,  9., 10.,  9., 10.,  9., 10.,  9., 10.,  9.,  8.,  7.,\n",
       "         6.,  5.,  4.,  5.,  4.,  5.,  4.,  5.,  4.,  3.,  2.,  1.,  2.,\n",
       "         1.,  0.,  0.]]), n_stochastic=470)"
      ]
     },
     "execution_count": 11,
     "metadata": {},
     "output_type": "execute_result"
    }
   ],
   "source": [
    "result"
   ]
  },
  {
   "cell_type": "code",
   "execution_count": 12,
   "metadata": {},
   "outputs": [
    {
     "data": {
      "text/plain": [
       "(0.6065306597126334, 0.5)"
      ]
     },
     "execution_count": 12,
     "metadata": {},
     "output_type": "execute_result"
    }
   ],
   "source": [
    "ri = 500\n",
    "np.exp(-1*ri/1000), 1-ri/1000"
   ]
  },
  {
   "cell_type": "code",
   "execution_count": 13,
   "metadata": {},
   "outputs": [
    {
     "data": {
      "text/plain": [
       "(0.09020401043104986, 0)"
      ]
     },
     "execution_count": 13,
     "metadata": {},
     "output_type": "execute_result"
    }
   ],
   "source": [
    "# p more than 1 event\n",
    "1 - (ri/1000 + 1) * np.exp(-1*ri/1000), 0"
   ]
  },
  {
   "cell_type": "code",
   "execution_count": 14,
   "metadata": {},
   "outputs": [],
   "source": [
    "from scipy.stats import poisson"
   ]
  },
  {
   "cell_type": "code",
   "execution_count": 15,
   "metadata": {},
   "outputs": [
    {
     "data": {
      "text/plain": [
       "(0.0, 250.0)"
      ]
     },
     "execution_count": 15,
     "metadata": {},
     "output_type": "execute_result"
    },
    {
     "data": {
      "image/png": "[encoded data removed]",
      "text/plain": [
       "<Figure size 640x480 with 1 Axes>"
      ]
     },
     "metadata": {},
     "output_type": "display_data"
    }
   ],
   "source": [
    "mu = 100\n",
    "\n",
    "fig, ax = plt.subplots(1, 1)\n",
    "x = np.arange(poisson.ppf(0.001, mu),\n",
    "            poisson.ppf(0.999, mu))\n",
    "ax.plot(x, poisson.pmf(x, mu), 'bo', ms=8, label='poisson pmf')\n",
    "ax.vlines(x, 0, poisson.pmf(x, mu), colors='b', lw=5, alpha=0.5)\n",
    "ax.set_xlim([0, 2.5*mu])"
   ]
  },
  {
   "cell_type": "code",
   "execution_count": null,
   "metadata": {},
   "outputs": [],
   "source": []
  }
 ],
 "metadata": {
  "kernelspec": {
   "display_name": ".venv",
   "language": "python",
   "name": "python3"
  },
  "language_info": {
   "codemirror_mode": {
    "name": "ipython",
    "version": 3
   },
   "file_extension": ".py",
   "mimetype": "text/x-python",
   "name": "python",
   "nbconvert_exporter": "python",
   "pygments_lexer": "ipython3",
   "version": "3.9.8"
  }
 },
 "nbformat": 4,
 "nbformat_minor": 2
}
