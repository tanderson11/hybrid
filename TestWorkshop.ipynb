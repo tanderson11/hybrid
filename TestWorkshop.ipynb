{
 "cells": [
  {
   "cell_type": "code",
   "execution_count": null,
   "metadata": {},
   "outputs": [],
   "source": [
    "import os\n",
    "import reactionmodel.load\n",
    "import numpy as np\n",
    "\n",
    "import test\n",
    "\n",
    "os.chdir('/Users/thayer/develop/hybrid-algorithm/')\n",
    "root = './tests/sbml-tests/sbml-003-dimerisation/'\n",
    "#root = './tests/sbml-tests/sbml-001-birth-death/'\n",
    "check = 'p01i01'"
   ]
  },
  {
   "cell_type": "code",
   "execution_count": null,
   "metadata": {},
   "outputs": [],
   "source": [
    "specification = reactionmodel.load.load_specification(*test.get_path_tuple(root, check))"
   ]
  },
  {
   "cell_type": "code",
   "execution_count": null,
   "metadata": {},
   "outputs": [],
   "source": [
    "prop = specification.model.get_propensities_function(jit=False, parameters=specification.parameters)\n",
    "prop(0, np.array([100.0, 0.]))"
   ]
  },
  {
   "cell_type": "code",
   "execution_count": null,
   "metadata": {},
   "outputs": [],
   "source": [
    "prop = specification.model.get_propensities_function(jit=True, parameters=specification.parameters)\n",
    "prop(0, np.array([100.0, 0.]))"
   ]
  },
  {
   "cell_type": "code",
   "execution_count": null,
   "metadata": {},
   "outputs": [],
   "source": [
    "prop = specification.model._get_jit_propensities_function(parameters=specification.parameters)\n",
    "prop(0, np.array([100.0, 0.]))"
   ]
  },
  {
   "cell_type": "code",
   "execution_count": null,
   "metadata": {},
   "outputs": [],
   "source": [
    "dydt = specification.model.get_dydt_function(parameters=specification.parameters)\n",
    "dydt(0, np.array([100.0, 0.0]))"
   ]
  },
  {
   "cell_type": "code",
   "execution_count": null,
   "metadata": {},
   "outputs": [],
   "source": [
    "dydt = specification.model.get_dydt_function(jit=True, parameters=specification.parameters)\n",
    "dydt(0, np.array([100.0, 0.0]))"
   ]
  },
  {
   "cell_type": "code",
   "execution_count": null,
   "metadata": {},
   "outputs": [],
   "source": [
    "specification"
   ]
  },
  {
   "cell_type": "code",
   "execution_count": null,
   "metadata": {},
   "outputs": [],
   "source": [
    "import hybrid\n",
    "\n",
    "initial_condition = np.array([100.0, 0.0])\n",
    "\n",
    "rng = np.random.default_rng()\n",
    "m = specification.model\n",
    "\n",
    "simulation_options = specification.simulation_options.copy()\n",
    "\n",
    "partition_path = simulation_options.pop('partition')\n",
    "partition_scheme = hybrid.load_partition_scheme(partition_path)\n",
    "simulation_options['partition_function'] = partition_scheme.partition_function\n",
    "\n",
    "k = m.get_k(parameters=specification.parameters, jit=True)\n",
    "results = [hybrid.forward_time(initial_condition, [0.0, 1.0], k, m.stoichiometry(), m.kinetic_order(), rng, **simulation_options) for i in range(100)]"
   ]
  },
  {
   "cell_type": "code",
   "execution_count": null,
   "metadata": {},
   "outputs": [],
   "source": [
    "np.array([r.y[0] for r in results]).mean()"
   ]
  }
 ],
 "metadata": {
  "kernelspec": {
   "display_name": ".venv",
   "language": "python",
   "name": "python3"
  },
  "language_info": {
   "codemirror_mode": {
    "name": "ipython",
    "version": 3
   },
   "file_extension": ".py",
   "mimetype": "text/x-python",
   "name": "python",
   "nbconvert_exporter": "python",
   "pygments_lexer": "ipython3",
   "version": "3.9.8"
  }
 },
 "nbformat": 4,
 "nbformat_minor": 2
}
