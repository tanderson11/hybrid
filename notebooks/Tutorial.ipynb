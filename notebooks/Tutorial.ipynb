{
 "cells": [
  {
   "cell_type": "markdown",
   "metadata": {},
   "source": [
    "# Tutorial - SIR Model"
   ]
  },
  {
   "cell_type": "code",
   "execution_count": 1,
   "metadata": {},
   "outputs": [],
   "source": [
    "import numpy as np"
   ]
  },
  {
   "cell_type": "markdown",
   "metadata": {},
   "source": [
    "For simulation, we need to specify three things about our system:\n",
    "\n",
    "1. The stochastic rate constant vector<sup>*</sup>:\n",
    "\n",
    "$$ k_j \\equiv \\text{the rate constant for reaction $j$}$$\n",
    "\n",
    "\n",
    "2. The stoichiometry matrix $\\nu$:\n",
    "\n",
    "$$ \\nu_{ij} \\equiv \\text{net change in species $i$ after unit progress in reaction $j$} $$\n",
    "\n",
    "3. The kinetic order of each species in each reaction $O_{ij}$:\n",
    "\n",
    "$$ O_{ij} \\equiv \\text{order of involvement of species $i$ in the rate law of reaction $j$} $$\n",
    "\n",
    "\n",
    "<sup>*</sup> A stochastic rate constant denotes probability per unit time of a reaction per combination of potentially reactive elements. For instance, the rate constant for infection in an SIR model is usually denoted $\\beta$. See section IIC of Exact Stochastic Simulation of Coupled Chemical Reactions, 1977, the original paper describing Gillespie's stochastic simulation algorithm for a more precise description. It is easy to get confused for reactions in which a single reactant species participates multiple times. "
   ]
  },
  {
   "cell_type": "markdown",
   "metadata": {},
   "source": [
    "## Specifying a system (by hand)\n",
    "\n",
    "An SIR model has three species (S, I, and R) and two reactions:\n",
    "\n",
    "Infection:\n",
    "$$ \\text{S} + \\text{I} \\to 2I \\qquad k = \\beta $$\n",
    "Recovery:\n",
    "$$ \\text{I} \\to R \\qquad k = \\gamma $$"
   ]
  },
  {
   "cell_type": "code",
   "execution_count": 2,
   "metadata": {},
   "outputs": [],
   "source": [
    "# rate constant vector\n",
    "beta = 3/1000\n",
    "gamma = 1.0\n",
    "k = np.array([beta, gamma])\n",
    "\n",
    "# the stoichiometry matrix is always easier to contemplate by looking at its transpose, where rows correspond to reactions\n",
    "N = np.array([\n",
    "    # S, I, R\n",
    "    [-1, 1, 0], # infection\n",
    "    [0, -1, 1], # recovery\n",
    "]).T\n",
    "\n",
    "# kinetic involvement matrix\n",
    "O = np.array([\n",
    "    #S, I, R\n",
    "    [1, 1, 0], # infection\n",
    "    [0, 1, 0], # recovery\n",
    "])"
   ]
  },
  {
   "cell_type": "markdown",
   "metadata": {},
   "source": [
    "The above code is enough to start simulating, but let's do a quick pitstop to look at another way to specify a model, which is much more flexible and will make it easy to vary our parameters."
   ]
  },
  {
   "cell_type": "markdown",
   "metadata": {},
   "source": [
    "## Specifying a system (with `reactionmodel`)\n",
    "\n",
    "This hybrid simulation package is designed to be used alongside [reactionmodel](https://github.com/tanderson11/reactionmodel/tree/main), a small module for simply specifying reaction networks. Here I show how it can be used to specify our SIR model."
   ]
  },
  {
   "cell_type": "code",
   "execution_count": 3,
   "metadata": {},
   "outputs": [],
   "source": [
    "from reactionmodel.model import Species, Reaction, Model\n",
    "\n",
    "parameters={\n",
    "    'beta': beta,\n",
    "    'gamma': gamma,\n",
    "}\n",
    "\n",
    "S = Species('S')\n",
    "I = Species('I')\n",
    "R = Species('R')\n",
    "\n",
    "infection = Reaction([S, I], [(I, 2)], k='beta') # (I, 2) means this reaction produces two infected individuals\n",
    "recovery = Reaction([I], [R], k='gamma')\n",
    "\n",
    "m = Model([S,I,R], [infection, recovery])"
   ]
  },
  {
   "cell_type": "markdown",
   "metadata": {},
   "source": [
    "Now that we have built the model, we can use it to grab the rate constant vector, the stoichiometry matrix, and the kinetic order matrix."
   ]
  },
  {
   "cell_type": "code",
   "execution_count": 4,
   "metadata": {},
   "outputs": [
    {
     "name": "stdout",
     "output_type": "stream",
     "text": [
      "Evaluating expression: beta => 0.003\n",
      "Evaluating expression: gamma => 1.0\n"
     ]
    }
   ],
   "source": [
    "k = m.get_k(parameters=parameters)\n",
    "N = m.stoichiometry()\n",
    "O = m.kinetic_order()"
   ]
  },
  {
   "cell_type": "markdown",
   "metadata": {},
   "source": [
    "## Choosing a simulator"
   ]
  },
  {
   "cell_type": "markdown",
   "metadata": {},
   "source": [
    "### Gillespie"
   ]
  },
  {
   "cell_type": "code",
   "execution_count": 5,
   "metadata": {},
   "outputs": [],
   "source": [
    "from hybrid.gillespie import GillespieSimulator\n",
    "\n",
    "g_s = GillespieSimulator(\n",
    "    k=k,\n",
    "    N=N,\n",
    "    kinetic_order_matrix=O,\n",
    ")"
   ]
  },
  {
   "cell_type": "markdown",
   "metadata": {},
   "source": [
    "### Tau-leaping"
   ]
  },
  {
   "cell_type": "code",
   "execution_count": 6,
   "metadata": {},
   "outputs": [],
   "source": [
    "from hybrid.tau import TauLeapSimulator\n",
    "\n",
    "t_s = TauLeapSimulator(\n",
    "    k=k,\n",
    "    N=N,\n",
    "    kinetic_order_matrix=O,\n",
    "    epsilon=0.01 # tau leaping uses the control parameter epsilon to dictate how much the propensities can change over a single leap\n",
    ")"
   ]
  },
  {
   "cell_type": "markdown",
   "metadata": {},
   "source": [
    "### Hybrid partitioning"
   ]
  },
  {
   "cell_type": "code",
   "execution_count": 7,
   "metadata": {},
   "outputs": [
    {
     "name": "stdout",
     "output_type": "stream",
     "text": [
      "WARNING: Halting on partition changes is disabled but no contrived rate of reaction is specified. This can cause integration to continue past the point when reactions should switch partition. To enable halting set `halt_on_partition_change` while using the following scipy fork: https://github.com/tanderson11/scipy\n"
     ]
    }
   ],
   "source": [
    "from hybrid.hybrid import HybridSimulator, NThresholdPartitioner\n",
    "\n",
    "h_s = HybridSimulator(\n",
    "    k=k,\n",
    "    N=N,\n",
    "    kinetic_order_matrix=O,\n",
    "    partition_function=NThresholdPartitioner(100.0) # this NThresholdPartitioner tells the simulator to treat species with more than 100 members as behaving deterministically\n",
    ")"
   ]
  },
  {
   "cell_type": "markdown",
   "metadata": {},
   "source": [
    "## Simulating\n",
    "\n",
    "Let's pick our favorite of the above simulators"
   ]
  },
  {
   "cell_type": "code",
   "execution_count": 8,
   "metadata": {},
   "outputs": [],
   "source": [
    "s = g_s"
   ]
  },
  {
   "cell_type": "markdown",
   "metadata": {},
   "source": [
    "And simulate. We need three arguments:\n",
    "\n",
    "1. `t_span`: the window of time between which to simulate:\n",
    "\n",
    "$$ t_\\text{span} = [t_\\text{start}, t_\\text{end}) $$\n",
    "\n",
    "2. `y0`: the initial state vector of the system. The order of species is the same as the order of the rows of the stoichiometry matrix.\n",
    "\n",
    "3. `rng`: a random number generator to use for all parts of the simulation. Usually you will just use `np.random.default_rng()` but if you want to reproduce the same behavior between runs, then specify a seed (`rng = np.random.default_rng(seed)`)"
   ]
  },
  {
   "cell_type": "code",
   "execution_count": 9,
   "metadata": {},
   "outputs": [],
   "source": [
    "result = s.simulate(\n",
    "    t_span=[0.0, 8.0],\n",
    "    y0=np.array([990, 10, 0]),\n",
    "    rng=np.random.default_rng()\n",
    ")"
   ]
  },
  {
   "cell_type": "code",
   "execution_count": 10,
   "metadata": {},
   "outputs": [
    {
     "data": {
      "text/plain": [
       "<Axes: >"
      ]
     },
     "execution_count": 10,
     "metadata": {},
     "output_type": "execute_result"
    },
    {
     "data": {
      "image/png": "[encoded data removed]",
      "text/plain": [
       "<Figure size 640x480 with 1 Axes>"
      ]
     },
     "metadata": {},
     "output_type": "display_data"
    }
   ],
   "source": [
    "result.plot(['S', 'I', 'R'])"
   ]
  }
 ],
 "metadata": {
  "kernelspec": {
   "display_name": ".venv",
   "language": "python",
   "name": "python3"
  },
  "language_info": {
   "codemirror_mode": {
    "name": "ipython",
    "version": 3
   },
   "file_extension": ".py",
   "mimetype": "text/x-python",
   "name": "python",
   "nbconvert_exporter": "python",
   "pygments_lexer": "ipython3",
   "version": "3.9.8"
  }
 },
 "nbformat": 4,
 "nbformat_minor": 2
}
