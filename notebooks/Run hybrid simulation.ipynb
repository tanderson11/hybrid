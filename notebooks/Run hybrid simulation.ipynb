{
 "cells": [
  {
   "cell_type": "code",
   "execution_count": 1,
   "id": "5675700c-c422-4ba8-b199-8a0bfbe1c772",
   "metadata": {},
   "outputs": [],
   "source": [
    "import matlab.engine\n",
    "import numpy as np\n",
    "import scipy.optimize"
   ]
  },
  {
   "cell_type": "markdown",
   "id": "1c6f560a-0742-42f2-b440-db5f25398dcf",
   "metadata": {},
   "source": [
    "# Trial and pd parameters"
   ]
  },
  {
   "cell_type": "code",
   "execution_count": 47,
   "id": "6079bca2-965a-4f9c-aae6-c4fac02eab65",
   "metadata": {},
   "outputs": [],
   "source": [
    "# trial and adherence information\n",
    "#drug = \"ATV/r\"\n",
    "drug = \"DTG\"\n",
    "\n",
    "days = np.double(40) #days to run trial for\n",
    "increment = 0.01 # days between each timepoint returned\n",
    "prob_adh = 0.5 if drug != 'TEST' else 0. # probability of taking each pill (independent)\n",
    "adh_pat = 0 # 0 = random prob for each dose, 1 = random prob each day after missed dose\n",
    "adh_shuff = np.double(0.) # standard deviation in the time of taking a pill vs scheduled (days)\n",
    "trial_type = 1 # 1 = suppression trial, 0=maintenance trial\n",
    "burnin = 7*5 # days before interval sampling begins in maintenance trials\n",
    "sampling_int = 28 # days between each sampling time in maintenance trials\n",
    "threshold = 200 # threshold viral load above which failure is declared\n",
    "mut_frac = 0.2 # threshold fraction of population of mutant above which declared failure via resistance"
   ]
  },
  {
   "cell_type": "markdown",
   "id": "592ef267-fc11-4998-81ed-6ad823f54d1e",
   "metadata": {},
   "source": [
    "## Use existing matlab scripts to calculate concentration(t)"
   ]
  },
  {
   "cell_type": "code",
   "execution_count": 48,
   "id": "c498d0f9-a740-4c97-91f7-fed80bd50f98",
   "metadata": {},
   "outputs": [],
   "source": [
    "eng = matlab.engine.start_matlab()\n",
    "eng.cd(r'~/develop/withinhostHIV/MatlabCode/', nargout=0)\n",
    "eng.eval(\"addpath('Parameters','Utilities')\", nargout=0)"
   ]
  },
  {
   "cell_type": "code",
   "execution_count": 49,
   "id": "37b6125f-fda7-4852-a824-713f6640cb0d",
   "metadata": {},
   "outputs": [],
   "source": [
    "eng.workspace[\"drug\"] = drug\n",
    "trial, pd = eng.trial_setup(eng.eval(\"drug\"), days, increment, prob_adh, adh_pat, adh_shuff, trial_type, burnin, sampling_int, threshold, mut_frac, nargout=2)\n",
    "eng.workspace[\"trial\"] = trial\n",
    "eng.workspace[\"pd\"] = pd"
   ]
  },
  {
   "cell_type": "code",
   "execution_count": 50,
   "id": "a0e8428c-ca25-447c-a545-43a662082f6b",
   "metadata": {},
   "outputs": [],
   "source": [
    "dose_t, _ = eng.adh_trajectory(eng.eval(\"pd.num_doses\"), trial, nargout=2)"
   ]
  },
  {
   "cell_type": "code",
   "execution_count": 51,
   "id": "88334de5-4741-4520-9ce0-e77f5c9c2840",
   "metadata": {},
   "outputs": [],
   "source": [
    "c_vec,inhib_vec = eng.drug_trajectory(pd, trial, dose_t, nargout=2)"
   ]
  },
  {
   "cell_type": "markdown",
   "id": "32a12d00-8116-4bbc-ac2b-d681138c3eb9",
   "metadata": {},
   "source": [
    "## Use existing matlab scripts to calculate mutation matrix Q"
   ]
  },
  {
   "cell_type": "code",
   "execution_count": 52,
   "id": "e3272a44-5d7d-404b-ab2c-36bf768b303e",
   "metadata": {},
   "outputs": [],
   "source": [
    "smin=0.05; #highest mutant fitness\n",
    "smax=0.9; #lowest mutant fitness\n",
    "smiss=0.05; #fitness of strains with missing cost\n",
    "rfmiss=1; #fold change in resistance for strains with it missing\n",
    "mfmiss=0; #fractional change in slope for strains with it missing\n",
    "back_mutation_on = drug != 'TEST' #include(1) or exclude(0) back mutation\n",
    "direct_multi_hit = drug != 'TEST' #include(1) or exclude(0) direct multi-hit mutations from WT\n",
    "direct_multi_multi = drug != 'TEST' #include(1) or exclude(0) direct multi-hit mutations from one res strain to another"
   ]
  },
  {
   "cell_type": "code",
   "execution_count": 53,
   "id": "65178ab6-b5e6-48cf-9406-36ac4e2da4b5",
   "metadata": {},
   "outputs": [],
   "source": [
    "mparams,Q = eng.getMutInfo(drug,smin,smax,smiss,rfmiss,mfmiss,back_mutation_on,direct_multi_hit,direct_multi_multi,nargout=2);\n",
    "eng.workspace[\"Q\"] = Q\n",
    "Q = eng.eval(\"Q{:,:};\") # get a matrix instead of a matlab table"
   ]
  },
  {
   "cell_type": "markdown",
   "id": "ddf60c79-0c9d-4d1b-a081-d95665a4355e",
   "metadata": {},
   "source": [
    "## Viral dynamics parameters"
   ]
  },
  {
   "cell_type": "code",
   "execution_count": 54,
   "id": "4051971b-ffec-4e21-9844-a67bb3f66412",
   "metadata": {},
   "outputs": [],
   "source": [
    "R00 = 10.0 # average number of new virions produced by infection with a single virion === average number of new infected cells produced by 1 infected cell\n",
    "fbp = 0.55 # fraction of blood that is plasma\n",
    "Vpl = 3*10e3 # volume of plasma in mL\n",
    "ftcell_pl = 0.02 # fraction of T cells that are circulating in blood (vs in lymph system)\n",
    "hl_lr = 44*30.5 # half life of decay of latent reservoir, days\n",
    "A = 100 # total reactivation of latent cells per day\n",
    "flr = 1e-6# fraction of CD4 T cells that are latently infected at equilibrium\n",
    "\n",
    "scale_cd4_body = (Vpl*10**3)/(fbp*ftcell_pl) # factor to go from T cell per ul blood to whole body\n",
    "\n",
    "fa = 0.01 # fraction of infected CD4 cells that support productive vs abortive infection\n",
    "dx = 0.05 # death rate of uninfected cells (per day) and by assumption dx == d, rate of death without viral cytolytic effects\n",
    "L = scale_cd4_body*1000*dx # uninfected cells produced per day (/ul)\n",
    "a = A/(flr*L/dx) # rate of exit of latent cells (per day)\n",
    "dz = np.log(2)/(hl_lr)-a # death rate of latently infected cells (per day)\n",
    "\n",
    "dy = 1 # TOTAL death rate of infected cells (per day) (=death due to burst (k) + death without viral cytolytic effects)\n",
    "k = dy-dx # rate of death+emission of a burst of virions (per day)\n",
    "N = 2.38e5\n",
    "assert(N > R00)\n",
    "\n",
    "# probability of a single virion establishing infection, solved implicitly\n",
    "p_est_solution = scipy.optimize.least_squares(lambda p_est: R00*(1-(1-p_est)**N) - N*p_est, 0.1)\n",
    "assert(p_est_solution.success)\n",
    "p_est = p_est_solution.x\n",
    "\n",
    "dv = 25 # TOTAL death rate of virions (per day)\n",
    "beta = R00 * dy * dv * dx / (k * N * fa * L) # infectivity rate (per day*infectious-target cell pair)\n",
    "c = dv-beta*L/dx # clearance rate of virions (per day);\n",
    "assert(c > 0)\n",
    "g = flr*dy/dx*(a+dz)/(fa*(1-1/R00)) # fraction of new infections that become latent"
   ]
  },
  {
   "cell_type": "code",
   "execution_count": 55,
   "id": "299ae2bd-4560-420f-9068-d7649069696f",
   "metadata": {},
   "outputs": [],
   "source": [
    "# Access matlab parameters\n",
    "eng.workspace[\"mparams\"] = mparams\n",
    "IC50 = eng.eval('pd.IC50')\n",
    "m = eng.eval('pd.m')\n",
    "cost = eng.eval('mparams.cost')\n",
    "rf = eng.eval('mparams.rf')\n",
    "mf = eng.eval('mparams.mf')\n",
    "msb = np.asarray(eng.eval(\"mparams.msb\"))\n",
    "t_vec = eng.eval('(0:trial.increment:trial.days);')\n"
   ]
  },
  {
   "cell_type": "markdown",
   "id": "031eef2d-5b82-402d-a878-09dbcd846535",
   "metadata": {},
   "source": [
    "## Check beta(t) (from matlab) against beta(t) (from python)"
   ]
  },
  {
   "cell_type": "code",
   "execution_count": 56,
   "id": "b7345288-5811-483e-90ff-f8e4cb8c5251",
   "metadata": {},
   "outputs": [],
   "source": [
    "_beta_t, _beta_u_t = eng.calculate_beta_of_t(t_vec, beta, c_vec, IC50, m, cost, rf, mf, eng.eval('height(mparams)'), nargout=2)"
   ]
  },
  {
   "cell_type": "code",
   "execution_count": 57,
   "id": "2153e0fa-56b6-4c3a-a272-ceba01723136",
   "metadata": {},
   "outputs": [],
   "source": [
    "from numba import jit\n",
    "\n",
    "@jit(nopython=True)\n",
    "def calculate_beta_t(beta_0, concentration, IC50, m, cost, rf, mf):\n",
    "    # B/[cost * (1 + concentration)/(IC50*rf)^(m*(1+mf))]\n",
    "    B = beta_0\n",
    "    denominator = cost * (1 + (concentration/(IC50*rf))**(m*(1+mf)))\n",
    "    return B/denominator\n",
    "\n",
    "\n",
    "# make sure we didn't mess up our function definition\n",
    "assert(np.allclose(calculate_beta_t(beta, np.asarray(c_vec), IC50, m, np.asarray(cost).T, np.asarray(rf).T, np.asarray(mf).T), np.asarray(_beta_u_t)))\n",
    "assert(np.allclose(calculate_beta_t(beta, np.asarray(c_vec), IC50, m, 1, 1, 1), np.asarray(_beta_t)))\n",
    "\n",
    "beta_u_t = calculate_beta_t(beta, np.asarray(c_vec), IC50, m, np.asarray(cost).T, np.asarray(rf).T, np.asarray(mf).T)\n",
    "beta_t   = calculate_beta_t(beta, np.asarray(c_vec), IC50, m, 1, 1, 1)\n",
    "\n",
    "beta_t = np.concatenate([beta_t, beta_u_t], axis=1)\n",
    "t_vec = np.asarray(t_vec).squeeze()\n",
    "dose_t = np.asarray(dose_t).T.squeeze()"
   ]
  },
  {
   "cell_type": "code",
   "execution_count": 58,
   "id": "7d83898d",
   "metadata": {},
   "outputs": [
    {
     "data": {
      "text/plain": [
       "array([[4.05425328e-14, 2.59888031e-14, 2.14510756e-14, ...,\n",
       "        4.46012462e-15, 2.83514215e-14, 3.85154062e-14],\n",
       "       [4.05425328e-14, 2.59888031e-14, 2.14510756e-14, ...,\n",
       "        4.46012462e-15, 2.83514215e-14, 3.85154062e-14],\n",
       "       [4.05425328e-14, 2.59888031e-14, 2.14510756e-14, ...,\n",
       "        4.46012462e-15, 2.83514215e-14, 3.85154062e-14],\n",
       "       ...,\n",
       "       [1.10966475e-17, 1.42420223e-16, 2.63631929e-16, ...,\n",
       "        6.46310468e-16, 8.75549967e-15, 8.00188382e-15],\n",
       "       [1.14175674e-17, 1.44454176e-16, 2.67333155e-16, ...,\n",
       "        6.54230752e-16, 8.84202431e-15, 8.09265462e-15],\n",
       "       [1.17477658e-17, 1.46517011e-16, 2.71085680e-16, ...,\n",
       "        6.62231243e-16, 8.92901441e-15, 8.18417892e-15]])"
      ]
     },
     "execution_count": 58,
     "metadata": {},
     "output_type": "execute_result"
    }
   ],
   "source": [
    "beta_t"
   ]
  },
  {
   "cell_type": "code",
   "execution_count": 59,
   "id": "79c80beb-1691-49a6-bf1d-09641ae3a3b0",
   "metadata": {},
   "outputs": [],
   "source": [
    "sampled_concentration = np.asarray(c_vec)\n",
    "\n",
    "increment = eng.eval('trial.increment')\n",
    "\n",
    "# closed around parameters\n",
    "# pulls the nearest beta pre-calculated to the left of the current time\n",
    "@jit(nopython=True)\n",
    "def discrete_beta_of_t(t):\n",
    "    # last time where beta was precalculated *before* t\n",
    "    # specifically want *before* t so that we don't look ahead while integrating past a discontinuity\n",
    "    t_discrete = int(np.floor(t/increment))\n",
    "    return beta_t[t_discrete]\n",
    "\n",
    "Q = np.asarray(Q)\n",
    "@jit(nopython=True)\n",
    "def force_of_infection(t):\n",
    "    beta = discrete_beta_of_t(t)\n",
    "    # calculate force of infection and flatten in row major order, which will make the matrix\n",
    "    # read correctly in our 1-dimensional vector of rates\n",
    "\n",
    "    # **NOTE* we moved FA to the stoichiometry matrix, otherwise it would be a factor below!\n",
    "    return (np.expand_dims(beta,1) * Q).flatten()"
   ]
  },
  {
   "cell_type": "markdown",
   "id": "24d8ea42-ded0-4c79-b1b4-fb0afa790a19",
   "metadata": {},
   "source": [
    "TODO: triple check to make sure this is the right orientation of beta_i relative to Q"
   ]
  },
  {
   "cell_type": "code",
   "execution_count": 60,
   "id": "d7cd11fc-a65e-4ec6-bf8a-de555307008d",
   "metadata": {},
   "outputs": [
    {
     "data": {
      "text/plain": [
       "array([[1.00000000e+00, 5.68817141e-05, 2.30298641e-05, 6.70620209e-06,\n",
       "        1.15304424e-05, 5.49009660e-07, 8.78426471e-07, 3.03706834e-05,\n",
       "        5.86368000e-05, 2.50604409e-05, 3.81460270e-10, 2.66784122e-11,\n",
       "        2.65544522e-10, 7.61102717e-10, 1.78083969e-09, 6.33032428e-12],\n",
       "       [1.15303475e-05, 1.00000000e+00, 2.65542335e-10, 7.73248403e-11,\n",
       "        1.32950008e-10, 6.33027214e-12, 1.01285624e-11, 3.50184532e-10,\n",
       "        6.76102678e-10, 2.88955592e-10, 6.70620209e-06, 3.07611363e-16,\n",
       "        3.06182061e-15, 8.77577878e-15, 2.05337004e-14, 7.29908385e-17],\n",
       "       [5.31463568e-06, 3.02305587e-10, 1.00000000e+00, 3.56410209e-11,\n",
       "        6.12801007e-11, 2.91778633e-12, 4.66851666e-12, 1.61409117e-10,\n",
       "        3.11633229e-10, 1.33187114e-10, 2.02732236e-15, 1.41786041e-16,\n",
       "        1.15304424e-05, 4.04498365e-15, 9.46451413e-15, 3.36433672e-17],\n",
       "       [5.49016545e-07, 3.12290021e-11, 1.26437764e-11, 1.00000000e+00,\n",
       "        6.33040366e-12, 3.01415386e-13, 4.82270666e-13, 1.66740076e-11,\n",
       "        3.21925733e-11, 1.37585967e-11, 5.68817141e-05, 1.46468897e-17,\n",
       "        1.45788336e-16, 4.17857983e-16, 9.77710451e-16, 3.47545276e-18],\n",
       "       [1.57775399e-05, 8.97453513e-10, 3.63354599e-10, 1.05807371e-10,\n",
       "        1.00000000e+00, 8.66202181e-12, 1.38594087e-11, 4.79174668e-10,\n",
       "        9.25144451e-10, 3.95392106e-10, 6.01850463e-15, 4.20919713e-16,\n",
       "        2.30298641e-05, 1.20083285e-14, 2.80972692e-14, 5.49009660e-07],\n",
       "       [6.70611799e-06, 3.81455487e-10, 1.54440986e-10, 4.49725825e-11,\n",
       "        7.73245075e-11, 1.00000000e+00, 5.89083157e-12, 2.03669386e-10,\n",
       "        3.93225300e-10, 1.68058274e-10, 2.55811758e-15, 1.78908580e-16,\n",
       "        1.78077290e-15, 5.10404462e-15, 1.19425211e-14, 1.15304424e-05],\n",
       "       [1.76505319e-07, 1.00399251e-11, 4.06489351e-12, 1.18368034e-12,\n",
       "        2.03518442e-12, 9.69031251e-14, 1.00000000e+00, 5.36058715e-12,\n",
       "        1.03497071e-11, 4.42330112e-12, 6.73297666e-17, 3.03706834e-05,\n",
       "        4.68700206e-17, 1.34338678e-16, 3.14327677e-16, 1.11733591e-18],\n",
       "       [1.15303538e-05, 6.55866288e-10, 2.65542481e-10, 7.73248827e-11,\n",
       "        1.32950081e-10, 6.33027561e-12, 1.01285680e-11, 1.00000000e+00,\n",
       "        6.76103049e-10, 2.88955750e-10, 4.39837187e-15, 8.78426471e-07,\n",
       "        3.06182229e-15, 2.50604409e-05, 5.86368000e-05, 7.29908785e-17],\n",
       "       [6.49728356e-06, 3.69576626e-10, 1.49631557e-10, 4.35720966e-11,\n",
       "        7.49165540e-11, 3.56707143e-12, 5.70738587e-12, 1.97326942e-10,\n",
       "        1.00000000e+00, 1.62824791e-10, 2.47845554e-15, 1.73337209e-16,\n",
       "        1.72531806e-15, 4.94510016e-15, 3.03706834e-05, 4.11299118e-17],\n",
       "       [1.14802020e-05, 6.53013568e-10, 2.64387492e-10, 7.69885546e-11,\n",
       "        1.32371808e-10, 6.30274179e-12, 1.00845133e-11, 3.48661580e-10,\n",
       "        6.73162308e-10, 1.00000000e+00, 4.37924095e-15, 3.06273561e-16,\n",
       "        3.04850475e-15, 3.03706834e-05, 2.04443993e-14, 7.26734014e-17],\n",
       "       [6.33035152e-12, 5.49016545e-07, 1.45787135e-16, 1.15303475e-05,\n",
       "        7.29917538e-17, 3.47542414e-18, 5.56074835e-18, 1.92257102e-16,\n",
       "        3.71191556e-16, 1.58641400e-16, 1.00000000e+00, 1.68883727e-22,\n",
       "        1.68099017e-21, 4.81804774e-21, 1.12733412e-20, 4.00731779e-23],\n",
       "       [2.03516877e-12, 1.15763888e-16, 4.68696603e-17, 1.36482531e-17,\n",
       "        2.34663964e-17, 1.11732732e-18, 1.15303538e-05, 1.76505319e-07,\n",
       "        1.19335784e-16, 5.10022269e-17, 7.76336030e-22, 1.00000000e+00,\n",
       "        5.40427920e-22, 4.42330112e-12, 1.03497071e-11, 1.28832783e-23],\n",
       "       [8.38518764e-11, 4.76963846e-15, 1.57775399e-05, 5.62327629e-16,\n",
       "        5.31463568e-06, 4.60354901e-17, 7.36577079e-17, 2.54663879e-15,\n",
       "        4.91680570e-15, 2.10136500e-15, 3.19861594e-20, 2.23703492e-21,\n",
       "        1.00000000e+00, 6.38198909e-20, 1.49326749e-19, 2.91778633e-12],\n",
       "       [1.32370791e-10, 7.52947747e-15, 3.04848132e-15, 8.87705273e-16,\n",
       "        1.52629378e-15, 7.26728427e-17, 1.16278007e-16, 1.14802020e-05,\n",
       "        7.76179958e-15, 1.15303538e-05, 5.04941976e-20, 1.00845133e-11,\n",
       "        3.51503383e-20, 1.00000000e+00, 6.73162308e-10, 8.37950029e-22],\n",
       "       [7.49159781e-11, 4.26134925e-15, 1.72530479e-15, 5.02401689e-16,\n",
       "        8.63814373e-16, 4.11295957e-17, 6.58081783e-17, 6.49728356e-06,\n",
       "        1.15303538e-05, 1.87742744e-15, 2.85774692e-20, 5.70738587e-12,\n",
       "        1.98935276e-20, 1.62824791e-10, 1.00000000e+00, 4.74242435e-22],\n",
       "       [1.05806044e-10, 6.01842915e-15, 2.43669882e-15, 7.09556714e-16,\n",
       "        6.70611799e-06, 1.57775399e-05, 9.29428300e-17, 3.21340186e-15,\n",
       "        6.20412785e-15, 2.65154612e-15, 4.03608022e-20, 2.82273726e-21,\n",
       "        1.54440986e-10, 8.05292676e-20, 1.88423602e-19, 1.00000000e+00]])"
      ]
     },
     "execution_count": 60,
     "metadata": {},
     "output_type": "execute_result"
    }
   ],
   "source": [
    "Q"
   ]
  },
  {
   "cell_type": "markdown",
   "id": "63614fb1-fd62-4f0a-ab6d-17e9c3bf338e",
   "metadata": {},
   "source": [
    "# Define model"
   ]
  },
  {
   "cell_type": "code",
   "execution_count": 61,
   "id": "6b17d2e1-2b8c-4954-982c-c9b5a5d4ecc4",
   "metadata": {},
   "outputs": [
    {
     "data": {
      "text/plain": [
       "16"
      ]
     },
     "execution_count": 61,
     "metadata": {},
     "output_type": "execute_result"
    }
   ],
   "source": [
    "import reactionmodel.model as reactionmodel\n",
    "num_strains = beta_t.shape[1]\n",
    "num_strains"
   ]
  },
  {
   "cell_type": "code",
   "execution_count": 62,
   "id": "e79d2e57-4b9f-43dd-a8c1-a21efdfdc0c3",
   "metadata": {},
   "outputs": [],
   "source": [
    "ys = [reactionmodel.Species(f'infected cells strain {i}', f'y{i}') for i in range(num_strains)]\n",
    "zs = [reactionmodel.Species(f'latent cells strain {i}', f'z{i}') for i in range(num_strains)]\n",
    "vs = [reactionmodel.Species(f'viruses strain {i}', f'v{i}') for i in range(num_strains)]\n",
    "x = reactionmodel.Species(\"target cells\", \"x\")\n",
    "all_species = [x] + ys + vs + zs"
   ]
  },
  {
   "cell_type": "code",
   "execution_count": 63,
   "id": "79af04a2-9398-4114-b112-29193bd0ce5c",
   "metadata": {},
   "outputs": [],
   "source": [
    "target_cell_birth = reactionmodel.Reaction([], [x], description=\"target cell birth\", k=L)\n",
    "target_cell_death = reactionmodel.Reaction([x], [], description=\"target cell death\", k=dx)\n",
    "infected_death = [reactionmodel.Reaction([ys[i]], [], description=f\"death of infected cell strain {i}\", k=(dy-k)) for i in range(num_strains)]\n",
    "infected_cell_burst = [reactionmodel.Reaction([ys[i]], [(vs[i], N)], description=f\"burst of infected cell strain {i}\", k=k) for i in range(num_strains)]\n",
    "into_latency = [reactionmodel.Reaction([ys[i]], [zs[i]], description=f\"strain {i} --> latency\", k=g) for i in range(num_strains)]\n",
    "out_of_latency = [reactionmodel.Reaction([zs[i]], [ys[i]], description=f\"latent --> strain {i}\", k=a) for i in range(num_strains)]\n",
    "death_of_latent = [reactionmodel.Reaction([zs[i]], [], description=f\"latent {i} death\", k=dz) for i in range(num_strains)]\n",
    "viral_clearance = [reactionmodel.Reaction([vs[i]], [], description=f\"clearance of strain {i} virion\", k=c) for i in range(num_strains)]\n",
    "\n",
    "infections = []\n",
    "for i in range(num_strains):\n",
    "    for j in range(num_strains):\n",
    "        infections.append(reactionmodel.Reaction([x, vs[i]], [(ys[j], fa)], description=f\"infection of x by {i}->{j}\"))\n",
    "infection_family = reactionmodel.ReactionRateFamily(infections, k=force_of_infection)\n",
    "\n",
    "all_reactions = [target_cell_birth, target_cell_death] + infected_death + infected_cell_burst + into_latency + out_of_latency + death_of_latent + viral_clearance + [infection_family]\n"
   ]
  },
  {
   "cell_type": "code",
   "execution_count": 64,
   "id": "fa33ee69",
   "metadata": {},
   "outputs": [],
   "source": [
    "for r in all_reactions:\n",
    "    if isinstance(r, list):\n",
    "        print(r)"
   ]
  },
  {
   "cell_type": "code",
   "execution_count": 65,
   "id": "b4c01b7f",
   "metadata": {},
   "outputs": [
    {
     "data": {
      "text/plain": [
       "True"
      ]
     },
     "execution_count": 65,
     "metadata": {},
     "output_type": "execute_result"
    }
   ],
   "source": [
    "from numba.core.registry import CPUDispatcher\n",
    "isinstance(all_reactions[-1].k, CPUDispatcher)"
   ]
  },
  {
   "cell_type": "code",
   "execution_count": 66,
   "id": "20336e03-3047-4244-bd4c-637d034bd9d1",
   "metadata": {},
   "outputs": [],
   "source": [
    "model = reactionmodel.Model(all_species, all_reactions)"
   ]
  },
  {
   "cell_type": "code",
   "execution_count": 67,
   "id": "b22e0315",
   "metadata": {
    "collapsed": true,
    "jupyter": {
     "outputs_hidden": true
    }
   },
   "outputs": [
    {
     "name": "stdout",
     "output_type": "stream",
     "text": [
      "Reaction(description=target cell birth, reactants=(), products=(Species(name='target cells', description='x'),), kinetic_order=(), k=136363636363.63635)\n",
      "Reaction(description=target cell death, reactants=(Species(name='target cells', description='x'),), products=(), kinetic_order=(Species(name='target cells', description='x'),), k=0.05)\n",
      "Reaction(description=death of infected cell strain 0, reactants=(Species(name='infected cells strain 0', description='y0'),), products=(), kinetic_order=(Species(name='infected cells strain 0', description='y0'),), k=0.050000000000000044)\n",
      "Reaction(description=death of infected cell strain 1, reactants=(Species(name='infected cells strain 1', description='y1'),), products=(), kinetic_order=(Species(name='infected cells strain 1', description='y1'),), k=0.050000000000000044)\n",
      "Reaction(description=death of infected cell strain 2, reactants=(Species(name='infected cells strain 2', description='y2'),), products=(), kinetic_order=(Species(name='infected cells strain 2', description='y2'),), k=0.050000000000000044)\n",
      "Reaction(description=death of infected cell strain 3, reactants=(Species(name='infected cells strain 3', description='y3'),), products=(), kinetic_order=(Species(name='infected cells strain 3', description='y3'),), k=0.050000000000000044)\n",
      "Reaction(description=death of infected cell strain 4, reactants=(Species(name='infected cells strain 4', description='y4'),), products=(), kinetic_order=(Species(name='infected cells strain 4', description='y4'),), k=0.050000000000000044)\n",
      "Reaction(description=death of infected cell strain 5, reactants=(Species(name='infected cells strain 5', description='y5'),), products=(), kinetic_order=(Species(name='infected cells strain 5', description='y5'),), k=0.050000000000000044)\n",
      "Reaction(description=death of infected cell strain 6, reactants=(Species(name='infected cells strain 6', description='y6'),), products=(), kinetic_order=(Species(name='infected cells strain 6', description='y6'),), k=0.050000000000000044)\n",
      "Reaction(description=death of infected cell strain 7, reactants=(Species(name='infected cells strain 7', description='y7'),), products=(), kinetic_order=(Species(name='infected cells strain 7', description='y7'),), k=0.050000000000000044)\n",
      "Reaction(description=death of infected cell strain 8, reactants=(Species(name='infected cells strain 8', description='y8'),), products=(), kinetic_order=(Species(name='infected cells strain 8', description='y8'),), k=0.050000000000000044)\n",
      "Reaction(description=death of infected cell strain 9, reactants=(Species(name='infected cells strain 9', description='y9'),), products=(), kinetic_order=(Species(name='infected cells strain 9', description='y9'),), k=0.050000000000000044)\n",
      "Reaction(description=death of infected cell strain 10, reactants=(Species(name='infected cells strain 10', description='y10'),), products=(), kinetic_order=(Species(name='infected cells strain 10', description='y10'),), k=0.050000000000000044)\n",
      "Reaction(description=death of infected cell strain 11, reactants=(Species(name='infected cells strain 11', description='y11'),), products=(), kinetic_order=(Species(name='infected cells strain 11', description='y11'),), k=0.050000000000000044)\n",
      "Reaction(description=death of infected cell strain 12, reactants=(Species(name='infected cells strain 12', description='y12'),), products=(), kinetic_order=(Species(name='infected cells strain 12', description='y12'),), k=0.050000000000000044)\n",
      "Reaction(description=death of infected cell strain 13, reactants=(Species(name='infected cells strain 13', description='y13'),), products=(), kinetic_order=(Species(name='infected cells strain 13', description='y13'),), k=0.050000000000000044)\n",
      "Reaction(description=death of infected cell strain 14, reactants=(Species(name='infected cells strain 14', description='y14'),), products=(), kinetic_order=(Species(name='infected cells strain 14', description='y14'),), k=0.050000000000000044)\n",
      "Reaction(description=death of infected cell strain 15, reactants=(Species(name='infected cells strain 15', description='y15'),), products=(), kinetic_order=(Species(name='infected cells strain 15', description='y15'),), k=0.050000000000000044)\n",
      "Reaction(description=burst of infected cell strain 0, reactants=(Species(name='infected cells strain 0', description='y0'),), products=((Species(name='viruses strain 0', description='v0'), 238000.0),), kinetic_order=(Species(name='infected cells strain 0', description='y0'),), k=0.95)\n",
      "Reaction(description=burst of infected cell strain 1, reactants=(Species(name='infected cells strain 1', description='y1'),), products=((Species(name='viruses strain 1', description='v1'), 238000.0),), kinetic_order=(Species(name='infected cells strain 1', description='y1'),), k=0.95)\n",
      "Reaction(description=burst of infected cell strain 2, reactants=(Species(name='infected cells strain 2', description='y2'),), products=((Species(name='viruses strain 2', description='v2'), 238000.0),), kinetic_order=(Species(name='infected cells strain 2', description='y2'),), k=0.95)\n",
      "Reaction(description=burst of infected cell strain 3, reactants=(Species(name='infected cells strain 3', description='y3'),), products=((Species(name='viruses strain 3', description='v3'), 238000.0),), kinetic_order=(Species(name='infected cells strain 3', description='y3'),), k=0.95)\n",
      "Reaction(description=burst of infected cell strain 4, reactants=(Species(name='infected cells strain 4', description='y4'),), products=((Species(name='viruses strain 4', description='v4'), 238000.0),), kinetic_order=(Species(name='infected cells strain 4', description='y4'),), k=0.95)\n",
      "Reaction(description=burst of infected cell strain 5, reactants=(Species(name='infected cells strain 5', description='y5'),), products=((Species(name='viruses strain 5', description='v5'), 238000.0),), kinetic_order=(Species(name='infected cells strain 5', description='y5'),), k=0.95)\n",
      "Reaction(description=burst of infected cell strain 6, reactants=(Species(name='infected cells strain 6', description='y6'),), products=((Species(name='viruses strain 6', description='v6'), 238000.0),), kinetic_order=(Species(name='infected cells strain 6', description='y6'),), k=0.95)\n",
      "Reaction(description=burst of infected cell strain 7, reactants=(Species(name='infected cells strain 7', description='y7'),), products=((Species(name='viruses strain 7', description='v7'), 238000.0),), kinetic_order=(Species(name='infected cells strain 7', description='y7'),), k=0.95)\n",
      "Reaction(description=burst of infected cell strain 8, reactants=(Species(name='infected cells strain 8', description='y8'),), products=((Species(name='viruses strain 8', description='v8'), 238000.0),), kinetic_order=(Species(name='infected cells strain 8', description='y8'),), k=0.95)\n",
      "Reaction(description=burst of infected cell strain 9, reactants=(Species(name='infected cells strain 9', description='y9'),), products=((Species(name='viruses strain 9', description='v9'), 238000.0),), kinetic_order=(Species(name='infected cells strain 9', description='y9'),), k=0.95)\n",
      "Reaction(description=burst of infected cell strain 10, reactants=(Species(name='infected cells strain 10', description='y10'),), products=((Species(name='viruses strain 10', description='v10'), 238000.0),), kinetic_order=(Species(name='infected cells strain 10', description='y10'),), k=0.95)\n",
      "Reaction(description=burst of infected cell strain 11, reactants=(Species(name='infected cells strain 11', description='y11'),), products=((Species(name='viruses strain 11', description='v11'), 238000.0),), kinetic_order=(Species(name='infected cells strain 11', description='y11'),), k=0.95)\n",
      "Reaction(description=burst of infected cell strain 12, reactants=(Species(name='infected cells strain 12', description='y12'),), products=((Species(name='viruses strain 12', description='v12'), 238000.0),), kinetic_order=(Species(name='infected cells strain 12', description='y12'),), k=0.95)\n",
      "Reaction(description=burst of infected cell strain 13, reactants=(Species(name='infected cells strain 13', description='y13'),), products=((Species(name='viruses strain 13', description='v13'), 238000.0),), kinetic_order=(Species(name='infected cells strain 13', description='y13'),), k=0.95)\n",
      "Reaction(description=burst of infected cell strain 14, reactants=(Species(name='infected cells strain 14', description='y14'),), products=((Species(name='viruses strain 14', description='v14'), 238000.0),), kinetic_order=(Species(name='infected cells strain 14', description='y14'),), k=0.95)\n",
      "Reaction(description=burst of infected cell strain 15, reactants=(Species(name='infected cells strain 15', description='y15'),), products=((Species(name='viruses strain 15', description='v15'), 238000.0),), kinetic_order=(Species(name='infected cells strain 15', description='y15'),), k=0.95)\n",
      "Reaction(description=strain 0 --> latency, reactants=(Species(name='infected cells strain 0', description='y0'),), products=(Species(name='latent cells strain 0', description='z0'),), kinetic_order=(Species(name='infected cells strain 0', description='y0'),), k=1.1477847003807667e-06)\n",
      "Reaction(description=strain 1 --> latency, reactants=(Species(name='infected cells strain 1', description='y1'),), products=(Species(name='latent cells strain 1', description='z1'),), kinetic_order=(Species(name='infected cells strain 1', description='y1'),), k=1.1477847003807667e-06)\n",
      "Reaction(description=strain 2 --> latency, reactants=(Species(name='infected cells strain 2', description='y2'),), products=(Species(name='latent cells strain 2', description='z2'),), kinetic_order=(Species(name='infected cells strain 2', description='y2'),), k=1.1477847003807667e-06)\n",
      "Reaction(description=strain 3 --> latency, reactants=(Species(name='infected cells strain 3', description='y3'),), products=(Species(name='latent cells strain 3', description='z3'),), kinetic_order=(Species(name='infected cells strain 3', description='y3'),), k=1.1477847003807667e-06)\n",
      "Reaction(description=strain 4 --> latency, reactants=(Species(name='infected cells strain 4', description='y4'),), products=(Species(name='latent cells strain 4', description='z4'),), kinetic_order=(Species(name='infected cells strain 4', description='y4'),), k=1.1477847003807667e-06)\n",
      "Reaction(description=strain 5 --> latency, reactants=(Species(name='infected cells strain 5', description='y5'),), products=(Species(name='latent cells strain 5', description='z5'),), kinetic_order=(Species(name='infected cells strain 5', description='y5'),), k=1.1477847003807667e-06)\n",
      "Reaction(description=strain 6 --> latency, reactants=(Species(name='infected cells strain 6', description='y6'),), products=(Species(name='latent cells strain 6', description='z6'),), kinetic_order=(Species(name='infected cells strain 6', description='y6'),), k=1.1477847003807667e-06)\n",
      "Reaction(description=strain 7 --> latency, reactants=(Species(name='infected cells strain 7', description='y7'),), products=(Species(name='latent cells strain 7', description='z7'),), kinetic_order=(Species(name='infected cells strain 7', description='y7'),), k=1.1477847003807667e-06)\n",
      "Reaction(description=strain 8 --> latency, reactants=(Species(name='infected cells strain 8', description='y8'),), products=(Species(name='latent cells strain 8', description='z8'),), kinetic_order=(Species(name='infected cells strain 8', description='y8'),), k=1.1477847003807667e-06)\n",
      "Reaction(description=strain 9 --> latency, reactants=(Species(name='infected cells strain 9', description='y9'),), products=(Species(name='latent cells strain 9', description='z9'),), kinetic_order=(Species(name='infected cells strain 9', description='y9'),), k=1.1477847003807667e-06)\n",
      "Reaction(description=strain 10 --> latency, reactants=(Species(name='infected cells strain 10', description='y10'),), products=(Species(name='latent cells strain 10', description='z10'),), kinetic_order=(Species(name='infected cells strain 10', description='y10'),), k=1.1477847003807667e-06)\n",
      "Reaction(description=strain 11 --> latency, reactants=(Species(name='infected cells strain 11', description='y11'),), products=(Species(name='latent cells strain 11', description='z11'),), kinetic_order=(Species(name='infected cells strain 11', description='y11'),), k=1.1477847003807667e-06)\n",
      "Reaction(description=strain 12 --> latency, reactants=(Species(name='infected cells strain 12', description='y12'),), products=(Species(name='latent cells strain 12', description='z12'),), kinetic_order=(Species(name='infected cells strain 12', description='y12'),), k=1.1477847003807667e-06)\n",
      "Reaction(description=strain 13 --> latency, reactants=(Species(name='infected cells strain 13', description='y13'),), products=(Species(name='latent cells strain 13', description='z13'),), kinetic_order=(Species(name='infected cells strain 13', description='y13'),), k=1.1477847003807667e-06)\n",
      "Reaction(description=strain 14 --> latency, reactants=(Species(name='infected cells strain 14', description='y14'),), products=(Species(name='latent cells strain 14', description='z14'),), kinetic_order=(Species(name='infected cells strain 14', description='y14'),), k=1.1477847003807667e-06)\n",
      "Reaction(description=strain 15 --> latency, reactants=(Species(name='infected cells strain 15', description='y15'),), products=(Species(name='latent cells strain 15', description='z15'),), kinetic_order=(Species(name='infected cells strain 15', description='y15'),), k=1.1477847003807667e-06)\n",
      "Reaction(description=latent --> strain 0, reactants=(Species(name='latent cells strain 0', description='z0'),), products=(Species(name='infected cells strain 0', description='y0'),), kinetic_order=(Species(name='latent cells strain 0', description='z0'),), k=3.666666666666667e-05)\n",
      "Reaction(description=latent --> strain 1, reactants=(Species(name='latent cells strain 1', description='z1'),), products=(Species(name='infected cells strain 1', description='y1'),), kinetic_order=(Species(name='latent cells strain 1', description='z1'),), k=3.666666666666667e-05)\n",
      "Reaction(description=latent --> strain 2, reactants=(Species(name='latent cells strain 2', description='z2'),), products=(Species(name='infected cells strain 2', description='y2'),), kinetic_order=(Species(name='latent cells strain 2', description='z2'),), k=3.666666666666667e-05)\n",
      "Reaction(description=latent --> strain 3, reactants=(Species(name='latent cells strain 3', description='z3'),), products=(Species(name='infected cells strain 3', description='y3'),), kinetic_order=(Species(name='latent cells strain 3', description='z3'),), k=3.666666666666667e-05)\n",
      "Reaction(description=latent --> strain 4, reactants=(Species(name='latent cells strain 4', description='z4'),), products=(Species(name='infected cells strain 4', description='y4'),), kinetic_order=(Species(name='latent cells strain 4', description='z4'),), k=3.666666666666667e-05)\n",
      "Reaction(description=latent --> strain 5, reactants=(Species(name='latent cells strain 5', description='z5'),), products=(Species(name='infected cells strain 5', description='y5'),), kinetic_order=(Species(name='latent cells strain 5', description='z5'),), k=3.666666666666667e-05)\n",
      "Reaction(description=latent --> strain 6, reactants=(Species(name='latent cells strain 6', description='z6'),), products=(Species(name='infected cells strain 6', description='y6'),), kinetic_order=(Species(name='latent cells strain 6', description='z6'),), k=3.666666666666667e-05)\n",
      "Reaction(description=latent --> strain 7, reactants=(Species(name='latent cells strain 7', description='z7'),), products=(Species(name='infected cells strain 7', description='y7'),), kinetic_order=(Species(name='latent cells strain 7', description='z7'),), k=3.666666666666667e-05)\n",
      "Reaction(description=latent --> strain 8, reactants=(Species(name='latent cells strain 8', description='z8'),), products=(Species(name='infected cells strain 8', description='y8'),), kinetic_order=(Species(name='latent cells strain 8', description='z8'),), k=3.666666666666667e-05)\n",
      "Reaction(description=latent --> strain 9, reactants=(Species(name='latent cells strain 9', description='z9'),), products=(Species(name='infected cells strain 9', description='y9'),), kinetic_order=(Species(name='latent cells strain 9', description='z9'),), k=3.666666666666667e-05)\n",
      "Reaction(description=latent --> strain 10, reactants=(Species(name='latent cells strain 10', description='z10'),), products=(Species(name='infected cells strain 10', description='y10'),), kinetic_order=(Species(name='latent cells strain 10', description='z10'),), k=3.666666666666667e-05)\n",
      "Reaction(description=latent --> strain 11, reactants=(Species(name='latent cells strain 11', description='z11'),), products=(Species(name='infected cells strain 11', description='y11'),), kinetic_order=(Species(name='latent cells strain 11', description='z11'),), k=3.666666666666667e-05)\n",
      "Reaction(description=latent --> strain 12, reactants=(Species(name='latent cells strain 12', description='z12'),), products=(Species(name='infected cells strain 12', description='y12'),), kinetic_order=(Species(name='latent cells strain 12', description='z12'),), k=3.666666666666667e-05)\n",
      "Reaction(description=latent --> strain 13, reactants=(Species(name='latent cells strain 13', description='z13'),), products=(Species(name='infected cells strain 13', description='y13'),), kinetic_order=(Species(name='latent cells strain 13', description='z13'),), k=3.666666666666667e-05)\n",
      "Reaction(description=latent --> strain 14, reactants=(Species(name='latent cells strain 14', description='z14'),), products=(Species(name='infected cells strain 14', description='y14'),), kinetic_order=(Species(name='latent cells strain 14', description='z14'),), k=3.666666666666667e-05)\n",
      "Reaction(description=latent --> strain 15, reactants=(Species(name='latent cells strain 15', description='z15'),), products=(Species(name='infected cells strain 15', description='y15'),), kinetic_order=(Species(name='latent cells strain 15', description='z15'),), k=3.666666666666667e-05)\n",
      "Reaction(description=latent 0 death, reactants=(Species(name='latent cells strain 0', description='z0'),), products=(), kinetic_order=(Species(name='latent cells strain 0', description='z0'),), k=0.0004798364485046785)\n",
      "Reaction(description=latent 1 death, reactants=(Species(name='latent cells strain 1', description='z1'),), products=(), kinetic_order=(Species(name='latent cells strain 1', description='z1'),), k=0.0004798364485046785)\n",
      "Reaction(description=latent 2 death, reactants=(Species(name='latent cells strain 2', description='z2'),), products=(), kinetic_order=(Species(name='latent cells strain 2', description='z2'),), k=0.0004798364485046785)\n",
      "Reaction(description=latent 3 death, reactants=(Species(name='latent cells strain 3', description='z3'),), products=(), kinetic_order=(Species(name='latent cells strain 3', description='z3'),), k=0.0004798364485046785)\n",
      "Reaction(description=latent 4 death, reactants=(Species(name='latent cells strain 4', description='z4'),), products=(), kinetic_order=(Species(name='latent cells strain 4', description='z4'),), k=0.0004798364485046785)\n",
      "Reaction(description=latent 5 death, reactants=(Species(name='latent cells strain 5', description='z5'),), products=(), kinetic_order=(Species(name='latent cells strain 5', description='z5'),), k=0.0004798364485046785)\n",
      "Reaction(description=latent 6 death, reactants=(Species(name='latent cells strain 6', description='z6'),), products=(), kinetic_order=(Species(name='latent cells strain 6', description='z6'),), k=0.0004798364485046785)\n",
      "Reaction(description=latent 7 death, reactants=(Species(name='latent cells strain 7', description='z7'),), products=(), kinetic_order=(Species(name='latent cells strain 7', description='z7'),), k=0.0004798364485046785)\n",
      "Reaction(description=latent 8 death, reactants=(Species(name='latent cells strain 8', description='z8'),), products=(), kinetic_order=(Species(name='latent cells strain 8', description='z8'),), k=0.0004798364485046785)\n",
      "Reaction(description=latent 9 death, reactants=(Species(name='latent cells strain 9', description='z9'),), products=(), kinetic_order=(Species(name='latent cells strain 9', description='z9'),), k=0.0004798364485046785)\n",
      "Reaction(description=latent 10 death, reactants=(Species(name='latent cells strain 10', description='z10'),), products=(), kinetic_order=(Species(name='latent cells strain 10', description='z10'),), k=0.0004798364485046785)\n",
      "Reaction(description=latent 11 death, reactants=(Species(name='latent cells strain 11', description='z11'),), products=(), kinetic_order=(Species(name='latent cells strain 11', description='z11'),), k=0.0004798364485046785)\n",
      "Reaction(description=latent 12 death, reactants=(Species(name='latent cells strain 12', description='z12'),), products=(), kinetic_order=(Species(name='latent cells strain 12', description='z12'),), k=0.0004798364485046785)\n",
      "Reaction(description=latent 13 death, reactants=(Species(name='latent cells strain 13', description='z13'),), products=(), kinetic_order=(Species(name='latent cells strain 13', description='z13'),), k=0.0004798364485046785)\n",
      "Reaction(description=latent 14 death, reactants=(Species(name='latent cells strain 14', description='z14'),), products=(), kinetic_order=(Species(name='latent cells strain 14', description='z14'),), k=0.0004798364485046785)\n",
      "Reaction(description=latent 15 death, reactants=(Species(name='latent cells strain 15', description='z15'),), products=(), kinetic_order=(Species(name='latent cells strain 15', description='z15'),), k=0.0004798364485046785)\n",
      "Reaction(description=clearance of strain 0 virion, reactants=(Species(name='viruses strain 0', description='v0'),), products=(), kinetic_order=(Species(name='viruses strain 0', description='v0'),), k=24.889429455992925)\n",
      "Reaction(description=clearance of strain 1 virion, reactants=(Species(name='viruses strain 1', description='v1'),), products=(), kinetic_order=(Species(name='viruses strain 1', description='v1'),), k=24.889429455992925)\n",
      "Reaction(description=clearance of strain 2 virion, reactants=(Species(name='viruses strain 2', description='v2'),), products=(), kinetic_order=(Species(name='viruses strain 2', description='v2'),), k=24.889429455992925)\n",
      "Reaction(description=clearance of strain 3 virion, reactants=(Species(name='viruses strain 3', description='v3'),), products=(), kinetic_order=(Species(name='viruses strain 3', description='v3'),), k=24.889429455992925)\n",
      "Reaction(description=clearance of strain 4 virion, reactants=(Species(name='viruses strain 4', description='v4'),), products=(), kinetic_order=(Species(name='viruses strain 4', description='v4'),), k=24.889429455992925)\n",
      "Reaction(description=clearance of strain 5 virion, reactants=(Species(name='viruses strain 5', description='v5'),), products=(), kinetic_order=(Species(name='viruses strain 5', description='v5'),), k=24.889429455992925)\n",
      "Reaction(description=clearance of strain 6 virion, reactants=(Species(name='viruses strain 6', description='v6'),), products=(), kinetic_order=(Species(name='viruses strain 6', description='v6'),), k=24.889429455992925)\n",
      "Reaction(description=clearance of strain 7 virion, reactants=(Species(name='viruses strain 7', description='v7'),), products=(), kinetic_order=(Species(name='viruses strain 7', description='v7'),), k=24.889429455992925)\n",
      "Reaction(description=clearance of strain 8 virion, reactants=(Species(name='viruses strain 8', description='v8'),), products=(), kinetic_order=(Species(name='viruses strain 8', description='v8'),), k=24.889429455992925)\n",
      "Reaction(description=clearance of strain 9 virion, reactants=(Species(name='viruses strain 9', description='v9'),), products=(), kinetic_order=(Species(name='viruses strain 9', description='v9'),), k=24.889429455992925)\n",
      "Reaction(description=clearance of strain 10 virion, reactants=(Species(name='viruses strain 10', description='v10'),), products=(), kinetic_order=(Species(name='viruses strain 10', description='v10'),), k=24.889429455992925)\n",
      "Reaction(description=clearance of strain 11 virion, reactants=(Species(name='viruses strain 11', description='v11'),), products=(), kinetic_order=(Species(name='viruses strain 11', description='v11'),), k=24.889429455992925)\n",
      "Reaction(description=clearance of strain 12 virion, reactants=(Species(name='viruses strain 12', description='v12'),), products=(), kinetic_order=(Species(name='viruses strain 12', description='v12'),), k=24.889429455992925)\n",
      "Reaction(description=clearance of strain 13 virion, reactants=(Species(name='viruses strain 13', description='v13'),), products=(), kinetic_order=(Species(name='viruses strain 13', description='v13'),), k=24.889429455992925)\n",
      "Reaction(description=clearance of strain 14 virion, reactants=(Species(name='viruses strain 14', description='v14'),), products=(), kinetic_order=(Species(name='viruses strain 14', description='v14'),), k=24.889429455992925)\n",
      "Reaction(description=clearance of strain 15 virion, reactants=(Species(name='viruses strain 15', description='v15'),), products=(), kinetic_order=(Species(name='viruses strain 15', description='v15'),), k=24.889429455992925)\n",
      "Reaction(description=infection of x by 0->0, reactants=(Species(name='target cells', description='x'), Species(name='viruses strain 0', description='v0')), products=((Species(name='infected cells strain 0', description='y0'), 0.01),), kinetic_order=(Species(name='target cells', description='x'), Species(name='viruses strain 0', description='v0')), k=None)\n",
      "Reaction(description=infection of x by 0->1, reactants=(Species(name='target cells', description='x'), Species(name='viruses strain 0', description='v0')), products=((Species(name='infected cells strain 1', description='y1'), 0.01),), kinetic_order=(Species(name='target cells', description='x'), Species(name='viruses strain 0', description='v0')), k=None)\n",
      "Reaction(description=infection of x by 0->2, reactants=(Species(name='target cells', description='x'), Species(name='viruses strain 0', description='v0')), products=((Species(name='infected cells strain 2', description='y2'), 0.01),), kinetic_order=(Species(name='target cells', description='x'), Species(name='viruses strain 0', description='v0')), k=None)\n",
      "Reaction(description=infection of x by 0->3, reactants=(Species(name='target cells', description='x'), Species(name='viruses strain 0', description='v0')), products=((Species(name='infected cells strain 3', description='y3'), 0.01),), kinetic_order=(Species(name='target cells', description='x'), Species(name='viruses strain 0', description='v0')), k=None)\n",
      "Reaction(description=infection of x by 0->4, reactants=(Species(name='target cells', description='x'), Species(name='viruses strain 0', description='v0')), products=((Species(name='infected cells strain 4', description='y4'), 0.01),), kinetic_order=(Species(name='target cells', description='x'), Species(name='viruses strain 0', description='v0')), k=None)\n",
      "Reaction(description=infection of x by 0->5, reactants=(Species(name='target cells', description='x'), Species(name='viruses strain 0', description='v0')), products=((Species(name='infected cells strain 5', description='y5'), 0.01),), kinetic_order=(Species(name='target cells', description='x'), Species(name='viruses strain 0', description='v0')), k=None)\n",
      "Reaction(description=infection of x by 0->6, reactants=(Species(name='target cells', description='x'), Species(name='viruses strain 0', description='v0')), products=((Species(name='infected cells strain 6', description='y6'), 0.01),), kinetic_order=(Species(name='target cells', description='x'), Species(name='viruses strain 0', description='v0')), k=None)\n",
      "Reaction(description=infection of x by 0->7, reactants=(Species(name='target cells', description='x'), Species(name='viruses strain 0', description='v0')), products=((Species(name='infected cells strain 7', description='y7'), 0.01),), kinetic_order=(Species(name='target cells', description='x'), Species(name='viruses strain 0', description='v0')), k=None)\n",
      "Reaction(description=infection of x by 0->8, reactants=(Species(name='target cells', description='x'), Species(name='viruses strain 0', description='v0')), products=((Species(name='infected cells strain 8', description='y8'), 0.01),), kinetic_order=(Species(name='target cells', description='x'), Species(name='viruses strain 0', description='v0')), k=None)\n",
      "Reaction(description=infection of x by 0->9, reactants=(Species(name='target cells', description='x'), Species(name='viruses strain 0', description='v0')), products=((Species(name='infected cells strain 9', description='y9'), 0.01),), kinetic_order=(Species(name='target cells', description='x'), Species(name='viruses strain 0', description='v0')), k=None)\n",
      "Reaction(description=infection of x by 0->10, reactants=(Species(name='target cells', description='x'), Species(name='viruses strain 0', description='v0')), products=((Species(name='infected cells strain 10', description='y10'), 0.01),), kinetic_order=(Species(name='target cells', description='x'), Species(name='viruses strain 0', description='v0')), k=None)\n",
      "Reaction(description=infection of x by 0->11, reactants=(Species(name='target cells', description='x'), Species(name='viruses strain 0', description='v0')), products=((Species(name='infected cells strain 11', description='y11'), 0.01),), kinetic_order=(Species(name='target cells', description='x'), Species(name='viruses strain 0', description='v0')), k=None)\n",
      "Reaction(description=infection of x by 0->12, reactants=(Species(name='target cells', description='x'), Species(name='viruses strain 0', description='v0')), products=((Species(name='infected cells strain 12', description='y12'), 0.01),), kinetic_order=(Species(name='target cells', description='x'), Species(name='viruses strain 0', description='v0')), k=None)\n",
      "Reaction(description=infection of x by 0->13, reactants=(Species(name='target cells', description='x'), Species(name='viruses strain 0', description='v0')), products=((Species(name='infected cells strain 13', description='y13'), 0.01),), kinetic_order=(Species(name='target cells', description='x'), Species(name='viruses strain 0', description='v0')), k=None)\n",
      "Reaction(description=infection of x by 0->14, reactants=(Species(name='target cells', description='x'), Species(name='viruses strain 0', description='v0')), products=((Species(name='infected cells strain 14', description='y14'), 0.01),), kinetic_order=(Species(name='target cells', description='x'), Species(name='viruses strain 0', description='v0')), k=None)\n",
      "Reaction(description=infection of x by 0->15, reactants=(Species(name='target cells', description='x'), Species(name='viruses strain 0', description='v0')), products=((Species(name='infected cells strain 15', description='y15'), 0.01),), kinetic_order=(Species(name='target cells', description='x'), Species(name='viruses strain 0', description='v0')), k=None)\n",
      "Reaction(description=infection of x by 1->0, reactants=(Species(name='target cells', description='x'), Species(name='viruses strain 1', description='v1')), products=((Species(name='infected cells strain 0', description='y0'), 0.01),), kinetic_order=(Species(name='target cells', description='x'), Species(name='viruses strain 1', description='v1')), k=None)\n",
      "Reaction(description=infection of x by 1->1, reactants=(Species(name='target cells', description='x'), Species(name='viruses strain 1', description='v1')), products=((Species(name='infected cells strain 1', description='y1'), 0.01),), kinetic_order=(Species(name='target cells', description='x'), Species(name='viruses strain 1', description='v1')), k=None)\n",
      "Reaction(description=infection of x by 1->2, reactants=(Species(name='target cells', description='x'), Species(name='viruses strain 1', description='v1')), products=((Species(name='infected cells strain 2', description='y2'), 0.01),), kinetic_order=(Species(name='target cells', description='x'), Species(name='viruses strain 1', description='v1')), k=None)\n",
      "Reaction(description=infection of x by 1->3, reactants=(Species(name='target cells', description='x'), Species(name='viruses strain 1', description='v1')), products=((Species(name='infected cells strain 3', description='y3'), 0.01),), kinetic_order=(Species(name='target cells', description='x'), Species(name='viruses strain 1', description='v1')), k=None)\n",
      "Reaction(description=infection of x by 1->4, reactants=(Species(name='target cells', description='x'), Species(name='viruses strain 1', description='v1')), products=((Species(name='infected cells strain 4', description='y4'), 0.01),), kinetic_order=(Species(name='target cells', description='x'), Species(name='viruses strain 1', description='v1')), k=None)\n",
      "Reaction(description=infection of x by 1->5, reactants=(Species(name='target cells', description='x'), Species(name='viruses strain 1', description='v1')), products=((Species(name='infected cells strain 5', description='y5'), 0.01),), kinetic_order=(Species(name='target cells', description='x'), Species(name='viruses strain 1', description='v1')), k=None)\n",
      "Reaction(description=infection of x by 1->6, reactants=(Species(name='target cells', description='x'), Species(name='viruses strain 1', description='v1')), products=((Species(name='infected cells strain 6', description='y6'), 0.01),), kinetic_order=(Species(name='target cells', description='x'), Species(name='viruses strain 1', description='v1')), k=None)\n",
      "Reaction(description=infection of x by 1->7, reactants=(Species(name='target cells', description='x'), Species(name='viruses strain 1', description='v1')), products=((Species(name='infected cells strain 7', description='y7'), 0.01),), kinetic_order=(Species(name='target cells', description='x'), Species(name='viruses strain 1', description='v1')), k=None)\n",
      "Reaction(description=infection of x by 1->8, reactants=(Species(name='target cells', description='x'), Species(name='viruses strain 1', description='v1')), products=((Species(name='infected cells strain 8', description='y8'), 0.01),), kinetic_order=(Species(name='target cells', description='x'), Species(name='viruses strain 1', description='v1')), k=None)\n",
      "Reaction(description=infection of x by 1->9, reactants=(Species(name='target cells', description='x'), Species(name='viruses strain 1', description='v1')), products=((Species(name='infected cells strain 9', description='y9'), 0.01),), kinetic_order=(Species(name='target cells', description='x'), Species(name='viruses strain 1', description='v1')), k=None)\n",
      "Reaction(description=infection of x by 1->10, reactants=(Species(name='target cells', description='x'), Species(name='viruses strain 1', description='v1')), products=((Species(name='infected cells strain 10', description='y10'), 0.01),), kinetic_order=(Species(name='target cells', description='x'), Species(name='viruses strain 1', description='v1')), k=None)\n",
      "Reaction(description=infection of x by 1->11, reactants=(Species(name='target cells', description='x'), Species(name='viruses strain 1', description='v1')), products=((Species(name='infected cells strain 11', description='y11'), 0.01),), kinetic_order=(Species(name='target cells', description='x'), Species(name='viruses strain 1', description='v1')), k=None)\n",
      "Reaction(description=infection of x by 1->12, reactants=(Species(name='target cells', description='x'), Species(name='viruses strain 1', description='v1')), products=((Species(name='infected cells strain 12', description='y12'), 0.01),), kinetic_order=(Species(name='target cells', description='x'), Species(name='viruses strain 1', description='v1')), k=None)\n",
      "Reaction(description=infection of x by 1->13, reactants=(Species(name='target cells', description='x'), Species(name='viruses strain 1', description='v1')), products=((Species(name='infected cells strain 13', description='y13'), 0.01),), kinetic_order=(Species(name='target cells', description='x'), Species(name='viruses strain 1', description='v1')), k=None)\n",
      "Reaction(description=infection of x by 1->14, reactants=(Species(name='target cells', description='x'), Species(name='viruses strain 1', description='v1')), products=((Species(name='infected cells strain 14', description='y14'), 0.01),), kinetic_order=(Species(name='target cells', description='x'), Species(name='viruses strain 1', description='v1')), k=None)\n",
      "Reaction(description=infection of x by 1->15, reactants=(Species(name='target cells', description='x'), Species(name='viruses strain 1', description='v1')), products=((Species(name='infected cells strain 15', description='y15'), 0.01),), kinetic_order=(Species(name='target cells', description='x'), Species(name='viruses strain 1', description='v1')), k=None)\n",
      "Reaction(description=infection of x by 2->0, reactants=(Species(name='target cells', description='x'), Species(name='viruses strain 2', description='v2')), products=((Species(name='infected cells strain 0', description='y0'), 0.01),), kinetic_order=(Species(name='target cells', description='x'), Species(name='viruses strain 2', description='v2')), k=None)\n",
      "Reaction(description=infection of x by 2->1, reactants=(Species(name='target cells', description='x'), Species(name='viruses strain 2', description='v2')), products=((Species(name='infected cells strain 1', description='y1'), 0.01),), kinetic_order=(Species(name='target cells', description='x'), Species(name='viruses strain 2', description='v2')), k=None)\n",
      "Reaction(description=infection of x by 2->2, reactants=(Species(name='target cells', description='x'), Species(name='viruses strain 2', description='v2')), products=((Species(name='infected cells strain 2', description='y2'), 0.01),), kinetic_order=(Species(name='target cells', description='x'), Species(name='viruses strain 2', description='v2')), k=None)\n",
      "Reaction(description=infection of x by 2->3, reactants=(Species(name='target cells', description='x'), Species(name='viruses strain 2', description='v2')), products=((Species(name='infected cells strain 3', description='y3'), 0.01),), kinetic_order=(Species(name='target cells', description='x'), Species(name='viruses strain 2', description='v2')), k=None)\n",
      "Reaction(description=infection of x by 2->4, reactants=(Species(name='target cells', description='x'), Species(name='viruses strain 2', description='v2')), products=((Species(name='infected cells strain 4', description='y4'), 0.01),), kinetic_order=(Species(name='target cells', description='x'), Species(name='viruses strain 2', description='v2')), k=None)\n",
      "Reaction(description=infection of x by 2->5, reactants=(Species(name='target cells', description='x'), Species(name='viruses strain 2', description='v2')), products=((Species(name='infected cells strain 5', description='y5'), 0.01),), kinetic_order=(Species(name='target cells', description='x'), Species(name='viruses strain 2', description='v2')), k=None)\n",
      "Reaction(description=infection of x by 2->6, reactants=(Species(name='target cells', description='x'), Species(name='viruses strain 2', description='v2')), products=((Species(name='infected cells strain 6', description='y6'), 0.01),), kinetic_order=(Species(name='target cells', description='x'), Species(name='viruses strain 2', description='v2')), k=None)\n",
      "Reaction(description=infection of x by 2->7, reactants=(Species(name='target cells', description='x'), Species(name='viruses strain 2', description='v2')), products=((Species(name='infected cells strain 7', description='y7'), 0.01),), kinetic_order=(Species(name='target cells', description='x'), Species(name='viruses strain 2', description='v2')), k=None)\n",
      "Reaction(description=infection of x by 2->8, reactants=(Species(name='target cells', description='x'), Species(name='viruses strain 2', description='v2')), products=((Species(name='infected cells strain 8', description='y8'), 0.01),), kinetic_order=(Species(name='target cells', description='x'), Species(name='viruses strain 2', description='v2')), k=None)\n",
      "Reaction(description=infection of x by 2->9, reactants=(Species(name='target cells', description='x'), Species(name='viruses strain 2', description='v2')), products=((Species(name='infected cells strain 9', description='y9'), 0.01),), kinetic_order=(Species(name='target cells', description='x'), Species(name='viruses strain 2', description='v2')), k=None)\n",
      "Reaction(description=infection of x by 2->10, reactants=(Species(name='target cells', description='x'), Species(name='viruses strain 2', description='v2')), products=((Species(name='infected cells strain 10', description='y10'), 0.01),), kinetic_order=(Species(name='target cells', description='x'), Species(name='viruses strain 2', description='v2')), k=None)\n",
      "Reaction(description=infection of x by 2->11, reactants=(Species(name='target cells', description='x'), Species(name='viruses strain 2', description='v2')), products=((Species(name='infected cells strain 11', description='y11'), 0.01),), kinetic_order=(Species(name='target cells', description='x'), Species(name='viruses strain 2', description='v2')), k=None)\n",
      "Reaction(description=infection of x by 2->12, reactants=(Species(name='target cells', description='x'), Species(name='viruses strain 2', description='v2')), products=((Species(name='infected cells strain 12', description='y12'), 0.01),), kinetic_order=(Species(name='target cells', description='x'), Species(name='viruses strain 2', description='v2')), k=None)\n",
      "Reaction(description=infection of x by 2->13, reactants=(Species(name='target cells', description='x'), Species(name='viruses strain 2', description='v2')), products=((Species(name='infected cells strain 13', description='y13'), 0.01),), kinetic_order=(Species(name='target cells', description='x'), Species(name='viruses strain 2', description='v2')), k=None)\n",
      "Reaction(description=infection of x by 2->14, reactants=(Species(name='target cells', description='x'), Species(name='viruses strain 2', description='v2')), products=((Species(name='infected cells strain 14', description='y14'), 0.01),), kinetic_order=(Species(name='target cells', description='x'), Species(name='viruses strain 2', description='v2')), k=None)\n",
      "Reaction(description=infection of x by 2->15, reactants=(Species(name='target cells', description='x'), Species(name='viruses strain 2', description='v2')), products=((Species(name='infected cells strain 15', description='y15'), 0.01),), kinetic_order=(Species(name='target cells', description='x'), Species(name='viruses strain 2', description='v2')), k=None)\n",
      "Reaction(description=infection of x by 3->0, reactants=(Species(name='target cells', description='x'), Species(name='viruses strain 3', description='v3')), products=((Species(name='infected cells strain 0', description='y0'), 0.01),), kinetic_order=(Species(name='target cells', description='x'), Species(name='viruses strain 3', description='v3')), k=None)\n",
      "Reaction(description=infection of x by 3->1, reactants=(Species(name='target cells', description='x'), Species(name='viruses strain 3', description='v3')), products=((Species(name='infected cells strain 1', description='y1'), 0.01),), kinetic_order=(Species(name='target cells', description='x'), Species(name='viruses strain 3', description='v3')), k=None)\n",
      "Reaction(description=infection of x by 3->2, reactants=(Species(name='target cells', description='x'), Species(name='viruses strain 3', description='v3')), products=((Species(name='infected cells strain 2', description='y2'), 0.01),), kinetic_order=(Species(name='target cells', description='x'), Species(name='viruses strain 3', description='v3')), k=None)\n",
      "Reaction(description=infection of x by 3->3, reactants=(Species(name='target cells', description='x'), Species(name='viruses strain 3', description='v3')), products=((Species(name='infected cells strain 3', description='y3'), 0.01),), kinetic_order=(Species(name='target cells', description='x'), Species(name='viruses strain 3', description='v3')), k=None)\n",
      "Reaction(description=infection of x by 3->4, reactants=(Species(name='target cells', description='x'), Species(name='viruses strain 3', description='v3')), products=((Species(name='infected cells strain 4', description='y4'), 0.01),), kinetic_order=(Species(name='target cells', description='x'), Species(name='viruses strain 3', description='v3')), k=None)\n",
      "Reaction(description=infection of x by 3->5, reactants=(Species(name='target cells', description='x'), Species(name='viruses strain 3', description='v3')), products=((Species(name='infected cells strain 5', description='y5'), 0.01),), kinetic_order=(Species(name='target cells', description='x'), Species(name='viruses strain 3', description='v3')), k=None)\n",
      "Reaction(description=infection of x by 3->6, reactants=(Species(name='target cells', description='x'), Species(name='viruses strain 3', description='v3')), products=((Species(name='infected cells strain 6', description='y6'), 0.01),), kinetic_order=(Species(name='target cells', description='x'), Species(name='viruses strain 3', description='v3')), k=None)\n",
      "Reaction(description=infection of x by 3->7, reactants=(Species(name='target cells', description='x'), Species(name='viruses strain 3', description='v3')), products=((Species(name='infected cells strain 7', description='y7'), 0.01),), kinetic_order=(Species(name='target cells', description='x'), Species(name='viruses strain 3', description='v3')), k=None)\n",
      "Reaction(description=infection of x by 3->8, reactants=(Species(name='target cells', description='x'), Species(name='viruses strain 3', description='v3')), products=((Species(name='infected cells strain 8', description='y8'), 0.01),), kinetic_order=(Species(name='target cells', description='x'), Species(name='viruses strain 3', description='v3')), k=None)\n",
      "Reaction(description=infection of x by 3->9, reactants=(Species(name='target cells', description='x'), Species(name='viruses strain 3', description='v3')), products=((Species(name='infected cells strain 9', description='y9'), 0.01),), kinetic_order=(Species(name='target cells', description='x'), Species(name='viruses strain 3', description='v3')), k=None)\n",
      "Reaction(description=infection of x by 3->10, reactants=(Species(name='target cells', description='x'), Species(name='viruses strain 3', description='v3')), products=((Species(name='infected cells strain 10', description='y10'), 0.01),), kinetic_order=(Species(name='target cells', description='x'), Species(name='viruses strain 3', description='v3')), k=None)\n",
      "Reaction(description=infection of x by 3->11, reactants=(Species(name='target cells', description='x'), Species(name='viruses strain 3', description='v3')), products=((Species(name='infected cells strain 11', description='y11'), 0.01),), kinetic_order=(Species(name='target cells', description='x'), Species(name='viruses strain 3', description='v3')), k=None)\n",
      "Reaction(description=infection of x by 3->12, reactants=(Species(name='target cells', description='x'), Species(name='viruses strain 3', description='v3')), products=((Species(name='infected cells strain 12', description='y12'), 0.01),), kinetic_order=(Species(name='target cells', description='x'), Species(name='viruses strain 3', description='v3')), k=None)\n",
      "Reaction(description=infection of x by 3->13, reactants=(Species(name='target cells', description='x'), Species(name='viruses strain 3', description='v3')), products=((Species(name='infected cells strain 13', description='y13'), 0.01),), kinetic_order=(Species(name='target cells', description='x'), Species(name='viruses strain 3', description='v3')), k=None)\n",
      "Reaction(description=infection of x by 3->14, reactants=(Species(name='target cells', description='x'), Species(name='viruses strain 3', description='v3')), products=((Species(name='infected cells strain 14', description='y14'), 0.01),), kinetic_order=(Species(name='target cells', description='x'), Species(name='viruses strain 3', description='v3')), k=None)\n",
      "Reaction(description=infection of x by 3->15, reactants=(Species(name='target cells', description='x'), Species(name='viruses strain 3', description='v3')), products=((Species(name='infected cells strain 15', description='y15'), 0.01),), kinetic_order=(Species(name='target cells', description='x'), Species(name='viruses strain 3', description='v3')), k=None)\n",
      "Reaction(description=infection of x by 4->0, reactants=(Species(name='target cells', description='x'), Species(name='viruses strain 4', description='v4')), products=((Species(name='infected cells strain 0', description='y0'), 0.01),), kinetic_order=(Species(name='target cells', description='x'), Species(name='viruses strain 4', description='v4')), k=None)\n",
      "Reaction(description=infection of x by 4->1, reactants=(Species(name='target cells', description='x'), Species(name='viruses strain 4', description='v4')), products=((Species(name='infected cells strain 1', description='y1'), 0.01),), kinetic_order=(Species(name='target cells', description='x'), Species(name='viruses strain 4', description='v4')), k=None)\n",
      "Reaction(description=infection of x by 4->2, reactants=(Species(name='target cells', description='x'), Species(name='viruses strain 4', description='v4')), products=((Species(name='infected cells strain 2', description='y2'), 0.01),), kinetic_order=(Species(name='target cells', description='x'), Species(name='viruses strain 4', description='v4')), k=None)\n",
      "Reaction(description=infection of x by 4->3, reactants=(Species(name='target cells', description='x'), Species(name='viruses strain 4', description='v4')), products=((Species(name='infected cells strain 3', description='y3'), 0.01),), kinetic_order=(Species(name='target cells', description='x'), Species(name='viruses strain 4', description='v4')), k=None)\n",
      "Reaction(description=infection of x by 4->4, reactants=(Species(name='target cells', description='x'), Species(name='viruses strain 4', description='v4')), products=((Species(name='infected cells strain 4', description='y4'), 0.01),), kinetic_order=(Species(name='target cells', description='x'), Species(name='viruses strain 4', description='v4')), k=None)\n",
      "Reaction(description=infection of x by 4->5, reactants=(Species(name='target cells', description='x'), Species(name='viruses strain 4', description='v4')), products=((Species(name='infected cells strain 5', description='y5'), 0.01),), kinetic_order=(Species(name='target cells', description='x'), Species(name='viruses strain 4', description='v4')), k=None)\n",
      "Reaction(description=infection of x by 4->6, reactants=(Species(name='target cells', description='x'), Species(name='viruses strain 4', description='v4')), products=((Species(name='infected cells strain 6', description='y6'), 0.01),), kinetic_order=(Species(name='target cells', description='x'), Species(name='viruses strain 4', description='v4')), k=None)\n",
      "Reaction(description=infection of x by 4->7, reactants=(Species(name='target cells', description='x'), Species(name='viruses strain 4', description='v4')), products=((Species(name='infected cells strain 7', description='y7'), 0.01),), kinetic_order=(Species(name='target cells', description='x'), Species(name='viruses strain 4', description='v4')), k=None)\n",
      "Reaction(description=infection of x by 4->8, reactants=(Species(name='target cells', description='x'), Species(name='viruses strain 4', description='v4')), products=((Species(name='infected cells strain 8', description='y8'), 0.01),), kinetic_order=(Species(name='target cells', description='x'), Species(name='viruses strain 4', description='v4')), k=None)\n",
      "Reaction(description=infection of x by 4->9, reactants=(Species(name='target cells', description='x'), Species(name='viruses strain 4', description='v4')), products=((Species(name='infected cells strain 9', description='y9'), 0.01),), kinetic_order=(Species(name='target cells', description='x'), Species(name='viruses strain 4', description='v4')), k=None)\n",
      "Reaction(description=infection of x by 4->10, reactants=(Species(name='target cells', description='x'), Species(name='viruses strain 4', description='v4')), products=((Species(name='infected cells strain 10', description='y10'), 0.01),), kinetic_order=(Species(name='target cells', description='x'), Species(name='viruses strain 4', description='v4')), k=None)\n",
      "Reaction(description=infection of x by 4->11, reactants=(Species(name='target cells', description='x'), Species(name='viruses strain 4', description='v4')), products=((Species(name='infected cells strain 11', description='y11'), 0.01),), kinetic_order=(Species(name='target cells', description='x'), Species(name='viruses strain 4', description='v4')), k=None)\n",
      "Reaction(description=infection of x by 4->12, reactants=(Species(name='target cells', description='x'), Species(name='viruses strain 4', description='v4')), products=((Species(name='infected cells strain 12', description='y12'), 0.01),), kinetic_order=(Species(name='target cells', description='x'), Species(name='viruses strain 4', description='v4')), k=None)\n",
      "Reaction(description=infection of x by 4->13, reactants=(Species(name='target cells', description='x'), Species(name='viruses strain 4', description='v4')), products=((Species(name='infected cells strain 13', description='y13'), 0.01),), kinetic_order=(Species(name='target cells', description='x'), Species(name='viruses strain 4', description='v4')), k=None)\n",
      "Reaction(description=infection of x by 4->14, reactants=(Species(name='target cells', description='x'), Species(name='viruses strain 4', description='v4')), products=((Species(name='infected cells strain 14', description='y14'), 0.01),), kinetic_order=(Species(name='target cells', description='x'), Species(name='viruses strain 4', description='v4')), k=None)\n",
      "Reaction(description=infection of x by 4->15, reactants=(Species(name='target cells', description='x'), Species(name='viruses strain 4', description='v4')), products=((Species(name='infected cells strain 15', description='y15'), 0.01),), kinetic_order=(Species(name='target cells', description='x'), Species(name='viruses strain 4', description='v4')), k=None)\n",
      "Reaction(description=infection of x by 5->0, reactants=(Species(name='target cells', description='x'), Species(name='viruses strain 5', description='v5')), products=((Species(name='infected cells strain 0', description='y0'), 0.01),), kinetic_order=(Species(name='target cells', description='x'), Species(name='viruses strain 5', description='v5')), k=None)\n",
      "Reaction(description=infection of x by 5->1, reactants=(Species(name='target cells', description='x'), Species(name='viruses strain 5', description='v5')), products=((Species(name='infected cells strain 1', description='y1'), 0.01),), kinetic_order=(Species(name='target cells', description='x'), Species(name='viruses strain 5', description='v5')), k=None)\n",
      "Reaction(description=infection of x by 5->2, reactants=(Species(name='target cells', description='x'), Species(name='viruses strain 5', description='v5')), products=((Species(name='infected cells strain 2', description='y2'), 0.01),), kinetic_order=(Species(name='target cells', description='x'), Species(name='viruses strain 5', description='v5')), k=None)\n",
      "Reaction(description=infection of x by 5->3, reactants=(Species(name='target cells', description='x'), Species(name='viruses strain 5', description='v5')), products=((Species(name='infected cells strain 3', description='y3'), 0.01),), kinetic_order=(Species(name='target cells', description='x'), Species(name='viruses strain 5', description='v5')), k=None)\n",
      "Reaction(description=infection of x by 5->4, reactants=(Species(name='target cells', description='x'), Species(name='viruses strain 5', description='v5')), products=((Species(name='infected cells strain 4', description='y4'), 0.01),), kinetic_order=(Species(name='target cells', description='x'), Species(name='viruses strain 5', description='v5')), k=None)\n",
      "Reaction(description=infection of x by 5->5, reactants=(Species(name='target cells', description='x'), Species(name='viruses strain 5', description='v5')), products=((Species(name='infected cells strain 5', description='y5'), 0.01),), kinetic_order=(Species(name='target cells', description='x'), Species(name='viruses strain 5', description='v5')), k=None)\n",
      "Reaction(description=infection of x by 5->6, reactants=(Species(name='target cells', description='x'), Species(name='viruses strain 5', description='v5')), products=((Species(name='infected cells strain 6', description='y6'), 0.01),), kinetic_order=(Species(name='target cells', description='x'), Species(name='viruses strain 5', description='v5')), k=None)\n",
      "Reaction(description=infection of x by 5->7, reactants=(Species(name='target cells', description='x'), Species(name='viruses strain 5', description='v5')), products=((Species(name='infected cells strain 7', description='y7'), 0.01),), kinetic_order=(Species(name='target cells', description='x'), Species(name='viruses strain 5', description='v5')), k=None)\n",
      "Reaction(description=infection of x by 5->8, reactants=(Species(name='target cells', description='x'), Species(name='viruses strain 5', description='v5')), products=((Species(name='infected cells strain 8', description='y8'), 0.01),), kinetic_order=(Species(name='target cells', description='x'), Species(name='viruses strain 5', description='v5')), k=None)\n",
      "Reaction(description=infection of x by 5->9, reactants=(Species(name='target cells', description='x'), Species(name='viruses strain 5', description='v5')), products=((Species(name='infected cells strain 9', description='y9'), 0.01),), kinetic_order=(Species(name='target cells', description='x'), Species(name='viruses strain 5', description='v5')), k=None)\n",
      "Reaction(description=infection of x by 5->10, reactants=(Species(name='target cells', description='x'), Species(name='viruses strain 5', description='v5')), products=((Species(name='infected cells strain 10', description='y10'), 0.01),), kinetic_order=(Species(name='target cells', description='x'), Species(name='viruses strain 5', description='v5')), k=None)\n",
      "Reaction(description=infection of x by 5->11, reactants=(Species(name='target cells', description='x'), Species(name='viruses strain 5', description='v5')), products=((Species(name='infected cells strain 11', description='y11'), 0.01),), kinetic_order=(Species(name='target cells', description='x'), Species(name='viruses strain 5', description='v5')), k=None)\n",
      "Reaction(description=infection of x by 5->12, reactants=(Species(name='target cells', description='x'), Species(name='viruses strain 5', description='v5')), products=((Species(name='infected cells strain 12', description='y12'), 0.01),), kinetic_order=(Species(name='target cells', description='x'), Species(name='viruses strain 5', description='v5')), k=None)\n",
      "Reaction(description=infection of x by 5->13, reactants=(Species(name='target cells', description='x'), Species(name='viruses strain 5', description='v5')), products=((Species(name='infected cells strain 13', description='y13'), 0.01),), kinetic_order=(Species(name='target cells', description='x'), Species(name='viruses strain 5', description='v5')), k=None)\n",
      "Reaction(description=infection of x by 5->14, reactants=(Species(name='target cells', description='x'), Species(name='viruses strain 5', description='v5')), products=((Species(name='infected cells strain 14', description='y14'), 0.01),), kinetic_order=(Species(name='target cells', description='x'), Species(name='viruses strain 5', description='v5')), k=None)\n",
      "Reaction(description=infection of x by 5->15, reactants=(Species(name='target cells', description='x'), Species(name='viruses strain 5', description='v5')), products=((Species(name='infected cells strain 15', description='y15'), 0.01),), kinetic_order=(Species(name='target cells', description='x'), Species(name='viruses strain 5', description='v5')), k=None)\n",
      "Reaction(description=infection of x by 6->0, reactants=(Species(name='target cells', description='x'), Species(name='viruses strain 6', description='v6')), products=((Species(name='infected cells strain 0', description='y0'), 0.01),), kinetic_order=(Species(name='target cells', description='x'), Species(name='viruses strain 6', description='v6')), k=None)\n",
      "Reaction(description=infection of x by 6->1, reactants=(Species(name='target cells', description='x'), Species(name='viruses strain 6', description='v6')), products=((Species(name='infected cells strain 1', description='y1'), 0.01),), kinetic_order=(Species(name='target cells', description='x'), Species(name='viruses strain 6', description='v6')), k=None)\n",
      "Reaction(description=infection of x by 6->2, reactants=(Species(name='target cells', description='x'), Species(name='viruses strain 6', description='v6')), products=((Species(name='infected cells strain 2', description='y2'), 0.01),), kinetic_order=(Species(name='target cells', description='x'), Species(name='viruses strain 6', description='v6')), k=None)\n",
      "Reaction(description=infection of x by 6->3, reactants=(Species(name='target cells', description='x'), Species(name='viruses strain 6', description='v6')), products=((Species(name='infected cells strain 3', description='y3'), 0.01),), kinetic_order=(Species(name='target cells', description='x'), Species(name='viruses strain 6', description='v6')), k=None)\n",
      "Reaction(description=infection of x by 6->4, reactants=(Species(name='target cells', description='x'), Species(name='viruses strain 6', description='v6')), products=((Species(name='infected cells strain 4', description='y4'), 0.01),), kinetic_order=(Species(name='target cells', description='x'), Species(name='viruses strain 6', description='v6')), k=None)\n",
      "Reaction(description=infection of x by 6->5, reactants=(Species(name='target cells', description='x'), Species(name='viruses strain 6', description='v6')), products=((Species(name='infected cells strain 5', description='y5'), 0.01),), kinetic_order=(Species(name='target cells', description='x'), Species(name='viruses strain 6', description='v6')), k=None)\n",
      "Reaction(description=infection of x by 6->6, reactants=(Species(name='target cells', description='x'), Species(name='viruses strain 6', description='v6')), products=((Species(name='infected cells strain 6', description='y6'), 0.01),), kinetic_order=(Species(name='target cells', description='x'), Species(name='viruses strain 6', description='v6')), k=None)\n",
      "Reaction(description=infection of x by 6->7, reactants=(Species(name='target cells', description='x'), Species(name='viruses strain 6', description='v6')), products=((Species(name='infected cells strain 7', description='y7'), 0.01),), kinetic_order=(Species(name='target cells', description='x'), Species(name='viruses strain 6', description='v6')), k=None)\n",
      "Reaction(description=infection of x by 6->8, reactants=(Species(name='target cells', description='x'), Species(name='viruses strain 6', description='v6')), products=((Species(name='infected cells strain 8', description='y8'), 0.01),), kinetic_order=(Species(name='target cells', description='x'), Species(name='viruses strain 6', description='v6')), k=None)\n",
      "Reaction(description=infection of x by 6->9, reactants=(Species(name='target cells', description='x'), Species(name='viruses strain 6', description='v6')), products=((Species(name='infected cells strain 9', description='y9'), 0.01),), kinetic_order=(Species(name='target cells', description='x'), Species(name='viruses strain 6', description='v6')), k=None)\n",
      "Reaction(description=infection of x by 6->10, reactants=(Species(name='target cells', description='x'), Species(name='viruses strain 6', description='v6')), products=((Species(name='infected cells strain 10', description='y10'), 0.01),), kinetic_order=(Species(name='target cells', description='x'), Species(name='viruses strain 6', description='v6')), k=None)\n",
      "Reaction(description=infection of x by 6->11, reactants=(Species(name='target cells', description='x'), Species(name='viruses strain 6', description='v6')), products=((Species(name='infected cells strain 11', description='y11'), 0.01),), kinetic_order=(Species(name='target cells', description='x'), Species(name='viruses strain 6', description='v6')), k=None)\n",
      "Reaction(description=infection of x by 6->12, reactants=(Species(name='target cells', description='x'), Species(name='viruses strain 6', description='v6')), products=((Species(name='infected cells strain 12', description='y12'), 0.01),), kinetic_order=(Species(name='target cells', description='x'), Species(name='viruses strain 6', description='v6')), k=None)\n",
      "Reaction(description=infection of x by 6->13, reactants=(Species(name='target cells', description='x'), Species(name='viruses strain 6', description='v6')), products=((Species(name='infected cells strain 13', description='y13'), 0.01),), kinetic_order=(Species(name='target cells', description='x'), Species(name='viruses strain 6', description='v6')), k=None)\n",
      "Reaction(description=infection of x by 6->14, reactants=(Species(name='target cells', description='x'), Species(name='viruses strain 6', description='v6')), products=((Species(name='infected cells strain 14', description='y14'), 0.01),), kinetic_order=(Species(name='target cells', description='x'), Species(name='viruses strain 6', description='v6')), k=None)\n",
      "Reaction(description=infection of x by 6->15, reactants=(Species(name='target cells', description='x'), Species(name='viruses strain 6', description='v6')), products=((Species(name='infected cells strain 15', description='y15'), 0.01),), kinetic_order=(Species(name='target cells', description='x'), Species(name='viruses strain 6', description='v6')), k=None)\n",
      "Reaction(description=infection of x by 7->0, reactants=(Species(name='target cells', description='x'), Species(name='viruses strain 7', description='v7')), products=((Species(name='infected cells strain 0', description='y0'), 0.01),), kinetic_order=(Species(name='target cells', description='x'), Species(name='viruses strain 7', description='v7')), k=None)\n",
      "Reaction(description=infection of x by 7->1, reactants=(Species(name='target cells', description='x'), Species(name='viruses strain 7', description='v7')), products=((Species(name='infected cells strain 1', description='y1'), 0.01),), kinetic_order=(Species(name='target cells', description='x'), Species(name='viruses strain 7', description='v7')), k=None)\n",
      "Reaction(description=infection of x by 7->2, reactants=(Species(name='target cells', description='x'), Species(name='viruses strain 7', description='v7')), products=((Species(name='infected cells strain 2', description='y2'), 0.01),), kinetic_order=(Species(name='target cells', description='x'), Species(name='viruses strain 7', description='v7')), k=None)\n",
      "Reaction(description=infection of x by 7->3, reactants=(Species(name='target cells', description='x'), Species(name='viruses strain 7', description='v7')), products=((Species(name='infected cells strain 3', description='y3'), 0.01),), kinetic_order=(Species(name='target cells', description='x'), Species(name='viruses strain 7', description='v7')), k=None)\n",
      "Reaction(description=infection of x by 7->4, reactants=(Species(name='target cells', description='x'), Species(name='viruses strain 7', description='v7')), products=((Species(name='infected cells strain 4', description='y4'), 0.01),), kinetic_order=(Species(name='target cells', description='x'), Species(name='viruses strain 7', description='v7')), k=None)\n",
      "Reaction(description=infection of x by 7->5, reactants=(Species(name='target cells', description='x'), Species(name='viruses strain 7', description='v7')), products=((Species(name='infected cells strain 5', description='y5'), 0.01),), kinetic_order=(Species(name='target cells', description='x'), Species(name='viruses strain 7', description='v7')), k=None)\n",
      "Reaction(description=infection of x by 7->6, reactants=(Species(name='target cells', description='x'), Species(name='viruses strain 7', description='v7')), products=((Species(name='infected cells strain 6', description='y6'), 0.01),), kinetic_order=(Species(name='target cells', description='x'), Species(name='viruses strain 7', description='v7')), k=None)\n",
      "Reaction(description=infection of x by 7->7, reactants=(Species(name='target cells', description='x'), Species(name='viruses strain 7', description='v7')), products=((Species(name='infected cells strain 7', description='y7'), 0.01),), kinetic_order=(Species(name='target cells', description='x'), Species(name='viruses strain 7', description='v7')), k=None)\n",
      "Reaction(description=infection of x by 7->8, reactants=(Species(name='target cells', description='x'), Species(name='viruses strain 7', description='v7')), products=((Species(name='infected cells strain 8', description='y8'), 0.01),), kinetic_order=(Species(name='target cells', description='x'), Species(name='viruses strain 7', description='v7')), k=None)\n",
      "Reaction(description=infection of x by 7->9, reactants=(Species(name='target cells', description='x'), Species(name='viruses strain 7', description='v7')), products=((Species(name='infected cells strain 9', description='y9'), 0.01),), kinetic_order=(Species(name='target cells', description='x'), Species(name='viruses strain 7', description='v7')), k=None)\n",
      "Reaction(description=infection of x by 7->10, reactants=(Species(name='target cells', description='x'), Species(name='viruses strain 7', description='v7')), products=((Species(name='infected cells strain 10', description='y10'), 0.01),), kinetic_order=(Species(name='target cells', description='x'), Species(name='viruses strain 7', description='v7')), k=None)\n",
      "Reaction(description=infection of x by 7->11, reactants=(Species(name='target cells', description='x'), Species(name='viruses strain 7', description='v7')), products=((Species(name='infected cells strain 11', description='y11'), 0.01),), kinetic_order=(Species(name='target cells', description='x'), Species(name='viruses strain 7', description='v7')), k=None)\n",
      "Reaction(description=infection of x by 7->12, reactants=(Species(name='target cells', description='x'), Species(name='viruses strain 7', description='v7')), products=((Species(name='infected cells strain 12', description='y12'), 0.01),), kinetic_order=(Species(name='target cells', description='x'), Species(name='viruses strain 7', description='v7')), k=None)\n",
      "Reaction(description=infection of x by 7->13, reactants=(Species(name='target cells', description='x'), Species(name='viruses strain 7', description='v7')), products=((Species(name='infected cells strain 13', description='y13'), 0.01),), kinetic_order=(Species(name='target cells', description='x'), Species(name='viruses strain 7', description='v7')), k=None)\n",
      "Reaction(description=infection of x by 7->14, reactants=(Species(name='target cells', description='x'), Species(name='viruses strain 7', description='v7')), products=((Species(name='infected cells strain 14', description='y14'), 0.01),), kinetic_order=(Species(name='target cells', description='x'), Species(name='viruses strain 7', description='v7')), k=None)\n",
      "Reaction(description=infection of x by 7->15, reactants=(Species(name='target cells', description='x'), Species(name='viruses strain 7', description='v7')), products=((Species(name='infected cells strain 15', description='y15'), 0.01),), kinetic_order=(Species(name='target cells', description='x'), Species(name='viruses strain 7', description='v7')), k=None)\n",
      "Reaction(description=infection of x by 8->0, reactants=(Species(name='target cells', description='x'), Species(name='viruses strain 8', description='v8')), products=((Species(name='infected cells strain 0', description='y0'), 0.01),), kinetic_order=(Species(name='target cells', description='x'), Species(name='viruses strain 8', description='v8')), k=None)\n",
      "Reaction(description=infection of x by 8->1, reactants=(Species(name='target cells', description='x'), Species(name='viruses strain 8', description='v8')), products=((Species(name='infected cells strain 1', description='y1'), 0.01),), kinetic_order=(Species(name='target cells', description='x'), Species(name='viruses strain 8', description='v8')), k=None)\n",
      "Reaction(description=infection of x by 8->2, reactants=(Species(name='target cells', description='x'), Species(name='viruses strain 8', description='v8')), products=((Species(name='infected cells strain 2', description='y2'), 0.01),), kinetic_order=(Species(name='target cells', description='x'), Species(name='viruses strain 8', description='v8')), k=None)\n",
      "Reaction(description=infection of x by 8->3, reactants=(Species(name='target cells', description='x'), Species(name='viruses strain 8', description='v8')), products=((Species(name='infected cells strain 3', description='y3'), 0.01),), kinetic_order=(Species(name='target cells', description='x'), Species(name='viruses strain 8', description='v8')), k=None)\n",
      "Reaction(description=infection of x by 8->4, reactants=(Species(name='target cells', description='x'), Species(name='viruses strain 8', description='v8')), products=((Species(name='infected cells strain 4', description='y4'), 0.01),), kinetic_order=(Species(name='target cells', description='x'), Species(name='viruses strain 8', description='v8')), k=None)\n",
      "Reaction(description=infection of x by 8->5, reactants=(Species(name='target cells', description='x'), Species(name='viruses strain 8', description='v8')), products=((Species(name='infected cells strain 5', description='y5'), 0.01),), kinetic_order=(Species(name='target cells', description='x'), Species(name='viruses strain 8', description='v8')), k=None)\n",
      "Reaction(description=infection of x by 8->6, reactants=(Species(name='target cells', description='x'), Species(name='viruses strain 8', description='v8')), products=((Species(name='infected cells strain 6', description='y6'), 0.01),), kinetic_order=(Species(name='target cells', description='x'), Species(name='viruses strain 8', description='v8')), k=None)\n",
      "Reaction(description=infection of x by 8->7, reactants=(Species(name='target cells', description='x'), Species(name='viruses strain 8', description='v8')), products=((Species(name='infected cells strain 7', description='y7'), 0.01),), kinetic_order=(Species(name='target cells', description='x'), Species(name='viruses strain 8', description='v8')), k=None)\n",
      "Reaction(description=infection of x by 8->8, reactants=(Species(name='target cells', description='x'), Species(name='viruses strain 8', description='v8')), products=((Species(name='infected cells strain 8', description='y8'), 0.01),), kinetic_order=(Species(name='target cells', description='x'), Species(name='viruses strain 8', description='v8')), k=None)\n",
      "Reaction(description=infection of x by 8->9, reactants=(Species(name='target cells', description='x'), Species(name='viruses strain 8', description='v8')), products=((Species(name='infected cells strain 9', description='y9'), 0.01),), kinetic_order=(Species(name='target cells', description='x'), Species(name='viruses strain 8', description='v8')), k=None)\n",
      "Reaction(description=infection of x by 8->10, reactants=(Species(name='target cells', description='x'), Species(name='viruses strain 8', description='v8')), products=((Species(name='infected cells strain 10', description='y10'), 0.01),), kinetic_order=(Species(name='target cells', description='x'), Species(name='viruses strain 8', description='v8')), k=None)\n",
      "Reaction(description=infection of x by 8->11, reactants=(Species(name='target cells', description='x'), Species(name='viruses strain 8', description='v8')), products=((Species(name='infected cells strain 11', description='y11'), 0.01),), kinetic_order=(Species(name='target cells', description='x'), Species(name='viruses strain 8', description='v8')), k=None)\n",
      "Reaction(description=infection of x by 8->12, reactants=(Species(name='target cells', description='x'), Species(name='viruses strain 8', description='v8')), products=((Species(name='infected cells strain 12', description='y12'), 0.01),), kinetic_order=(Species(name='target cells', description='x'), Species(name='viruses strain 8', description='v8')), k=None)\n",
      "Reaction(description=infection of x by 8->13, reactants=(Species(name='target cells', description='x'), Species(name='viruses strain 8', description='v8')), products=((Species(name='infected cells strain 13', description='y13'), 0.01),), kinetic_order=(Species(name='target cells', description='x'), Species(name='viruses strain 8', description='v8')), k=None)\n",
      "Reaction(description=infection of x by 8->14, reactants=(Species(name='target cells', description='x'), Species(name='viruses strain 8', description='v8')), products=((Species(name='infected cells strain 14', description='y14'), 0.01),), kinetic_order=(Species(name='target cells', description='x'), Species(name='viruses strain 8', description='v8')), k=None)\n",
      "Reaction(description=infection of x by 8->15, reactants=(Species(name='target cells', description='x'), Species(name='viruses strain 8', description='v8')), products=((Species(name='infected cells strain 15', description='y15'), 0.01),), kinetic_order=(Species(name='target cells', description='x'), Species(name='viruses strain 8', description='v8')), k=None)\n",
      "Reaction(description=infection of x by 9->0, reactants=(Species(name='target cells', description='x'), Species(name='viruses strain 9', description='v9')), products=((Species(name='infected cells strain 0', description='y0'), 0.01),), kinetic_order=(Species(name='target cells', description='x'), Species(name='viruses strain 9', description='v9')), k=None)\n",
      "Reaction(description=infection of x by 9->1, reactants=(Species(name='target cells', description='x'), Species(name='viruses strain 9', description='v9')), products=((Species(name='infected cells strain 1', description='y1'), 0.01),), kinetic_order=(Species(name='target cells', description='x'), Species(name='viruses strain 9', description='v9')), k=None)\n",
      "Reaction(description=infection of x by 9->2, reactants=(Species(name='target cells', description='x'), Species(name='viruses strain 9', description='v9')), products=((Species(name='infected cells strain 2', description='y2'), 0.01),), kinetic_order=(Species(name='target cells', description='x'), Species(name='viruses strain 9', description='v9')), k=None)\n",
      "Reaction(description=infection of x by 9->3, reactants=(Species(name='target cells', description='x'), Species(name='viruses strain 9', description='v9')), products=((Species(name='infected cells strain 3', description='y3'), 0.01),), kinetic_order=(Species(name='target cells', description='x'), Species(name='viruses strain 9', description='v9')), k=None)\n",
      "Reaction(description=infection of x by 9->4, reactants=(Species(name='target cells', description='x'), Species(name='viruses strain 9', description='v9')), products=((Species(name='infected cells strain 4', description='y4'), 0.01),), kinetic_order=(Species(name='target cells', description='x'), Species(name='viruses strain 9', description='v9')), k=None)\n",
      "Reaction(description=infection of x by 9->5, reactants=(Species(name='target cells', description='x'), Species(name='viruses strain 9', description='v9')), products=((Species(name='infected cells strain 5', description='y5'), 0.01),), kinetic_order=(Species(name='target cells', description='x'), Species(name='viruses strain 9', description='v9')), k=None)\n",
      "Reaction(description=infection of x by 9->6, reactants=(Species(name='target cells', description='x'), Species(name='viruses strain 9', description='v9')), products=((Species(name='infected cells strain 6', description='y6'), 0.01),), kinetic_order=(Species(name='target cells', description='x'), Species(name='viruses strain 9', description='v9')), k=None)\n",
      "Reaction(description=infection of x by 9->7, reactants=(Species(name='target cells', description='x'), Species(name='viruses strain 9', description='v9')), products=((Species(name='infected cells strain 7', description='y7'), 0.01),), kinetic_order=(Species(name='target cells', description='x'), Species(name='viruses strain 9', description='v9')), k=None)\n",
      "Reaction(description=infection of x by 9->8, reactants=(Species(name='target cells', description='x'), Species(name='viruses strain 9', description='v9')), products=((Species(name='infected cells strain 8', description='y8'), 0.01),), kinetic_order=(Species(name='target cells', description='x'), Species(name='viruses strain 9', description='v9')), k=None)\n",
      "Reaction(description=infection of x by 9->9, reactants=(Species(name='target cells', description='x'), Species(name='viruses strain 9', description='v9')), products=((Species(name='infected cells strain 9', description='y9'), 0.01),), kinetic_order=(Species(name='target cells', description='x'), Species(name='viruses strain 9', description='v9')), k=None)\n",
      "Reaction(description=infection of x by 9->10, reactants=(Species(name='target cells', description='x'), Species(name='viruses strain 9', description='v9')), products=((Species(name='infected cells strain 10', description='y10'), 0.01),), kinetic_order=(Species(name='target cells', description='x'), Species(name='viruses strain 9', description='v9')), k=None)\n",
      "Reaction(description=infection of x by 9->11, reactants=(Species(name='target cells', description='x'), Species(name='viruses strain 9', description='v9')), products=((Species(name='infected cells strain 11', description='y11'), 0.01),), kinetic_order=(Species(name='target cells', description='x'), Species(name='viruses strain 9', description='v9')), k=None)\n",
      "Reaction(description=infection of x by 9->12, reactants=(Species(name='target cells', description='x'), Species(name='viruses strain 9', description='v9')), products=((Species(name='infected cells strain 12', description='y12'), 0.01),), kinetic_order=(Species(name='target cells', description='x'), Species(name='viruses strain 9', description='v9')), k=None)\n",
      "Reaction(description=infection of x by 9->13, reactants=(Species(name='target cells', description='x'), Species(name='viruses strain 9', description='v9')), products=((Species(name='infected cells strain 13', description='y13'), 0.01),), kinetic_order=(Species(name='target cells', description='x'), Species(name='viruses strain 9', description='v9')), k=None)\n",
      "Reaction(description=infection of x by 9->14, reactants=(Species(name='target cells', description='x'), Species(name='viruses strain 9', description='v9')), products=((Species(name='infected cells strain 14', description='y14'), 0.01),), kinetic_order=(Species(name='target cells', description='x'), Species(name='viruses strain 9', description='v9')), k=None)\n",
      "Reaction(description=infection of x by 9->15, reactants=(Species(name='target cells', description='x'), Species(name='viruses strain 9', description='v9')), products=((Species(name='infected cells strain 15', description='y15'), 0.01),), kinetic_order=(Species(name='target cells', description='x'), Species(name='viruses strain 9', description='v9')), k=None)\n",
      "Reaction(description=infection of x by 10->0, reactants=(Species(name='target cells', description='x'), Species(name='viruses strain 10', description='v10')), products=((Species(name='infected cells strain 0', description='y0'), 0.01),), kinetic_order=(Species(name='target cells', description='x'), Species(name='viruses strain 10', description='v10')), k=None)\n",
      "Reaction(description=infection of x by 10->1, reactants=(Species(name='target cells', description='x'), Species(name='viruses strain 10', description='v10')), products=((Species(name='infected cells strain 1', description='y1'), 0.01),), kinetic_order=(Species(name='target cells', description='x'), Species(name='viruses strain 10', description='v10')), k=None)\n",
      "Reaction(description=infection of x by 10->2, reactants=(Species(name='target cells', description='x'), Species(name='viruses strain 10', description='v10')), products=((Species(name='infected cells strain 2', description='y2'), 0.01),), kinetic_order=(Species(name='target cells', description='x'), Species(name='viruses strain 10', description='v10')), k=None)\n",
      "Reaction(description=infection of x by 10->3, reactants=(Species(name='target cells', description='x'), Species(name='viruses strain 10', description='v10')), products=((Species(name='infected cells strain 3', description='y3'), 0.01),), kinetic_order=(Species(name='target cells', description='x'), Species(name='viruses strain 10', description='v10')), k=None)\n",
      "Reaction(description=infection of x by 10->4, reactants=(Species(name='target cells', description='x'), Species(name='viruses strain 10', description='v10')), products=((Species(name='infected cells strain 4', description='y4'), 0.01),), kinetic_order=(Species(name='target cells', description='x'), Species(name='viruses strain 10', description='v10')), k=None)\n",
      "Reaction(description=infection of x by 10->5, reactants=(Species(name='target cells', description='x'), Species(name='viruses strain 10', description='v10')), products=((Species(name='infected cells strain 5', description='y5'), 0.01),), kinetic_order=(Species(name='target cells', description='x'), Species(name='viruses strain 10', description='v10')), k=None)\n",
      "Reaction(description=infection of x by 10->6, reactants=(Species(name='target cells', description='x'), Species(name='viruses strain 10', description='v10')), products=((Species(name='infected cells strain 6', description='y6'), 0.01),), kinetic_order=(Species(name='target cells', description='x'), Species(name='viruses strain 10', description='v10')), k=None)\n",
      "Reaction(description=infection of x by 10->7, reactants=(Species(name='target cells', description='x'), Species(name='viruses strain 10', description='v10')), products=((Species(name='infected cells strain 7', description='y7'), 0.01),), kinetic_order=(Species(name='target cells', description='x'), Species(name='viruses strain 10', description='v10')), k=None)\n",
      "Reaction(description=infection of x by 10->8, reactants=(Species(name='target cells', description='x'), Species(name='viruses strain 10', description='v10')), products=((Species(name='infected cells strain 8', description='y8'), 0.01),), kinetic_order=(Species(name='target cells', description='x'), Species(name='viruses strain 10', description='v10')), k=None)\n",
      "Reaction(description=infection of x by 10->9, reactants=(Species(name='target cells', description='x'), Species(name='viruses strain 10', description='v10')), products=((Species(name='infected cells strain 9', description='y9'), 0.01),), kinetic_order=(Species(name='target cells', description='x'), Species(name='viruses strain 10', description='v10')), k=None)\n",
      "Reaction(description=infection of x by 10->10, reactants=(Species(name='target cells', description='x'), Species(name='viruses strain 10', description='v10')), products=((Species(name='infected cells strain 10', description='y10'), 0.01),), kinetic_order=(Species(name='target cells', description='x'), Species(name='viruses strain 10', description='v10')), k=None)\n",
      "Reaction(description=infection of x by 10->11, reactants=(Species(name='target cells', description='x'), Species(name='viruses strain 10', description='v10')), products=((Species(name='infected cells strain 11', description='y11'), 0.01),), kinetic_order=(Species(name='target cells', description='x'), Species(name='viruses strain 10', description='v10')), k=None)\n",
      "Reaction(description=infection of x by 10->12, reactants=(Species(name='target cells', description='x'), Species(name='viruses strain 10', description='v10')), products=((Species(name='infected cells strain 12', description='y12'), 0.01),), kinetic_order=(Species(name='target cells', description='x'), Species(name='viruses strain 10', description='v10')), k=None)\n",
      "Reaction(description=infection of x by 10->13, reactants=(Species(name='target cells', description='x'), Species(name='viruses strain 10', description='v10')), products=((Species(name='infected cells strain 13', description='y13'), 0.01),), kinetic_order=(Species(name='target cells', description='x'), Species(name='viruses strain 10', description='v10')), k=None)\n",
      "Reaction(description=infection of x by 10->14, reactants=(Species(name='target cells', description='x'), Species(name='viruses strain 10', description='v10')), products=((Species(name='infected cells strain 14', description='y14'), 0.01),), kinetic_order=(Species(name='target cells', description='x'), Species(name='viruses strain 10', description='v10')), k=None)\n",
      "Reaction(description=infection of x by 10->15, reactants=(Species(name='target cells', description='x'), Species(name='viruses strain 10', description='v10')), products=((Species(name='infected cells strain 15', description='y15'), 0.01),), kinetic_order=(Species(name='target cells', description='x'), Species(name='viruses strain 10', description='v10')), k=None)\n",
      "Reaction(description=infection of x by 11->0, reactants=(Species(name='target cells', description='x'), Species(name='viruses strain 11', description='v11')), products=((Species(name='infected cells strain 0', description='y0'), 0.01),), kinetic_order=(Species(name='target cells', description='x'), Species(name='viruses strain 11', description='v11')), k=None)\n",
      "Reaction(description=infection of x by 11->1, reactants=(Species(name='target cells', description='x'), Species(name='viruses strain 11', description='v11')), products=((Species(name='infected cells strain 1', description='y1'), 0.01),), kinetic_order=(Species(name='target cells', description='x'), Species(name='viruses strain 11', description='v11')), k=None)\n",
      "Reaction(description=infection of x by 11->2, reactants=(Species(name='target cells', description='x'), Species(name='viruses strain 11', description='v11')), products=((Species(name='infected cells strain 2', description='y2'), 0.01),), kinetic_order=(Species(name='target cells', description='x'), Species(name='viruses strain 11', description='v11')), k=None)\n",
      "Reaction(description=infection of x by 11->3, reactants=(Species(name='target cells', description='x'), Species(name='viruses strain 11', description='v11')), products=((Species(name='infected cells strain 3', description='y3'), 0.01),), kinetic_order=(Species(name='target cells', description='x'), Species(name='viruses strain 11', description='v11')), k=None)\n",
      "Reaction(description=infection of x by 11->4, reactants=(Species(name='target cells', description='x'), Species(name='viruses strain 11', description='v11')), products=((Species(name='infected cells strain 4', description='y4'), 0.01),), kinetic_order=(Species(name='target cells', description='x'), Species(name='viruses strain 11', description='v11')), k=None)\n",
      "Reaction(description=infection of x by 11->5, reactants=(Species(name='target cells', description='x'), Species(name='viruses strain 11', description='v11')), products=((Species(name='infected cells strain 5', description='y5'), 0.01),), kinetic_order=(Species(name='target cells', description='x'), Species(name='viruses strain 11', description='v11')), k=None)\n",
      "Reaction(description=infection of x by 11->6, reactants=(Species(name='target cells', description='x'), Species(name='viruses strain 11', description='v11')), products=((Species(name='infected cells strain 6', description='y6'), 0.01),), kinetic_order=(Species(name='target cells', description='x'), Species(name='viruses strain 11', description='v11')), k=None)\n",
      "Reaction(description=infection of x by 11->7, reactants=(Species(name='target cells', description='x'), Species(name='viruses strain 11', description='v11')), products=((Species(name='infected cells strain 7', description='y7'), 0.01),), kinetic_order=(Species(name='target cells', description='x'), Species(name='viruses strain 11', description='v11')), k=None)\n",
      "Reaction(description=infection of x by 11->8, reactants=(Species(name='target cells', description='x'), Species(name='viruses strain 11', description='v11')), products=((Species(name='infected cells strain 8', description='y8'), 0.01),), kinetic_order=(Species(name='target cells', description='x'), Species(name='viruses strain 11', description='v11')), k=None)\n",
      "Reaction(description=infection of x by 11->9, reactants=(Species(name='target cells', description='x'), Species(name='viruses strain 11', description='v11')), products=((Species(name='infected cells strain 9', description='y9'), 0.01),), kinetic_order=(Species(name='target cells', description='x'), Species(name='viruses strain 11', description='v11')), k=None)\n",
      "Reaction(description=infection of x by 11->10, reactants=(Species(name='target cells', description='x'), Species(name='viruses strain 11', description='v11')), products=((Species(name='infected cells strain 10', description='y10'), 0.01),), kinetic_order=(Species(name='target cells', description='x'), Species(name='viruses strain 11', description='v11')), k=None)\n",
      "Reaction(description=infection of x by 11->11, reactants=(Species(name='target cells', description='x'), Species(name='viruses strain 11', description='v11')), products=((Species(name='infected cells strain 11', description='y11'), 0.01),), kinetic_order=(Species(name='target cells', description='x'), Species(name='viruses strain 11', description='v11')), k=None)\n",
      "Reaction(description=infection of x by 11->12, reactants=(Species(name='target cells', description='x'), Species(name='viruses strain 11', description='v11')), products=((Species(name='infected cells strain 12', description='y12'), 0.01),), kinetic_order=(Species(name='target cells', description='x'), Species(name='viruses strain 11', description='v11')), k=None)\n",
      "Reaction(description=infection of x by 11->13, reactants=(Species(name='target cells', description='x'), Species(name='viruses strain 11', description='v11')), products=((Species(name='infected cells strain 13', description='y13'), 0.01),), kinetic_order=(Species(name='target cells', description='x'), Species(name='viruses strain 11', description='v11')), k=None)\n",
      "Reaction(description=infection of x by 11->14, reactants=(Species(name='target cells', description='x'), Species(name='viruses strain 11', description='v11')), products=((Species(name='infected cells strain 14', description='y14'), 0.01),), kinetic_order=(Species(name='target cells', description='x'), Species(name='viruses strain 11', description='v11')), k=None)\n",
      "Reaction(description=infection of x by 11->15, reactants=(Species(name='target cells', description='x'), Species(name='viruses strain 11', description='v11')), products=((Species(name='infected cells strain 15', description='y15'), 0.01),), kinetic_order=(Species(name='target cells', description='x'), Species(name='viruses strain 11', description='v11')), k=None)\n",
      "Reaction(description=infection of x by 12->0, reactants=(Species(name='target cells', description='x'), Species(name='viruses strain 12', description='v12')), products=((Species(name='infected cells strain 0', description='y0'), 0.01),), kinetic_order=(Species(name='target cells', description='x'), Species(name='viruses strain 12', description='v12')), k=None)\n",
      "Reaction(description=infection of x by 12->1, reactants=(Species(name='target cells', description='x'), Species(name='viruses strain 12', description='v12')), products=((Species(name='infected cells strain 1', description='y1'), 0.01),), kinetic_order=(Species(name='target cells', description='x'), Species(name='viruses strain 12', description='v12')), k=None)\n",
      "Reaction(description=infection of x by 12->2, reactants=(Species(name='target cells', description='x'), Species(name='viruses strain 12', description='v12')), products=((Species(name='infected cells strain 2', description='y2'), 0.01),), kinetic_order=(Species(name='target cells', description='x'), Species(name='viruses strain 12', description='v12')), k=None)\n",
      "Reaction(description=infection of x by 12->3, reactants=(Species(name='target cells', description='x'), Species(name='viruses strain 12', description='v12')), products=((Species(name='infected cells strain 3', description='y3'), 0.01),), kinetic_order=(Species(name='target cells', description='x'), Species(name='viruses strain 12', description='v12')), k=None)\n",
      "Reaction(description=infection of x by 12->4, reactants=(Species(name='target cells', description='x'), Species(name='viruses strain 12', description='v12')), products=((Species(name='infected cells strain 4', description='y4'), 0.01),), kinetic_order=(Species(name='target cells', description='x'), Species(name='viruses strain 12', description='v12')), k=None)\n",
      "Reaction(description=infection of x by 12->5, reactants=(Species(name='target cells', description='x'), Species(name='viruses strain 12', description='v12')), products=((Species(name='infected cells strain 5', description='y5'), 0.01),), kinetic_order=(Species(name='target cells', description='x'), Species(name='viruses strain 12', description='v12')), k=None)\n",
      "Reaction(description=infection of x by 12->6, reactants=(Species(name='target cells', description='x'), Species(name='viruses strain 12', description='v12')), products=((Species(name='infected cells strain 6', description='y6'), 0.01),), kinetic_order=(Species(name='target cells', description='x'), Species(name='viruses strain 12', description='v12')), k=None)\n",
      "Reaction(description=infection of x by 12->7, reactants=(Species(name='target cells', description='x'), Species(name='viruses strain 12', description='v12')), products=((Species(name='infected cells strain 7', description='y7'), 0.01),), kinetic_order=(Species(name='target cells', description='x'), Species(name='viruses strain 12', description='v12')), k=None)\n",
      "Reaction(description=infection of x by 12->8, reactants=(Species(name='target cells', description='x'), Species(name='viruses strain 12', description='v12')), products=((Species(name='infected cells strain 8', description='y8'), 0.01),), kinetic_order=(Species(name='target cells', description='x'), Species(name='viruses strain 12', description='v12')), k=None)\n",
      "Reaction(description=infection of x by 12->9, reactants=(Species(name='target cells', description='x'), Species(name='viruses strain 12', description='v12')), products=((Species(name='infected cells strain 9', description='y9'), 0.01),), kinetic_order=(Species(name='target cells', description='x'), Species(name='viruses strain 12', description='v12')), k=None)\n",
      "Reaction(description=infection of x by 12->10, reactants=(Species(name='target cells', description='x'), Species(name='viruses strain 12', description='v12')), products=((Species(name='infected cells strain 10', description='y10'), 0.01),), kinetic_order=(Species(name='target cells', description='x'), Species(name='viruses strain 12', description='v12')), k=None)\n",
      "Reaction(description=infection of x by 12->11, reactants=(Species(name='target cells', description='x'), Species(name='viruses strain 12', description='v12')), products=((Species(name='infected cells strain 11', description='y11'), 0.01),), kinetic_order=(Species(name='target cells', description='x'), Species(name='viruses strain 12', description='v12')), k=None)\n",
      "Reaction(description=infection of x by 12->12, reactants=(Species(name='target cells', description='x'), Species(name='viruses strain 12', description='v12')), products=((Species(name='infected cells strain 12', description='y12'), 0.01),), kinetic_order=(Species(name='target cells', description='x'), Species(name='viruses strain 12', description='v12')), k=None)\n",
      "Reaction(description=infection of x by 12->13, reactants=(Species(name='target cells', description='x'), Species(name='viruses strain 12', description='v12')), products=((Species(name='infected cells strain 13', description='y13'), 0.01),), kinetic_order=(Species(name='target cells', description='x'), Species(name='viruses strain 12', description='v12')), k=None)\n",
      "Reaction(description=infection of x by 12->14, reactants=(Species(name='target cells', description='x'), Species(name='viruses strain 12', description='v12')), products=((Species(name='infected cells strain 14', description='y14'), 0.01),), kinetic_order=(Species(name='target cells', description='x'), Species(name='viruses strain 12', description='v12')), k=None)\n",
      "Reaction(description=infection of x by 12->15, reactants=(Species(name='target cells', description='x'), Species(name='viruses strain 12', description='v12')), products=((Species(name='infected cells strain 15', description='y15'), 0.01),), kinetic_order=(Species(name='target cells', description='x'), Species(name='viruses strain 12', description='v12')), k=None)\n",
      "Reaction(description=infection of x by 13->0, reactants=(Species(name='target cells', description='x'), Species(name='viruses strain 13', description='v13')), products=((Species(name='infected cells strain 0', description='y0'), 0.01),), kinetic_order=(Species(name='target cells', description='x'), Species(name='viruses strain 13', description='v13')), k=None)\n",
      "Reaction(description=infection of x by 13->1, reactants=(Species(name='target cells', description='x'), Species(name='viruses strain 13', description='v13')), products=((Species(name='infected cells strain 1', description='y1'), 0.01),), kinetic_order=(Species(name='target cells', description='x'), Species(name='viruses strain 13', description='v13')), k=None)\n",
      "Reaction(description=infection of x by 13->2, reactants=(Species(name='target cells', description='x'), Species(name='viruses strain 13', description='v13')), products=((Species(name='infected cells strain 2', description='y2'), 0.01),), kinetic_order=(Species(name='target cells', description='x'), Species(name='viruses strain 13', description='v13')), k=None)\n",
      "Reaction(description=infection of x by 13->3, reactants=(Species(name='target cells', description='x'), Species(name='viruses strain 13', description='v13')), products=((Species(name='infected cells strain 3', description='y3'), 0.01),), kinetic_order=(Species(name='target cells', description='x'), Species(name='viruses strain 13', description='v13')), k=None)\n",
      "Reaction(description=infection of x by 13->4, reactants=(Species(name='target cells', description='x'), Species(name='viruses strain 13', description='v13')), products=((Species(name='infected cells strain 4', description='y4'), 0.01),), kinetic_order=(Species(name='target cells', description='x'), Species(name='viruses strain 13', description='v13')), k=None)\n",
      "Reaction(description=infection of x by 13->5, reactants=(Species(name='target cells', description='x'), Species(name='viruses strain 13', description='v13')), products=((Species(name='infected cells strain 5', description='y5'), 0.01),), kinetic_order=(Species(name='target cells', description='x'), Species(name='viruses strain 13', description='v13')), k=None)\n",
      "Reaction(description=infection of x by 13->6, reactants=(Species(name='target cells', description='x'), Species(name='viruses strain 13', description='v13')), products=((Species(name='infected cells strain 6', description='y6'), 0.01),), kinetic_order=(Species(name='target cells', description='x'), Species(name='viruses strain 13', description='v13')), k=None)\n",
      "Reaction(description=infection of x by 13->7, reactants=(Species(name='target cells', description='x'), Species(name='viruses strain 13', description='v13')), products=((Species(name='infected cells strain 7', description='y7'), 0.01),), kinetic_order=(Species(name='target cells', description='x'), Species(name='viruses strain 13', description='v13')), k=None)\n",
      "Reaction(description=infection of x by 13->8, reactants=(Species(name='target cells', description='x'), Species(name='viruses strain 13', description='v13')), products=((Species(name='infected cells strain 8', description='y8'), 0.01),), kinetic_order=(Species(name='target cells', description='x'), Species(name='viruses strain 13', description='v13')), k=None)\n",
      "Reaction(description=infection of x by 13->9, reactants=(Species(name='target cells', description='x'), Species(name='viruses strain 13', description='v13')), products=((Species(name='infected cells strain 9', description='y9'), 0.01),), kinetic_order=(Species(name='target cells', description='x'), Species(name='viruses strain 13', description='v13')), k=None)\n",
      "Reaction(description=infection of x by 13->10, reactants=(Species(name='target cells', description='x'), Species(name='viruses strain 13', description='v13')), products=((Species(name='infected cells strain 10', description='y10'), 0.01),), kinetic_order=(Species(name='target cells', description='x'), Species(name='viruses strain 13', description='v13')), k=None)\n",
      "Reaction(description=infection of x by 13->11, reactants=(Species(name='target cells', description='x'), Species(name='viruses strain 13', description='v13')), products=((Species(name='infected cells strain 11', description='y11'), 0.01),), kinetic_order=(Species(name='target cells', description='x'), Species(name='viruses strain 13', description='v13')), k=None)\n",
      "Reaction(description=infection of x by 13->12, reactants=(Species(name='target cells', description='x'), Species(name='viruses strain 13', description='v13')), products=((Species(name='infected cells strain 12', description='y12'), 0.01),), kinetic_order=(Species(name='target cells', description='x'), Species(name='viruses strain 13', description='v13')), k=None)\n",
      "Reaction(description=infection of x by 13->13, reactants=(Species(name='target cells', description='x'), Species(name='viruses strain 13', description='v13')), products=((Species(name='infected cells strain 13', description='y13'), 0.01),), kinetic_order=(Species(name='target cells', description='x'), Species(name='viruses strain 13', description='v13')), k=None)\n",
      "Reaction(description=infection of x by 13->14, reactants=(Species(name='target cells', description='x'), Species(name='viruses strain 13', description='v13')), products=((Species(name='infected cells strain 14', description='y14'), 0.01),), kinetic_order=(Species(name='target cells', description='x'), Species(name='viruses strain 13', description='v13')), k=None)\n",
      "Reaction(description=infection of x by 13->15, reactants=(Species(name='target cells', description='x'), Species(name='viruses strain 13', description='v13')), products=((Species(name='infected cells strain 15', description='y15'), 0.01),), kinetic_order=(Species(name='target cells', description='x'), Species(name='viruses strain 13', description='v13')), k=None)\n",
      "Reaction(description=infection of x by 14->0, reactants=(Species(name='target cells', description='x'), Species(name='viruses strain 14', description='v14')), products=((Species(name='infected cells strain 0', description='y0'), 0.01),), kinetic_order=(Species(name='target cells', description='x'), Species(name='viruses strain 14', description='v14')), k=None)\n",
      "Reaction(description=infection of x by 14->1, reactants=(Species(name='target cells', description='x'), Species(name='viruses strain 14', description='v14')), products=((Species(name='infected cells strain 1', description='y1'), 0.01),), kinetic_order=(Species(name='target cells', description='x'), Species(name='viruses strain 14', description='v14')), k=None)\n",
      "Reaction(description=infection of x by 14->2, reactants=(Species(name='target cells', description='x'), Species(name='viruses strain 14', description='v14')), products=((Species(name='infected cells strain 2', description='y2'), 0.01),), kinetic_order=(Species(name='target cells', description='x'), Species(name='viruses strain 14', description='v14')), k=None)\n",
      "Reaction(description=infection of x by 14->3, reactants=(Species(name='target cells', description='x'), Species(name='viruses strain 14', description='v14')), products=((Species(name='infected cells strain 3', description='y3'), 0.01),), kinetic_order=(Species(name='target cells', description='x'), Species(name='viruses strain 14', description='v14')), k=None)\n",
      "Reaction(description=infection of x by 14->4, reactants=(Species(name='target cells', description='x'), Species(name='viruses strain 14', description='v14')), products=((Species(name='infected cells strain 4', description='y4'), 0.01),), kinetic_order=(Species(name='target cells', description='x'), Species(name='viruses strain 14', description='v14')), k=None)\n",
      "Reaction(description=infection of x by 14->5, reactants=(Species(name='target cells', description='x'), Species(name='viruses strain 14', description='v14')), products=((Species(name='infected cells strain 5', description='y5'), 0.01),), kinetic_order=(Species(name='target cells', description='x'), Species(name='viruses strain 14', description='v14')), k=None)\n",
      "Reaction(description=infection of x by 14->6, reactants=(Species(name='target cells', description='x'), Species(name='viruses strain 14', description='v14')), products=((Species(name='infected cells strain 6', description='y6'), 0.01),), kinetic_order=(Species(name='target cells', description='x'), Species(name='viruses strain 14', description='v14')), k=None)\n",
      "Reaction(description=infection of x by 14->7, reactants=(Species(name='target cells', description='x'), Species(name='viruses strain 14', description='v14')), products=((Species(name='infected cells strain 7', description='y7'), 0.01),), kinetic_order=(Species(name='target cells', description='x'), Species(name='viruses strain 14', description='v14')), k=None)\n",
      "Reaction(description=infection of x by 14->8, reactants=(Species(name='target cells', description='x'), Species(name='viruses strain 14', description='v14')), products=((Species(name='infected cells strain 8', description='y8'), 0.01),), kinetic_order=(Species(name='target cells', description='x'), Species(name='viruses strain 14', description='v14')), k=None)\n",
      "Reaction(description=infection of x by 14->9, reactants=(Species(name='target cells', description='x'), Species(name='viruses strain 14', description='v14')), products=((Species(name='infected cells strain 9', description='y9'), 0.01),), kinetic_order=(Species(name='target cells', description='x'), Species(name='viruses strain 14', description='v14')), k=None)\n",
      "Reaction(description=infection of x by 14->10, reactants=(Species(name='target cells', description='x'), Species(name='viruses strain 14', description='v14')), products=((Species(name='infected cells strain 10', description='y10'), 0.01),), kinetic_order=(Species(name='target cells', description='x'), Species(name='viruses strain 14', description='v14')), k=None)\n",
      "Reaction(description=infection of x by 14->11, reactants=(Species(name='target cells', description='x'), Species(name='viruses strain 14', description='v14')), products=((Species(name='infected cells strain 11', description='y11'), 0.01),), kinetic_order=(Species(name='target cells', description='x'), Species(name='viruses strain 14', description='v14')), k=None)\n",
      "Reaction(description=infection of x by 14->12, reactants=(Species(name='target cells', description='x'), Species(name='viruses strain 14', description='v14')), products=((Species(name='infected cells strain 12', description='y12'), 0.01),), kinetic_order=(Species(name='target cells', description='x'), Species(name='viruses strain 14', description='v14')), k=None)\n",
      "Reaction(description=infection of x by 14->13, reactants=(Species(name='target cells', description='x'), Species(name='viruses strain 14', description='v14')), products=((Species(name='infected cells strain 13', description='y13'), 0.01),), kinetic_order=(Species(name='target cells', description='x'), Species(name='viruses strain 14', description='v14')), k=None)\n",
      "Reaction(description=infection of x by 14->14, reactants=(Species(name='target cells', description='x'), Species(name='viruses strain 14', description='v14')), products=((Species(name='infected cells strain 14', description='y14'), 0.01),), kinetic_order=(Species(name='target cells', description='x'), Species(name='viruses strain 14', description='v14')), k=None)\n",
      "Reaction(description=infection of x by 14->15, reactants=(Species(name='target cells', description='x'), Species(name='viruses strain 14', description='v14')), products=((Species(name='infected cells strain 15', description='y15'), 0.01),), kinetic_order=(Species(name='target cells', description='x'), Species(name='viruses strain 14', description='v14')), k=None)\n",
      "Reaction(description=infection of x by 15->0, reactants=(Species(name='target cells', description='x'), Species(name='viruses strain 15', description='v15')), products=((Species(name='infected cells strain 0', description='y0'), 0.01),), kinetic_order=(Species(name='target cells', description='x'), Species(name='viruses strain 15', description='v15')), k=None)\n",
      "Reaction(description=infection of x by 15->1, reactants=(Species(name='target cells', description='x'), Species(name='viruses strain 15', description='v15')), products=((Species(name='infected cells strain 1', description='y1'), 0.01),), kinetic_order=(Species(name='target cells', description='x'), Species(name='viruses strain 15', description='v15')), k=None)\n",
      "Reaction(description=infection of x by 15->2, reactants=(Species(name='target cells', description='x'), Species(name='viruses strain 15', description='v15')), products=((Species(name='infected cells strain 2', description='y2'), 0.01),), kinetic_order=(Species(name='target cells', description='x'), Species(name='viruses strain 15', description='v15')), k=None)\n",
      "Reaction(description=infection of x by 15->3, reactants=(Species(name='target cells', description='x'), Species(name='viruses strain 15', description='v15')), products=((Species(name='infected cells strain 3', description='y3'), 0.01),), kinetic_order=(Species(name='target cells', description='x'), Species(name='viruses strain 15', description='v15')), k=None)\n",
      "Reaction(description=infection of x by 15->4, reactants=(Species(name='target cells', description='x'), Species(name='viruses strain 15', description='v15')), products=((Species(name='infected cells strain 4', description='y4'), 0.01),), kinetic_order=(Species(name='target cells', description='x'), Species(name='viruses strain 15', description='v15')), k=None)\n",
      "Reaction(description=infection of x by 15->5, reactants=(Species(name='target cells', description='x'), Species(name='viruses strain 15', description='v15')), products=((Species(name='infected cells strain 5', description='y5'), 0.01),), kinetic_order=(Species(name='target cells', description='x'), Species(name='viruses strain 15', description='v15')), k=None)\n",
      "Reaction(description=infection of x by 15->6, reactants=(Species(name='target cells', description='x'), Species(name='viruses strain 15', description='v15')), products=((Species(name='infected cells strain 6', description='y6'), 0.01),), kinetic_order=(Species(name='target cells', description='x'), Species(name='viruses strain 15', description='v15')), k=None)\n",
      "Reaction(description=infection of x by 15->7, reactants=(Species(name='target cells', description='x'), Species(name='viruses strain 15', description='v15')), products=((Species(name='infected cells strain 7', description='y7'), 0.01),), kinetic_order=(Species(name='target cells', description='x'), Species(name='viruses strain 15', description='v15')), k=None)\n",
      "Reaction(description=infection of x by 15->8, reactants=(Species(name='target cells', description='x'), Species(name='viruses strain 15', description='v15')), products=((Species(name='infected cells strain 8', description='y8'), 0.01),), kinetic_order=(Species(name='target cells', description='x'), Species(name='viruses strain 15', description='v15')), k=None)\n",
      "Reaction(description=infection of x by 15->9, reactants=(Species(name='target cells', description='x'), Species(name='viruses strain 15', description='v15')), products=((Species(name='infected cells strain 9', description='y9'), 0.01),), kinetic_order=(Species(name='target cells', description='x'), Species(name='viruses strain 15', description='v15')), k=None)\n",
      "Reaction(description=infection of x by 15->10, reactants=(Species(name='target cells', description='x'), Species(name='viruses strain 15', description='v15')), products=((Species(name='infected cells strain 10', description='y10'), 0.01),), kinetic_order=(Species(name='target cells', description='x'), Species(name='viruses strain 15', description='v15')), k=None)\n",
      "Reaction(description=infection of x by 15->11, reactants=(Species(name='target cells', description='x'), Species(name='viruses strain 15', description='v15')), products=((Species(name='infected cells strain 11', description='y11'), 0.01),), kinetic_order=(Species(name='target cells', description='x'), Species(name='viruses strain 15', description='v15')), k=None)\n",
      "Reaction(description=infection of x by 15->12, reactants=(Species(name='target cells', description='x'), Species(name='viruses strain 15', description='v15')), products=((Species(name='infected cells strain 12', description='y12'), 0.01),), kinetic_order=(Species(name='target cells', description='x'), Species(name='viruses strain 15', description='v15')), k=None)\n",
      "Reaction(description=infection of x by 15->13, reactants=(Species(name='target cells', description='x'), Species(name='viruses strain 15', description='v15')), products=((Species(name='infected cells strain 13', description='y13'), 0.01),), kinetic_order=(Species(name='target cells', description='x'), Species(name='viruses strain 15', description='v15')), k=None)\n",
      "Reaction(description=infection of x by 15->14, reactants=(Species(name='target cells', description='x'), Species(name='viruses strain 15', description='v15')), products=((Species(name='infected cells strain 14', description='y14'), 0.01),), kinetic_order=(Species(name='target cells', description='x'), Species(name='viruses strain 15', description='v15')), k=None)\n",
      "Reaction(description=infection of x by 15->15, reactants=(Species(name='target cells', description='x'), Species(name='viruses strain 15', description='v15')), products=((Species(name='infected cells strain 15', description='y15'), 0.01),), kinetic_order=(Species(name='target cells', description='x'), Species(name='viruses strain 15', description='v15')), k=None)\n"
     ]
    }
   ],
   "source": [
    "#for reaction in model.all_reactions:\n",
    "#    print(reaction)"
   ]
  },
  {
   "cell_type": "markdown",
   "id": "50fd49ef-72f3-4705-9614-cacd5ae5b91d",
   "metadata": {},
   "source": [
    "# Run forward simulation"
   ]
  },
  {
   "cell_type": "code",
   "execution_count": 68,
   "id": "258360e6-7460-4f70-839d-5f2e8c061e26",
   "metadata": {},
   "outputs": [],
   "source": [
    "from hybrid.hybrid import HybridSimulator, FixedThresholdPartitioner, NThresholdPartitioner"
   ]
  },
  {
   "cell_type": "code",
   "execution_count": 69,
   "id": "8e5015a9",
   "metadata": {},
   "outputs": [
    {
     "data": {
      "text/plain": [
       "[Species(name='infected cells strain 0', description='y0'),\n",
       " Species(name='infected cells strain 1', description='y1'),\n",
       " Species(name='infected cells strain 2', description='y2'),\n",
       " Species(name='infected cells strain 3', description='y3'),\n",
       " Species(name='infected cells strain 4', description='y4'),\n",
       " Species(name='infected cells strain 5', description='y5'),\n",
       " Species(name='infected cells strain 6', description='y6'),\n",
       " Species(name='infected cells strain 7', description='y7'),\n",
       " Species(name='infected cells strain 8', description='y8'),\n",
       " Species(name='infected cells strain 9', description='y9'),\n",
       " Species(name='infected cells strain 10', description='y10'),\n",
       " Species(name='infected cells strain 11', description='y11'),\n",
       " Species(name='infected cells strain 12', description='y12'),\n",
       " Species(name='infected cells strain 13', description='y13'),\n",
       " Species(name='infected cells strain 14', description='y14'),\n",
       " Species(name='infected cells strain 15', description='y15')]"
      ]
     },
     "execution_count": 69,
     "metadata": {},
     "output_type": "execute_result"
    }
   ],
   "source": [
    "ys"
   ]
  },
  {
   "cell_type": "code",
   "execution_count": 70,
   "id": "3b14195b-be1e-4876-a9b5-6e18143b2f18",
   "metadata": {},
   "outputs": [],
   "source": [
    "extra_discontinuities = list(np.linspace(0.0,40.0,400))\n",
    "extra_discontinuities = []\n",
    "\n",
    "y0 = np.zeros(len(all_species))\n",
    "y0[model.species_index[x]] = L/dx/R00\n",
    "\n",
    "expanded_msb = np.squeeze(np.vstack([np.array([1]), msb]))\n",
    "y0[model.species_index[ys[0]] : model.species_index[ys[-1]] + 1] = fa*(1-1/R00)*L/dy * expanded_msb\n",
    "y0[model.species_index[zs[0]] : model.species_index[zs[-1]] + 1] = y0[model.species_index[ys[0]] : model.species_index[ys[-1]] + 1] * g/(a+dz)\n",
    "y0[model.species_index[vs[0]] : model.species_index[vs[-1]] + 1] = y0[model.species_index[ys[0]] : model.species_index[ys[-1]] + 1] * k * N / (c+beta*L/dx) #y*k*N/(c+B*L/dx)"
   ]
  },
  {
   "cell_type": "code",
   "execution_count": 71,
   "id": "7ec13c9f",
   "metadata": {},
   "outputs": [
    {
     "data": {
      "text/plain": [
       "array([2.72727273e+06, 4.31595846e+02, 1.33208269e+02, 2.40282115e+01,\n",
       "       6.51760964e+01, 4.31681625e+00, 1.27953071e+01, 2.75099727e+02,\n",
       "       1.93429285e+03, 6.37079263e+02, 3.97850012e-03, 1.11518310e-02,\n",
       "       4.07982819e-03, 2.71571852e-02, 2.32877798e-01, 1.36629689e-03])"
      ]
     },
     "execution_count": 71,
     "metadata": {},
     "output_type": "execute_result"
    }
   ],
   "source": [
    "y0[model.species_index[zs[0]] : model.species_index[zs[-1]] + 1]"
   ]
  },
  {
   "cell_type": "code",
   "execution_count": 72,
   "id": "7bfaaa23",
   "metadata": {},
   "outputs": [
    {
     "data": {
      "text/plain": [
       "8.81034420933936e-06"
      ]
     },
     "execution_count": 72,
     "metadata": {},
     "output_type": "execute_result"
    }
   ],
   "source": [
    "y0[model.species_index[zs[3]]] / (L/dx) * 1e6"
   ]
  },
  {
   "cell_type": "code",
   "execution_count": 73,
   "id": "d097f9da-a7ea-40b7-b49e-08dcfeb0b6eb",
   "metadata": {},
   "outputs": [
    {
     "name": "stdout",
     "output_type": "stream",
     "text": [
      "The jupyterflame extension is already loaded. To reload it, use:\n",
      "  %reload_ext jupyterflame\n"
     ]
    }
   ],
   "source": [
    "%load_ext jupyterflame"
   ]
  },
  {
   "cell_type": "code",
   "execution_count": 74,
   "id": "26508a00-699c-4853-aa2b-d1ab18dd242e",
   "metadata": {},
   "outputs": [
    {
     "data": {
      "text/plain": [
       "HybridSimulationOptions(approximate_rtot=False, contrived_no_reaction_rate=None, deqs=True, round_randomly=True, halt_on_partition_change=False, partition_fraction_for_halt=0.9)"
      ]
     },
     "execution_count": 74,
     "metadata": {},
     "output_type": "execute_result"
    }
   ],
   "source": [
    "simulator.simulation_options"
   ]
  },
  {
   "cell_type": "code",
   "execution_count": 75,
   "id": "2ba74674-7804-4dd3-9041-1f36f227db8d",
   "metadata": {},
   "outputs": [
    {
     "name": "stdout",
     "output_type": "stream",
     "text": [
      "Warning: contrived rate of no reaction defined but approximate_rtot is False\n"
     ]
    }
   ],
   "source": [
    "# the adherence pattern and hence the R0s is being determined in matlab before any of this code runs,\n",
    "# so don't be scared if trajectories look almost identical with different seeds in python\n",
    "\n",
    "simulator = HybridSimulator(\n",
    "    model.get_k(jit=True),\n",
    "    model.stoichiometry(),\n",
    "    model.kinetic_order(),\n",
    "    NThresholdPartitioner(100),\n",
    "    discontinuities=np.sort(np.array(list(dose_t)+extra_discontinuities)),\n",
    "    jit=True\n",
    ")"
   ]
  },
  {
   "cell_type": "code",
   "execution_count": 79,
   "id": "d4e6ea7e-940d-4353-b293-1e37bec2cae2",
   "metadata": {},
   "outputs": [
    {
     "name": "stdout",
     "output_type": "stream",
     "text": [
      "Warning: contrived rate of no reaction defined but approximate_rtot is False\n"
     ]
    }
   ],
   "source": [
    "simulator = HybridSimulator(\n",
    "    model.get_k(jit=True),\n",
    "    model.stoichiometry(),\n",
    "    model.kinetic_order(),\n",
    "    FixedThresholdPartitioner(100),\n",
    "    discontinuities=np.sort(np.array(list(dose_t)+extra_discontinuities)),\n",
    "    jit=True\n",
    ")"
   ]
  },
  {
   "cell_type": "code",
   "execution_count": 81,
   "id": "4951cc6e-050a-4be7-818c-a6248feccf99",
   "metadata": {},
   "outputs": [
    {
     "name": "stdout",
     "output_type": "stream",
     "text": [
      "Counter({<HybridStepStatus.stochastic_event: 1>: 75, <HybridStepStatus.t_end: 0>: 1})\n"
     ]
    }
   ],
   "source": [
    "rng = np.random.default_rng(0)\n",
    "result = simulator.simulate([0, 0.1], y0, rng)\n",
    "\n",
    "print(result.status_counter)"
   ]
  },
  {
   "cell_type": "code",
   "execution_count": null,
   "id": "f24643e5",
   "metadata": {},
   "outputs": [],
   "source": [
    "np.sort(np.array(list(dose_t)+extra_discontinuities)),"
   ]
  },
  {
   "cell_type": "markdown",
   "id": "dd24087b",
   "metadata": {},
   "source": [
    "## R_tot approximation"
   ]
  },
  {
   "cell_type": "code",
   "execution_count": null,
   "id": "b8c46252",
   "metadata": {},
   "outputs": [],
   "source": [
    "# the adherence pattern and hence the R0s is being determined in matlab before any of this code runs,\n",
    "# so don't be scared if trajectories look almost identical with different seeds in python\n",
    "\n",
    "simulator = HybridSimulator(\n",
    "    model.get_k(jit=True),\n",
    "    model.stoichiometry(),\n",
    "    model.kinetic_order(),\n",
    "    FixedThresholdPartitioner(100).partition_function,\n",
    "    discontinuities=np.sort(np.array(list(dose_t)+extra_discontinuities)),\n",
    "    jit=True,\n",
    "    approximate_rtot=True,\n",
    "    contrived_no_reaction_rate=1.,\n",
    "    partition_fraction_for_halt=0.8\n",
    ")\n",
    "\n",
    "rng = np.random.default_rng(0)\n",
    "result = simulator.simulate([0, 40.0], y0, rng)\n",
    "\n",
    "print(result.status_counter)"
   ]
  },
  {
   "cell_type": "code",
   "execution_count": null,
   "id": "1a65c3a0-1b7c-4f5c-a872-70bff00589ca",
   "metadata": {},
   "outputs": [],
   "source": [
    "result"
   ]
  },
  {
   "cell_type": "code",
   "execution_count": null,
   "id": "24d91ea9-1269-442b-abf9-a8a579795cb3",
   "metadata": {},
   "outputs": [],
   "source": [
    "scale_cd4_body=(Vpl*10**3)/(fbp*ftcell_pl)\n",
    "#scale_cd4_virus=kdv*2*1e3/fbp"
   ]
  },
  {
   "cell_type": "code",
   "execution_count": null,
   "id": "625e86cc-d31f-4bcf-885f-772a373b593a",
   "metadata": {},
   "outputs": [],
   "source": [
    "mnames = list(np.asarray(eng.eval('mparams.Properties.RowNames')))\n",
    "\n",
    "import matplotlib.pyplot as plt\n",
    "plt.figure()\n",
    "plt.plot(result.t_history, result.y_history[0].T/scale_cd4_body, label='x')\n",
    "plt.yscale('linear')\n",
    "plt.ylabel('uninfected CD4 cells (cells/uL)')\n",
    "plt.xlabel('t')\n",
    "plt.legend()\n",
    "plt.ylim([0, 1025])\n",
    "\n",
    "plt.figure()\n",
    "plt.plot(result.t_history, result.y_history[1:1+len(ys)].T, label=['wildtype']+mnames)\n",
    "plt.yscale('log')\n",
    "plt.ylabel('total infected cells')\n",
    "plt.xlabel('t')\n",
    "plt.legend()\n",
    "plt.ylim([1, 1e10])\n",
    "\n",
    "plt.figure()\n",
    "plt.plot(result.t_history, result.y_history[model.species.index(vs[0]):model.species.index(vs[-1])+1].T/Vpl/1000, label=['wildtype']+mnames)\n",
    "plt.yscale('log')\n",
    "plt.ylabel('virions (copies/mL plasma)')\n",
    "plt.xlabel('t')\n",
    "plt.legend()\n",
    "plt.ylim([1e-7, 1e8])\n",
    "\n",
    "\n",
    "\n",
    "plt.figure()\n",
    "plt.plot(t_vec, beta_t*R00/beta, label=['wildtype']+mnames)\n",
    "plt.legend()\n",
    "plt.ylabel('R_u')\n",
    "plt.xlabel('t')\n",
    "plt.yscale('linear')\n",
    "\n",
    "plt.figure()\n",
    "plt.plot(result.t_history, result.y_history[model.species.index(zs[0]):model.species.index(zs[-1])+1].T*(10**6)/(L/dx), label=['wildtype']+mnames)\n",
    "plt.yscale('log')\n",
    "plt.ylabel('LR size(per 10^6 baseline CD4)')\n",
    "plt.xlabel('t')\n",
    "plt.legend()\n",
    "plt.ylim([1e-7, 10e2])"
   ]
  },
  {
   "cell_type": "markdown",
   "id": "2db89e01",
   "metadata": {},
   "source": [
    "## N specimen partitioning"
   ]
  },
  {
   "cell_type": "code",
   "execution_count": null,
   "id": "294d7d9e",
   "metadata": {},
   "outputs": [],
   "source": [
    "# the adherence pattern and hence the R0s is being determined in matlab before any of this code runs,\n",
    "# so don't be scared if trajectories look almost identical with different seeds in python\n",
    "\n",
    "simulator = HybridSimulator(\n",
    "    model.get_k(jit=True),\n",
    "    model.stoichiometry(),\n",
    "    model.kinetic_order(),\n",
    "    NThresholdPartitioner(100).partition_function,\n",
    "    discontinuities=np.sort(np.array(list(dose_t)+extra_discontinuities)),\n",
    "    jit=True\n",
    ")\n",
    "\n",
    "rng = np.random.default_rng(2)\n",
    "result = simulator.simulate([0, 40.0], y0, rng)\n",
    "\n",
    "print(result.status_counter)"
   ]
  },
  {
   "cell_type": "code",
   "execution_count": null,
   "id": "eb77542e-0074-4fad-b506-746d5f67e222",
   "metadata": {},
   "outputs": [],
   "source": [
    "mnames = list(np.asarray(eng.eval('mparams.Properties.RowNames')))\n",
    "\n",
    "plt.figure()\n",
    "plt.plot(result.t_history, result.y_history[0].T/scale_cd4_body, label='x')\n",
    "plt.yscale('linear')\n",
    "plt.ylabel('uninfected CD4 cells (cells/uL)')\n",
    "plt.xlabel('t')\n",
    "plt.legend()\n",
    "plt.ylim([0, 1025])\n",
    "\n",
    "plt.figure()\n",
    "plt.plot(result.t_history, result.y_history[1:1+len(ys)].T/scale_cd4_body, label=['wildtype']+mnames)\n",
    "plt.yscale('log')\n",
    "plt.ylabel('infected cells (cells/uL)')\n",
    "plt.xlabel('t')\n",
    "plt.legend()\n",
    "plt.ylim([1e-9, 1e3])\n",
    "\n",
    "plt.figure()\n",
    "plt.plot(result.t_history, result.y_history[model.species.index(vs[0]):model.species.index(vs[-1])+1].T/Vpl/1000, label=['wildtype']+mnames)\n",
    "plt.yscale('log')\n",
    "plt.ylabel('virions (copies/mL plasma)')\n",
    "plt.xlabel('t')\n",
    "plt.legend()\n",
    "plt.ylim([1e-3, 1e7])\n",
    "\n",
    "plt.figure()\n",
    "plt.plot(t_vec, beta_t*R00/beta, label=['wildtype']+mnames)\n",
    "plt.legend()\n",
    "plt.ylabel('R_u')\n",
    "plt.xlabel('t')\n",
    "plt.yscale('linear')\n",
    "\n",
    "plt.figure()\n",
    "plt.plot(result.t_history, result.y_history[model.species.index(zs[0]):model.species.index(zs[-1])+1].T*(10**6)/(L/dx), label=['wildtype']+mnames)\n",
    "plt.yscale('log')\n",
    "plt.ylabel('LR size(per 10^6 baseline CD4)')\n",
    "plt.xlabel('t')\n",
    "plt.legend()\n",
    "plt.ylim([1e-7, 10e2])"
   ]
  },
  {
   "cell_type": "markdown",
   "id": "ee4f8cce",
   "metadata": {},
   "source": [
    "# Other"
   ]
  },
  {
   "cell_type": "code",
   "execution_count": null,
   "id": "eaba298f-4fb6-4ec7-a47e-e14817687c11",
   "metadata": {},
   "outputs": [],
   "source": [
    "def dydt_factory(calculate_propensities):\n",
    "    def dydt(t, y_expanded, k, deterministic_mask, stochastic_mask, hitting_point):\n",
    "        y = y_expanded[:-1]\n",
    "        k = k(t)\n",
    "        propensities = calculate_propensities(y, k)\n",
    "        deterministic_propensities = propensities * deterministic_mask\n",
    "    \n",
    "        deterministic_propensities\n",
    "        dydt = np.zeros(len(y_expanded))\n",
    "    \n",
    "        ## reaction rates used multiple times \n",
    "        _infections = deterministic_propensities[r.index(viral_clearance[-1])+1:len(r)].reshape(n, n)\n",
    "        new_infections_by_strain = _infections.sum(axis=0)\n",
    "        loss_of_virions_by_strain = _infections.sum(axis=1)\n",
    "    \n",
    "        ic_death = deterministic_propensities[r.index(infected_death[0]):r.index(infected_death[0])+n]\n",
    "        ic_burst = deterministic_propensities[r.index(infected_cell_burst[0]):r.index(infected_cell_burst[0])+n]\n",
    "        to_latent = deterministic_propensities[r.index(into_latency[0]):r.index(into_latency[0])+n]\n",
    "        from_latent = deterministic_propensities[r.index(out_of_latency[0]):r.index(out_of_latency[0])+n]\n",
    "    \n",
    "        ## Infected cells\n",
    "        dydt[1:1+n] = (\n",
    "            fa * new_infections_by_strain\n",
    "            + from_latent\n",
    "            - ic_death\n",
    "            - ic_burst\n",
    "            - to_latent\n",
    "        )\n",
    "    \n",
    "        ## Virions\n",
    "        dydt[1+n:1+2*n] = (\n",
    "            burst_size * ic_burst\n",
    "            - loss_of_virions_by_strain\n",
    "            - deterministic_propensities[r.index(viral_clearance[0]):r.index(viral_clearance[0])+n]\n",
    "        )\n",
    "    \n",
    "        ## Latent cells\n",
    "        dydt[species.index(zs[0]):species.index(zs[0])+n] = (\n",
    "            to_latent\n",
    "            - from_latent\n",
    "            - deterministic_propensities[r.index(death_of_latent[0]):r.index(death_of_latent[0])+n]\n",
    "        )\n",
    "    \n",
    "        ## Target cells\n",
    "        dydt[species.index(x)] = deterministic_propensities[r.index(target_cell_birth)] - deterministic_propensities[r.index(target_cell_death)] - np.sum(loss_of_virions_by_strain)\n",
    "        dydt[-1] = np.sum(propensities * stochastic_mask)\n",
    "        return dydt\n",
    "    return dydt"
   ]
  },
  {
   "cell_type": "code",
   "execution_count": null,
   "id": "d133e6dc-8a1b-46b6-bca5-fec37f86373c",
   "metadata": {},
   "outputs": [],
   "source": [
    "#rates = N @ deterministic_propensities\n",
    "\n",
    "#fa = 0.01\n",
    "species = tuple(model.species.copy())\n",
    "r = tuple(model.all_reactions.copy())\n",
    "n = len(ys)\n",
    "burst_size = N\n",
    "\n",
    "num_pathways = len(r)\n",
    "clearance_start = r.index(viral_clearance[0])\n",
    "clearance_end = r.index(viral_clearance[-1])\n",
    "ic_death_start = r.index(infected_death[0])\n",
    "ic_burst_start = r.index(infected_cell_burst[0])\n",
    "to_latent_start = r.index(into_latency[0])\n",
    "from_latent_start = r.index(out_of_latency[0])\n",
    "latent_death_start = r.index(death_of_latent[0])\n",
    "target_birth = r.index(target_cell_birth)\n",
    "target_death = r.index(target_cell_death)\n",
    "\n",
    "latent_start = species.index(zs[0])\n",
    "ic_start = species.index(ys[0])\n",
    "virus_start = species.index(vs[0])\n",
    "x_start = species.index(x)\n",
    "\n",
    "def jit_dydt_factory(_):\n",
    "    @jit(nopython=True)\n",
    "    def dydt(t, y_expanded, k, deterministic_mask, stochastic_mask, calculate_propensities, hitting_point):\n",
    "        y = y_expanded[:-1]\n",
    "        propensities = calculate_propensities(y, k, t)\n",
    "        deterministic_propensities = propensities * deterministic_mask\n",
    "    \n",
    "        deterministic_propensities\n",
    "        dydt = np.zeros(len(y_expanded))\n",
    "    \n",
    "        ## reaction rates used multiple times \n",
    "        _infections = deterministic_propensities[clearance_end+1:clearance_end+1+n**2].reshape(n, n)\n",
    "        new_infections_by_strain = _infections.sum(axis=0)\n",
    "        loss_of_virions_by_strain = _infections.sum(axis=1)\n",
    "    \n",
    "        ic_death = deterministic_propensities[ic_death_start:ic_death_start+n]\n",
    "        ic_burst = deterministic_propensities[ic_burst_start:ic_burst_start+n]\n",
    "        to_latent = deterministic_propensities[to_latent_start:to_latent_start+n]\n",
    "        from_latent = deterministic_propensities[from_latent_start:from_latent_start+n]\n",
    "    \n",
    "        ## Infected cells\n",
    "        dydt[ic_start:ic_start+n] = (\n",
    "            fa * new_infections_by_strain\n",
    "            + from_latent\n",
    "            - ic_death\n",
    "            - ic_burst\n",
    "            - to_latent\n",
    "        )\n",
    "    \n",
    "        ## Virions\n",
    "        dydt[virus_start:virus_start+n] = (\n",
    "            burst_size * ic_burst\n",
    "            - loss_of_virions_by_strain\n",
    "            - deterministic_propensities[clearance_start:clearance_start+n]\n",
    "        )\n",
    "    \n",
    "        ## Latent cells\n",
    "        dydt[latent_start:latent_start+n] = (\n",
    "            to_latent\n",
    "            - from_latent\n",
    "            - deterministic_propensities[latent_death_start:latent_death_start+n]\n",
    "        )\n",
    "    \n",
    "        ## Target cells\n",
    "        dydt[x_start] = (\n",
    "            deterministic_propensities[target_birth]\n",
    "            - deterministic_propensities[target_death]\n",
    "            - np.sum(loss_of_virions_by_strain)\n",
    "        )\n",
    "        \n",
    "        dydt[-1] = np.sum(propensities * stochastic_mask)\n",
    "        return dydt\n",
    "    def wrapper(t, y_expanded, k, partition, calculate_propensities, hitting_point):\n",
    "        return dydt(t, y_expanded, k, partition.deterministic, partition.deterministic, calculate_propensities, hitting_point)\n",
    "    return wrapper"
   ]
  },
  {
   "cell_type": "markdown",
   "id": "57172525",
   "metadata": {},
   "source": [
    "# Tau leaping"
   ]
  },
  {
   "cell_type": "code",
   "execution_count": null,
   "id": "69de71a7",
   "metadata": {},
   "outputs": [],
   "source": [
    "from hybrid.tau import TauLeapSimulator\n",
    "\n",
    "simulator = TauLeapSimulator(\n",
    "    model.get_k(jit=True),\n",
    "    model.stoichiometry(),\n",
    "    model.kinetic_order(),\n",
    "    #discontinuities=np.sort(np.array(list(dose_t)+extra_discontinuities)),\n",
    "    jit=True,\n",
    "    epsilon=0.05\n",
    ")"
   ]
  },
  {
   "cell_type": "code",
   "execution_count": null,
   "id": "66852453",
   "metadata": {},
   "outputs": [],
   "source": [
    "model.species"
   ]
  },
  {
   "cell_type": "code",
   "execution_count": null,
   "id": "6645485a",
   "metadata": {},
   "outputs": [],
   "source": [
    "y0"
   ]
  },
  {
   "cell_type": "code",
   "execution_count": null,
   "id": "e70cf9cf",
   "metadata": {},
   "outputs": [],
   "source": [
    "dose_t"
   ]
  },
  {
   "cell_type": "code",
   "execution_count": null,
   "id": "ec6d8140",
   "metadata": {},
   "outputs": [],
   "source": [
    "result = simulator.simulate([0, 4.2], np.round(y0), np.random.default_rng())\n",
    "\n",
    "result.status_counter"
   ]
  },
  {
   "cell_type": "code",
   "execution_count": null,
   "id": "c3f2065e",
   "metadata": {},
   "outputs": [],
   "source": [
    "mnames = list(np.asarray(eng.eval('mparams.Properties.RowNames')))\n",
    "\n",
    "import matplotlib.pyplot as plt\n",
    "plt.figure()\n",
    "plt.plot(result.t_history, result.y_history[0].T/scale_cd4_body, label='x')\n",
    "plt.yscale('linear')\n",
    "plt.ylabel('uninfected CD4 cells (cells/uL)')\n",
    "plt.xlabel('t')\n",
    "plt.legend()\n",
    "plt.ylim([0, 1025])\n",
    "\n",
    "plt.figure()\n",
    "plt.plot(result.t_history, result.y_history[1:1+len(ys)].T/scale_cd4_body, label=['wildtype']+mnames)\n",
    "plt.yscale('log')\n",
    "plt.ylabel('infected cells (cells/uL)')\n",
    "plt.xlabel('t')\n",
    "plt.legend()\n",
    "plt.ylim([1e-9, 1e3])\n",
    "\n",
    "plt.figure()\n",
    "plt.plot(result.t_history, result.y_history[model.species.index(vs[0]):model.species.index(vs[-1])+1].T/Vpl/1000, label=['wildtype']+mnames)\n",
    "plt.yscale('log')\n",
    "plt.ylabel('virions (copies/mL plasma)')\n",
    "plt.xlabel('t')\n",
    "plt.legend()\n",
    "plt.ylim([1e-3, 1e7])\n",
    "\n",
    "plt.figure()\n",
    "plt.plot(t_vec, beta_t*R00/beta, label=['wildtype']+mnames)\n",
    "plt.legend()\n",
    "plt.ylabel('R_u')\n",
    "plt.xlabel('t')\n",
    "plt.yscale('linear')\n",
    "\n",
    "plt.figure()\n",
    "plt.plot(result.t_history, result.y_history[model.species.index(zs[0]):model.species.index(zs[-1])+1].T*(10**6)/(L/dx), label=['wildtype']+mnames)\n",
    "plt.yscale('log')\n",
    "plt.ylabel('LR size(per 10^6 baseline CD4)')\n",
    "plt.xlabel('t')\n",
    "plt.legend()\n",
    "plt.ylim([1e-7, 10e2])"
   ]
  },
  {
   "cell_type": "code",
   "execution_count": null,
   "id": "97481fbe",
   "metadata": {},
   "outputs": [],
   "source": []
  }
 ],
 "metadata": {
  "kernelspec": {
   "display_name": "Python 3 (ipykernel)",
   "language": "python",
   "name": "python3"
  },
  "language_info": {
   "codemirror_mode": {
    "name": "ipython",
    "version": 3
   },
   "file_extension": ".py",
   "mimetype": "text/x-python",
   "name": "python",
   "nbconvert_exporter": "python",
   "pygments_lexer": "ipython3",
   "version": "3.9.8"
  }
 },
 "nbformat": 4,
 "nbformat_minor": 5
}
