{
 "cells": [
  {
   "cell_type": "code",
   "execution_count": 7,
   "metadata": {},
   "outputs": [],
   "source": [
    "from reactionmodel.model import Species, RatelessReaction\n",
    "from reactionmodel.hook import ReactionWithHooks, HookAwareModel"
   ]
  },
  {
   "cell_type": "code",
   "execution_count": 8,
   "metadata": {},
   "outputs": [],
   "source": [
    "a = Species('A')\n",
    "b = Species('B')\n",
    "c = Species('C')\n",
    "d = Species('D')\n",
    "\n",
    "h1 = RatelessReaction([c], [d])\n",
    "h2 = RatelessReaction([], [])\n",
    "r = ReactionWithHooks([a, b], [c], k='phi', hooked_reactions=[h1, h2], hooked_p=[0.25, 0.75])\n",
    "\n",
    "m = HookAwareModel([a,b,c,d], [r], reject_duplicates=False)"
   ]
  },
  {
   "cell_type": "code",
   "execution_count": 9,
   "metadata": {},
   "outputs": [],
   "source": [
    "from hybrid.gillespie import GillespieSimulator"
   ]
  },
  {
   "cell_type": "code",
   "execution_count": 10,
   "metadata": {},
   "outputs": [
    {
     "name": "stdout",
     "output_type": "stream",
     "text": [
      "Evaluating expression: phi => 2.0\n"
     ]
    }
   ],
   "source": [
    "s = GillespieSimulator.from_model(m, parameters={'phi':2.0})"
   ]
  },
  {
   "cell_type": "code",
   "execution_count": 14,
   "metadata": {},
   "outputs": [],
   "source": [
    "import numpy as np\n",
    "result = s.simulate([0, 100], m.make_initial_condition({'A':10000, 'B':10000}), np.random.default_rng())"
   ]
  },
  {
   "cell_type": "code",
   "execution_count": 15,
   "metadata": {},
   "outputs": [
    {
     "data": {
      "text/plain": [
       "array([   0.,    0., 7527., 2473.])"
      ]
     },
     "execution_count": 15,
     "metadata": {},
     "output_type": "execute_result"
    }
   ],
   "source": [
    "result.y"
   ]
  },
  {
   "cell_type": "code",
   "execution_count": null,
   "metadata": {},
   "outputs": [],
   "source": []
  }
 ],
 "metadata": {
  "kernelspec": {
   "display_name": ".venv",
   "language": "python",
   "name": "python3"
  },
  "language_info": {
   "codemirror_mode": {
    "name": "ipython",
    "version": 3
   },
   "file_extension": ".py",
   "mimetype": "text/x-python",
   "name": "python",
   "nbconvert_exporter": "python",
   "pygments_lexer": "ipython3",
   "version": "3.9.8"
  }
 },
 "nbformat": 4,
 "nbformat_minor": 2
}
