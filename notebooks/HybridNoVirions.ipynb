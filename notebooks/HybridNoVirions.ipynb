{
 "cells": [
  {
   "cell_type": "code",
   "execution_count": 1,
   "id": "5675700c-c422-4ba8-b199-8a0bfbe1c772",
   "metadata": {},
   "outputs": [],
   "source": [
    "import matlab.engine\n",
    "import numpy as np\n",
    "import scipy.optimize"
   ]
  },
  {
   "cell_type": "markdown",
   "id": "1c6f560a-0742-42f2-b440-db5f25398dcf",
   "metadata": {},
   "source": [
    "# Trial and pd parameters"
   ]
  },
  {
   "cell_type": "code",
   "execution_count": 2,
   "id": "6079bca2-965a-4f9c-aae6-c4fac02eab65",
   "metadata": {},
   "outputs": [],
   "source": [
    "# trial and adherence information\n",
    "drug = \"DTG\"\n",
    "\n",
    "days = np.double(40) #days to run trial for\n",
    "increment = 0.01 # days between each timepoint returned\n",
    "prob_adh = 0.5 if drug != 'TEST' else 0. # probability of taking each pill (independent)\n",
    "adh_pat = 0 # 0 = random prob for each dose, 1 = random prob each day after missed dose\n",
    "adh_shuff = np.double(0.) # standard deviation in the time of taking a pill vs scheduled (days)\n",
    "trial_type = 1 # 1 = suppression trial, 0=maintenance trial\n",
    "burnin = 7*5 # days before interval sampling begins in maintenance trials\n",
    "sampling_int = 28 # days between each sampling time in maintenance trials\n",
    "threshold = 200 # threshold viral load above which failure is declared\n",
    "mut_frac = 0.2 # threshold fraction of population of mutant above which declared failure via resistance"
   ]
  },
  {
   "cell_type": "markdown",
   "id": "592ef267-fc11-4998-81ed-6ad823f54d1e",
   "metadata": {},
   "source": [
    "## Use existing matlab scripts to calculate concentration(t)"
   ]
  },
  {
   "cell_type": "code",
   "execution_count": 3,
   "id": "c498d0f9-a740-4c97-91f7-fed80bd50f98",
   "metadata": {},
   "outputs": [],
   "source": [
    "eng = matlab.engine.start_matlab()\n",
    "eng.cd(r'~/develop/withinhostHIV/MatlabCode/', nargout=0)\n",
    "eng.eval(\"addpath('Parameters','Utilities')\", nargout=0)"
   ]
  },
  {
   "cell_type": "code",
   "execution_count": 4,
   "id": "37b6125f-fda7-4852-a824-713f6640cb0d",
   "metadata": {},
   "outputs": [],
   "source": [
    "eng.workspace[\"drug\"] = drug\n",
    "trial, pd = eng.trial_setup(eng.eval(\"drug\"), days, increment, prob_adh, adh_pat, adh_shuff, trial_type, burnin, sampling_int, threshold, mut_frac, nargout=2)\n",
    "eng.workspace[\"trial\"] = trial\n",
    "eng.workspace[\"pd\"] = pd"
   ]
  },
  {
   "cell_type": "code",
   "execution_count": 5,
   "id": "a0e8428c-ca25-447c-a545-43a662082f6b",
   "metadata": {},
   "outputs": [],
   "source": [
    "dose_t, _ = eng.adh_trajectory(eng.eval(\"pd.num_doses\"), trial, nargout=2)"
   ]
  },
  {
   "cell_type": "code",
   "execution_count": 6,
   "id": "88334de5-4741-4520-9ce0-e77f5c9c2840",
   "metadata": {},
   "outputs": [],
   "source": [
    "c_vec,inhib_vec = eng.drug_trajectory(pd, trial, dose_t, nargout=2)"
   ]
  },
  {
   "cell_type": "markdown",
   "id": "32a12d00-8116-4bbc-ac2b-d681138c3eb9",
   "metadata": {},
   "source": [
    "## Use existing matlab scripts to calculate mutation matrix Q"
   ]
  },
  {
   "cell_type": "code",
   "execution_count": 7,
   "id": "e3272a44-5d7d-404b-ab2c-36bf768b303e",
   "metadata": {},
   "outputs": [],
   "source": [
    "smin=0.05 #highest mutant fitness\n",
    "smax=0.9 #lowest mutant fitness\n",
    "smiss=0.05 #fitness of strains with missing cost\n",
    "rfmiss=1 #fold change in resistance for strains with it missing\n",
    "mfmiss=0 #fractional change in slope for strains with it missing\n",
    "back_mutation_on = drug != 'TEST' #include(1) or exclude(0) back mutation\n",
    "direct_multi_hit = drug != 'TEST' #include(1) or exclude(0) direct multi-hit mutations from WT\n",
    "direct_multi_multi = drug != 'TEST' #include(1) or exclude(0) direct multi-hit mutations from one res strain to another"
   ]
  },
  {
   "cell_type": "code",
   "execution_count": 8,
   "id": "65178ab6-b5e6-48cf-9406-36ac4e2da4b5",
   "metadata": {},
   "outputs": [],
   "source": [
    "mparams,Q = eng.getMutInfo(drug,smin,smax,smiss,rfmiss,mfmiss,back_mutation_on,direct_multi_hit,direct_multi_multi,nargout=2);\n",
    "eng.workspace[\"Q\"] = Q\n",
    "Q = eng.eval(\"Q{:,:};\") # get a matrix instead of a matlab table"
   ]
  },
  {
   "cell_type": "markdown",
   "id": "ddf60c79-0c9d-4d1b-a081-d95665a4355e",
   "metadata": {},
   "source": [
    "## Viral dynamics parameters"
   ]
  },
  {
   "cell_type": "code",
   "execution_count": 9,
   "id": "4051971b-ffec-4e21-9844-a67bb3f66412",
   "metadata": {},
   "outputs": [],
   "source": [
    "R00 = 10.0 # average number of new virions produced by infection with a single virion === average number of new infected cells produced by 1 infected cell\n",
    "fbp = 0.55 # fraction of blood that is plasma\n",
    "Vpl = 3*10e3 # volume of plasma in mL\n",
    "ftcell_pl = 0.02 # fraction of T cells that are circulating in blood (vs in lymph system)\n",
    "hl_lr = 44*30.5 # half life of decay of latent reservoir, days\n",
    "A = 100 # total reactivation of latent cells per day\n",
    "flr = 1e-6# fraction of CD4 T cells that are latently infected at equilibrium\n",
    "\n",
    "scale_cd4_body = (Vpl*10**3)/(fbp*ftcell_pl) # factor to go from T cell per ul blood to whole body\n",
    "\n",
    "fa = .01 # fraction of infected CD4 cells that support productive vs abortive infection\n",
    "dx = 0.05 # death rate of uninfected cells (per day) and by assumption dx == d, rate of death without viral cytolytic effects\n",
    "L = scale_cd4_body*1000*dx # uninfected cells produced per day (/ul)\n",
    "a = A/(flr*L/dx) # rate of exit of latent cells (per day)\n",
    "dz = np.log(2)/(hl_lr)-a # death rate of latently infected cells (per day)\n",
    "\n",
    "dy = 1 # TOTAL death rate of infected cells (per day) (=death due to burst (k) + death without viral cytolytic effects)\n",
    "k = dy-dx # rate of death+emission of a burst of virions (per day)\n",
    "p_est = 4.2e-4\n",
    "N = scipy.optimize.least_squares(lambda N: R00*(1-(1-p_est)**N) - N*p_est, 100000, bounds=(10.0, np.inf))\n",
    "assert(N.success)\n",
    "N = N.x\n",
    "assert(N > R00)\n",
    "\n",
    "c = 23.04 # clearance of virions (per day) Ramratnam et al. Lancet 1999 [calculated as average over the 4 patients]\n",
    "dv = c # APPROXIMATION\n",
    "beta = R00 * dx * dy * dv / (L * (fa) * k * N)\n",
    "# b = production of eclipsed cells in the v-steady model (which assumes \\beta*X << c)\n",
    "b = (k*N/c)*beta\n",
    "\n",
    "# b *= fa\n",
    "\n",
    "g = flr*dy/dx*(a+dz)/(fa*(1-1/R00)) # fraction of new infections that become latent\n",
    "\n",
    "m = 1.0 # combined rate of maturation + death of eclipsed cells [right now not drawn from any source]"
   ]
  },
  {
   "cell_type": "code",
   "execution_count": 10,
   "id": "299ae2bd-4560-420f-9068-d7649069696f",
   "metadata": {},
   "outputs": [],
   "source": [
    "# Access matlab parameters\n",
    "eng.workspace[\"mparams\"] = mparams\n",
    "IC50 = eng.eval('pd.IC50')\n",
    "m = eng.eval('pd.m')\n",
    "cost = eng.eval('mparams.cost')\n",
    "rf = eng.eval('mparams.rf')\n",
    "mf = eng.eval('mparams.mf')\n",
    "msb = np.asarray(eng.eval(\"mparams.msb\"))\n",
    "t_vec = eng.eval('(0:trial.increment:trial.days);')\n"
   ]
  },
  {
   "cell_type": "markdown",
   "id": "031eef2d-5b82-402d-a878-09dbcd846535",
   "metadata": {},
   "source": [
    "## Check beta(t) (from matlab) against beta(t) (from python)"
   ]
  },
  {
   "cell_type": "code",
   "execution_count": null,
   "id": "93602eee",
   "metadata": {},
   "outputs": [],
   "source": [
    "# REASSIGN SO THAT BETA -> B for calculations below\n",
    "beta = b\n",
    "beta"
   ]
  },
  {
   "cell_type": "code",
   "execution_count": null,
   "id": "2581cece",
   "metadata": {},
   "outputs": [],
   "source": [
    "IC50, m"
   ]
  },
  {
   "cell_type": "code",
   "execution_count": 13,
   "id": "b7345288-5811-483e-90ff-f8e4cb8c5251",
   "metadata": {},
   "outputs": [],
   "source": [
    "_beta_t, _beta_u_t = eng.calculate_beta_of_t(t_vec, beta, c_vec, IC50, m, cost, rf, mf, eng.eval('height(mparams)'), nargout=2)"
   ]
  },
  {
   "cell_type": "code",
   "execution_count": 14,
   "id": "2153e0fa-56b6-4c3a-a272-ceba01723136",
   "metadata": {},
   "outputs": [],
   "source": [
    "from numba import jit\n",
    "\n",
    "@jit(nopython=True)\n",
    "def calculate_beta_t(beta_0, concentration, IC50, m, cost, rf, mf):\n",
    "    # B/[cost * (1 + concentration)/(IC50*rf)^(m*(1+mf))]\n",
    "    B = beta_0\n",
    "    denominator = cost * (1 + (concentration/(IC50*rf))**(m*(1+mf)))\n",
    "    return B/denominator\n",
    "\n",
    "# make sure we didn't mess up our function definition\n",
    "assert(np.allclose(calculate_beta_t(beta, np.asarray(c_vec), IC50, m, np.asarray(cost).T, np.asarray(rf).T, np.asarray(mf).T), np.asarray(_beta_u_t)))\n",
    "assert(np.allclose(calculate_beta_t(beta, np.asarray(c_vec), IC50, m, 1, 1, 1), np.asarray(_beta_t)))\n",
    "\n",
    "beta_u_t = calculate_beta_t(beta, np.asarray(c_vec), IC50, m, np.asarray(cost).T, np.asarray(rf).T, np.asarray(mf).T)\n",
    "beta_t   = calculate_beta_t(beta, np.asarray(c_vec), IC50, m, 1, 1, 1)\n",
    "\n",
    "beta_t = np.concatenate([beta_t, beta_u_t], axis=1)\n",
    "t_vec = np.asarray(t_vec).squeeze()\n",
    "dose_t = np.asarray(dose_t).T.squeeze()"
   ]
  },
  {
   "cell_type": "code",
   "execution_count": 15,
   "id": "79c80beb-1691-49a6-bf1d-09641ae3a3b0",
   "metadata": {},
   "outputs": [],
   "source": [
    "sampled_concentration = np.asarray(c_vec)\n",
    "\n",
    "increment = eng.eval('trial.increment')\n",
    "\n",
    "# closed around parameters\n",
    "# pulls the nearest beta pre-calculated to the left of the current time\n",
    "@jit(nopython=True)\n",
    "def discrete_beta_of_t(t):\n",
    "    # last time where beta was precalculated *before* t\n",
    "    # specifically want *before* t so that we don't look ahead while integrating past a discontinuity\n",
    "    t_discrete = int(np.floor(t/increment))\n",
    "    return beta_t[t_discrete]\n",
    "\n",
    "Q = np.asarray(Q)\n",
    "@jit(nopython=True)\n",
    "def force_of_infection(t):\n",
    "    beta = discrete_beta_of_t(t)\n",
    "    # calculate force of infection and flatten in row major order, which will make the matrix\n",
    "    # read correctly in our 1-dimensional vector of rates\n",
    "    return (np.expand_dims(beta,1) * Q).flatten()\n",
    "\n",
    "@jit(nopython=True)\n",
    "def diminished_force_of_infection(t):\n",
    "    beta = discrete_beta_of_t(t) * (fa)\n",
    "    # calculate force of infection and flatten in row major order, which will make the matrix\n",
    "    # read correctly in our 1-dimensional vector of rates\n",
    "    return (np.expand_dims(beta,1) * Q).flatten()\n",
    "\n",
    "@jit(nopython=True)\n",
    "def combined_productive_unproductive_force_of_infection(t):\n",
    "    beta = discrete_beta_of_t(t)\n",
    "    beta_productive = beta * fa\n",
    "    beta_unproductive = beta * (1 - fa)\n",
    "\n",
    "    # calculate force of infection including mutation and flatten in row major order,\n",
    "    # which will make the matrix read correctly in our 1-dimensional vector of rates\n",
    "    productive_ks = (np.expand_dims(beta_productive,1) * Q).flatten()\n",
    "    # if we weren't in jit we would want:\n",
    "    # np.concatenate([productive_ks, unproductive_ks])\n",
    "    foi = np.zeros(len(productive_ks)+len(beta_unproductive))\n",
    "    foi[:len(productive_ks)] = productive_ks\n",
    "    # since unproductive infections don't produce new strains, we can ignore mutation\n",
    "    foi[len(productive_ks):] = beta_unproductive\n",
    "    return foi"
   ]
  },
  {
   "cell_type": "code",
   "execution_count": null,
   "id": "46894316",
   "metadata": {},
   "outputs": [],
   "source": [
    "combined_productive_unproductive_force_of_infection(0.0)"
   ]
  },
  {
   "cell_type": "code",
   "execution_count": null,
   "id": "785bf463",
   "metadata": {},
   "outputs": [],
   "source": [
    "((np.expand_dims(discrete_beta_of_t(0),1) * Q)).flatten()"
   ]
  },
  {
   "cell_type": "markdown",
   "id": "24d8ea42-ded0-4c79-b1b4-fb0afa790a19",
   "metadata": {},
   "source": [
    "TODO: triple check to make sure this is the right orientation of beta_i relative to Q"
   ]
  },
  {
   "cell_type": "markdown",
   "id": "63614fb1-fd62-4f0a-ab6d-17e9c3bf338e",
   "metadata": {},
   "source": [
    "# Define model"
   ]
  },
  {
   "cell_type": "code",
   "execution_count": null,
   "id": "6b17d2e1-2b8c-4954-982c-c9b5a5d4ecc4",
   "metadata": {},
   "outputs": [],
   "source": [
    "import reactionmodel.model as reactionmodel\n",
    "num_strains = beta_t.shape[1]\n",
    "num_strains"
   ]
  },
  {
   "cell_type": "code",
   "execution_count": null,
   "id": "7e22ea7e",
   "metadata": {},
   "outputs": [],
   "source": [
    "N*b*L/(dx*c) * (fa)"
   ]
  },
  {
   "cell_type": "code",
   "execution_count": 20,
   "id": "e79d2e57-4b9f-43dd-a8c1-a21efdfdc0c3",
   "metadata": {},
   "outputs": [],
   "source": [
    "ys = [reactionmodel.Species(f'Y{i}', f'infected cells strain {i}') for i in range(num_strains)]\n",
    "zs = [reactionmodel.Species(f'Z{i}', f'latent cells strain {i}', ) for i in range(num_strains)]\n",
    "ws = [reactionmodel.Species(f'W{i}', f'eclipsed cells strain {i}') for i in range(num_strains)]\n",
    "x = reactionmodel.Species(\"X\", \"target cells\")\n",
    "all_species = [x] + ys + ws + zs"
   ]
  },
  {
   "cell_type": "markdown",
   "id": "6dfa6787",
   "metadata": {},
   "source": [
    "A steady-state approximation for virus copies:\n",
    "\n",
    "$$ v = a \\cdot \\text{burst size} \\cdot y / u $$\n",
    "\n",
    "$$ \\text{burst size} = kN / a $$"
   ]
  },
  {
   "cell_type": "code",
   "execution_count": 21,
   "id": "79af04a2-9398-4114-b112-29193bd0ce5c",
   "metadata": {},
   "outputs": [],
   "source": [
    "target_cell_birth = reactionmodel.Reaction([], [x], description=\"target cell birth\", k=L)\n",
    "target_cell_death = reactionmodel.Reaction([x], [], description=\"target cell death\", k=dx)\n",
    "\n",
    "infected_death = [reactionmodel.Reaction([ys[i]], [], description=f\"death of infected cell strain {i}\", k=(dy)) for i in range(num_strains)]\n",
    "into_latency = [reactionmodel.Reaction([ys[i]], [zs[i]], description=f\"strain {i} --> latency\", k=g) for i in range(num_strains)]\n",
    "out_of_latency = [reactionmodel.Reaction([zs[i]], [ys[i]], description=f\"latent --> strain {i}\", k=a) for i in range(num_strains)]\n",
    "death_of_latent = [reactionmodel.Reaction([zs[i]], [], description=f\"latent {i} death\", k=dz) for i in range(num_strains)]\n",
    "\n",
    "# INCLUDE FACTOR OF FA BELOW IF MODELING UNPRODUCTIVELY INFECTED ECLIPSED CELLS\n",
    "maturation_of_eclipse = [reactionmodel.Reaction([ws[i]], [ys[i]], description=f\"productive maturation of strain {i} eclipsed\", k=m) for i in range(num_strains)]\n",
    "\n",
    "#eclipse_death = [reactionmodel.Reaction([ws[i]], [], description=f\"death of strain {i} eclipsed\", k=m*(1-fa)) for i in range(num_strains)]\n"
   ]
  },
  {
   "cell_type": "code",
   "execution_count": 22,
   "id": "f7a13ad3",
   "metadata": {},
   "outputs": [],
   "source": [
    "productive_infections = []\n",
    "unproductive_infections = []\n",
    "for i in range(num_strains):\n",
    "    unproductive_infections.append(reactionmodel.Reaction([x, ys[i]], [ys[i]], description=f\"unproductive infection of x by {i}->empty set\"))\n",
    "    for j in range(num_strains):\n",
    "        productive_infections.append(reactionmodel.Reaction([x, ys[i]], [ys[i], ws[j]], description=f\"productive infection of x by {i}->{j}\"))\n",
    "\n",
    "infection_family = reactionmodel.ReactionRateFamily(productive_infections + unproductive_infections, k=combined_productive_unproductive_force_of_infection)"
   ]
  },
  {
   "cell_type": "code",
   "execution_count": 23,
   "id": "7050830c",
   "metadata": {},
   "outputs": [],
   "source": [
    "infections = []\n",
    "for i in range(num_strains):\n",
    "    for j in range(num_strains):\n",
    "        infections.append(reactionmodel.Reaction([x, ys[i]], [ys[i], ws[j]], description=f\"infection of x by {i}->{j}\"))\n",
    "\n",
    "# UNCOMMENT TO REVERT MODEL CHANGES\n",
    "#infection_family = reactionmodel.ReactionRateFamily(infections, k=diminished_force_of_infection)\n",
    "\n",
    "\n",
    "all_reactions = [target_cell_birth, target_cell_death] + infected_death + into_latency + out_of_latency + death_of_latent + maturation_of_eclipse + [infection_family]"
   ]
  },
  {
   "cell_type": "code",
   "execution_count": null,
   "id": "20336e03-3047-4244-bd4c-637d034bd9d1",
   "metadata": {},
   "outputs": [],
   "source": [
    "model = reactionmodel.Model(all_species, all_reactions)\n",
    "len(model.all_reactions)"
   ]
  },
  {
   "cell_type": "markdown",
   "id": "50fd49ef-72f3-4705-9614-cacd5ae5b91d",
   "metadata": {},
   "source": [
    "# Run forward simulation"
   ]
  },
  {
   "cell_type": "code",
   "execution_count": 25,
   "id": "258360e6-7460-4f70-839d-5f2e8c061e26",
   "metadata": {},
   "outputs": [],
   "source": [
    "from hybrid.hybrid import HybridSimulator, FixedThresholdPartitioner, NThresholdPartitioner"
   ]
  },
  {
   "cell_type": "code",
   "execution_count": null,
   "id": "8e5015a9",
   "metadata": {},
   "outputs": [],
   "source": [
    "ys"
   ]
  },
  {
   "cell_type": "code",
   "execution_count": 27,
   "id": "3b14195b-be1e-4876-a9b5-6e18143b2f18",
   "metadata": {},
   "outputs": [],
   "source": [
    "extra_discontinuities = list(np.linspace(0.0,40.0,400))\n",
    "extra_discontinuities = []\n",
    "\n",
    "y0 = np.zeros(len(all_species))\n",
    "y0[model.species_index[x]] = (L/dx/R00)\n",
    "\n",
    "expanded_msb = np.squeeze(np.vstack([np.array([1]), msb]))\n",
    "y0[model.species_index[ys[0]] : model.species_index[ys[-1]] + 1] = fa*(1-1/R00)*L/dy * expanded_msb\n",
    "y0[model.species_index[zs[0]] : model.species_index[zs[-1]] + 1] = y0[model.species_index[ys[0]] : model.species_index[ys[-1]] + 1] * g/(a+dz)\n",
    "y0[model.species_index[ws[0]] : model.species_index[ws[-1]] + 1] = y0[model.species_index[ys[0]] : model.species_index[ys[-1]] + 1] * y0[model.species_index[x]] * b * fa / (m)"
   ]
  },
  {
   "cell_type": "code",
   "execution_count": null,
   "id": "6de49cec",
   "metadata": {},
   "outputs": [],
   "source": [
    "y0[model.species_index[x]]"
   ]
  },
  {
   "cell_type": "code",
   "execution_count": null,
   "id": "697d3632",
   "metadata": {},
   "outputs": [],
   "source": [
    "fa*(1-1/R00)*L/dy"
   ]
  },
  {
   "cell_type": "markdown",
   "id": "2db89e01",
   "metadata": {},
   "source": [
    "## N specimen partitioning"
   ]
  },
  {
   "cell_type": "code",
   "execution_count": 30,
   "id": "294d7d9e",
   "metadata": {},
   "outputs": [],
   "source": [
    "# the adherence pattern and hence the R0s is being determined in matlab before any of this code runs,\n",
    "# so don't be scared if trajectories look almost identical with different seeds in python\n",
    "\n",
    "simulator = HybridSimulator(\n",
    "    model.get_k(jit=True),\n",
    "    model.stoichiometry(),\n",
    "    model.kinetic_order(),\n",
    "    NThresholdPartitioner(100),\n",
    "    discontinuities=np.sort(np.array(list(dose_t)+extra_discontinuities)),\n",
    "    fast_scale='langevin',\n",
    "    approximate_rtot=True,\n",
    "    contrived_no_reaction_rate=20.0,\n",
    "    jit=True,\n",
    "    species_labels=[s.name for s in model.species],\n",
    "    pathway_labels=[r.description for r in model.all_reactions]\n",
    ")"
   ]
  },
  {
   "cell_type": "code",
   "execution_count": null,
   "id": "cbfa5a03",
   "metadata": {},
   "outputs": [],
   "source": [
    "rng = np.random.default_rng(0)\n",
    "result = simulator.simulate([0, 40.0], y0, rng)"
   ]
  },
  {
   "cell_type": "code",
   "execution_count": null,
   "id": "72ae4ac7",
   "metadata": {},
   "outputs": [],
   "source": [
    "result.status_counter"
   ]
  },
  {
   "cell_type": "code",
   "execution_count": null,
   "id": "71f52b6e",
   "metadata": {},
   "outputs": [],
   "source": [
    "result.pathway_counter"
   ]
  },
  {
   "cell_type": "code",
   "execution_count": null,
   "id": "3bbbe625",
   "metadata": {},
   "outputs": [],
   "source": [
    "labs = [r.description for r in model.all_reactions]\n",
    "\n",
    "labs[352]"
   ]
  },
  {
   "cell_type": "code",
   "execution_count": null,
   "id": "eb77542e-0074-4fad-b506-746d5f67e222",
   "metadata": {},
   "outputs": [],
   "source": [
    "import matplotlib.pyplot as plt\n",
    "\n",
    "mnames = list(np.asarray(eng.eval('mparams.Properties.RowNames')))\n",
    "\n",
    "plt.figure()\n",
    "plt.plot(result.t_history, result.y_history[0].T/scale_cd4_body, label='x')\n",
    "plt.yscale('linear')\n",
    "plt.ylabel('uninfected CD4 cells (cells/uL)')\n",
    "plt.xlabel('t')\n",
    "plt.legend()\n",
    "plt.ylim([0, 1025])\n",
    "\n",
    "plt.figure()\n",
    "plt.plot(result.t_history, result.y_history[0].T, label='x')\n",
    "plt.yscale('log')\n",
    "plt.ylabel('total uninfected CD4 cells')\n",
    "plt.xlabel('t')\n",
    "plt.legend()\n",
    "plt.ylim([1, 1e14])\n",
    "\n",
    "plt.figure()\n",
    "plt.plot(result.t_history, result.y_history[1:1+len(ys)].T, label=['wildtype']+mnames)\n",
    "plt.yscale('log')\n",
    "plt.ylabel('total infected cells')\n",
    "plt.xlabel('t')\n",
    "plt.legend()\n",
    "plt.ylim([1, 1e13])\n",
    "\n",
    "plt.figure()\n",
    "plt.plot(result.t_history, result.y_history[model.species_index[ws[0]]:model.species_index[ws[-1]]+1].T, label=['wildtype']+mnames)\n",
    "plt.yscale('log')\n",
    "plt.ylabel('total eclipse cells')\n",
    "plt.xlabel('t')\n",
    "plt.legend()\n",
    "plt.ylim([1, 1e12])\n",
    "\n",
    "plt.figure()\n",
    "plt.plot(result.t_history, result.y_history[model.species.index(ys[0]):model.species.index(ys[-1])+1].T*k*N/c/Vpl/1000, label=['wildtype']+mnames)\n",
    "plt.yscale('log')\n",
    "plt.ylabel('virions (copies/mL plasma)')\n",
    "plt.xlabel('t')\n",
    "plt.legend()\n",
    "plt.ylim([1e-3, 1e7])\n",
    "\n",
    "plt.figure()\n",
    "plt.plot(t_vec, beta_t*R00/beta, label=['wildtype']+mnames)\n",
    "plt.legend()\n",
    "plt.ylabel('R_u')\n",
    "plt.xlabel('t')\n",
    "plt.yscale('linear')\n",
    "\n",
    "plt.figure()\n",
    "plt.plot(result.t_history, result.y_history[model.species.index(zs[0]):model.species.index(zs[-1])+1].T*(10**6)/(L/dx), label=['wildtype']+mnames)\n",
    "plt.yscale('log')\n",
    "plt.ylabel('LR size(per 10^6 baseline CD4)')\n",
    "plt.xlabel('t')\n",
    "plt.legend()\n",
    "plt.ylim([1e-7, 10e2])"
   ]
  },
  {
   "cell_type": "markdown",
   "id": "73088f30",
   "metadata": {},
   "source": [
    "## Tau leaping"
   ]
  },
  {
   "cell_type": "code",
   "execution_count": 36,
   "id": "d704c702",
   "metadata": {},
   "outputs": [],
   "source": [
    "from hybrid.tau import TauLeapSimulator\n",
    "\n",
    "t_simulator = TauLeapSimulator(\n",
    "    model.get_k(jit=True),\n",
    "    model.stoichiometry(),\n",
    "    model.kinetic_order(),\n",
    "    discontinuities=dose_t,\n",
    "    jit=True,\n",
    "    species_labels=[s.name for s in model.species],\n",
    "    pathway_labels=[r.description for r in model.all_reactions],\n",
    "    epsilon=0.01,\n",
    "    time_handling='inhomogeneous_monotonic_homogeneous_gillespie',\n",
    "    #species_creation_is_critical=True,\n",
    ")"
   ]
  },
  {
   "cell_type": "code",
   "execution_count": null,
   "id": "8a03b12a",
   "metadata": {},
   "outputs": [],
   "source": [
    "t_simulator = TauLeapSimulator(\n",
    "    model.get_k(jit=True),\n",
    "    model.stoichiometry(),\n",
    "    model.kinetic_order(),\n",
    "    discontinuities=dose_t,\n",
    "    jit=True,\n",
    "    species_labels=[s.name for s in model.species],\n",
    "    pathway_labels=[r.description for r in model.all_reactions],\n",
    "    epsilon=0.01,\n",
    "    time_handling='homogeneous',\n",
    "    method='implicit'\n",
    "    #species_creation_is_critical=True,\n",
    ")"
   ]
  },
  {
   "cell_type": "code",
   "execution_count": null,
   "id": "cbd08d76",
   "metadata": {},
   "outputs": [],
   "source": [
    "rng = np.random.default_rng(0)\n",
    "result = t_simulator.simulate([0.0, 40.0], y0, rng)"
   ]
  },
  {
   "cell_type": "code",
   "execution_count": null,
   "id": "e037bd4b",
   "metadata": {},
   "outputs": [],
   "source": [
    "result.status_counter"
   ]
  },
  {
   "cell_type": "code",
   "execution_count": 31,
   "id": "9fce77d4",
   "metadata": {},
   "outputs": [],
   "source": [
    "%load_ext jupyterflame"
   ]
  },
  {
   "cell_type": "code",
   "execution_count": null,
   "id": "7de96acd",
   "metadata": {},
   "outputs": [],
   "source": [
    "%%flame\n",
    "rng = np.random.default_rng(0)\n",
    "t_simulator.simulate([0, 40.0], y0, rng)"
   ]
  },
  {
   "cell_type": "code",
   "execution_count": null,
   "id": "68f2ad52",
   "metadata": {},
   "outputs": [],
   "source": [
    "result.status_counter"
   ]
  },
  {
   "cell_type": "code",
   "execution_count": null,
   "id": "ca6a2a7d",
   "metadata": {},
   "outputs": [],
   "source": [
    "taus = [result.t_history[i+1] - result.t_history[i] for i in range(len(result.t_history)-1)]\n",
    "plt.hist(taus)"
   ]
  },
  {
   "cell_type": "code",
   "execution_count": null,
   "id": "de9208c3",
   "metadata": {},
   "outputs": [],
   "source": [
    "import matplotlib.pyplot as plt\n",
    "\n",
    "mnames = list(np.asarray(eng.eval('mparams.Properties.RowNames')))\n",
    "\n",
    "plt.figure()\n",
    "plt.plot(result.t_history, result.y_history[0].T/scale_cd4_body, label='x')\n",
    "plt.yscale('linear')\n",
    "plt.ylabel('uninfected CD4 cells (cells/uL)')\n",
    "plt.xlabel('t')\n",
    "plt.legend()\n",
    "plt.ylim([0, 1025])\n",
    "\n",
    "plt.figure()\n",
    "plt.plot(result.t_history, result.y_history[0].T, label='x')\n",
    "plt.yscale('log')\n",
    "plt.ylabel('total uninfected CD4 cells')\n",
    "plt.xlabel('t')\n",
    "plt.legend()\n",
    "plt.ylim([1, 1e14])\n",
    "\n",
    "plt.figure()\n",
    "plt.plot(result.t_history, result.y_history[1:1+len(ys)].T, label=['wildtype']+mnames)\n",
    "plt.yscale('log')\n",
    "plt.ylabel('total infected cells')\n",
    "plt.xlabel('t')\n",
    "plt.legend()\n",
    "plt.ylim([1, 1e9])\n",
    "\n",
    "plt.figure()\n",
    "plt.plot(result.t_history, result.y_history[model.species_index[ws[0]]:model.species_index[ws[-1]]+1].T, label=['wildtype']+mnames)\n",
    "plt.yscale('log')\n",
    "plt.ylabel('total eclipse cells')\n",
    "plt.xlabel('t')\n",
    "plt.legend()\n",
    "plt.ylim([1, 1e12])\n",
    "\n",
    "plt.figure()\n",
    "plt.plot(result.t_history, result.y_history[model.species.index(ys[0]):model.species.index(ys[-1])+1].T*k*N/c/Vpl/1000, label=['wildtype']+mnames)\n",
    "plt.yscale('log')\n",
    "plt.ylabel('virions (copies/mL plasma)')\n",
    "plt.xlabel('t')\n",
    "plt.legend()\n",
    "plt.ylim([1e-3, 1e7])\n",
    "\n",
    "plt.figure()\n",
    "plt.plot(t_vec, beta_t*R00/beta, label=['wildtype']+mnames)\n",
    "plt.legend()\n",
    "plt.ylabel('R_u')\n",
    "plt.xlabel('t')\n",
    "plt.yscale('linear')\n",
    "\n",
    "plt.figure()\n",
    "plt.plot(result.t_history, result.y_history[model.species.index(zs[0]):model.species.index(zs[-1])+1].T*(10**6)/(L/dx), label=['wildtype']+mnames)\n",
    "plt.yscale('log')\n",
    "plt.ylabel('LR size(per 10^6 baseline CD4)')\n",
    "plt.xlabel('t')\n",
    "plt.legend()\n",
    "plt.ylim([1e-7, 10e2])"
   ]
  }
 ],
 "metadata": {
  "kernelspec": {
   "display_name": "Python 3 (ipykernel)",
   "language": "python",
   "name": "python3"
  },
  "language_info": {
   "codemirror_mode": {
    "name": "ipython",
    "version": 3
   },
   "file_extension": ".py",
   "mimetype": "text/x-python",
   "name": "python",
   "nbconvert_exporter": "python",
   "pygments_lexer": "ipython3",
   "version": "3.9.8"
  }
 },
 "nbformat": 4,
 "nbformat_minor": 5
}
