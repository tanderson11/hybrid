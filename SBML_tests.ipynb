{
 "cells": [
  {
   "cell_type": "code",
   "execution_count": 1,
   "metadata": {},
   "outputs": [],
   "source": [
    "import reactionmodel.load\n",
    "import glob\n",
    "import os\n",
    "\n",
    "cwd = os.getcwd()"
   ]
  },
  {
   "cell_type": "code",
   "execution_count": 3,
   "metadata": {},
   "outputs": [],
   "source": [
    "test_dir = \"./tests/sbml-tests/\"\n",
    "tests = glob.glob(os.path.join(test_dir, 'sbml-*'))\n",
    "\n",
    "p = reactionmodel.msl.Parser()\n",
    "spefifications = []\n",
    "\n",
    "for test in tests:\n",
    "    model_path = os.path.join(test, 'model.txt')\n",
    "    for params_path in glob.glob(os.path.join(test, 'parameters', 'parameters*.txt')):\n",
    "        for config_path in glob.glob(os.path.join(test, 'configurations', 'config*.txt')):\n",
    "            for ic_path in glob.glob(os.path.join(test, 'initial_conditions', 'initial*.txt')):\n",
    "                specification = reactionmodel.load.load_specification(model_path, params_path, config_path, ic_path)\n",
    "                spefifications.append(specification)"
   ]
  },
  {
   "cell_type": "code",
   "execution_count": 11,
   "metadata": {},
   "outputs": [
    {
     "data": {
      "text/plain": [
       "{'lambda': 0.1, 'mu': 0.11}"
      ]
     },
     "execution_count": 11,
     "metadata": {},
     "output_type": "execute_result"
    }
   ],
   "source": [
    "parameters"
   ]
  },
  {
   "cell_type": "code",
   "execution_count": null,
   "metadata": {},
   "outputs": [],
   "source": []
  }
 ],
 "metadata": {
  "kernelspec": {
   "display_name": ".venv",
   "language": "python",
   "name": "python3"
  },
  "language_info": {
   "codemirror_mode": {
    "name": "ipython",
    "version": 3
   },
   "file_extension": ".py",
   "mimetype": "text/x-python",
   "name": "python",
   "nbconvert_exporter": "python",
   "pygments_lexer": "ipython3",
   "version": "3.9.8"
  }
 },
 "nbformat": 4,
 "nbformat_minor": 2
}
