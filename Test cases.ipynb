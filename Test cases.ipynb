{
 "cells": [
  {
   "cell_type": "code",
   "execution_count": null,
   "id": "d8437852-abc5-4040-8462-19ad2ef092a3",
   "metadata": {},
   "outputs": [],
   "source": [
    "import numpy as np\n",
    "from scipy.integrate import solve_ivp\n",
    "from typing import NamedTuple\n",
    "from dataclasses import dataclass\n",
    "from enum import IntEnum\n",
    "from typing import Callable\n",
    "import hybrid.hybrid as hybrid\n",
    "from statsmodels.stats import proportion"
   ]
  },
  {
   "cell_type": "markdown",
   "id": "13b6f341",
   "metadata": {},
   "source": [
    "# Birth death extinction probability"
   ]
  },
  {
   "cell_type": "markdown",
   "id": "e475d3bd",
   "metadata": {},
   "source": [
    "A simple birth death process where we measure the extinction probability."
   ]
  },
  {
   "cell_type": "code",
   "execution_count": null,
   "id": "f86992d4",
   "metadata": {},
   "outputs": [],
   "source": [
    "seed = None\n",
    "if seed is not None:\n",
    "    rng = np.random.default_rng(seed)\n",
    "else:\n",
    "    rng = np.random.default_rng()\n",
    "\n",
    "initial_pop = 10\n",
    "y0 = np.array([initial_pop])\n",
    "\n",
    "\n",
    "# each row of one of these matrices refers to a species\n",
    "N = np.array([\n",
    "    [1,-1]\n",
    "])\n",
    "rate_involvement_matrix = np.array([\n",
    "    [1,1]\n",
    "])\n",
    "\n",
    "birth_rate = 11\n",
    "death_rate = 10\n",
    "\n",
    "from numba import jit, float64\n",
    "from numba.types import Array\n",
    "\n",
    "@jit(Array(float64, 1, \"C\")(float64), nopython=True)\n",
    "def birth_death_rate_constants(t):\n",
    "    return np.array([birth_rate, death_rate]).astype(float64)\n",
    "\n",
    "options = {\n",
    "    'jit':True,\n",
    "    'approximate_rtot':True,\n",
    "    'contrived_no_reaction_rate':100.0,\n",
    "}"
   ]
  },
  {
   "cell_type": "code",
   "execution_count": null,
   "id": "ef4ad3bd",
   "metadata": {},
   "outputs": [],
   "source": [
    "extinctions = 0\n",
    "trials = 1000\n",
    "for i in range(trials):\n",
    "    result = hybrid.forward_time(y0, [0, 15.0], birth_death_rate_constants, N, rate_involvement_matrix, rng, partition_function=hybrid.FixedThresholdPartitioner(1000).partition_function, **options, discontinuities=[4.0])\n",
    "    extinctions += result.y[-1] == 0.0\n",
    "    print(\"i\", i, \"Extinctions:\", extinctions, \"extinction probability:\", extinctions/(i+1))\n",
    "    #break\n",
    "print(\"Observed exctinction probability:\", extinctions/(i+1), \"+/-\", proportion.proportion_confint(extinctions, trials, alpha=0.05, method='jeffreys'))\n",
    "print(\"Expected extinction probability:\", (1/(birth_rate/death_rate))**initial_pop)\n",
    "# expect 38.5%"
   ]
  },
  {
   "cell_type": "markdown",
   "id": "acdd3b35",
   "metadata": {},
   "source": [
    "The same as the last experiment with the addition of a high abundance species exponentially growing but decoupled from the birth death process. We check that the extinction probability is correct *and* that the exponential growth matches the analytic form."
   ]
  },
  {
   "cell_type": "code",
   "execution_count": null,
   "id": "357a1de0-eb88-4bd1-88ea-e83fba906c38",
   "metadata": {},
   "outputs": [],
   "source": [
    "seed = None\n",
    "if seed is not None:\n",
    "    rng = np.random.default_rng(seed)\n",
    "else:\n",
    "    rng = np.random.default_rng()\n",
    "\n",
    "initial_pop = 10\n",
    "y0 = np.array([10e10,initial_pop])\n",
    "\n",
    "# births and deaths: we have an irrelevant birth/death process for a large scale species (to test that our system is well isolated)\n",
    "# and a birth death process for a small-valued species\n",
    "\n",
    "# each row of one of these matrices refers to a species\n",
    "N = np.array([\n",
    "    [1,-1,0,0],\n",
    "    [0,0,1,-1]\n",
    "])\n",
    "rate_involvement_matrix = np.array([\n",
    "    [1,1,0,0],\n",
    "    [0,0,1,1]\n",
    "])\n",
    "\n",
    "birth_rate = 11\n",
    "death_rate = 10\n",
    "\n",
    "from numba import jit, float64\n",
    "from numba.types import Array\n",
    "\n",
    "@jit(Array(float64, 1, \"C\")(float64), nopython=True)\n",
    "def birth_death_rate_constants(t):\n",
    "    return np.array([1.1, 1.0, birth_rate, death_rate])"
   ]
  },
  {
   "cell_type": "code",
   "execution_count": null,
   "id": "6ed74a27-5e79-4a88-a329-e3d051fcf749",
   "metadata": {},
   "outputs": [],
   "source": [
    "extinctions = 0\n",
    "trials = 1000\n",
    "for i in range(trials):\n",
    "    result = hybrid.forward_time(y0, [0, 15.0], birth_death_rate_constants, N, rate_involvement_matrix, rng, partition_function=hybrid.FixedThresholdPartitioner(1000).partition_function, jit=True, discontinuities=[4.0])\n",
    "    extinctions += result.y[-1] == 0.0\n",
    "    print(\"i\", i, \"Extinctions:\", extinctions, \"extinction probability:\", extinctions/(i+1))\n",
    "    #break\n",
    "print(\"Observed exctinction probability:\", extinctions/(i+1), \"+/-\", proportion.proportion_confint(extinctions, trials, alpha=0.05, method='jeffreys'))\n",
    "print(\"Expected extinction probability:\", (1/(birth_rate/death_rate))**initial_pop)\n",
    "# expect 38.5%"
   ]
  },
  {
   "cell_type": "code",
   "execution_count": null,
   "id": "b2622946",
   "metadata": {},
   "outputs": [],
   "source": [
    "print(\"Observed exctinction probability:\", 417/(1000), \"+/-\", proportion.proportion_confint(417, trials, alpha=0.05, method='jeffreys'))\n"
   ]
  },
  {
   "cell_type": "code",
   "execution_count": null,
   "id": "bab2085b-4bcc-4216-87b7-5b577a0f236c",
   "metadata": {},
   "outputs": [],
   "source": [
    "import matplotlib.pyplot as plt\n",
    "\n",
    "plt.scatter(result.t_history, result.y_history[0,:].T)\n",
    "plt.plot(result.t_history, y0[0] * np.exp(result.t_history * 0.1))\n",
    "plt.title(\"Deterministic exponential growth of plentiful species\")\n",
    "plt.legend(['Species count', 'analytic solution'])"
   ]
  },
  {
   "cell_type": "code",
   "execution_count": null,
   "id": "1017415b",
   "metadata": {},
   "outputs": [],
   "source": [
    "plt.plot(result.t_history, result.y_history[1,:].T)\n",
    "plt.ylim(0, 200)\n",
    "plt.title(\"Stochastic birth death process for scarce species\")"
   ]
  },
  {
   "cell_type": "markdown",
   "id": "aa2fc9cc",
   "metadata": {},
   "source": [
    "# Race to rescue"
   ]
  },
  {
   "cell_type": "code",
   "execution_count": null,
   "id": "92abc753",
   "metadata": {},
   "outputs": [],
   "source": [
    "seed = None\n",
    "if seed is not None:\n",
    "    rng = np.random.default_rng(seed)\n",
    "else:\n",
    "    rng = np.random.default_rng()\n",
    "\n",
    "y0 = np.array([\n",
    "    1e9, # target cells\n",
    "    1e2,  # wildtype infected cells\n",
    "    0,     # mutant infected cells\n",
    "])\n",
    "\n",
    "# it's more natural to write down the reactions and then transpose (so that the rows of the final matrix refer to a species and the columns refer to reactions)\n",
    "N = np.array([\n",
    "    [1,0,0], # birth target cell\n",
    "    [0,-1,0], # death of wildtype\n",
    "    [0,0,-1], # death of mutant\n",
    "    [-1,1,0], # infection --> new wildtypes (by wildtype)\n",
    "    [-1,0,1], # infection --> mutation into mutant (by wildtype)\n",
    "    [-1,0,1], # infection --> new mutants\n",
    "]).T\n",
    "\n",
    "rate_involvement_matrix = np.array([\n",
    "    [0,0,0],\n",
    "    [0,1,0],\n",
    "    [0,0,1],\n",
    "    [1,1,0],\n",
    "    [1,1,0],\n",
    "    [1,0,1],\n",
    "]).T\n",
    "\n",
    "b = 1001    # 0th order birth rate of target cells\n",
    "R0 = 0.8   # wildtype is dying out\n",
    "d  = 10    # death rate for wild type per day\n",
    "beta = R0 * d / (y0[0]) # beta derived from above two\n",
    "mu = 0.001 # rare mutations can save it\n",
    "dmu = 2 # mutant dies less\n",
    "Rmu = beta * y0[0] / dmu\n",
    "assert np.isclose(Rmu, R0 * d/dmu) # Rmu should be x times bigger where x is d/dmu\n",
    "\n",
    "def rescue_probability(R0, Rmu, mu, y0):\n",
    "    return 1 - np.exp((mu*R0*(1-1/Rmu)*y0[1])/(R0-1))\n",
    "\n",
    "@jit(nopython=True)\n",
    "def k_of_t(t):\n",
    "    return np.array([b, d, dmu, beta, beta*mu, beta])\n",
    "\n",
    "1 - rescue_probability(R0, Rmu, mu, y0)"
   ]
  },
  {
   "cell_type": "code",
   "execution_count": null,
   "id": "399c8c5e",
   "metadata": {},
   "outputs": [],
   "source": [
    "extinctions = 0\n",
    "for i in range(1000):\n",
    "    result = hybrid.forward_time(y0, [0, 15.0], k_of_t, N, rate_involvement_matrix, rng, partition_function=hybrid.FixedThresholdPartitioner(1000).partition_function)\n",
    "    extinctions += result.y[-1] == 0.0\n",
    "    print(\"i\", i, \"Exctinctions:\", extinctions, \"extinction probability:\", extinctions/(i+1))\n",
    "print(\"Expected extinction probability:\", 1-rescue_probability(R0, Rmu, mu, y0))"
   ]
  },
  {
   "cell_type": "code",
   "execution_count": null,
   "id": "24eb7cf1",
   "metadata": {},
   "outputs": [],
   "source": [
    "print(\"Expected extinction probability:\", 1-rescue_probability(R0, Rmu, mu, y0))"
   ]
  },
  {
   "cell_type": "code",
   "execution_count": null,
   "id": "cb10fe12",
   "metadata": {},
   "outputs": [],
   "source": [
    "fig, ax = plt.subplots(1,3)\n",
    "fig.set_size_inches(14, 5)\n",
    "ax[0].plot(result.t_history, result.y_history[1,:].T)\n",
    "ax[0].set_title(\"Constant death rate for wildtype\")\n",
    "\n",
    "ax[1].plot(result.t_history, result.y_history[2,:].T)\n",
    "ax[1].set_title(\"Mutant\")\n",
    "\n",
    "ax[2].plot(result.t_history, result.y_history[0,:].T)\n",
    "ax[2].set_title(\"Target cells\")"
   ]
  },
  {
   "cell_type": "code",
   "execution_count": null,
   "id": "d2f9ff4c",
   "metadata": {},
   "outputs": [],
   "source": [
    "result.y_history[:,-1]"
   ]
  },
  {
   "cell_type": "code",
   "execution_count": null,
   "id": "f3b57b79",
   "metadata": {},
   "outputs": [],
   "source": []
  }
 ],
 "metadata": {
  "kernelspec": {
   "display_name": "Python 3 (ipykernel)",
   "language": "python",
   "name": "python3"
  },
  "language_info": {
   "codemirror_mode": {
    "name": "ipython",
    "version": 3
   },
   "file_extension": ".py",
   "mimetype": "text/x-python",
   "name": "python",
   "nbconvert_exporter": "python",
   "pygments_lexer": "ipython3",
   "version": "3.9.8"
  }
 },
 "nbformat": 4,
 "nbformat_minor": 5
}
