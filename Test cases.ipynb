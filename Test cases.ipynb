{
 "cells": [
  {
   "cell_type": "code",
   "execution_count": 1,
   "id": "d8437852-abc5-4040-8462-19ad2ef092a3",
   "metadata": {},
   "outputs": [],
   "source": [
    "import numpy as np\n",
    "from scipy.integrate import solve_ivp\n",
    "from typing import NamedTuple\n",
    "from dataclasses import dataclass\n",
    "from enum import IntEnum\n",
    "from typing import Callable\n",
    "import hybrid"
   ]
  },
  {
   "cell_type": "markdown",
   "id": "13b6f341",
   "metadata": {},
   "source": [
    "# Birth death extinction probability"
   ]
  },
  {
   "cell_type": "code",
   "execution_count": 2,
   "id": "357a1de0-eb88-4bd1-88ea-e83fba906c38",
   "metadata": {},
   "outputs": [],
   "source": [
    "seed = None\n",
    "if seed is not None:\n",
    "    rng = np.random.default_rng(seed)\n",
    "else:\n",
    "    rng = np.random.default_rng()\n",
    "\n",
    "initial_pop = 10\n",
    "y0 = np.array([10e10,initial_pop])\n",
    "\n",
    "# births and deaths: we have an irrelevant birth/death process for a large scale species (to test that our system is well isolated)\n",
    "# and a birth death process for a small-valued species\n",
    "N = np.array([[1, -1,0,0],[0,0,1,-1]])\n",
    "rate_involvement_matrix = np.array([[1, 1,0,0],[0,0,1,1]])\n",
    "\n",
    "birth_rate = 11\n",
    "death_rate = 10\n",
    "\n",
    "from numba import jit, float64\n",
    "from numba.types import Array\n",
    "\n",
    "@jit(Array(float64, 1, \"C\")(float64), nopython=True)\n",
    "def birth_death_rate_constants(t):\n",
    "    return np.array([1.1, 1.0, birth_rate, death_rate])"
   ]
  },
  {
   "cell_type": "code",
   "execution_count": 5,
   "id": "6ed74a27-5e79-4a88-a329-e3d051fcf749",
   "metadata": {},
   "outputs": [
    {
     "name": "stdout",
     "output_type": "stream",
     "text": [
      "Jumping from 3.9999999999 to 4.000000000000001 to avoid discontinuity\n",
      "i 0 Exctinctions: 1 extinction probability: 1.0\n",
      "Expected extinction probability: 0.6144567105704684\n"
     ]
    }
   ],
   "source": [
    "extinctions = 0\n",
    "for i in range(1000):\n",
    "    result = hybrid.forward_time(y0, [0, 15.0], lambda p: hybrid.partition_by_threshold(p, 1000), birth_death_rate_constants, N, rate_involvement_matrix, rng, discontinuities=[4.0])\n",
    "    extinctions += result.y[-1] == 0.0\n",
    "    print(\"i\", i, \"Exctinctions:\", extinctions, \"extinction probability:\", extinctions/(i+1))\n",
    "    break\n",
    "print(\"Expected extinction probability:\", 1-(1/(birth_rate/death_rate))**initial_pop)\n",
    "# expect 38.5%"
   ]
  },
  {
   "cell_type": "code",
   "execution_count": 3,
   "id": "bab2085b-4bcc-4216-87b7-5b577a0f236c",
   "metadata": {},
   "outputs": [
    {
     "name": "stdout",
     "output_type": "stream",
     "text": [
      "[[1.00000000e+11 1.00000067e+11 1.00000741e+11 ... 1.51844892e+11\n",
      "  1.81227503e+11 4.48176457e+11]\n",
      " [1.00000000e+01 1.00000000e+01 1.00000000e+01 ... 0.00000000e+00\n",
      "  0.00000000e+00 0.00000000e+00]]\n"
     ]
    },
    {
     "data": {
      "text/plain": [
       "[<matplotlib.lines.Line2D at 0x11f7f7490>,\n",
       " <matplotlib.lines.Line2D at 0x11f7f74f0>]"
      ]
     },
     "execution_count": 3,
     "metadata": {},
     "output_type": "execute_result"
    },
    {
     "data": {
      "image/png": "[encoded data removed]",
      "text/plain": [
       "<Figure size 640x480 with 1 Axes>"
      ]
     },
     "metadata": {},
     "output_type": "display_data"
    }
   ],
   "source": [
    "print(result.y_history)\n",
    "import matplotlib.pyplot as plt\n",
    "\n",
    "plt.plot(result.t_history, result.y_history.T)"
   ]
  },
  {
   "cell_type": "markdown",
   "id": "aa2fc9cc",
   "metadata": {},
   "source": [
    "# Rescue mutant"
   ]
  },
  {
   "cell_type": "code",
   "execution_count": 4,
   "id": "92abc753",
   "metadata": {},
   "outputs": [
    {
     "data": {
      "text/plain": [
       "0.7408182206817178"
      ]
     },
     "execution_count": 4,
     "metadata": {},
     "output_type": "execute_result"
    }
   ],
   "source": [
    "seed = None\n",
    "if seed is not None:\n",
    "    rng = np.random.default_rng(seed)\n",
    "else:\n",
    "    rng = np.random.default_rng()\n",
    "\n",
    "y0 = np.array([\n",
    "    10e8, # target cells\n",
    "    10e1,  # wildtype infected cells\n",
    "    0,     # mutant infected cells\n",
    "])\n",
    "\n",
    "# it's more natural to think about the columns — because they are reactions — and then transpose\n",
    "N = np.array([\n",
    "    [0,-1,0], # death of wildtype\n",
    "    [0,0,-1], # death of mutant\n",
    "    [-1,1,0], # infection --> new wildtypes (by wildtype)\n",
    "    [-1,0,1], # infection --> mutation into mutant (by wildtype)\n",
    "    [-1,0,1], # infection --> new mutants\n",
    "]).T\n",
    "\n",
    "rate_involvement_matrix = np.array([\n",
    "    [0,1,0],\n",
    "    [0,0,1],\n",
    "    [1,1,0],\n",
    "    [1,1,0],\n",
    "    [1,0,1],\n",
    "]).T\n",
    "\n",
    "R0 = 0.8   # wildtype is dying out\n",
    "d  = 10    # death rate for wild type per day\n",
    "beta = R0 * d / (y0[0]) # beta derived from above two\n",
    "mu = 0.001 # rare mutations can save it\n",
    "dmu = 2 # mutant dies less\n",
    "Rmu = beta * y0[0] / dmu\n",
    "assert np.isclose(Rmu, R0 * d/dmu) # Rmu should be x times bigger where x is d/dmu\n",
    "\n",
    "def rescue_probability(R0, Rmu, mu, y0):\n",
    "    return 1 - np.exp((mu*R0*(1-1/Rmu)*y0[1])/(R0-1))\n",
    "\n",
    "def k_of_t(t):\n",
    "    return [d, dmu, beta, beta*mu, beta]\n",
    "\n",
    "1 - rescue_probability(R0, Rmu, mu, y0)"
   ]
  },
  {
   "cell_type": "code",
   "execution_count": 5,
   "id": "399c8c5e",
   "metadata": {},
   "outputs": [
    {
     "ename": "IndexError",
     "evalue": "index 0 is out of bounds for axis 0 with size 0",
     "output_type": "error",
     "traceback": [
      "\u001b[0;31m---------------------------------------------------------------------------\u001b[0m",
      "\u001b[0;31mIndexError\u001b[0m                                Traceback (most recent call last)",
      "Cell \u001b[0;32mIn[5], line 3\u001b[0m\n\u001b[1;32m      1\u001b[0m extinctions \u001b[38;5;241m=\u001b[39m \u001b[38;5;241m0\u001b[39m\n\u001b[1;32m      2\u001b[0m \u001b[38;5;28;01mfor\u001b[39;00m i \u001b[38;5;129;01min\u001b[39;00m \u001b[38;5;28mrange\u001b[39m(\u001b[38;5;241m1000\u001b[39m):\n\u001b[0;32m----> 3\u001b[0m     result \u001b[38;5;241m=\u001b[39m \u001b[43mhybrid\u001b[49m\u001b[38;5;241;43m.\u001b[39;49m\u001b[43mforward_time\u001b[49m\u001b[43m(\u001b[49m\u001b[43my0\u001b[49m\u001b[43m,\u001b[49m\u001b[43m \u001b[49m\u001b[43m[\u001b[49m\u001b[38;5;241;43m0\u001b[39;49m\u001b[43m,\u001b[49m\u001b[43m \u001b[49m\u001b[38;5;241;43m15.0\u001b[39;49m\u001b[43m]\u001b[49m\u001b[43m,\u001b[49m\u001b[43m \u001b[49m\u001b[38;5;28;43;01mlambda\u001b[39;49;00m\u001b[43m \u001b[49m\u001b[43mp\u001b[49m\u001b[43m:\u001b[49m\u001b[43m \u001b[49m\u001b[43mpartition_by_threshold\u001b[49m\u001b[43m(\u001b[49m\u001b[43mp\u001b[49m\u001b[43m,\u001b[49m\u001b[43m \u001b[49m\u001b[38;5;241;43m1000\u001b[39;49m\u001b[43m)\u001b[49m\u001b[43m,\u001b[49m\u001b[43m \u001b[49m\u001b[43mk_of_t\u001b[49m\u001b[43m,\u001b[49m\u001b[43m \u001b[49m\u001b[43mN\u001b[49m\u001b[43m,\u001b[49m\u001b[43m \u001b[49m\u001b[43mrate_involvement_matrix\u001b[49m\u001b[43m,\u001b[49m\u001b[43m \u001b[49m\u001b[43mrng\u001b[49m\u001b[43m)\u001b[49m\n\u001b[1;32m      4\u001b[0m     extinctions \u001b[38;5;241m+\u001b[39m\u001b[38;5;241m=\u001b[39m result\u001b[38;5;241m.\u001b[39my[\u001b[38;5;241m-\u001b[39m\u001b[38;5;241m1\u001b[39m] \u001b[38;5;241m==\u001b[39m \u001b[38;5;241m0.0\u001b[39m\n\u001b[1;32m      5\u001b[0m     \u001b[38;5;28mprint\u001b[39m(\u001b[38;5;124m\"\u001b[39m\u001b[38;5;124mi\u001b[39m\u001b[38;5;124m\"\u001b[39m, i, \u001b[38;5;124m\"\u001b[39m\u001b[38;5;124mExctinctions:\u001b[39m\u001b[38;5;124m\"\u001b[39m, extinctions, \u001b[38;5;124m\"\u001b[39m\u001b[38;5;124mextinction probability:\u001b[39m\u001b[38;5;124m\"\u001b[39m, extinctions\u001b[38;5;241m/\u001b[39mi)\n",
      "File \u001b[0;32m~/develop/hybrid-algorithm-scratch/hybrid.py:241\u001b[0m, in \u001b[0;36mforward_time\u001b[0;34m(y0, t_span, partition_function, k_of_t, N, rate_involvement_matrix, rng, discontinuities, events, simulation_options)\u001b[0m\n\u001b[1;32m    239\u001b[0m discontinuities \u001b[38;5;241m=\u001b[39m np\u001b[38;5;241m.\u001b[39msort(np\u001b[38;5;241m.\u001b[39marray(discontinuities))\n\u001b[1;32m    240\u001b[0m \u001b[38;5;66;03m# ignore a discontinuity at 0\u001b[39;00m\n\u001b[0;32m--> 241\u001b[0m \u001b[38;5;28;01mif\u001b[39;00m \u001b[43mdiscontinuities\u001b[49m\u001b[43m[\u001b[49m\u001b[38;5;241;43m0\u001b[39;49m\u001b[43m]\u001b[49m \u001b[38;5;241m==\u001b[39m \u001b[38;5;241m0\u001b[39m:\n\u001b[1;32m    242\u001b[0m     discontinuities \u001b[38;5;241m=\u001b[39m discontinuities[\u001b[38;5;241m1\u001b[39m:]\n\u001b[1;32m    243\u001b[0m n_stochastic \u001b[38;5;241m=\u001b[39m \u001b[38;5;241m0\u001b[39m\n",
      "\u001b[0;31mIndexError\u001b[0m: index 0 is out of bounds for axis 0 with size 0"
     ]
    }
   ],
   "source": [
    "extinctions = 0\n",
    "for i in range(1000):\n",
    "    result = hybrid.forward_time(y0, [0, 15.0], lambda p: partition_by_threshold(p, 1000), k_of_t, N, rate_involvement_matrix, rng)\n",
    "    extinctions += result.y[-1] == 0.0\n",
    "    print(\"i\", i, \"Exctinctions:\", extinctions, \"extinction probability:\", extinctions/i)\n",
    "print(\"Expected extinction probability:\", 1-rescue_probability(R0, Rmu, mu, y0))"
   ]
  },
  {
   "cell_type": "code",
   "execution_count": null,
   "id": "bd51ed73",
   "metadata": {},
   "outputs": [],
   "source": []
  }
 ],
 "metadata": {
  "kernelspec": {
   "display_name": "Python 3 (ipykernel)",
   "language": "python",
   "name": "python3"
  },
  "language_info": {
   "codemirror_mode": {
    "name": "ipython",
    "version": 3
   },
   "file_extension": ".py",
   "mimetype": "text/x-python",
   "name": "python",
   "nbconvert_exporter": "python",
   "pygments_lexer": "ipython3",
   "version": "3.9.8"
  }
 },
 "nbformat": 4,
 "nbformat_minor": 5
}
