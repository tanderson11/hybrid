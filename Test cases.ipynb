{
 "cells": [
  {
   "cell_type": "code",
   "execution_count": null,
   "id": "d8437852-abc5-4040-8462-19ad2ef092a3",
   "metadata": {},
   "outputs": [],
   "source": [
    "import numpy as np\n",
    "from scipy.integrate import solve_ivp\n",
    "from typing import NamedTuple\n",
    "from dataclasses import dataclass\n",
    "from enum import IntEnum\n",
    "from typing import Callable\n",
    "import hybrid"
   ]
  },
  {
   "cell_type": "markdown",
   "id": "13b6f341",
   "metadata": {},
   "source": [
    "# Birth death extinction probability"
   ]
  },
  {
   "cell_type": "code",
   "execution_count": null,
   "id": "357a1de0-eb88-4bd1-88ea-e83fba906c38",
   "metadata": {},
   "outputs": [],
   "source": [
    "seed = None\n",
    "if seed is not None:\n",
    "    rng = np.random.default_rng(seed)\n",
    "else:\n",
    "    rng = np.random.default_rng()\n",
    "\n",
    "initial_pop = 10\n",
    "y0 = np.array([10e10,initial_pop])\n",
    "\n",
    "# births and deaths: we have an irrelevant birth/death process for a large scale species (to test that our system is well isolated)\n",
    "# and a birth death process for a small-valued species\n",
    "N = np.array([[1, -1,0,0],[0,0,1,-1]])\n",
    "rate_involvement_matrix = np.array([[1, 1,0,0],[0,0,1,1]])\n",
    "\n",
    "birth_rate = 11\n",
    "death_rate = 10\n",
    "\n",
    "from numba import jit, float64\n",
    "from numba.types import Array\n",
    "\n",
    "@jit(Array(float64, 1, \"C\")(float64), nopython=True)\n",
    "def birth_death_rate_constants(t):\n",
    "    return np.array([1.1, 1.0, birth_rate, death_rate])"
   ]
  },
  {
   "cell_type": "code",
   "execution_count": null,
   "id": "6ed74a27-5e79-4a88-a329-e3d051fcf749",
   "metadata": {},
   "outputs": [],
   "source": [
    "extinctions = 0\n",
    "for i in range(1000):\n",
    "    result = hybrid.forward_time(y0, [0, 15.0], lambda p: hybrid.partition_by_threshold(p, 1000), birth_death_rate_constants, N, rate_involvement_matrix, rng, discontinuities=[4.0])\n",
    "    extinctions += result.y[-1] == 0.0\n",
    "    print(\"i\", i, \"Exctinctions:\", extinctions, \"extinction probability:\", extinctions/(i+1))\n",
    "    #break\n",
    "print(\"Expected extinction probability:\", 1-(1/(birth_rate/death_rate))**initial_pop)\n",
    "# expect 38.5%"
   ]
  },
  {
   "cell_type": "code",
   "execution_count": null,
   "id": "bab2085b-4bcc-4216-87b7-5b577a0f236c",
   "metadata": {},
   "outputs": [],
   "source": [
    "print(result.y_history)\n",
    "import matplotlib.pyplot as plt\n",
    "\n",
    "plt.plot(result.t_history, result.y_history.T)"
   ]
  },
  {
   "cell_type": "markdown",
   "id": "aa2fc9cc",
   "metadata": {},
   "source": [
    "# Rescue mutant"
   ]
  },
  {
   "cell_type": "code",
   "execution_count": null,
   "id": "92abc753",
   "metadata": {},
   "outputs": [],
   "source": [
    "seed = None\n",
    "if seed is not None:\n",
    "    rng = np.random.default_rng(seed)\n",
    "else:\n",
    "    rng = np.random.default_rng()\n",
    "\n",
    "y0 = np.array([\n",
    "    10e8, # target cells\n",
    "    10e1,  # wildtype infected cells\n",
    "    0,     # mutant infected cells\n",
    "])\n",
    "\n",
    "# it's more natural to write down the reactions and then transpose (so that the rows of the final matrix refer to a species and the columns refer to reactions)\n",
    "N = np.array([\n",
    "    [0,-1,0], # death of wildtype\n",
    "    [0,0,-1], # death of mutant\n",
    "    [-1,1,0], # infection --> new wildtypes (by wildtype)\n",
    "    [-1,0,1], # infection --> mutation into mutant (by wildtype)\n",
    "    [-1,0,1], # infection --> new mutants\n",
    "]).T\n",
    "\n",
    "rate_involvement_matrix = np.array([\n",
    "    [0,1,0],\n",
    "    [0,0,1],\n",
    "    [1,1,0],\n",
    "    [1,1,0],\n",
    "    [1,0,1],\n",
    "]).T\n",
    "\n",
    "R0 = 0.8   # wildtype is dying out\n",
    "d  = 10    # death rate for wild type per day\n",
    "beta = R0 * d / (y0[0]) # beta derived from above two\n",
    "mu = 0.001 # rare mutations can save it\n",
    "dmu = 2 # mutant dies less\n",
    "Rmu = beta * y0[0] / dmu\n",
    "assert np.isclose(Rmu, R0 * d/dmu) # Rmu should be x times bigger where x is d/dmu\n",
    "\n",
    "def rescue_probability(R0, Rmu, mu, y0):\n",
    "    return 1 - np.exp((mu*R0*(1-1/Rmu)*y0[1])/(R0-1))\n",
    "\n",
    "@jit(nopython=True)\n",
    "def k_of_t(t):\n",
    "    return np.array([d, dmu, beta, beta*mu, beta])\n",
    "\n",
    "1 - rescue_probability(R0, Rmu, mu, y0)"
   ]
  },
  {
   "cell_type": "code",
   "execution_count": null,
   "id": "399c8c5e",
   "metadata": {},
   "outputs": [],
   "source": [
    "extinctions = 0\n",
    "for i in range(1000):\n",
    "    result = hybrid.forward_time(y0, [0, 15.0], lambda p: hybrid.partition_by_threshold(p, 1000), k_of_t, N, rate_involvement_matrix, rng)\n",
    "    extinctions += result.y[-1] == 0.0\n",
    "    print(\"i\", i, \"Exctinctions:\", extinctions, \"extinction probability:\", extinctions/(i+1))\n",
    "print(\"Expected extinction probability:\", 1-rescue_probability(R0, Rmu, mu, y0))"
   ]
  }
 ],
 "metadata": {
  "kernelspec": {
   "display_name": "Python 3 (ipykernel)",
   "language": "python",
   "name": "python3"
  },
  "language_info": {
   "codemirror_mode": {
    "name": "ipython",
    "version": 3
   },
   "file_extension": ".py",
   "mimetype": "text/x-python",
   "name": "python",
   "nbconvert_exporter": "python",
   "pygments_lexer": "ipython3",
   "version": "3.9.8"
  }
 },
 "nbformat": 4,
 "nbformat_minor": 5
}
